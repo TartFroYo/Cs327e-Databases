{
 "cells": [
  {
   "cell_type": "code",
   "execution_count": 1,
   "id": "3b22ff97-44be-4873-bad9-e7be402b6e26",
   "metadata": {},
   "outputs": [],
   "source": [
    "HOST = \"10.13.128.11\"\n",
    "USER = \"postgres\"\n",
    "PW=\"asfdfdsa\"\n",
    "DB=\"postgres\""
   ]
  },
  {
   "cell_type": "code",
   "execution_count": 2,
   "id": "22e01374-5743-4f63-b9cd-243a2df738be",
   "metadata": {},
   "outputs": [],
   "source": [
    "import psycopg\n",
    "\n",
    "def connect():\n",
    "    \n",
    "    url = \"dbname='{}' user='{}' host={} port=5432 password={}\".format(DB, USER, HOST, PW)\n",
    "    connection = psycopg.connect(url)\n",
    "\n",
    "    return connection"
   ]
  },
  {
   "cell_type": "code",
   "execution_count": 3,
   "id": "ffa40096-919e-4b7c-9ca1-89274f572438",
   "metadata": {},
   "outputs": [
    {
     "name": "stdout",
     "output_type": "stream",
     "text": [
      "<psycopg.Connection [IDLE] (host=10.13.128.11 database=postgres) at 0x7fb342927580>\n"
     ]
    }
   ],
   "source": [
    "import psycopg\n",
    "\n",
    "connection = connect()\n",
    "\n",
    "print(connection)"
   ]
  },
  {
   "cell_type": "code",
   "execution_count": 32,
   "id": "a833c69b-eb92-4c01-9adc-c3e7766a2ab9",
   "metadata": {},
   "outputs": [
    {
     "name": "stdout",
     "output_type": "stream",
     "text": [
      "<psycopg.Connection [IDLE] (host=10.13.128.11 database=postgres) at 0x7fb3404e3730>\n",
      "DROP TABLE IF EXISTS final_project.reservations\n",
      "CREATE TABLE final_project.reservations (\n",
      "    res_id SERIAL PRIMARY KEY,\n",
      "    cust_id INTEGER NOT NULL,\n",
      "    prp_nm VARCHAR(25) NOT NULL,\n",
      "    prp_ch VARCHAR(25) NOT NULL,\n",
      "    adr_line_1 VARCHAR(50) NOT NULL,\n",
      "    adr_line_2 VARCHAR(50) NOT NULL,\n",
      "    city VARCHAR(30) NOT NULL, \n",
      "    state CHAR(2) NOT NULL, \n",
      "    postal_cd CHAR(5) NOT NULL,\n",
      "    lat NUMERIC(9, 6),\n",
      "    long NUMERIC(9, 6), \n",
      "    cnt_code VARCHAR(3) NOT NULL,\n",
      "    arr_date DATE NOT NULL,\n",
      "    dep_date DATE NOT NULL,\n",
      "    pmt_amt DECIMAL(10, 2) NOT NULL \n",
      ") \n",
      "Dropped reservations table\n",
      "Created schema final_project\n",
      "Created reservations table\n"
     ]
    }
   ],
   "source": [
    "import psycopg\n",
    "\n",
    "connection = connect()\n",
    "print(connection)\n",
    "\n",
    "drop = 'DROP TABLE IF EXISTS final_project.reservations'\n",
    "\n",
    "create_schema = 'CREATE SCHEMA IF NOT EXISTS final_project'\n",
    "\n",
    "create = '''CREATE TABLE final_project.reservations (\n",
    "    res_id SERIAL PRIMARY KEY,\n",
    "    cust_id INTEGER NOT NULL,\n",
    "    prp_nm VARCHAR(25) NOT NULL,\n",
    "    prp_ch VARCHAR(25) NOT NULL,\n",
    "    adr_line_1 VARCHAR(50) NOT NULL,\n",
    "    adr_line_2 VARCHAR(50) NOT NULL,\n",
    "    city VARCHAR(30) NOT NULL, \n",
    "    state CHAR(2) NOT NULL, \n",
    "    postal_cd CHAR(5) NOT NULL,\n",
    "    lat NUMERIC(9, 6),\n",
    "    long NUMERIC(9, 6), \n",
    "    cnt_code VARCHAR(3) NOT NULL,\n",
    "    arr_date DATE NOT NULL,\n",
    "    dep_date DATE NOT NULL,\n",
    "    pmt_amt DECIMAL(10, 2) NOT NULL \n",
    ") '''\n",
    "\n",
    "print(drop)\n",
    "print(create)\n",
    "\n",
    "try:\n",
    "    \n",
    "    cursor = connection.cursor()\n",
    "    cursor.execute(drop)\n",
    "    print('Dropped reservations table')\n",
    "    \n",
    "    cursor.execute(create_schema)\n",
    "    print('Created schema final_project')\n",
    "    \n",
    "    cursor = connection.cursor()\n",
    "    cursor.execute(create)\n",
    "    print('Created reservations table')\n",
    "    \n",
    "    connection.commit() # commit the changes \n",
    "except Exception as e:\n",
    "    print(\"Error occurred while creating reservations table:\", e)"
   ]
  },
  {
   "cell_type": "code",
   "execution_count": 33,
   "id": "d42e751b-9909-4f2e-a3ee-fad183f072ab",
   "metadata": {},
   "outputs": [
    {
     "name": "stdout",
     "output_type": "stream",
     "text": [
      "100 records written into reservations table\n"
     ]
    }
   ],
   "source": [
    "import psycopg\n",
    "from faker import Faker\n",
    "import random\n",
    "\n",
    "connection = connect()\n",
    "# print(connection)\n",
    "\n",
    "Faker.seed(1234)\n",
    "\n",
    "fake = Faker()\n",
    "\n",
    "possible_cust_ids = list(range(1, 51))\n",
    "\n",
    "sql = \"INSERT INTO final_project.reservations (cust_id, prp_nm, prp_ch, adr_line_1, adr_line_2, city, state, postal_cd, lat, long, cnt_code, arr_date, dep_date, pmt_amt) VALUES (%s, %s, %s, %s, %s, %s, %s, %s, %s, %s, %s, %s, %s, %s)\"\n",
    "\n",
    "try:\n",
    "    cursor = connection.cursor()\n",
    "\n",
    "    for _ in range(100):\n",
    "        cust_id = fake.random_element(possible_cust_ids)\n",
    "        \n",
    "        rec = (\n",
    "            cust_id, \n",
    "            fake.word(),   \n",
    "            fake.word(),  \n",
    "            fake.street_address(),  \n",
    "            fake.secondary_address(),  \n",
    "            fake.city(),   \n",
    "            fake.state_abbr(), \n",
    "            fake.zipcode(), \n",
    "            fake.latitude(),  \n",
    "            fake.longitude(), \n",
    "            fake.country_code(),  \n",
    "            fake.date_this_decade(),  \n",
    "            fake.date_this_decade(),  \n",
    "            fake.pydecimal(left_digits=5, right_digits=2)  \n",
    "        )\n",
    "\n",
    "        cursor.execute(sql, rec)\n",
    "\n",
    "    connection.commit()\n",
    "    print(\"100 records written into reservations table\")\n",
    "\n",
    "except Exception as e:\n",
    "    print(\"Failed to insert records into reservations table:\", e)"
   ]
  },
  {
   "cell_type": "code",
   "execution_count": 25,
   "id": "21d31508-fd0a-4cbe-89ae-a2765bd4c757",
   "metadata": {
    "collapsed": true,
    "jupyter": {
     "outputs_hidden": true
    },
    "tags": []
   },
   "outputs": [
    {
     "name": "stdout",
     "output_type": "stream",
     "text": [
      "                                           Table \"final_project.reservations\"\n",
      "   Column   |         Type          | Collation | Nullable |                          Default                           \n",
      "------------+-----------------------+-----------+----------+------------------------------------------------------------\n",
      " res_id     | integer               |           | not null | nextval('final_project.reservations_res_id_seq'::regclass)\n",
      " cust_id    | integer               |           | not null | \n",
      " prp_nm     | character varying(25) |           | not null | \n",
      " prp_ch     | character varying(25) |           | not null | \n",
      " adr_line_1 | character varying(50) |           | not null | \n",
      " adr_line_2 | character varying(50) |           | not null | \n",
      " city       | character varying(30) |           | not null | \n",
      " state      | character(2)          |           | not null | \n",
      " postal_cd  | character(5)          |           | not null | \n",
      " lat        | numeric(9,6)          |           |          | \n",
      " long       | numeric(9,6)          |           |          | \n",
      " cnt_code   | character varying(3)  |           | not null | \n",
      " arr_date   | date                  |           | not null | \n",
      " dep_date   | date                  |           | not null | \n",
      " pmt_amt    | numeric(10,2)         |           | not null | \n",
      "Indexes:\n",
      "    \"reservations_pkey\" PRIMARY KEY, btree (res_id)\n",
      "\n"
     ]
    }
   ],
   "source": [
    "!psql -c \"\\d final_project.reservations\""
   ]
  },
  {
   "cell_type": "code",
   "execution_count": 27,
   "id": "ae92e7f6-95c8-49ff-b9fe-00088e6834cc",
   "metadata": {
    "collapsed": true,
    "jupyter": {
     "outputs_hidden": true
    },
    "tags": []
   },
   "outputs": [
    {
     "name": "stdout",
     "output_type": "stream",
     "text": [
      " res_id | cust_id |   prp_nm    |   prp_ch    |            adr_line_1            | adr_line_2 |        city         | state | postal_cd |    lat     |    long     | cnt_code |  arr_date  |  dep_date  |  pmt_amt  \n",
      "--------+---------+-------------+-------------+----------------------------------+------------+---------------------+-------+-----------+------------+-------------+----------+------------+------------+-----------\n",
      "      1 |      50 | let         | but         | 90115 Andre Turnpike             | Apt. 597   | Hernandezburgh      | VT    | 15497     | -86.075802 |   90.090998 | RU       | 2023-06-13 | 2020-12-23 | -19189.04\n",
      "      2 |      36 | at          | quite       | 5433 Mcdowell Shores Apt. 810    | Suite 276  | North Charles       | NM    | 21997     | -69.780986 |  119.214393 | GM       | 2020-07-25 | 2023-09-02 |  82470.64\n",
      "      3 |      43 | sure        | amount      | 2427 Anna Track                  | Suite 759  | Alvarezfort         | VI    | 78477     | -44.373662 |   56.006519 | ES       | 2023-01-21 | 2023-03-11 | -41266.18\n",
      "      4 |       7 | themselves  | though      | 4351 Betty Grove Apt. 571        | Apt. 630   | Lindabury           | NY    | 11991     |  -4.909712 |  -15.919060 | PK       | 2020-04-04 | 2021-01-03 |  63163.78\n",
      "      5 |      16 | tell        | subject     | 86293 Brown Knoll Apt. 787       | Suite 220  | East Megan          | CA    | 94060     |  -2.681918 |  -88.182347 | AD       | 2022-08-13 | 2020-03-27 |  23066.53\n",
      "      6 |      44 | I           | would       | 465 Mary Course Suite 466        | Suite 816  | Jasonshire          | MO    | 07382     |   3.825126 |   56.521213 | HT       | 2023-01-15 | 2020-08-24 |  -1764.67\n",
      "      7 |      12 | institution | production  | 49595 Gary Port Suite 707        | Apt. 057   | East Pamelashire    | MA    | 46230     | -12.246963 |  -19.679877 | KZ       | 2022-09-08 | 2021-04-17 | -93841.89\n",
      "      8 |      14 | group       | Mrs         | 7418 Madison Glens Suite 206     | Apt. 032   | Zacharychester      | PW    | 68040     | -71.478801 |  -16.167656 | IL       | 2022-09-25 | 2023-07-24 |  58109.59\n",
      "      9 |      15 | commercial  | mean        | 289 Dustin Villages Apt. 288     | Suite 528  | Williamsland        | MN    | 89088     |  19.627483 | -156.041452 | UY       | 2022-05-25 | 2021-03-25 |  58697.00\n",
      "     10 |      29 | sure        | be          | 5273 Michelle Knolls Suite 621   | Apt. 339   | New Tara            | TX    | 33888     |  84.817624 | -153.419890 | US       | 2021-10-31 | 2022-05-04 | -46653.40\n",
      "     11 |      21 | past        | exactly     | 903 Medina Islands               | Suite 542  | Freyburgh           | FM    | 00924     |  55.910304 |   39.370785 | GY       | 2020-10-01 | 2021-01-25 |  59687.99\n",
      "     12 |      31 | their       | media       | 591 Flowers Crossroad Apt. 771   | Apt. 431   | Philipport          | VT    | 68945     |   5.288438 |   37.690775 | SY       | 2023-05-06 | 2022-05-15 | -57818.71\n",
      "     13 |       5 | decade      | control     | 64340 Tara Island Apt. 004       | Suite 554  | Espinozaburgh       | MS    | 52216     | -87.623869 |  -24.793999 | UG       | 2022-04-29 | 2021-02-09 | -93239.79\n",
      "     14 |      29 | key         | more        | 466 Jennings Park Suite 342      | Apt. 620   | New Susan           | PW    | 46880     |  78.624524 |  111.977260 | GA       | 2021-09-07 | 2021-09-27 | -11136.76\n",
      "     15 |      50 | stay        | economy     | 588 Shaffer Springs Apt. 408     | Apt. 226   | Thompsonberg        | ME    | 12793     |  41.129092 |  110.258705 | LT       | 2022-05-09 | 2021-01-16 | -74521.73\n",
      "     16 |      29 | enjoy       | somebody    | 2842 Mcgrath Flats               | Apt. 359   | Frazierhaven        | MI    | 25576     |  82.102170 |  -59.930210 | TG       | 2020-01-24 | 2023-06-08 | -30667.65\n",
      "     17 |      42 | pass        | national    | 997 Harrison Brook               | Apt. 491   | Armstrongbury       | MO    | 55441     | -33.794984 | -157.396924 | NR       | 2021-07-14 | 2023-10-01 |  29152.31\n",
      "     18 |      33 | husband     | alone       | 8058 Lauren Stream               | Apt. 067   | Lake Karenburgh     | IN    | 82112     |  41.527131 |  129.289682 | BH       | 2023-06-30 | 2020-12-14 | -24264.80\n",
      "     19 |      19 | they        | real        | 932 Denise Roads Suite 062       | Suite 594  | North Marthachester | OK    | 44463     |  51.591999 |  142.972176 | AZ       | 2022-07-30 | 2021-08-06 | -82618.85\n",
      "     20 |      42 | people      | national    | 816 Louis Passage                | Apt. 159   | Bakerland           | CA    | 79500     |  30.972988 |  148.166295 | AG       | 2021-05-19 | 2022-04-27 |  17829.04\n",
      "     21 |      33 | then        | report      | 9909 Grimes Junctions Apt. 183   | Apt. 401   | North Meganside     | RI    | 45779     |  76.170130 |  158.241922 | NR       | 2022-05-21 | 2020-01-26 | -13155.56\n",
      "     22 |      23 | safe        | beyond      | 27521 Joseph Estate              | Apt. 958   | Georgehaven         | WY    | 98931     |  26.875093 |   13.312255 | AM       | 2021-08-24 | 2021-03-26 |  99362.67\n",
      "     23 |      42 | challenge   | hundred     | 964 Green Knolls Apt. 494        | Apt. 422   | Brownchester        | MN    | 07026     |   3.358254 |  162.256299 | MA       | 2023-01-31 | 2021-12-25 |  94376.45\n",
      "     24 |      36 | when        | if          | 7809 Scott Turnpike Suite 169    | Suite 564  | Colonchester        | TX    | 37438     | -21.028847 |  146.183473 | DO       | 2021-10-11 | 2021-05-28 |   6979.23\n",
      "     25 |      25 | fly         | wish        | 9435 Oneal Shore Apt. 284        | Apt. 674   | Shannonburgh        | NC    | 60229     |  41.603846 |  177.193434 | FM       | 2023-04-23 | 2020-03-23 | -36269.91\n",
      "     26 |      13 | claim       | throughout  | 4298 Schroeder Center Apt. 997   | Suite 129  | North Connorberg    | DE    | 62260     |   9.424248 | -123.456367 | TJ       | 2020-01-31 | 2023-01-19 |  25649.64\n",
      "     27 |      41 | here        | list        | 50346 Joyce Pine                 | Suite 442  | West Charlotte      | AZ    | 45439     |  47.741119 |   -3.593008 | VA       | 2021-05-31 | 2022-12-23 | -14681.52\n",
      "     28 |      26 | executive   | meet        | 0603 Brandi Path                 | Suite 570  | North Feliciatown   | RI    | 70820     | -30.909743 |  136.412277 | PS       | 2020-06-21 | 2021-02-01 |  44119.45\n",
      "     29 |      43 | trade       | guess       | 0768 Mcgee Forest Apt. 340       | Suite 807  | West Ryantown       | FM    | 77211     | -75.450731 |  140.237932 | UY       | 2021-08-05 | 2020-08-27 |  73903.14\n",
      "     30 |       1 | determine   | public      | 8032 Matthew Place Apt. 117      | Apt. 366   | Lake Mark           | OR    | 44755     | -74.476682 | -146.966119 | NL       | 2022-02-16 | 2021-09-26 |  79785.89\n",
      "     31 |      43 | general     | rise        | 1847 Dougherty Islands Apt. 221  | Suite 647  | Josephside          | OR    | 72778     | -77.489282 |   76.853637 | AE       | 2021-04-06 | 2022-01-29 |  80303.11\n",
      "     32 |      26 | talk        | industry    | 514 Brooke Plains Apt. 554       | Suite 087  | South Anthonyville  | SD    | 39567     | -41.750154 |  -38.437180 | SK       | 2022-10-21 | 2023-02-25 |  47181.35\n",
      "     33 |      30 | big         | main        | 7644 Robert Fork                 | Apt. 888   | Debbieberg          | NM    | 34390     |  43.741987 |  104.983069 | LR       | 2023-10-23 | 2020-12-20 |  61130.96\n",
      "     34 |      20 | else        | information | 332 Sarah Square                 | Apt. 448   | East Bryan          | RI    | 39257     |  14.456649 |  -10.635321 | ZA       | 2021-10-04 | 2020-12-06 |  86725.22\n",
      "     35 |      32 | support     | local       | 2331 Fox Springs Suite 439       | Suite 156  | Priceborough        | MP    | 47519     | -21.374503 |  -91.701246 | CR       | 2022-04-12 | 2021-09-14 | -87463.66\n",
      "     36 |       6 | available   | former      | 900 Holly Cliff Suite 434        | Apt. 191   | Port Karenmouth     | OR    | 04510     |   8.457046 |  -16.674729 | CU       | 2021-10-28 | 2022-03-25 | -71727.82\n",
      "     37 |      23 | necessary   | or          | 83902 Kelly Alley                | Apt. 023   | West Melissafurt    | MN    | 09061     | -21.272460 |  -32.594806 | LA       | 2022-06-13 | 2023-07-04 | -21033.80\n",
      "     38 |      40 | civil       | big         | 785 Pittman Village Suite 906    | Suite 599  | North Anita         | MI    | 78741     |  30.158557 | -130.075391 | JM       | 2022-01-19 | 2023-08-08 | -98318.36\n",
      "     39 |      29 | plan        | tell        | 1465 Johnny Motorway Suite 417   | Apt. 949   | Victorborough       | PA    | 73510     | -75.575224 |   23.746066 | ME       | 2021-05-22 | 2021-04-27 |  59473.70\n",
      "     40 |      46 | strategy    | along       | 95134 Grant Field Apt. 849       | Suite 586  | Floresburgh         | MT    | 02458     | -18.571694 |   75.987267 | JM       | 2022-01-09 | 2022-04-03 | -84858.62\n",
      "     41 |      50 | first       | yeah        | 120 Matthew Ramp                 | Apt. 149   | Gardnermouth        | GU    | 63150     |  23.972590 |  -53.475783 | BH       | 2020-07-02 | 2021-07-30 | -49581.62\n",
      "     42 |       2 | suggest     | wear        | 0897 Nicole Extension Suite 420  | Suite 600  | Luisport            | VA    | 46785     | -31.135094 | -117.512848 | MY       | 2022-04-19 | 2022-06-06 | -36974.07\n",
      "     43 |      30 | term        | people      | 61721 Walker Locks               | Apt. 650   | Port David          | MA    | 70127     | -10.810955 |  176.601523 | LY       | 2022-08-06 | 2020-12-11 |  40951.49\n",
      "     44 |      43 | upon        | challenge   | 05320 Ricky Springs              | Suite 552  | Hernandezmouth      | KS    | 46222     |  54.685227 |    9.123371 | SB       | 2022-10-08 | 2023-01-22 |  74037.87\n",
      "     45 |      17 | assume      | follow      | 937 Hill Inlet Apt. 982          | Apt. 115   | Lake Patrickstad    | KS    | 66019     |  79.852325 |  -42.182163 | GA       | 2022-01-21 | 2022-03-22 | -80758.88\n",
      "     46 |       8 | common      | resource    | 2181 Kimberly Plaza Suite 572    | Apt. 044   | East Derrick        | SD    | 67115     | -72.833685 |  115.786961 | ES       | 2020-01-26 | 2023-04-09 |  24661.82\n",
      "     47 |      23 | remember    | movie       | 8256 Glenda Highway Apt. 808     | Apt. 634   | Harringtonville     | NV    | 81910     | -29.939431 |   86.959703 | CM       | 2021-08-23 | 2021-02-01 |  12884.65\n",
      "     48 |      33 | deal        | idea        | 01766 Barnes Grove               | Suite 224  | Melindahaven        | NY    | 33013     |  74.327301 |    4.187179 | CA       | 2020-06-10 | 2020-12-28 | -64605.44\n",
      "     49 |      10 | race        | course      | 090 Sarah Key                    | Suite 245  | Lisaville           | CT    | 04973     |  61.615725 |  177.406525 | PE       | 2021-04-04 | 2021-09-11 |  90228.64\n",
      "     50 |       1 | mouth       | personal    | 56386 Ruiz Causeway              | Apt. 115   | Christinaview       | MP    | 60847     | -70.002968 |  107.819701 | KG       | 2022-07-22 | 2022-07-19 |  42580.51\n",
      "     51 |       3 | again       | major       | 01753 Sheila Island Apt. 007     | Apt. 831   | Keithburgh          | AS    | 37688     | -85.107647 | -169.875815 | PH       | 2023-07-11 | 2023-04-20 |  31707.76\n",
      "     52 |      22 | deep        | own         | 59124 Wells Pike                 | Suite 461  | West Ashley         | AS    | 37657     |  82.346294 |  132.157636 | NG       | 2020-09-29 | 2023-07-06 |  69348.55\n",
      "     53 |      44 | economy     | church      | 3834 Kayla Wall Suite 013        | Suite 095  | Sherrychester       | PR    | 97865     |  53.367426 |  129.067777 | ZM       | 2020-05-29 | 2022-08-30 | -15029.45\n",
      "     54 |       9 | dinner      | risk        | 7556 Shelly Causeway             | Suite 989  | North Heatherberg   | AK    | 69060     |  28.159793 |   96.084549 | MA       | 2020-08-20 | 2021-09-29 |  -3551.88\n",
      "     55 |      26 | hundred     | yourself    | 78003 Hall Creek                 | Apt. 014   | East Allisonside    | PA    | 54962     | -43.861910 | -107.665078 | CA       | 2021-06-10 | 2021-04-14 |  18423.69\n",
      "     56 |       2 | education   | board       | 079 Angela Motorway              | Suite 499  | Port Joseph         | OK    | 01229     | -67.326263 |   45.542399 | ZW       | 2023-10-27 | 2021-01-19 | -91472.87\n",
      "     57 |       9 | nature      | teacher     | 5452 Kimberly Ford Suite 800     | Suite 659  | Esparzafort         | MD    | 24412     |  32.749120 |  156.875533 | HN       | 2021-08-01 | 2020-10-10 |  57168.26\n",
      "     58 |      34 | behavior    | company     | 2050 Kim Square                  | Apt. 731   | Port Maureen        | MN    | 30247     |  52.646035 |  135.305538 | RS       | 2022-06-30 | 2022-08-03 |  51734.85\n",
      "     59 |      41 | contain     | perhaps     | 011 Michael Run                  | Suite 285  | New Amymouth        | NY    | 16973     |  59.607603 |  -14.749199 | BE       | 2021-10-24 | 2022-05-05 | -50460.49\n",
      "     60 |      50 | five        | ok          | 720 Brittney Crescent            | Suite 364  | Lake Jasonberg      | AK    | 57414     | -32.313981 |  169.393387 | KR       | 2020-02-27 | 2020-10-18 |  11206.66\n",
      "     61 |      28 | enjoy       | stop        | 792 Jason Green Suite 100        | Apt. 926   | Stacyland           | KY    | 89492     | -10.076620 |  -41.882824 | GE       | 2022-06-25 | 2020-01-14 |  31076.00\n",
      "     62 |      22 | phone       | bag         | 516 James Turnpike               | Suite 390  | Lake Leahborough    | MA    | 85707     | -79.211859 | -173.649101 | DO       | 2023-02-16 | 2022-04-27 | -76038.55\n",
      "     63 |      17 | by          | life        | 816 Ronald Hollow Suite 876      | Apt. 165   | Zacharychester      | CA    | 52179     | -13.407441 | -158.199034 | KH       | 2021-04-16 | 2021-02-01 | -31197.30\n",
      "     64 |      41 | town        | leg         | 8017 Shannon Ports               | Apt. 022   | Garciaport          | NC    | 34888     | -41.415009 |   22.536549 | MH       | 2022-11-30 | 2023-08-03 | -79786.26\n",
      "     65 |      33 | leg         | baby        | 8052 Kylie Extension             | Suite 675  | North William       | MT    | 78089     |  61.882991 |   29.353608 | IE       | 2022-11-17 | 2021-10-08 |  35705.20\n",
      "     66 |      42 | choose      | card        | 06977 Brennan Squares            | Apt. 102   | Maryburgh           | OH    | 20015     | -72.842065 |   85.478963 | MM       | 2021-09-06 | 2020-06-05 | -99313.04\n",
      "     67 |      27 | continue    | take        | 2064 Yolanda Field Suite 965     | Apt. 488   | Port Garrettshire   | VA    | 43204     |  32.589832 |  142.640701 | LK       | 2020-02-09 | 2023-02-22 | -39879.59\n",
      "     68 |      50 | data        | phone       | 2632 Martinez Island Apt. 518    | Suite 024  | New Shawnborough    | RI    | 09420     |  83.888464 |  152.228268 | FR       | 2023-02-27 | 2023-06-20 | -98207.79\n",
      "     69 |      31 | between     | authority   | 589 Huber Knoll Suite 070        | Apt. 951   | Port Nicholasside   | WA    | 53178     |  54.780589 |   52.964963 | LS       | 2023-03-09 | 2021-07-26 | -76271.11\n",
      "     70 |       3 | would       | few         | 527 Richards Estates             | Suite 317  | West Erichaven      | MP    | 32686     |  12.949291 |  -25.884843 | BT       | 2022-04-16 | 2022-02-08 | -37986.03\n",
      "     71 |       3 | brother     | probably    | 91976 Garcia Harbors             | Suite 545  | Josephfurt          | LA    | 69370     |  88.632183 |   41.975915 | CF       | 2020-07-10 | 2023-05-06 | -98798.62\n",
      "     72 |      31 | deal        | late        | 385 Angel Ports                  | Suite 499  | Rachelside          | MN    | 60749     |  41.936610 |  -47.883046 | CD       | 2020-08-29 | 2023-06-07 |  20694.64\n",
      "     73 |       6 | only        | far         | 03312 Farrell Forest             | Suite 998  | Robertmouth         | OR    | 06969     |  84.539348 |   50.113109 | AD       | 2020-08-31 | 2022-08-24 |   -581.28\n",
      "     74 |       2 | approach    | light       | 1714 Francisco Mall Apt. 182     | Suite 107  | Chavezmouth         | MH    | 93060     |  67.842800 | -143.716284 | AF       | 2021-03-03 | 2022-12-29 |  96546.38\n",
      "     75 |       5 | energy      | start       | 92883 Alison Glen                | Apt. 238   | Cartershire         | PW    | 67321     | -64.194460 | -147.141390 | HR       | 2023-09-26 | 2022-05-16 | -90925.91\n",
      "     76 |      18 | community   | us          | 5754 Simpson Squares Apt. 418    | Apt. 793   | Christensenland     | MI    | 33338     | -75.204682 |  -18.375791 | ET       | 2022-10-28 | 2022-07-26 |   8792.67\n",
      "     77 |      50 | figure      | early       | 697 Richard Coves Suite 902      | Apt. 655   | Contrerastown       | PR    | 97095     |  72.473243 |   73.123519 | BA       | 2020-09-25 | 2023-02-04 | -90862.85\n",
      "     78 |      18 | use         | election    | 0637 Gregory Wells Apt. 035      | Suite 784  | South Jodi          | AR    | 33263     | -49.307539 |   23.728827 | LV       | 2020-12-19 | 2023-09-26 | -95662.25\n",
      "     79 |      40 | bed         | machine     | 144 Shane Turnpike Apt. 054      | Suite 886  | Lake Autumnfurt     | AK    | 07018     |  53.518527 | -102.885280 | MN       | 2022-12-11 | 2021-08-03 | -97613.80\n",
      "     80 |      31 | their       | clearly     | 6483 Ann Shore Suite 536         | Suite 477  | East Brentshire     | ME    | 50861     |  64.014610 | -133.757151 | GN       | 2021-11-30 | 2020-04-01 |  69907.99\n",
      "     81 |      33 | mission     | some        | 9101 Devin Union Suite 839       | Suite 329  | Paulmouth           | WV    | 66395     |  60.668242 |  154.331131 | EG       | 2020-06-30 | 2022-08-15 |  78850.32\n",
      "     82 |      37 | friend      | approach    | 47557 Brown Pike Suite 866       | Apt. 765   | South Devinland     | CA    | 98536     | -11.076269 |   32.025956 | CR       | 2021-03-16 | 2022-04-26 |   2228.69\n",
      "     83 |      50 | time        | crime       | 729 Christopher Summit Suite 442 | Suite 178  | Lake Jasonside      | SC    | 80034     |  24.829762 |   98.103337 | FI       | 2022-09-24 | 2020-01-20 |  81841.98\n",
      "     84 |       3 | although    | interview   | 864 Martin Hill Suite 676        | Apt. 446   | South Kevin         | RI    | 78537     |  -0.945642 |  -49.755811 | GD       | 2023-09-08 | 2020-06-30 |  21326.00\n",
      "     85 |       9 | paper       | meet        | 9139 Perry Well                  | Apt. 539   | Angelatown          | NH    | 89642     |  87.776752 |  176.697250 | BS       | 2021-09-09 | 2021-01-20 | -29947.06\n",
      "     86 |      21 | his         | everyone    | 54417 Mcintosh Forge             | Suite 256  | Lisatown            | CA    | 08681     | -88.214951 |  140.496357 | BI       | 2023-02-10 | 2021-08-23 |  93238.27\n",
      "     87 |      10 | order       | value       | 0890 Hannah Passage Apt. 552     | Suite 008  | Debbiestad          | GU    | 26629     | -58.835993 |  -23.725005 | CU       | 2023-09-02 | 2022-01-24 | -72718.64\n",
      "     88 |      36 | able        | especially  | 447 Jennifer Villages Suite 091  | Apt. 863   | Kyleberg            | WA    | 62360     | -74.653247 |  156.800229 | OM       | 2023-08-21 | 2022-09-17 |  44055.03\n",
      "     89 |      13 | street      | seem        | 5856 Brittany Parkway            | Suite 481  | North Lorettaport   | AL    | 82049     | -89.318694 |   -8.700080 | MA       | 2020-04-16 | 2023-08-21 |  17106.55\n",
      "     90 |      31 | close       | kid         | 1115 Elliott Drives              | Apt. 236   | Erikahaven          | PA    | 74030     |  66.905387 |  100.969442 | MV       | 2021-08-28 | 2020-10-07 | -52872.72\n",
      "     91 |       7 | can         | garden      | 90823 Lindsey Isle Suite 965     | Suite 546  | Donaldfort          | PA    | 89979     |  30.386480 |  145.218584 | BW       | 2021-06-12 | 2022-06-25 | -20610.97\n",
      "     92 |      30 | human       | whose       | 7647 Andrew Island Apt. 201      | Apt. 422   | North Ericborough   | FM    | 03245     |  13.625121 |  -87.507857 | SL       | 2023-02-24 | 2022-04-13 |  34041.95\n",
      "     93 |      36 | everyone    | size        | 78201 Ware Isle Suite 802        | Apt. 428   | New Jamesview       | NV    | 60747     | -52.441520 | -130.891177 | FJ       | 2020-04-13 | 2021-04-25 | -17733.17\n",
      "     94 |      17 | former      | unit        | 0268 Smith Center                | Suite 997  | West Williamshire   | VI    | 03049     |  34.900779 |  -48.641972 | GD       | 2023-01-29 | 2021-10-18 |  15029.24\n",
      "     95 |       6 | owner       | lawyer      | 61395 Samantha Ranch Suite 030   | Apt. 626   | South Philiphaven   | PA    | 60794     |  68.837753 | -143.712291 | PH       | 2021-10-24 | 2020-12-19 | -24025.13\n",
      "     96 |      45 | agreement   | create      | 4502 Maria Mountain              | Suite 102  | Port Steven         | ID    | 55613     | -44.082363 |  137.894199 | FR       | 2020-05-28 | 2022-04-04 |  28674.12\n",
      "     97 |      25 | before      | challenge   | 28443 William Heights            | Apt. 521   | New Davidstad       | TN    | 21886     |  31.230364 |  125.185232 | MZ       | 2023-04-12 | 2020-02-22 | -70002.16\n",
      "     98 |      45 | war         | particular  | 501 Steven Stream                | Apt. 083   | North Michelle      | OH    | 88973     | -76.351997 |    7.686170 | BE       | 2020-09-17 | 2022-09-22 | -75941.79\n",
      "     99 |       6 | off         | hit         | 88822 Jade Ferry Suite 536       | Apt. 609   | East Nicholasburgh  | AK    | 85387     | -64.614526 |  124.870382 | BJ       | 2023-05-29 | 2020-08-11 |  99350.30\n",
      "    100 |      37 | available   | central     | 34049 Rosales Loop Apt. 328      | Suite 446  | Brendamouth         | FL    | 77143     | -68.466818 |   24.075551 | RW       | 2020-03-13 | 2022-10-21 | -68448.53\n",
      "(100 rows)\n",
      "\n"
     ]
    }
   ],
   "source": [
    "!psql -c \"select * from final_project.reservations\""
   ]
  }
 ],
 "metadata": {
  "environment": {
   "kernel": "python3",
   "name": "common-cpu.m111",
   "type": "gcloud",
   "uri": "gcr.io/deeplearning-platform-release/base-cpu:m111"
  },
  "kernelspec": {
   "display_name": "Python 3",
   "language": "python",
   "name": "python3"
  },
  "language_info": {
   "codemirror_mode": {
    "name": "ipython",
    "version": 3
   },
   "file_extension": ".py",
   "mimetype": "text/x-python",
   "name": "python",
   "nbconvert_exporter": "python",
   "pygments_lexer": "ipython3",
   "version": "3.10.12"
  }
 },
 "nbformat": 4,
 "nbformat_minor": 5
}
