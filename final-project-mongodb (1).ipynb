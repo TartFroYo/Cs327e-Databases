{
 "cells": [
  {
   "cell_type": "code",
   "execution_count": 14,
   "id": "d83f3a30-3990-4a04-bcfa-87b3b78aa87b",
   "metadata": {},
   "outputs": [],
   "source": [
    "HOST = \"cluster0.oostpcw.mongodb.net\"\n",
    "USER = \"tonyjqi\"\n",
    "PW=\"9qAJpagY83EymCQT\"\n",
    "DB=\"final_project\""
   ]
  },
  {
   "cell_type": "code",
   "execution_count": 15,
   "id": "d156777b-2590-43bf-8794-22e1d06dcd73",
   "metadata": {},
   "outputs": [],
   "source": [
    "from pymongo import MongoClient\n",
    "\n",
    "def connect():\n",
    "\n",
    "    url = \"mongodb+srv://{}:{}@{}\".format(USER, PW, HOST)\n",
    "    connection = MongoClient(url)\n",
    "    return connection[DB]"
   ]
  },
  {
   "cell_type": "code",
   "execution_count": 16,
   "id": "b5f6966f-83f2-4e87-becb-2b84aa5511b0",
   "metadata": {},
   "outputs": [
    {
     "name": "stdout",
     "output_type": "stream",
     "text": [
      "Database(MongoClient(host=['ac-esnplxm-shard-00-02.oostpcw.mongodb.net:27017', 'ac-esnplxm-shard-00-00.oostpcw.mongodb.net:27017', 'ac-esnplxm-shard-00-01.oostpcw.mongodb.net:27017'], document_class=dict, tz_aware=False, connect=True, authsource='admin', replicaset='atlas-2oveo8-shard-0', tls=True), 'final_project')\n"
     ]
    }
   ],
   "source": [
    "connection = connect()\n",
    "\n",
    "print(connection)"
   ]
  },
  {
   "cell_type": "code",
   "execution_count": 56,
   "id": "76357fa0-b7ae-496a-8610-613ca493d4d1",
   "metadata": {},
   "outputs": [
    {
     "name": "stdout",
     "output_type": "stream",
     "text": [
      "100 documents written into ticketing collection\n"
     ]
    }
   ],
   "source": [
    "from faker import Faker\n",
    "from faker_airtravel import AirTravelProvider\n",
    "from random import randint, uniform\n",
    "from datetime import datetime, time\n",
    "\n",
    "database = connection[DB] \n",
    "collection = connection[\"ticketing\"]\n",
    "\n",
    "database.collection.create_index(\"tck_id\", unique=True)\n",
    "\n",
    "fake = Faker()\n",
    "fake.add_provider(AirTravelProvider)\n",
    "\n",
    "Faker.seed(1234)\n",
    "\n",
    "possible_cust_ids = list(range(1, 51))\n",
    "\n",
    "def generate_date():\n",
    "    return fake.date_this_decade()\n",
    "\n",
    "def generate_time():\n",
    "    return fake.time()\n",
    "\n",
    "common_date = datetime.strptime(\"0001-01-01\", \"%Y-%m-%d\").date()\n",
    "\n",
    "records = []\n",
    "\n",
    "for _ in range(100):\n",
    "    dep_date = generate_date()\n",
    "    dep_time = datetime.strptime(generate_time(), \"%H:%M:%S\").time()\n",
    "\n",
    "    arr_date = generate_date()\n",
    "    arr_time = datetime.strptime(generate_time(), \"%H:%M:%S\").time()\n",
    "    \n",
    "    cust_id = fake.random_element(possible_cust_ids)\n",
    "    \n",
    "    flight_data = fake.flight()\n",
    "    \n",
    "    rec = {\n",
    "        \"tck_id\": str(fake.uuid4()),\n",
    "        \"cust_id\": cust_id,\n",
    "        \"airline\": flight_data['airline'],\n",
    "        \"flight_nm\": fake.random_int(min=100, max=999),\n",
    "        \"dep_airport\": flight_data['origin']['airport'],\n",
    "        \"arr_airport\": flight_data['destination']['airport'],\n",
    "        \"dep_date\": datetime.combine(dep_date, dep_time),\n",
    "        \"dep_time\": datetime(common_date.year, common_date.month, common_date.day, dep_time.hour, dep_time.minute, dep_time.second),\n",
    "        \"arr_date\": datetime.combine(arr_date, arr_time),\n",
    "        \"arr_time\": datetime(common_date.year, common_date.month, common_date.day, arr_time.hour, arr_time.minute, arr_time.second),\n",
    "        \"stops\": flight_data['stops'],\n",
    "        \"tik_amt\": flight_data['price'],\n",
    "        \"curr_code\": fake.currency_code(),\n",
    "    }\n",
    "\n",
    "    records.append(rec)\n",
    "    \n",
    "try:\n",
    "    connection = connect()\n",
    "    collection = connection[\"ticketing\"]\n",
    "    collection.insert_many(records)\n",
    "    print(\"100 documents written into ticketing collection\")\n",
    "    \n",
    "except Exception as e:\n",
    "    print(\"Error occurred while writing documents:\", e)"
   ]
  },
  {
   "cell_type": "code",
   "execution_count": null,
   "id": "71267f99-0e0e-451b-a0dc-ab87235c3355",
   "metadata": {},
   "outputs": [],
   "source": []
  }
 ],
 "metadata": {
  "environment": {
   "kernel": "python3",
   "name": "common-cpu.m111",
   "type": "gcloud",
   "uri": "gcr.io/deeplearning-platform-release/base-cpu:m111"
  },
  "kernelspec": {
   "display_name": "Python 3",
   "language": "python",
   "name": "python3"
  },
  "language_info": {
   "codemirror_mode": {
    "name": "ipython",
    "version": 3
   },
   "file_extension": ".py",
   "mimetype": "text/x-python",
   "name": "python",
   "nbconvert_exporter": "python",
   "pygments_lexer": "ipython3",
   "version": "3.10.12"
  }
 },
 "nbformat": 4,
 "nbformat_minor": 5
}
