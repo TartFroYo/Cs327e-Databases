{
 "cells": [
  {
   "cell_type": "code",
   "execution_count": 12,
   "id": "ec65e48f-67e8-4db0-8da2-03061c63cc95",
   "metadata": {},
   "outputs": [],
   "source": [
    "PROJECT = \"firm-champion-397418\"\n",
    "DATASET = \"final_project\"\n",
    "REGION = \"us-central1\""
   ]
  },
  {
   "cell_type": "code",
   "execution_count": 13,
   "id": "b1a97c97-dc7f-4197-95a2-2dcfeb870e47",
   "metadata": {},
   "outputs": [
    {
     "name": "stdout",
     "output_type": "stream",
     "text": [
      "CREATE OR REPLACE TABLE final_project.currency(\n",
      "    curr_code STRING NOT NULL,\n",
      "    curr_name STRING NOT NULL,\n",
      "    cntry_code STRING NOT NULL,\n",
      "    cntry_name STRING NOT NULL, \n",
      "    PRIMARY KEY(curr_code) NOT ENFORCED)\n",
      "\n"
     ]
    }
   ],
   "source": [
    "from google.cloud import bigquery\n",
    "\n",
    "client = bigquery.Client(project=PROJECT, location=REGION)\n",
    "\n",
    "ddl = '''CREATE OR REPLACE TABLE final_project.currency(\n",
    "    curr_code STRING NOT NULL,\n",
    "    curr_name STRING NOT NULL,\n",
    "    cntry_code STRING NOT NULL,\n",
    "    cntry_name STRING NOT NULL, \n",
    "    PRIMARY KEY(curr_code) NOT ENFORCED)\n",
    "'''\n",
    "\n",
    "print(ddl)\n",
    "\n",
    "try:\n",
    "    query_job = client.query(ddl)\n",
    "    query_job.result()\n",
    "except Exception as e:\n",
    "    print(\"Error occurred while creating table:\", e)"
   ]
  },
  {
   "cell_type": "code",
   "execution_count": 15,
   "id": "f10f2b02-100a-42de-9dbd-378c711c4dd4",
   "metadata": {},
   "outputs": [
    {
     "name": "stdout",
     "output_type": "stream",
     "text": [
      "30 records written into currency table\n"
     ]
    }
   ],
   "source": [
    "from google.cloud import bigquery\n",
    "from faker import Faker\n",
    "import random\n",
    "\n",
    "client = bigquery.Client(project=PROJECT, location=REGION)\n",
    "\n",
    "Faker.seed(1234)\n",
    "\n",
    "fake = Faker()\n",
    "\n",
    "records = []\n",
    "\n",
    "for _ in range(30):\n",
    "    rec = {\n",
    "        \"curr_code\": fake.currency_code(),\n",
    "        \"curr_name\": fake.currency_name(),\n",
    "        \"cntry_code\": fake.country_code(),\n",
    "        \"cntry_name\": fake.country(),\n",
    "    }\n",
    "\n",
    "    records.append(rec)\n",
    "\n",
    "sql = f'''\n",
    "INSERT INTO final_project.currency\n",
    "VALUES {\", \".join([f'(\"{rec[\"curr_code\"]}\", \"{rec[\"curr_name\"]}\", \"{rec[\"cntry_code\"]}\", \"{rec[\"cntry_name\"]}\")' for rec in records])}\n",
    "'''\n",
    "\n",
    "# print(sql)\n",
    "\n",
    "try:\n",
    "    query_job = client.query(sql)\n",
    "    query_job.result()\n",
    "    print('30 records written into currency table')\n",
    "    \n",
    "except Exception as e:\n",
    "    print(\"Error occurred while writing to table:\", e)"
   ]
  },
  {
   "cell_type": "code",
   "execution_count": null,
   "id": "dcf18314-77a0-49b5-bc81-6e15581fb306",
   "metadata": {},
   "outputs": [],
   "source": []
  }
 ],
 "metadata": {
  "environment": {
   "kernel": "python3",
   "name": "common-cpu.m111",
   "type": "gcloud",
   "uri": "gcr.io/deeplearning-platform-release/base-cpu:m111"
  },
  "kernelspec": {
   "display_name": "Python 3",
   "language": "python",
   "name": "python3"
  },
  "language_info": {
   "codemirror_mode": {
    "name": "ipython",
    "version": 3
   },
   "file_extension": ".py",
   "mimetype": "text/x-python",
   "name": "python",
   "nbconvert_exporter": "python",
   "pygments_lexer": "ipython3",
   "version": "3.10.12"
  }
 },
 "nbformat": 4,
 "nbformat_minor": 5
}
