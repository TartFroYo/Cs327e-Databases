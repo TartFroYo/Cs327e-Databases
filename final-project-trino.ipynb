{
 "cells": [
  {
   "cell_type": "markdown",
   "id": "80aeac48-09a4-4bd8-b823-8afa446c172b",
   "metadata": {},
   "source": [
    "### Milestone 2 Trino"
   ]
  },
  {
   "cell_type": "markdown",
   "id": "1c5e4036-2faa-419c-9622-4df28f90951d",
   "metadata": {},
   "source": [
    "#### Federated Queries"
   ]
  },
  {
   "cell_type": "code",
   "execution_count": 9,
   "id": "726d9da5-2b4f-493d-9981-0e3ae0fa13f0",
   "metadata": {
    "tags": []
   },
   "outputs": [],
   "source": [
    "URL=\"http://10.128.0.4:8080\""
   ]
  },
  {
   "cell_type": "markdown",
   "id": "bc2aa6f1-6c78-41b5-b488-1c03fd0b4c31",
   "metadata": {},
   "source": [
    "Notes: shopper-mysql / reservations-postgres / ticketing-mongo / currency-bigq"
   ]
  },
  {
   "cell_type": "markdown",
   "id": "685fbc76-6414-45e2-a635-632a82c82a40",
   "metadata": {},
   "source": [
    "##### Q1: Who are the shoppers who have reservations in a different city from their own city and who paid for their reservations in US dollars? For those shoppers, return their cust_id, email, along with their reservation count. Order the results by cust_id. Limit the results to 5 records.\n"
   ]
  },
  {
   "cell_type": "markdown",
   "id": "2e294b90-4564-409e-80fa-cd3a045e1d76",
   "metadata": {
    "tags": []
   },
   "source": [
    "The query we use searches for shoppers who had reservations in a different city from their own city and paid for their reservations in Euros instead of USD since there were no records that matched the requirements of USD but there were two who matched using Euros, thus we decided to use EUR instead to show that our code works."
   ]
  },
  {
   "cell_type": "code",
   "execution_count": 108,
   "id": "eb0417bb-7cae-4790-b243-0146ecfc53af",
   "metadata": {
    "tags": []
   },
   "outputs": [
    {
     "name": "stdout",
     "output_type": "stream",
     "text": [
      "\"36\",\"Jessica.Elliott@nguyen-meyer.biz\",\"1\"\n",
      "\"43\",\"Andrew.Garcia@joseph.com\",\"1\"\n"
     ]
    }
   ],
   "source": [
    "!trino $URL --execute \"select s.cust_id, s.email, count(*) as reservation_count from mysql.final_project.shopper s\\\n",
    "join postgres.final_project.reservations r on (s.cust_id = r.cust_id and s.city != r.city)\\\n",
    "join bigquery.final_project.currency c on r.cnt_code = c.cntry_code and c.curr_code = 'EUR'\\\n",
    "group by s.cust_id, s.email\\\n",
    "order by s.cust_id\\\n",
    "limit 5\""
   ]
  },
  {
   "cell_type": "markdown",
   "id": "3fd69568-e710-44bf-a09d-01983dcb0e91",
   "metadata": {},
   "source": [
    "##### Q2: Who are the shoppers who have bought non-stop tickets on American Airlines with a departure date between 01/01/2020 and 12/31/2024? Return the shopper’s cust_id, email, dep_airport and dep_date. Order the results by dep_date. Limit the results to 5 records."
   ]
  },
  {
   "cell_type": "markdown",
   "id": "138a1503-0cfd-4f26-9f67-723acb9a8245",
   "metadata": {},
   "source": [
    "The query returns the cust_id, email, departure airport, and departure date for shoppers who have bought non-stop tickets on American Airlines with in the date range given. The results are limited to 5, but there is only one result due to the absence of records that match the requirements in the randomized data. "
   ]
  },
  {
   "cell_type": "code",
   "execution_count": 49,
   "id": "49496be2-d3c4-45a5-b8c7-46f3ca51d0d7",
   "metadata": {
    "tags": []
   },
   "outputs": [
    {
     "name": "stdout",
     "output_type": "stream",
     "text": [
      "\"40\",\"Stephen.Frazier@conley-krueger.com\",\"Bangkok International airport\",\"2020-03-24 05:50:08.000\"\n"
     ]
    }
   ],
   "source": [
    "!trino $URL --execute \"SELECT s.cust_id, s.email, t.dep_airport, t.dep_date FROM mysql.final_project.shopper s\\\n",
    "JOIN mongo.final_project.ticketing t ON s.cust_id = t.cust_id\\\n",
    "WHERE t.airline = 'American Airlines'\\\n",
    "AND CAST(t.dep_date AS date) BETWEEN DATE '2020-01-01' AND DATE '2024-12-31'\\\n",
    "AND t.stops = 0\\\n",
    "ORDER BY t.dep_date\\\n",
    "LIMIT 5\""
   ]
  },
  {
   "cell_type": "markdown",
   "id": "bed4cbab-3978-4d81-9fae-1aaa54a83dfb",
   "metadata": {},
   "source": [
    "##### Q3: Which shoppers have reservations and tickets with matching dates such that the arr_date and dep_date are equal between reservations and ticketing? For such shoppers, sum up their pmt_amt and tik_amt and return this sum as trip_amount. Also, return the shoppers’ cust_id, email, pmt_amt, tik_amt. Order the results by trip_amount in descending order. Limit the results to 5 records."
   ]
  },
  {
   "cell_type": "markdown",
   "id": "268ac764-d592-4f79-a487-f47cac514161",
   "metadata": {
    "tags": []
   },
   "source": [
    "Top cell is the full query including the restriction on reservation and tickets dates while the bottom cell is the same query without the date restrictions, the top cell does not return any output since the date restrictions are too strict in randomized data, so we intended to show that our code does work in the bottom cell."
   ]
  },
  {
   "cell_type": "code",
   "execution_count": 56,
   "id": "59e6be88-1a68-42ec-9045-f10281dd5bad",
   "metadata": {
    "tags": []
   },
   "outputs": [],
   "source": [
    "!trino $URL --execute \"select s.cust_id, s.email, COALESCE(SUM(r.pmt_amt) + SUM(t.tik_amt), 0) AS trip_amount from mysql.final_project.shopper s \\\n",
    "join postgres.final_project.reservations r on s.cust_id = r.cust_id \\\n",
    "join mongo.final_project.ticketing t on s.cust_id = t.cust_id \\\n",
    "where r.arr_date = t.arr_date and r.dep_date = t.dep_date\\\n",
    "group by s.cust_id, s.email\\\n",
    "order by s.cust_id DESC\\\n",
    "limit 5\""
   ]
  },
  {
   "cell_type": "code",
   "execution_count": 57,
   "id": "207bf1d6-40bb-4aa1-b167-723f59ce2f66",
   "metadata": {
    "tags": []
   },
   "outputs": [
    {
     "name": "stdout",
     "output_type": "stream",
     "text": [
      "\"50\",\"Melissa.Reynolds@walker.com\",\"5117.50\"\n",
      "\"47\",\"Joseph.Ramirez@daniel.com\",\"8220.50\"\n",
      "\"46\",\"Anna.Russell@thomas.net\",\"1961.18\"\n",
      "\"45\",\"Brittany.Jarvis@clarke.com\",\"4354.51\"\n",
      "\"44\",\"David.Mercado@mays.com\",\"5731.32\"\n"
     ]
    }
   ],
   "source": [
    "!trino $URL --execute \"select s.cust_id, s.email, COALESCE(SUM(r.pmt_amt) + SUM(t.tik_amt), 0) AS trip_amount from mysql.final_project.shopper s \\\n",
    "join postgres.final_project.reservations r on s.cust_id = r.cust_id \\\n",
    "join mongo.final_project.ticketing t on s.cust_id = t.cust_id \\\n",
    "group by s.cust_id, s.email\\\n",
    "order by s.cust_id DESC\\\n",
    "limit 5\""
   ]
  },
  {
   "cell_type": "markdown",
   "id": "07cd18bf-6560-4818-87f4-34cf14adf5db",
   "metadata": {},
   "source": [
    "#### Trino Evaluation"
   ]
  },
  {
   "cell_type": "markdown",
   "id": "410a5b33-ed58-4075-a44a-148898af4270",
   "metadata": {},
   "source": [
    "Now that you have seen how to implement cross-database joins, it’s time to conduct a more\n",
    "thorough evaluation of Trino. Think of other tests you can run to gain a more complete picture of\n",
    "Trino’s functionality. Come up with some tests and run them from your notebook. You want to\n",
    "test a variety of scenarios that include DDL, DML, and SELECT statements. Then, write a short\n",
    "paragraph to summarize your findings.\n",
    "\n",
    "Your summary needs to be specific and supported by your test results. For example: “CREATE\n",
    "TABLE statement X against MySQL resulted in Y” or “BEGIN TRANSACTION and COMMIT”\n",
    "against Postgres resulted in Z”. Write your summary as a Markdown comment on the last cell of\n",
    "the notebook."
   ]
  },
  {
   "cell_type": "markdown",
   "id": "3c993026-026b-4818-9aec-f3c8bc7f80ec",
   "metadata": {
    "tags": []
   },
   "source": [
    "##### MySQL"
   ]
  },
  {
   "cell_type": "markdown",
   "id": "852886d4-1faf-4dd5-8db8-3a47c7f61816",
   "metadata": {
    "tags": []
   },
   "source": [
    "Creates new_shoppers in mysql.final_project as a copy of the shopper table"
   ]
  },
  {
   "cell_type": "code",
   "execution_count": 61,
   "id": "707bfad7-c236-4b51-b0d8-42bfc94e22be",
   "metadata": {
    "collapsed": true,
    "jupyter": {
     "outputs_hidden": true
    },
    "tags": []
   },
   "outputs": [
    {
     "name": "stdout",
     "output_type": "stream",
     "text": [
      "CREATE TABLE: 50 rows\n",
      "\"1\",\"Tammy\",\"Alexander\",\"Gordon and Sons\",\"871 Zachary Cape\",\"8147\",\"Josephborough\",\"Mcdowelltown\",\"SE\",\"10040\",\"0527620197218\",\"2051824706402\",\"Tammy.Alexander@davis.com\"\n",
      "\"2\",\"Joseph\",\"Evans\",\"Calderon Group\",\"435 Jacqueline Valleys Apt. 942\",\"571\",\"South Jasonport\",\"East Williamland\",\"ME\",\"72631\",\"4719416316378\",\"5386293405827\",\"Joseph.Evans@graham-wilson.net\"\n",
      "\"3\",\"Rebecca\",\"Tapia\",\"Bonilla Ltd\",\"8465 Mary Course Suite 466\",\"481\",\"Hillport\",\"Williamsmouth\",\"HT\",\"76394\",\"2640176467267\",\"4959532897707\",\"Rebecca.Tapia@williams.com\"\n",
      "\"4\",\"Donna\",\"Garcia\",\"Adams-Malone\",\"45206 Elizabeth Cape\",\"25856\",\"Port Katherineport\",\"Helenshire\",\"GN\",\"50857\",\"8109593277289\",\"2832886528989\",\"Donna.Garcia@steele.com\"\n",
      "\"5\",\"Carol\",\"Griffin\",\"Fischer, Allen and Joyce\",\"595 Thompson Route\",\"33998\",\"New Tara\",\"Deniseton\",\"US\",\"39944\",\"5954665340594\",\"8903899582545\",\"Carol.Griffin@simmons-peterson.info\"\n",
      "\"6\",\"Mary\",\"Nelson\",\"Wallace, Cross and Fitzgerald\",\"869 Daniel Mountains\",\"1882\",\"Johnland\",\"Philipport\",\"LC\",\"39057\",\"6839775781871\",\"3295264340259\",\"Mary.Nelson@tucker.info\"\n",
      "\"7\",\"Cory\",\"Brown\",\"Lawson-Butler\",\"466 Jennings Park Suite 342\",\"62039\",\"Courtneyborough\",\"Hardintown\",\"SY\",\"41385\",\"1113676348588\",\"1408222662824\",\"Cory.Brown@moore.org\"\n",
      "\"8\",\"Clayton\",\"Fernandez\",\"Werner and Sons\",\"823 Ramsey River\",\"0853\",\"Port Angela\",\"West Lisabury\",\"KZ\",\"73226\",\"6676598399974\",\"9004917936630\",\"Clayton.Fernandez@cabrera.com\"\n",
      "\"9\",\"Ryan\",\"Rodriguez\",\"Holmes, Mcintyre and Jenkins\",\"42397 Patricia Gardens Suite 724\",\"64804\",\"Stephanieborough\",\"Lake Antonio\",\"KP\",\"25905\",\"0626594119695\",\"6782618859883\",\"Ryan.Rodriguez@reed.com\"\n",
      "\"10\",\"Diana\",\"Garcia\",\"Rodriguez Ltd\",\"829 Joseph Village Suite 499\",\"95853\",\"New Kayleeville\",\"Andreland\",\"AT\",\"55461\",\"8959690671315\",\"5651022752104\",\"Diana.Garcia@gomez.org\"\n"
     ]
    }
   ],
   "source": [
    "!trino $URL --execute \"CREATE TABLE mysql.final_project.new_shoppers AS SELECT * FROM mysql.final_project.shopper\"\n",
    "!trino $URL --execute \"select * from mysql.final_project.new_shoppers limit 10\""
   ]
  },
  {
   "cell_type": "markdown",
   "id": "a44ee8fa-4976-4276-bae4-0d912d735d43",
   "metadata": {
    "tags": []
   },
   "source": [
    "Drops the state column from the new_shoppers table created in the previous query. It can be seen that state is absent when comparing the output to the previous output. "
   ]
  },
  {
   "cell_type": "code",
   "execution_count": 63,
   "id": "0905d247-f5e3-439a-bf1f-875b331cb089",
   "metadata": {
    "collapsed": true,
    "jupyter": {
     "outputs_hidden": true
    },
    "tags": []
   },
   "outputs": [
    {
     "name": "stdout",
     "output_type": "stream",
     "text": [
      "DROP COLUMN\n",
      "\"1\",\"Tammy\",\"Alexander\",\"Gordon and Sons\",\"871 Zachary Cape\",\"8147\",\"Josephborough\",\"Mcdowelltown\",\"10040\",\"0527620197218\",\"2051824706402\",\"Tammy.Alexander@davis.com\"\n",
      "\"2\",\"Joseph\",\"Evans\",\"Calderon Group\",\"435 Jacqueline Valleys Apt. 942\",\"571\",\"South Jasonport\",\"East Williamland\",\"72631\",\"4719416316378\",\"5386293405827\",\"Joseph.Evans@graham-wilson.net\"\n",
      "\"3\",\"Rebecca\",\"Tapia\",\"Bonilla Ltd\",\"8465 Mary Course Suite 466\",\"481\",\"Hillport\",\"Williamsmouth\",\"76394\",\"2640176467267\",\"4959532897707\",\"Rebecca.Tapia@williams.com\"\n",
      "\"4\",\"Donna\",\"Garcia\",\"Adams-Malone\",\"45206 Elizabeth Cape\",\"25856\",\"Port Katherineport\",\"Helenshire\",\"50857\",\"8109593277289\",\"2832886528989\",\"Donna.Garcia@steele.com\"\n",
      "\"5\",\"Carol\",\"Griffin\",\"Fischer, Allen and Joyce\",\"595 Thompson Route\",\"33998\",\"New Tara\",\"Deniseton\",\"39944\",\"5954665340594\",\"8903899582545\",\"Carol.Griffin@simmons-peterson.info\"\n",
      "\"6\",\"Mary\",\"Nelson\",\"Wallace, Cross and Fitzgerald\",\"869 Daniel Mountains\",\"1882\",\"Johnland\",\"Philipport\",\"39057\",\"6839775781871\",\"3295264340259\",\"Mary.Nelson@tucker.info\"\n",
      "\"7\",\"Cory\",\"Brown\",\"Lawson-Butler\",\"466 Jennings Park Suite 342\",\"62039\",\"Courtneyborough\",\"Hardintown\",\"41385\",\"1113676348588\",\"1408222662824\",\"Cory.Brown@moore.org\"\n",
      "\"8\",\"Clayton\",\"Fernandez\",\"Werner and Sons\",\"823 Ramsey River\",\"0853\",\"Port Angela\",\"West Lisabury\",\"73226\",\"6676598399974\",\"9004917936630\",\"Clayton.Fernandez@cabrera.com\"\n",
      "\"9\",\"Ryan\",\"Rodriguez\",\"Holmes, Mcintyre and Jenkins\",\"42397 Patricia Gardens Suite 724\",\"64804\",\"Stephanieborough\",\"Lake Antonio\",\"25905\",\"0626594119695\",\"6782618859883\",\"Ryan.Rodriguez@reed.com\"\n",
      "\"10\",\"Diana\",\"Garcia\",\"Rodriguez Ltd\",\"829 Joseph Village Suite 499\",\"95853\",\"New Kayleeville\",\"Andreland\",\"55461\",\"8959690671315\",\"5651022752104\",\"Diana.Garcia@gomez.org\"\n"
     ]
    }
   ],
   "source": [
    "!trino $URL --execute \"ALTER TABLE mysql.final_project.new_shoppers DROP COLUMN state\"\n",
    "!trino $URL --execute \"select * from mysql.final_project.new_shoppers limit 10\""
   ]
  },
  {
   "cell_type": "markdown",
   "id": "7580d75d-e544-4c7e-9302-58f1b8f6a1c4",
   "metadata": {
    "tags": []
   },
   "source": [
    "Inserts a new record into the new_shoppers table, the new record doesn't have a state field since the column was dropped in the previous query. The select statement shows the inserted record and a record from the original table for comparison"
   ]
  },
  {
   "cell_type": "code",
   "execution_count": 117,
   "id": "f5149ed5-3452-4c6f-8ab9-a2b1eb846d21",
   "metadata": {
    "tags": []
   },
   "outputs": [
    {
     "name": "stdout",
     "output_type": "stream",
     "text": [
      "INSERT: 1 row\n",
      "\"51\",\"Tony\",\"Wang\",\"UTexas\",\"110 Inner Campus Drive\",\"143\",\"Austin\",\"Travis\",\"78712\",\"0017136514777\",\"0037126554777\",\"randomemail@gmail.com\"\n",
      "\"1\",\"Tammy\",\"Alexander\",\"Gordon and Sons\",\"871 Zachary Cape\",\"8147\",\"Josephborough\",\"Mcdowelltown\",\"SE\",\"10040\",\"0527620197218\",\"2051824706402\",\"Tammy.Alexander@davis.com\"\n"
     ]
    }
   ],
   "source": [
    "!trino $URL --execute \"INSERT INTO mysql.final_project.new_shoppers VALUES (51, 'Tony', 'Wang', 'UTexas', '110 Inner Campus Drive', '143', 'Austin', 'Travis', '78712', '0017136514777', '0037126554777', 'randomemail@gmail.com')\"\n",
    "!trino $URL --execute \"select * from mysql.final_project.new_shoppers where cust_id = 51\"\n",
    "!trino $URL --execute \"select * from mysql.final_project.shopper where cust_id = 1\""
   ]
  },
  {
   "cell_type": "code",
   "execution_count": 118,
   "id": "3f930f9d-8137-40f6-95b0-8e78f18917a3",
   "metadata": {},
   "outputs": [
    {
     "name": "stdout",
     "output_type": "stream",
     "text": [
      "DELETE: 1 row\n"
     ]
    }
   ],
   "source": [
    "!trino $URL --execute \"DELETE FROM mysql.final_project.new_shoppers where cust_id = 51\""
   ]
  },
  {
   "cell_type": "markdown",
   "id": "cba5f104-0688-4831-a87d-b777a9e0ef55",
   "metadata": {
    "tags": []
   },
   "source": [
    "Updates the city field of all records with cust_id greater than 40 to Houston   "
   ]
  },
  {
   "cell_type": "code",
   "execution_count": 66,
   "id": "e1bf509e-663d-46b6-923e-4d924a053e77",
   "metadata": {
    "collapsed": true,
    "jupyter": {
     "outputs_hidden": true
    },
    "tags": []
   },
   "outputs": [
    {
     "name": "stdout",
     "output_type": "stream",
     "text": [
      "UPDATE: 11 rows\n",
      "\"41\",\"Erik\",\"Cole\",\"Kennedy, Burton and Hickman\",\"44055 Hannah Vista\",\"25585\",\"Houston\",\"Kevinville\",\"57292\",\"9409051117106\",\"5726071115794\",\"Erik.Cole@barnes.com\"\n",
      "\"42\",\"Eric\",\"Moore\",\"Atkinson Inc\",\"72549 Kemp Islands\",\"855\",\"Houston\",\"West Michelle\",\"67208\",\"9158420610977\",\"8477647830512\",\"Eric.Moore@martinez.com\"\n",
      "\"43\",\"Andrew\",\"Garcia\",\"Hughes and Sons\",\"513 Calderon Circle\",\"1958\",\"Houston\",\"Chanburgh\",\"11652\",\"5357802342809\",\"8947721315514\",\"Andrew.Garcia@joseph.com\"\n",
      "\"44\",\"David\",\"Mercado\",\"Manning-Grant\",\"04997 Sue Parkways Apt. 735\",\"2831\",\"Houston\",\"New Erik\",\"23171\",\"9641613952596\",\"3080626176897\",\"David.Mercado@mays.com\"\n",
      "\"45\",\"Brittany\",\"Jarvis\",\"Lyons-Martinez\",\"7102 Mackenzie Park\",\"62931\",\"Houston\",\"Adamsburgh\",\"25027\",\"2222844338640\",\"2119135279620\",\"Brittany.Jarvis@clarke.com\"\n",
      "\"46\",\"Anna\",\"Russell\",\"Leblanc, Bailey and White\",\"575 Benitez Mission Apt. 855\",\"88822\",\"Houston\",\"Saraborough\",\"67277\",\"6090262019122\",\"5030912872340\",\"Anna.Russell@thomas.net\"\n",
      "\"47\",\"Joseph\",\"Ramirez\",\"Moran-Brennan\",\"448 Harris Plaza Apt. 767\",\"1375\",\"Houston\",\"Kevinfurt\",\"44285\",\"2044860124992\",\"2518043877956\",\"Joseph.Ramirez@daniel.com\"\n",
      "\"48\",\"Joshua\",\"Cole\",\"Barker, Davis and Lopez\",\"398 Davies Union\",\"4352\",\"Houston\",\"East John\",\"34295\",\"0812712781557\",\"1178389721828\",\"Joshua.Cole@scott.com\"\n",
      "\"49\",\"Christine\",\"Ford\",\"Lee-Yang\",\"321 Smith Court\",\"355\",\"Houston\",\"Jaredville\",\"59128\",\"3609107289772\",\"4291503907415\",\"Christine.Ford@johnson.com\"\n",
      "\"50\",\"Melissa\",\"Reynolds\",\"White Ltd\",\"9963 Mitchell Villages Suite 643\",\"1884\",\"Houston\",\"Joebury\",\"94741\",\"1074186719366\",\"7163947082120\",\"Melissa.Reynolds@walker.com\"\n",
      "\"51\",\"Tony\",\"Wang\",\"UTexas\",\"110 Inner Campus Drive\",\"143\",\"Houston\",\"Travis\",\"78712\",\"0017136514777\",\"0037126554777\",\"randomemail@gmail.com\"\n"
     ]
    }
   ],
   "source": [
    "!trino $URL --execute \"UPDATE mysql.final_project.new_shoppers SET city = 'Houston' WHERE cust_id > 40\"\n",
    "!trino $URL --execute \"select * from mysql.final_project.new_shoppers where cust_id > 40\""
   ]
  },
  {
   "cell_type": "markdown",
   "id": "a6acd0ff-4cd0-4449-930b-1f2905697939",
   "metadata": {
    "tags": []
   },
   "source": [
    "##### Postgres"
   ]
  },
  {
   "cell_type": "markdown",
   "id": "4b16d811-8915-4b5e-a829-5f4fe5298e24",
   "metadata": {
    "tags": []
   },
   "source": [
    "Creates new_reservations in postgres.final_project as a copy of the reservations table"
   ]
  },
  {
   "cell_type": "code",
   "execution_count": 104,
   "id": "38c479d8-b0e6-4df1-97fd-f553ee70efaa",
   "metadata": {
    "collapsed": true,
    "jupyter": {
     "outputs_hidden": true
    },
    "tags": []
   },
   "outputs": [
    {
     "name": "stdout",
     "output_type": "stream",
     "text": [
      "CREATE TABLE: 100 rows\n",
      "\"1\",\"50\",\"let\",\"but\",\"90115 Andre Turnpike\",\"Apt. 597\",\"Hernandezburgh\",\"VT\",\"15497\",\"-86.075802\",\"90.090998\",\"RU\",\"2023-06-16\",\"2020-12-24\",\"481.47\"\n",
      "\"2\",\"23\",\"exactly\",\"enjoy\",\"8081 Matthew Station\",\"Suite 620\",\"New Tylerland\",\"OH\",\"28693\",\"-51.279333\",\"-165.435410\",\"LY\",\"2023-01-10\",\"2023-10-04\",\"470.64\"\n",
      "\"3\",\"43\",\"sure\",\"amount\",\"2427 Anna Track\",\"Suite 759\",\"Alvarezfort\",\"VI\",\"78477\",\"-44.373662\",\"56.006519\",\"ES\",\"2023-01-25\",\"2023-03-14\",\"817.64\"\n",
      "\"4\",\"42\",\"dark\",\"hair\",\"294 Melanie Stravenue\",\"Suite 711\",\"Lewisport\",\"AS\",\"05481\",\"-31.107518\",\"92.040456\",\"BT\",\"2023-02-10\",\"2023-09-08\",\"631.63\"\n",
      "\"5\",\"46\",\"various\",\"very\",\"353 Thompson Prairie Apt. 405\",\"Apt. 787\",\"Dominicton\",\"RI\",\"22138\",\"-51.096046\",\"113.166226\",\"BJ\",\"2022-10-20\",\"2020-09-02\",\"123.06\"\n",
      "\"6\",\"26\",\"since\",\"garden\",\"648 Henderson Spur\",\"Apt. 814\",\"Robertshire\",\"KY\",\"69418\",\"-59.468444\",\"21.513665\",\"IS\",\"2020-11-02\",\"2022-10-24\",\"640.17\"\n",
      "\"7\",\"26\",\"fire\",\"laugh\",\"67249 Rios Key Apt. 289\",\"Suite 707\",\"North Michaelfort\",\"CA\",\"18853\",\"67.844738\",\"-1.877262\",\"MG\",\"2022-12-16\",\"2023-11-28\",\"841.89\"\n",
      "\"8\",\"14\",\"group\",\"Mrs\",\"7418 Madison Glens Suite 206\",\"Apt. 032\",\"Zacharychester\",\"PW\",\"68040\",\"-71.478801\",\"-16.167656\",\"IL\",\"2022-09-28\",\"2023-07-28\",\"581.09\"\n",
      "\"9\",\"22\",\"travel\",\"organization\",\"77289 Dustin Villages\",\"Apt. 288\",\"Castanedamouth\",\"DC\",\"93329\",\"60.786213\",\"123.960627\",\"SN\",\"2022-05-24\",\"2023-04-25\",\"515.60\"\n",
      "\"10\",\"39\",\"population\",\"avoid\",\"93586 Rowland Burgs Suite 146\",\"Suite 273\",\"Port Joanshire\",\"MN\",\"54896\",\"-43.278961\",\"-139.914874\",\"DZ\",\"2020-01-26\",\"2023-01-16\",\"824.09\"\n"
     ]
    }
   ],
   "source": [
    "!trino $URL --execute \"CREATE TABLE postgres.final_project.new_reservations AS SELECT * FROM postgres.final_project.reservations\"\n",
    "!trino $URL --execute \"select * from postgres.final_project.new_reservations limit 10\""
   ]
  },
  {
   "cell_type": "markdown",
   "id": "7fcd6c6c-e467-442c-9e2e-843d58130b54",
   "metadata": {},
   "source": [
    "Runs three DML statements in one block of code, originally intended to be a transaction statement but we found out that postgres in trino uses autocommits. The code inserts a new record into the new_reservations table, then updates the cnt_code of red_id < 3 to 'CN', and finally deletes the record with res_id = 4. The select query shows the updated country codes, the inserted record, and the absense of the dropped record."
   ]
  },
  {
   "cell_type": "code",
   "execution_count": 105,
   "id": "7cc360d8-f67e-44ec-9820-4dd8d38c30db",
   "metadata": {
    "tags": []
   },
   "outputs": [
    {
     "name": "stdout",
     "output_type": "stream",
     "text": [
      "INSERT: 1 row\n",
      "UPDATE: 2 rows\n",
      "DELETE: 1 row\n",
      "\"3\",\"43\",\"sure\",\"amount\",\"2427 Anna Track\",\"Suite 759\",\"Alvarezfort\",\"VI\",\"78477\",\"-44.373662\",\"56.006519\",\"ES\",\"2023-01-25\",\"2023-03-14\",\"817.64\"\n",
      "\"5\",\"46\",\"various\",\"very\",\"353 Thompson Prairie Apt. 405\",\"Apt. 787\",\"Dominicton\",\"RI\",\"22138\",\"-51.096046\",\"113.166226\",\"BJ\",\"2022-10-20\",\"2020-09-02\",\"123.06\"\n",
      "\"101\",\"51\",\"Fast\",\"Food\",\"110 Inner Campus Drive\",\"143\",\"Austin\",\"TX\",\"78712\",\"-86.075202\",\"90.090398\",\"US\",\"2023-06-12\",\"2023-06-15\",\"100.32\"\n",
      "\"1\",\"50\",\"let\",\"but\",\"90115 Andre Turnpike\",\"Apt. 597\",\"Hernandezburgh\",\"VT\",\"15497\",\"-86.075802\",\"90.090998\",\"CN\",\"2023-06-16\",\"2020-12-24\",\"481.47\"\n",
      "\"2\",\"23\",\"exactly\",\"enjoy\",\"8081 Matthew Station\",\"Suite 620\",\"New Tylerland\",\"OH\",\"28693\",\"-51.279333\",\"-165.435410\",\"CN\",\"2023-01-10\",\"2023-10-04\",\"470.64\"\n"
     ]
    }
   ],
   "source": [
    "!trino $URL --execute \"INSERT INTO postgres.final_project.new_reservations \\\n",
    "VALUES (101, 51, 'Fast', 'Food', '110 Inner Campus Drive', '143', 'Austin', 'TX', '78712', -86.075202, 90.090398, 'US', DATE '2023-06-12', DATE ' 2023-06-15', 100.32); \\\n",
    "UPDATE postgres.final_project.new_reservations \\\n",
    "SET cnt_code = 'CN' \\\n",
    "WHERE res_id < 3; \\\n",
    "DELETE FROM postgres.final_project.new_reservations \\\n",
    "WHERE res_id = 4;\"\n",
    "!trino $URL --execute \"select * from postgres.final_project.new_reservations where res_id = 101 or res_id < 6\""
   ]
  },
  {
   "cell_type": "markdown",
   "id": "d5a53aa5-3b5c-483b-939a-1cc3097727a2",
   "metadata": {},
   "source": [
    "Drops the new_reservations table "
   ]
  },
  {
   "cell_type": "code",
   "execution_count": null,
   "id": "048c4f07-888d-4071-84be-2960a76da23f",
   "metadata": {},
   "outputs": [
    {
     "name": "stdout",
     "output_type": "stream",
     "text": [
      "DROP TABLE\n",
      "Query 20231206_183626_00062_stmdw failed: line 1:15: Table 'postgres.final_project.new_reservations' does not exist\n",
      "\u001b[36mselect * from \u001b[31mpostgres.final_project.new_reservations\n",
      "\u001b[0m\n"
     ]
    }
   ],
   "source": [
    "!trino $URL --execute \"DROP TABLE postgres.final_project.new_reservations\"\n",
    "!trino $URL --execute \"select * from postgres.final_project.new_reservations\""
   ]
  },
  {
   "cell_type": "markdown",
   "id": "1b6e4242-c2c1-473f-a25d-cf97f1608c2e",
   "metadata": {
    "tags": []
   },
   "source": [
    "##### MongoDB"
   ]
  },
  {
   "cell_type": "markdown",
   "id": "2120f1b7-15fa-4943-a0e6-e1e4a3c92509",
   "metadata": {},
   "source": [
    "Creates new_ticketing in mongo.final_project as a copy of the ticketing table"
   ]
  },
  {
   "cell_type": "code",
   "execution_count": 158,
   "id": "0647a47d-ede8-4d16-8965-d4758c0654c8",
   "metadata": {
    "collapsed": true,
    "jupyter": {
     "outputs_hidden": true
    },
    "tags": []
   },
   "outputs": [
    {
     "name": "stdout",
     "output_type": "stream",
     "text": [
      "CREATE TABLE: 100 rows\n",
      "\"157cf9c6-b16e-4d5c-abeb-959208f0ebd4\",\"38\",\"Hainan Airlines\",\"200\",\"Harbin Yangjiagang airport\",\"Marechal Cunha Machado International airport\",\"2023-10-17 00:24:50.000\",\"0001-01-01 00:24:50.000\",\"2020-01-11 07:14:36.000\",\"0001-01-01 07:14:36.000\",\"0\",\"747\",\"MGA\"\n",
      "\"2607ad5f-76ab-4475-9da6-18fd7bf78a4d\",\"40\",\"Air China\",\"193\",\"Mingaladon airport\",\"Dubai International airport\",\"2020-12-05 22:29:42.000\",\"0001-01-01 22:29:42.000\",\"2023-02-05 20:11:47.000\",\"0001-01-01 20:11:47.000\",\"0\",\"857\",\"GBP\"\n",
      "\"e98d7c35-8a84-415c-aad1-426810872756\",\"16\",\"Southern Airways Express\",\"577\",\"Orio Al Serio airport\",\"Shimojishima airport\",\"2022-10-20 15:38:46.000\",\"0001-01-01 15:38:46.000\",\"2021-12-22 10:34:31.000\",\"0001-01-01 10:34:31.000\",\"1\",\"522\",\"BND\"\n",
      "\"7b25331f-4d6b-4d8f-a506-bfc51025dbe5\",\"36\",\"LATAM Airlines\",\"970\",\"Okecie International airport\",\"Cap C Martinez de Pinillos airport\",\"2022-05-12 14:41:55.000\",\"0001-01-01 14:41:55.000\",\"2022-04-10 23:15:15.000\",\"0001-01-01 23:15:15.000\",\"1\",\"814\",\"MGA\"\n",
      "\"121213ca-8212-47c6-b104-8aa604f0d0f2\",\"43\",\"Wings Air\",\"105\",\"Memphis International airport\",\"Valencia airport\",\"2021-01-17 21:15:53.000\",\"0001-01-01 21:15:53.000\",\"2020-10-13 07:32:02.000\",\"0001-01-01 07:32:02.000\",\"3\",\"832\",\"LSL\"\n",
      "\"8ead31c8-1348-4861-a9fc-1d9d7f1ff9fe\",\"38\",\"British Airways\",\"320\",\"Mariscal Sucre International airport\",\"Chubu International airport\",\"2020-07-25 04:08:18.000\",\"0001-01-01 04:08:18.000\",\"2021-06-25 01:51:34.000\",\"0001-01-01 01:51:34.000\",\"2\",\"330\",\"DJF\"\n",
      "\"6a8f6926-0a22-4ba8-b442-a1244e2e3761\",\"43\",\"Skymark Airlines\",\"383\",\"El Loa airport\",\"Denver International airport\",\"2020-02-08 15:16:15.000\",\"0001-01-01 15:16:15.000\",\"2020-06-08 01:24:59.000\",\"0001-01-01 01:24:59.000\",\"3\",\"466\",\"BAM\"\n",
      "\"c3a671c4-62dc-4c66-9027-b9ad0a831788\",\"30\",\"China United Airlines\",\"457\",\"Louisville International airport\",\"Indianapolis International airport\",\"2020-09-11 13:01:46.000\",\"0001-01-01 13:01:46.000\",\"2023-10-01 03:59:36.000\",\"0001-01-01 03:59:36.000\",\"0\",\"427\",\"SGD\"\n",
      "\"e1ae6a00-984c-4df8-913d-74f3dec4ac46\",\"31\",\"VietJet Air\",\"274\",\"Arlanda airport\",\"Cariri Regional airport\",\"2021-05-05 16:49:25.000\",\"0001-01-01 16:49:25.000\",\"2021-11-13 10:12:22.000\",\"0001-01-01 10:12:22.000\",\"1\",\"306\",\"PHP\"\n",
      "\"c4e14589-6fa1-4d46-aa94-427d2f84ea0f\",\"50\",\"Oman Air\",\"222\",\"Lic Benito Juarez International airport\",\"Huhehaote airport\",\"2022-11-17 19:43:35.000\",\"0001-01-01 19:43:35.000\",\"2021-09-19 10:11:33.000\",\"0001-01-01 10:11:33.000\",\"2\",\"824\",\"SZL\"\n"
     ]
    }
   ],
   "source": [
    "!trino $URL --execute \"CREATE TABLE mongo.final_project.new_ticketing AS SELECT * FROM mongo.final_project.ticketing\"\n",
    "!trino $URL --execute \"select * from mongo.final_project.new_ticketing limit 10\""
   ]
  },
  {
   "cell_type": "code",
   "execution_count": 157,
   "id": "d04332a9-8a0c-4f17-a058-ab21f0674ff3",
   "metadata": {},
   "outputs": [
    {
     "name": "stdout",
     "output_type": "stream",
     "text": [
      "DROP TABLE\n"
     ]
    }
   ],
   "source": [
    "!trino $URL --execute \"DROP TABLE mongo.final_project.new_ticketing\""
   ]
  },
  {
   "cell_type": "markdown",
   "id": "cc624985-300e-4c2f-9525-05fcc159821d",
   "metadata": {},
   "source": [
    "Drops the dep_time and arr_time column from the new_ticketing table created in the previous query. It can be seen that dep_time is absent when comparing the output to the previous output."
   ]
  },
  {
   "cell_type": "code",
   "execution_count": 159,
   "id": "05ca1608-c969-4211-b2d5-557061ada851",
   "metadata": {
    "collapsed": true,
    "jupyter": {
     "outputs_hidden": true
    },
    "tags": []
   },
   "outputs": [
    {
     "name": "stdout",
     "output_type": "stream",
     "text": [
      "DROP COLUMN\n",
      "DROP COLUMN\n",
      "\"157cf9c6-b16e-4d5c-abeb-959208f0ebd4\",\"38\",\"Hainan Airlines\",\"200\",\"Harbin Yangjiagang airport\",\"Marechal Cunha Machado International airport\",\"2023-10-17 00:24:50.000\",\"2020-01-11 07:14:36.000\",\"0\",\"747\",\"MGA\"\n",
      "\"2607ad5f-76ab-4475-9da6-18fd7bf78a4d\",\"40\",\"Air China\",\"193\",\"Mingaladon airport\",\"Dubai International airport\",\"2020-12-05 22:29:42.000\",\"2023-02-05 20:11:47.000\",\"0\",\"857\",\"GBP\"\n",
      "\"e98d7c35-8a84-415c-aad1-426810872756\",\"16\",\"Southern Airways Express\",\"577\",\"Orio Al Serio airport\",\"Shimojishima airport\",\"2022-10-20 15:38:46.000\",\"2021-12-22 10:34:31.000\",\"1\",\"522\",\"BND\"\n",
      "\"7b25331f-4d6b-4d8f-a506-bfc51025dbe5\",\"36\",\"LATAM Airlines\",\"970\",\"Okecie International airport\",\"Cap C Martinez de Pinillos airport\",\"2022-05-12 14:41:55.000\",\"2022-04-10 23:15:15.000\",\"1\",\"814\",\"MGA\"\n",
      "\"121213ca-8212-47c6-b104-8aa604f0d0f2\",\"43\",\"Wings Air\",\"105\",\"Memphis International airport\",\"Valencia airport\",\"2021-01-17 21:15:53.000\",\"2020-10-13 07:32:02.000\",\"3\",\"832\",\"LSL\"\n",
      "\"8ead31c8-1348-4861-a9fc-1d9d7f1ff9fe\",\"38\",\"British Airways\",\"320\",\"Mariscal Sucre International airport\",\"Chubu International airport\",\"2020-07-25 04:08:18.000\",\"2021-06-25 01:51:34.000\",\"2\",\"330\",\"DJF\"\n",
      "\"6a8f6926-0a22-4ba8-b442-a1244e2e3761\",\"43\",\"Skymark Airlines\",\"383\",\"El Loa airport\",\"Denver International airport\",\"2020-02-08 15:16:15.000\",\"2020-06-08 01:24:59.000\",\"3\",\"466\",\"BAM\"\n",
      "\"c3a671c4-62dc-4c66-9027-b9ad0a831788\",\"30\",\"China United Airlines\",\"457\",\"Louisville International airport\",\"Indianapolis International airport\",\"2020-09-11 13:01:46.000\",\"2023-10-01 03:59:36.000\",\"0\",\"427\",\"SGD\"\n",
      "\"e1ae6a00-984c-4df8-913d-74f3dec4ac46\",\"31\",\"VietJet Air\",\"274\",\"Arlanda airport\",\"Cariri Regional airport\",\"2021-05-05 16:49:25.000\",\"2021-11-13 10:12:22.000\",\"1\",\"306\",\"PHP\"\n",
      "\"c4e14589-6fa1-4d46-aa94-427d2f84ea0f\",\"50\",\"Oman Air\",\"222\",\"Lic Benito Juarez International airport\",\"Huhehaote airport\",\"2022-11-17 19:43:35.000\",\"2021-09-19 10:11:33.000\",\"2\",\"824\",\"SZL\"\n"
     ]
    }
   ],
   "source": [
    "!trino $URL --execute \"ALTER TABLE mongo.final_project.new_ticketing DROP COLUMN dep_time\"\n",
    "!trino $URL --execute \"ALTER TABLE mongo.final_project.new_ticketing DROP COLUMN arr_time\"\n",
    "!trino $URL --execute \"select * from mongo.final_project.new_ticketing limit 10\""
   ]
  },
  {
   "cell_type": "markdown",
   "id": "b49f9b20-bbf7-4f6f-949b-960b5a0a477f",
   "metadata": {},
   "source": [
    "Inserts a new record into the new_ticketing table, the new record doesn't have a dep_time or a arr_time field since the columns were dropped in the previous query. The select statement shows the inserted record and a record from the original table for comparison"
   ]
  },
  {
   "cell_type": "code",
   "execution_count": 162,
   "id": "e80549bc-7ec3-481a-9a48-3773b3dd7ebe",
   "metadata": {
    "tags": []
   },
   "outputs": [
    {
     "name": "stdout",
     "output_type": "stream",
     "text": [
      "INSERT: 1 row\n",
      "\"0000000000000000000000000000000\",\"51\",\"Spirit\",\"777\",\"Dallas Fort Worth Airport\",\"Austin Airport\",\"2020-06-10 15:55:23.383\",\"2020-06-10 15:55:23.383\",\"5\",\"700\",\"USD\"\n",
      "\"157cf9c6-b16e-4d5c-abeb-959208f0ebd4\",\"38\",\"Hainan Airlines\",\"200\",\"Harbin Yangjiagang airport\",\"Marechal Cunha Machado International airport\",\"2023-10-17 00:24:50.000\",\"0001-01-01 00:24:50.000\",\"2020-01-11 07:14:36.000\",\"0001-01-01 07:14:36.000\",\"0\",\"747\",\"MGA\"\n"
     ]
    }
   ],
   "source": [
    "!trino $URL --execute \"INSERT INTO mongo.final_project.new_ticketing VALUES (cast('0000000000000000000000000000000' as varchar), cast(51 as bigint), cast('Spirit' as varchar), cast(777 as bigint), 'Dallas Fort Worth Airport', 'Austin Airport', TIMESTAMP '2020-06-10 15:55:23.383', TIMESTAMP '2020-06-10 15:55:23.383', 5, 700, 'USD')\"\n",
    "!trino $URL --execute \"select * from mongo.final_project.new_ticketing where tck_id = '0000000000000000000000000000000'\"\n",
    "!trino $URL --execute \"select * from mongo.final_project.ticketing where tck_id = '157cf9c6-b16e-4d5c-abeb-959208f0ebd4'\""
   ]
  },
  {
   "cell_type": "markdown",
   "id": "1cad3756-640b-433c-80b1-7aaffe39e94c",
   "metadata": {},
   "source": [
    "note: uniqueness, timestamp, type conversion"
   ]
  },
  {
   "cell_type": "markdown",
   "id": "8efd4d2e-bbb4-4e85-9b93-806e14fd8f00",
   "metadata": {},
   "source": [
    "Updates the tik_amt to 500 for tickets with flights that have one stop. This query failed."
   ]
  },
  {
   "cell_type": "code",
   "execution_count": 168,
   "id": "a4c262a3-664b-4a59-afe9-145324960a13",
   "metadata": {
    "collapsed": true,
    "jupyter": {
     "outputs_hidden": true
    },
    "tags": []
   },
   "outputs": [
    {
     "name": "stdout",
     "output_type": "stream",
     "text": [
      "Query 20231207_010409_00002_stmdw failed: This connector does not support modifying table rows\n",
      "\n",
      "\"e98d7c35-8a84-415c-aad1-426810872756\",\"16\",\"Southern Airways Express\",\"577\",\"Orio Al Serio airport\",\"Shimojishima airport\",\"2022-10-20 15:38:46.000\",\"2021-12-22 10:34:31.000\",\"1\",\"522\",\"BND\"\n",
      "\"7b25331f-4d6b-4d8f-a506-bfc51025dbe5\",\"36\",\"LATAM Airlines\",\"970\",\"Okecie International airport\",\"Cap C Martinez de Pinillos airport\",\"2022-05-12 14:41:55.000\",\"2022-04-10 23:15:15.000\",\"1\",\"814\",\"MGA\"\n",
      "\"e1ae6a00-984c-4df8-913d-74f3dec4ac46\",\"31\",\"VietJet Air\",\"274\",\"Arlanda airport\",\"Cariri Regional airport\",\"2021-05-05 16:49:25.000\",\"2021-11-13 10:12:22.000\",\"1\",\"306\",\"PHP\"\n",
      "\"1bb039fa-5868-499b-b100-7342a41b657a\",\"17\",\"Ural Airlines\",\"819\",\"Los Angeles International airport\",\"Governador Andre Franco Montoro International Ai\",\"2020-05-27 12:54:29.000\",\"2021-06-24 15:13:04.000\",\"1\",\"412\",\"EGP\"\n",
      "\"3505c031-530c-499e-bc9a-000564357c97\",\"28\",\"Indonesia AirAsia\",\"942\",\"Otopeni airport\",\"Franz-Josef-Strauss airport\",\"2022-07-04 08:52:15.000\",\"2020-07-31 20:48:24.000\",\"1\",\"521\",\"MVR\"\n"
     ]
    }
   ],
   "source": [
    "!trino $URL --execute \"UPDATE mongo.final_project.new_ticketing SET tik_amt = 500 WHERE stops = 1\"\n",
    "!trino $URL --execute \"select * from mongo.final_project.new_ticketing where stops = 1 limit 5\""
   ]
  },
  {
   "cell_type": "markdown",
   "id": "1d957fd4-0f8f-4b71-9d09-febbc7d9212a",
   "metadata": {},
   "source": [
    "##### BigQuery"
   ]
  },
  {
   "cell_type": "markdown",
   "id": "a015d3d8-563e-443b-8cb7-04b660bf58fc",
   "metadata": {},
   "source": [
    "Creates new_currency in bigquery.final_project as a copy of the currency table"
   ]
  },
  {
   "cell_type": "code",
   "execution_count": 169,
   "id": "02230b91-84ff-4be1-9dfe-b25e5a4aecca",
   "metadata": {},
   "outputs": [
    {
     "name": "stdout",
     "output_type": "stream",
     "text": [
      "CREATE TABLE: 30 rows\n",
      "\"PHP\",\"Renminbi\",\"AF\",\"Bermuda\"\n",
      "\"ANG\",\"Australian dollar\",\"AM\",\"Guatemala\"\n",
      "\"JMD\",\"Trinidad and Tobago dollar\",\"BI\",\"Oman\"\n",
      "\"COP\",\"Swazi lilangeni\",\"CA\",\"Switzerland\"\n",
      "\"ARS\",\"Moroccan dirham\",\"CG\",\"Zimbabwe\"\n",
      "\"AFN\",\"Lesotho loti\",\"CV\",\"Russian Federation\"\n",
      "\"SAR\",\"Mauritian rupee\",\"DM\",\"Austria\"\n",
      "\"DOP\",\"Belarusian ruble\",\"EG\",\"Rwanda\"\n",
      "\"EUR\",\"Philippine peso\",\"ES\",\"Slovakia (Slovak Republic)\"\n",
      "\"BRL\",\"Trinidad and Tobago dollar\",\"GM\",\"Cambodia\"\n"
     ]
    }
   ],
   "source": [
    "!trino $URL --execute \"CREATE TABLE bigquery.final_project.new_currency AS SELECT * FROM bigquery.final_project.currency\"\n",
    "!trino $URL --execute \"select * from bigquery.final_project.new_currency limit 10\""
   ]
  },
  {
   "cell_type": "markdown",
   "id": "4f2f5b73-bdd5-4965-8199-f5e6fbca62e2",
   "metadata": {},
   "source": [
    "This code block runs 3 DML statements. The code inserts a new record into the new_currency table, then updates the cntry_code of the new record to 'CN', and lastly deletes the new record based on curr_code. 2 out of the 3 statements failed."
   ]
  },
  {
   "cell_type": "code",
   "execution_count": 179,
   "id": "77f89c1d-6b46-4dca-8781-5092ab462174",
   "metadata": {},
   "outputs": [
    {
     "name": "stdout",
     "output_type": "stream",
     "text": [
      "INSERT: 1 row\n",
      "Query 20231207_021658_00029_stmdw failed: This connector does not support modifying table rows\n",
      "\n",
      "\"ZZZ\",\"Zebra Zollars\",\"ZA\",\"Zootopia\"\n",
      "\"ZZZ\",\"Zebra Zollars\",\"ZA\",\"Zootopia\"\n",
      "\"ZZZ\",\"Zebra Zollars\",\"ZA\",\"Zootopia\"\n",
      "\"ZZZ\",\"Zebra Zollars\",\"ZA\",\"Zootopia\"\n",
      "\"ZZZ\",\"Zebra Zollars\",\"ZA\",\"Zootopia\"\n",
      "\"ZZZ\",\"Zebra Zollars\",\"ZA\",\"Zootopia\"\n",
      "Query 20231207_021702_00031_stmdw failed: This connector does not support modifying table rows\n",
      "\n"
     ]
    }
   ],
   "source": [
    "!trino $URL --execute \"INSERT INTO bigquery.final_project.new_currency \\\n",
    "VALUES ('ZZZ', 'Zebra Zollars', 'ZA', 'Zootopia')\"\n",
    "!trino $URL --execute \"UPDATE bigquery.final_project.new_currency \\\n",
    "SET cntry_code = 'CN' WHERE curr_code = 'ZZZ';\"\n",
    "!trino $URL --execute \"select * from bigquery.final_project.new_currency where curr_code = 'ZZZ'\"\n",
    "!trino $URL --execute \"DELETE FROM bigquery.final_project.new_currency WHERE curr_code = 'ZZZ';\""
   ]
  },
  {
   "cell_type": "markdown",
   "id": "9c53f673-d2f5-4a9a-8584-f2b8ddc2b6d0",
   "metadata": {},
   "source": [
    "Drops the new_currency table"
   ]
  },
  {
   "cell_type": "code",
   "execution_count": 183,
   "id": "19f1fa11-fb56-461f-a80c-8537c136b7ce",
   "metadata": {},
   "outputs": [
    {
     "name": "stdout",
     "output_type": "stream",
     "text": [
      "DROP TABLE\n",
      "Query 20231207_023823_00036_stmdw failed: line 1:15: Table 'bigquery.final_project.new_currency' does not exist\n",
      "\u001b[36mselect * from \u001b[31mbigquery.final_project.new_currency\n",
      "\u001b[0m\n"
     ]
    }
   ],
   "source": [
    "!trino $URL --execute \"DROP TABLE bigquery.final_project.new_currency\"\n",
    "!trino $URL --execute \"select * from bigquery.final_project.new_currency\""
   ]
  },
  {
   "cell_type": "markdown",
   "id": "f08d3cf2-ed27-47fa-a5c2-3ab9e528fd5e",
   "metadata": {},
   "source": [
    "#### Evaluation Summary"
   ]
  },
  {
   "cell_type": "markdown",
   "id": "f17c5599-9e7e-4a1e-a117-be92919267e4",
   "metadata": {},
   "source": [
    "Using mysql, the first DDL statement we implemented was \"CREATE TABLE mysql.final_project.new_shoppers AS SELECT * FROM mysql.final_project.shopper\" to create a new_shoppers table that was a copy of the original shopper table from milestone 1. The result was as expected and trino created the table just as if it were run using mysql natively. The second DDL statement we implemented in mysql was \"ALTER TABLE mysql.final_project.new_shoppers DROP COLUMN state\" to drop the state column in the new table. The result was the state column being successfully dropped as expected. The two DML statements run were \"INSERT INTO ... VALUES\" and \"UPDATE ... SET ... WHERE\", both resulted in the statements being run successfully for its intended purpose like it was run natively using mysql. From the mysql statements, it seems that trino can execute basic DDL, DML, and select statements for mysql perfectly. \n",
    "\n",
    "Using postgres, we wrote three DML statements in a single transaction \"BEGIN TRANSACTION ... INSERT INTO ... UPDATE ... DELETE ... COMMIT\", which resulted in a mismatched input error where \"BEGIN\" is not a recognized keyword in trino. Then, when changing to the supported keyword \"START TRANSACTION ... COMMIT\". We then received the error that postgres only supports autocommit. We found out that each statement is treated as a single transaction within trino for postgres so there is no need to use BEGIN, START, or COMMIT. For the first DDL statement in postgres, we ran a \"CREATE TABLE ... AS SELECT ...\" in the exact same way as the mysql statement to create a new_reservations table as a copy of the reservations table. The second DDL statement we ran was \"DROP TABLE ...\" to drop the newly created new_reservations table. Both DDL statements ran without error just like it would if it were run in native postgres. From the postgres statements, we learned that trino though trino can run sql query statements perfectly, it doesn't have much support for running statements in transactions. \n",
    "\n",
    "Using mongodb, the we implemented \"CREATE TABLE mongo.final_project.new_ticketing AS SELECT * FROM mongo.final_project.ticketing\" to create a new_ticketing table, which was a copy of the original ticketing table. As expected, trino created the table very easily. Then for the second DDL statements, we used \"ALTER TABLE mongo.final_project.new_ticketing DROP COLUMN\" to drop dep_time and arr_time in the new table. These columns successfully dropped. The two DML statements were \"INSERT INTO ... VALUES\" and \"UPDATE ... SET ... WHERE\". The former statement ran successfully after accounting for the fact that trino will not convert between character and numeric types, and accounting for the datetime to timestamp conversion. The latter statement, suprisingly failed, and gave an error that said \"This connector does not support modifying table rows.\" We concluded it is not possible to update records in tables in mongodb through trino with the given setup we have.\n",
    "\n",
    "Using bigquery, we implemented the first DDL statement which was \"CREATE TABLE bigquery.final_project.new_currency AS SELECT * FROM bigquery.final_project.currency\". This created a new table containing the same contents as the original currency table. This ran successfully as expected. Next we ran our DML statements, which were \"INSERT INTO ...\", \"UPDATE ...\", and \"DELETE ...\", and found that while insert ran, both update and delete failed. The bigquery connector also seems to not support modifying tables like mongodb. The last DDL statement was \"DROP TABLE ...\" to drop the new_currency table. This reinforces the fact that while trino can run sql query statements smoothly, there is much to be improved on for transactions.\n",
    "\n",
    "In the end, trino was designed to query large data sets distributed over one or more heterogeneous data sources. With this in mind, trino performs very well. So if a user would like to have an easier experience in query federation, then trino is a fine query engine to use, but keep in mind a consequence is less support on transactional statements.\n"
   ]
  }
 ],
 "metadata": {
  "environment": {
   "kernel": "python3",
   "name": "common-cpu.m111",
   "type": "gcloud",
   "uri": "gcr.io/deeplearning-platform-release/base-cpu:m111"
  },
  "kernelspec": {
   "display_name": "Python 3",
   "language": "python",
   "name": "python3"
  },
  "language_info": {
   "codemirror_mode": {
    "name": "ipython",
    "version": 3
   },
   "file_extension": ".py",
   "mimetype": "text/x-python",
   "name": "python",
   "nbconvert_exporter": "python",
   "pygments_lexer": "ipython3",
   "version": "3.10.12"
  }
 },
 "nbformat": 4,
 "nbformat_minor": 5
}
