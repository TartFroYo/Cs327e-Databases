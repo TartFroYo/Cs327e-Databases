{
 "cells": [
  {
   "cell_type": "markdown",
   "id": "f97bcd57-98f5-424f-a9af-3c7f2b71fa78",
   "metadata": {},
   "source": [
    "## Project 5\n",
    "### Load Data"
   ]
  },
  {
   "cell_type": "code",
   "execution_count": 1,
   "id": "1b561323-0ac8-4260-bcd7-080280124634",
   "metadata": {},
   "outputs": [
    {
     "name": "stdout",
     "output_type": "stream",
     "text": [
      "env: BASE_DIR=/home/jupyter/snippets_10_13/snippets\n"
     ]
    }
   ],
   "source": [
    "%env BASE_DIR=/home/jupyter/snippets_10_13/snippets"
   ]
  },
  {
   "cell_type": "code",
   "execution_count": 21,
   "id": "b103fc90-c824-4e98-9fab-06156360e66b",
   "metadata": {},
   "outputs": [
    {
     "name": "stdout",
     "output_type": "stream",
     "text": [
      "Copying gs://cs327e-open-access/fs_shopify.zip...\n",
      "/ [1 files][  3.2 MiB/  3.2 MiB]                                                \n",
      "Operation completed over 1 objects/3.2 MiB.                                      \n"
     ]
    }
   ],
   "source": [
    "!gsutil cp gs://cs327e-open-access/fs_shopify.zip ."
   ]
  },
  {
   "cell_type": "code",
   "execution_count": null,
   "id": "78d88d62-2300-4779-893d-ddacd7e196d6",
   "metadata": {},
   "outputs": [
    {
     "name": "stdout",
     "output_type": "stream",
     "text": [
      "Archive:  fs_shopify.zip\n",
      "replace fs_shopify/apps.csv? [y]es, [n]o, [A]ll, [N]one, [r]ename: "
     ]
    }
   ],
   "source": [
    "!unzip fs_shopify.zip"
   ]
  },
  {
   "cell_type": "code",
   "execution_count": null,
   "id": "e83fcdde-bbc1-48c3-91d9-b236abfb2633",
   "metadata": {},
   "outputs": [],
   "source": [
    "!gsutil cp gs://cs327e-open-access/fs_samples.zip ."
   ]
  },
  {
   "cell_type": "code",
   "execution_count": null,
   "id": "279d85d9-41fd-4669-87b7-ccc3ae4988d4",
   "metadata": {},
   "outputs": [],
   "source": [
    "!unzip fs_samples.zip"
   ]
  },
  {
   "cell_type": "markdown",
   "id": "52397cc4-c5d8-4b93-85f0-b6729e4f606d",
   "metadata": {},
   "source": [
    "### Create Collections"
   ]
  },
  {
   "cell_type": "code",
   "execution_count": 2,
   "id": "213d173b-a4e3-4c98-adac-0a9297115930",
   "metadata": {},
   "outputs": [],
   "source": [
    "import pandas as pd\n",
    "from google.cloud import firestore\n",
    "db = firestore.Client()"
   ]
  },
  {
   "cell_type": "markdown",
   "id": "5618c1e3-7e07-456f-809c-cbe1d6222252",
   "metadata": {},
   "source": [
    "#### Created Firestore Collection \"Apps\" and subcollections \"pricing_plans\", \"key_benefits\", and \"reviews\""
   ]
  },
  {
   "cell_type": "code",
   "execution_count": 4,
   "id": "c4e728fb-9476-4246-b832-b77882f6a416",
   "metadata": {},
   "outputs": [],
   "source": [
    "batch = db.batch()\n",
    "\n",
    "df = pd.read_csv('fs_shopify/apps.csv', sep=',', header=0, lineterminator='\\n')\n",
    "apps_rows = df.values.tolist()\n",
    "\n",
    "df = pd.read_csv('fs_shopify/pricing_plans.csv', sep=',', header=0, lineterminator='\\n')\n",
    "pp_rows = df.values.tolist()\n",
    "\n",
    "df = pd.read_csv('fs_shopify/key_benefits.csv', sep=',', header=0, lineterminator='\\n')\n",
    "kb_rows = df.values.tolist()\n",
    "\n",
    "df = pd.read_csv('fs_shopify/reviews.csv', sep=',', header=0, lineterminator='\\n')\n",
    "reviews_rows = df.values.tolist()\n",
    "\n",
    "df = pd.read_csv('fs_shopify/pricing_plan_features.csv', sep=',', header=0, lineterminator='\\n')\n",
    "ppf_rows = df.values.tolist()\n",
    "\n",
    "for apps_row in apps_rows:\n",
    "    \n",
    "    apps_record = {}\n",
    "    apps_record['id'] = apps_row[0]\n",
    "    apps_record['url'] = apps_row[1]\n",
    "    apps_record['title'] = apps_row[2]\n",
    "    apps_record['developer'] = apps_row[3]\n",
    "    apps_record['developer_link'] = apps_row[4]\n",
    "    apps_record['icon'] = apps_row[5]\n",
    "    apps_record['rating'] = apps_row[6]\n",
    "    apps_record['reviews_count'] = apps_row[7]\n",
    "    \n",
    "    apps_ref = db.collection('apps').document(apps_row[0])\n",
    "    \n",
    "    batch.set(apps_ref, apps_record)\n",
    "    \n",
    "    for pp_row in pp_rows:\n",
    "        \n",
    "        if apps_row[0] == pp_row[1]:\n",
    "            \n",
    "            pricing_plans_record = {}\n",
    "            pricing_plans_record['id'] = pp_row[0]\n",
    "            pricing_plans_record['title'] = pp_row[2]\n",
    "            pricing_plans_record['price'] = pp_row[3]\n",
    "            for ppf_row in ppf_rows:\n",
    "        \n",
    "                if pp_row[0] == ppf_row[1]:\n",
    "            \n",
    "                    pricing_plans_record['features'] = ppf_row[2]\n",
    "                \n",
    "            pricing_plans_ref = apps_ref.collection('pricing_plans').document(pp_row[0])\n",
    "        \n",
    "            batch.set(pricing_plans_ref, pricing_plans_record)\n",
    "            \n",
    "    for kb_row in kb_rows:\n",
    "        \n",
    "        if apps_row[0] == kb_row[0]:\n",
    "            \n",
    "            key_benefits_record = {}\n",
    "            key_benefits_record['title'] = kb_row[1]\n",
    "            key_benefits_record['description'] = kb_row[2]\n",
    "            \n",
    "            key_benefits_ref = apps_ref.collection('key_benefits').document(kb_row[1].replace(\"/\", \"_\"))\n",
    "        \n",
    "            batch.set(key_benefits_ref, key_benefits_record)\n",
    "            \n",
    "    for reviews_row in reviews_rows:\n",
    "        \n",
    "        if apps_row[0] == reviews_row[0]:\n",
    "            \n",
    "            reviews_record = {}\n",
    "            reviews_record['author'] = reviews_row[1]\n",
    "            reviews_record['rating'] = reviews_row[2]\n",
    "            reviews_record['posted_at'] = reviews_row[3]\n",
    "            \n",
    "            reviews_ref = apps_ref.collection('reviews').document(str(reviews_row[1]).replace(\"/\", \"_\").replace(\".\", \"_\"))\n",
    "        \n",
    "            batch.set(reviews_ref, reviews_record)\n",
    "    \n",
    "    batch.commit()"
   ]
  },
  {
   "cell_type": "markdown",
   "id": "9a90c95c-731b-4cdd-9aa6-e788dfd0b0b5",
   "metadata": {},
   "source": [
    "#### Created Firestore Collection \"Category\" and subcollection \"apps\""
   ]
  },
  {
   "cell_type": "code",
   "execution_count": 8,
   "id": "acf4f954-596b-41f4-a8ef-fe08f19577d7",
   "metadata": {},
   "outputs": [],
   "source": [
    "batch = db.batch()\n",
    "\n",
    "df = pd.read_csv('fs_shopify/categories.csv', sep=',', header=0, lineterminator='\\n')\n",
    "cat_rows = df.values.tolist()\n",
    "\n",
    "df = pd.read_csv('fs_shopify/apps.csv', sep=',', header=0, lineterminator='\\n')\n",
    "apps_rows = df.values.tolist()\n",
    "\n",
    "df = pd.read_csv('fs_shopify/apps_categories.csv', sep=',', header=0, lineterminator='\\n')\n",
    "appscat_rows = df.values.tolist()\n",
    "\n",
    "for cat_row in cat_rows:\n",
    "    \n",
    "    cat_record = {}\n",
    "    cat_record['id'] = cat_row[0]\n",
    "    cat_record['title'] = cat_row[1]\n",
    "    \n",
    "    cat_ref = db.collection('category').document(cat_row[0])\n",
    "    \n",
    "    batch.set(cat_ref, cat_record)\n",
    "    \n",
    "    for appscat_row in appscat_rows:\n",
    "        \n",
    "        if cat_row[0] == appscat_row[1]:\n",
    "            \n",
    "            for apps_row in apps_rows:\n",
    "                \n",
    "                if appscat_row[0] == apps_row[0]:\n",
    "            \n",
    "                    apps_record = {}\n",
    "                    apps_record['id'] = apps_row[0]\n",
    "                    apps_record['url'] = apps_row[1]\n",
    "                    apps_record['title'] = apps_row[2]\n",
    "                    apps_record['developer'] = apps_row[3]\n",
    "                    apps_record['developer_link'] = apps_row[4]\n",
    "                    apps_record['icon'] = apps_row[5]\n",
    "                    apps_record['rating'] = apps_row[6]\n",
    "                    apps_record['reviews_count'] = apps_row[7]\n",
    "                \n",
    "                    apps_ref = cat_ref.collection('apps').document(apps_row[0])\n",
    "        \n",
    "                    batch.set(apps_ref, apps_record)\n",
    "\n",
    "    batch.commit()"
   ]
  },
  {
   "cell_type": "markdown",
   "id": "1bd540a7-8fb7-49b1-8926-c87b8f48f86f",
   "metadata": {},
   "source": [
    "### Retrieve the number of documents in each collection and subcollection using count()."
   ]
  },
  {
   "cell_type": "code",
   "execution_count": 32,
   "id": "463ea612-1f38-45f3-863f-2ee3b1ac8624",
   "metadata": {},
   "outputs": [
    {
     "name": "stdout",
     "output_type": "stream",
     "text": [
      "Number of documents in Apps Collection: 3547\n",
      "Number of documents in pricing_plans subcollection: 6275\n",
      "Number of documents in key_benefits subcollection: 9541\n",
      "Number of documents in reviews subcollection: 124601\n"
     ]
    }
   ],
   "source": [
    "from google.cloud import firestore\n",
    "from google.cloud.firestore_v1.base_query import FieldFilter\n",
    "from google.cloud.firestore_v1 import aggregation\n",
    "\n",
    "db = firestore.Client()\n",
    "apps_ref = db.collection('apps')\n",
    "query = apps_ref.count()\n",
    "results = query.get()\n",
    "count_pricing_plans = 0\n",
    "count_key_benefits = 0\n",
    "count_reviews = 0\n",
    "    \n",
    "for result in results:\n",
    "    print(f\"Number of documents in Apps Collection: {result[0].value}\")\n",
    "\n",
    "from google.api_core.retry import Retry\n",
    "# documents = db.collection(collection_name).stream(retry=Retry())\n",
    "results = apps_ref.stream(retry=Retry())\n",
    "\n",
    "for result in results:\n",
    "    pricing_plans_ref = apps_ref.document(result.id).collection('pricing_plans')\n",
    "    query = pricing_plans_ref.count()\n",
    "    tempq = query.get()\n",
    "    for temp in tempq:\n",
    "        count_pricing_plans += temp[0].value\n",
    "\n",
    "print(f\"Number of documents in pricing_plans subcollection: {count_pricing_plans}\")\n",
    "\n",
    "results = apps_ref.stream(retry=Retry())\n",
    "\n",
    "for result in results:\n",
    "    key_benefits_ref = apps_ref.document(result.id).collection('key_benefits')\n",
    "    query = key_benefits_ref.count()\n",
    "    tempq = query.get()\n",
    "    for temp in tempq:\n",
    "        count_key_benefits += temp[0].value\n",
    "        \n",
    "print(f\"Number of documents in key_benefits subcollection: {count_key_benefits}\")\n",
    "\n",
    "results = apps_ref.stream(retry=Retry())\n",
    "\n",
    "for result in results:    \n",
    "    reviews_ref = apps_ref.document(result.id).collection('reviews')\n",
    "    query = reviews_ref.count()\n",
    "    tempq = query.get()\n",
    "    for temp in tempq:\n",
    "        count_reviews += temp[0].value\n",
    "\n",
    "print(f\"Number of documents in reviews subcollection: {count_reviews}\")"
   ]
  },
  {
   "cell_type": "code",
   "execution_count": 24,
   "id": "ee152562-1722-4638-ad81-d8119f00c086",
   "metadata": {},
   "outputs": [
    {
     "name": "stdout",
     "output_type": "stream",
     "text": [
      "Number of documents in Category Collection: 12\n",
      "Number of documents in Apps subcollection: 5383\n"
     ]
    }
   ],
   "source": [
    "from google.cloud import firestore\n",
    "from google.cloud.firestore_v1.base_query import FieldFilter\n",
    "from google.cloud.firestore_v1 import aggregation\n",
    "\n",
    "db = firestore.Client()\n",
    "cat_ref = db.collection('category')\n",
    "query = cat_ref.count()\n",
    "results = query.get()\n",
    "    \n",
    "for result in results:\n",
    "    print(f\"Number of documents in Category Collection: {result[0].value}\")\n",
    "    \n",
    "count_apps = 0\n",
    "    \n",
    "results = cat_ref.stream()\n",
    "\n",
    "for result in results:\n",
    "    apps_ref = cat_ref.document(result.id).collection('apps')\n",
    "    query = apps_ref.count()\n",
    "    tempq = query.get()\n",
    "    for temp in tempq:\n",
    "        count_apps += temp[0].value\n",
    "        \n",
    "print(f\"Number of documents in Apps subcollection: {count_apps}\")"
   ]
  },
  {
   "cell_type": "markdown",
   "id": "86d2c224-cd71-432e-a0c1-ce615f5d9de1",
   "metadata": {},
   "source": [
    "### Access Pattern 1 Query\n",
    "#### Returned the id, title, developer, rating, and reviews_count for the top 10 productivity apps ranked by rating."
   ]
  },
  {
   "cell_type": "code",
   "execution_count": 23,
   "id": "29c0c558-4902-469d-8277-3726ea8b2dd7",
   "metadata": {},
   "outputs": [
    {
     "name": "stdout",
     "output_type": "stream",
     "text": [
      "['fe5ae45c-379c-42bf-be7d-b5f6e15fc13c', 'Customer Tags', 'Union Works Apps', 5.0, 21]\n",
      "['f99bb1e3-f326-4f10-8901-491652e9809b', 'Order Tagger', 'Union Works Apps', 5.0, 68]\n",
      "['f864e3bd-da0e-41dc-be65-984325331475', 'SilkRoad ‑ Facebook Auto Ads', 'SilkRoad', 5.0, 2]\n",
      "['f5344e64-9cda-4d97-b198-2aaeb5170518', 'Xporter Data Export Tool', 'Modd Apps Inc.', 5.0, 223]\n",
      "['ed77a32d-0fa3-458b-b639-e01ea7b78ec0', 'FraudBlock Fraud Prevention', 'ShopFox', 5.0, 6]\n",
      "['e0e231d6-4988-4a8c-ad84-cf18d0f38738', 'Automation Fox', 'Automation Fox', 5.0, 1]\n",
      "['d75fa395-3a4d-41c3-88d1-2f802c1e2411', 'AirPower', 'BaseGenius', 5.0, 1]\n",
      "['d0be03ff-f74d-4fb5-8d2c-79541a1aea1b', 'Excelify', 'Excelify.io', 5.0, 178]\n",
      "['c9a86f8c-817e-4bb5-bbdd-e0e669bd7816', 'UPC Code Manager', 'Ventures & Adventures', 5.0, 1]\n",
      "['c7578030-19fd-42e1-a5a5-03c7861220aa', 'EzySlips ‑ Shipping Automation', 'Onjection Labs', 5.0, 219]\n"
     ]
    }
   ],
   "source": [
    "from google.cloud import firestore\n",
    "from google.cloud.firestore_v1.base_query import FieldFilter\n",
    "from google.cloud.firestore_v1 import aggregation\n",
    "\n",
    "db = firestore.Client()\n",
    "cat_ref = db.collection('category')\n",
    "query = cat_ref.where(filter=FieldFilter('title', '==', 'Productivity'))\n",
    "results = query.stream()\n",
    "\n",
    "fields = ['id','title','developer','rating','reviews_count']\n",
    "\n",
    "for result in results:\n",
    "    # print(f'{result.id} => {result.to_dict()}')\n",
    "    presults = (cat_ref.document(result.id).collection('apps')\n",
    "                .order_by('rating', direction=firestore.Query.DESCENDING)\n",
    "                .limit(10)).stream()\n",
    "    \n",
    "    for presult in presults:\n",
    "        # for field in fields:\n",
    "        #     appf = u'{}'.format(presult.to_dict().get(field))\n",
    "        #     print(appf) \n",
    "        # print(f'{presult.to_dict()}')\n",
    "        # results_list = [value for key, value in presult.to_dict().items() if key not in not_included]\n",
    "        \n",
    "        result_list = [presult.to_dict()[field] for field in fields]\n",
    "        print(result_list)\n"
   ]
  },
  {
   "cell_type": "markdown",
   "id": "e2ca7679-398d-4f8b-bfaa-7b1c920fc515",
   "metadata": {},
   "source": [
    "### Access Pattern 2 Query\n",
    "#### Returned the id, title, developer, rating, and reviews_count of the top 10 apps ranked by the number of reviews."
   ]
  },
  {
   "cell_type": "code",
   "execution_count": 27,
   "id": "1aa22961-3ab2-40d3-9cbb-f1368cf3f57e",
   "metadata": {
    "tags": []
   },
   "outputs": [
    {
     "name": "stdout",
     "output_type": "stream",
     "text": [
      "['d9f142ee-b141-4dc4-9353-173db61d2eb0', 'Privy ‑ Exit Pop Ups & Email', 'Privy', 4.7, 23078]\n",
      "['78ea0810-c008-4a4e-a82f-de0c790e3286', 'Free Shipping Bar', 'Hextom', 4.9, 8737]\n",
      "['b88488b0-9912-44d3-b736-224c36f09d95', 'Sales Pop ‑ Popup Notification', 'CartKit', 4.8, 6905]\n",
      "['e528a60e-94f8-4e92-80e2-5bc6013b8283', 'BEST Currency Converter', 'Grizzly Apps', 4.8, 5986]\n",
      "['be2640c4-01b5-4d52-9f68-cae8c0734d0d', 'Recart FB Messenger Marketing', 'Recart', 4.8, 5596]\n",
      "['70bff9e0-4316-4cc6-84ce-92fcd1bc6925', 'EU Cookie Bar ‑ Cookie GDPR', 'Booster Apps', 4.7, 5259]\n",
      "['171816e2-27d4-4552-a65e-ab44a312fe04', 'Sales Pop Master ‑ Countdown', 'Autoketing', 4.8, 4931]\n",
      "['9025eff0-d714-4df1-930f-43f5582979ad', 'Ultimate Sales Boost', 'Hextom', 4.8, 4847]\n",
      "['404183ac-6d52-4960-85d2-8350f37c2f0b', 'Ads by Varinode', 'Varinode, Inc.', 4.9, 4245]\n",
      "['0380c5ed-7b91-4d4b-9a4e-f6a1c50269dd', 'Quick Announcement Bar', 'Hextom', 4.9, 4237]\n"
     ]
    }
   ],
   "source": [
    "db = firestore.Client()\n",
    "apps_ref = db.collection('apps')\n",
    "query = apps_ref.where(filter=FieldFilter('reviews_count', '>', 0)).order_by('reviews_count', direction=firestore.Query.DESCENDING).limit(10)\n",
    "results = query.stream()\n",
    "\n",
    "fields = ['id','title','developer','rating','reviews_count']\n",
    "\n",
    "for result in results:\n",
    "    # print(f'{result.to_dict()}')\n",
    "    result_list = [result.to_dict()[field] for field in fields]\n",
    "    print(result_list)"
   ]
  }
 ],
 "metadata": {
  "environment": {
   "kernel": "python3",
   "name": "common-cpu.m111",
   "type": "gcloud",
   "uri": "gcr.io/deeplearning-platform-release/base-cpu:m111"
  },
  "kernelspec": {
   "display_name": "Python 3",
   "language": "python",
   "name": "python3"
  },
  "language_info": {
   "codemirror_mode": {
    "name": "ipython",
    "version": 3
   },
   "file_extension": ".py",
   "mimetype": "text/x-python",
   "name": "python",
   "nbconvert_exporter": "python",
   "pygments_lexer": "ipython3",
   "version": "3.10.12"
  }
 },
 "nbformat": 4,
 "nbformat_minor": 5
}
