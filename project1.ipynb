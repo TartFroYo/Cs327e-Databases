{
 "cells": [
  {
   "cell_type": "code",
   "execution_count": 1,
   "id": "b79eda6f-edfb-41ad-845c-88a1bd202b08",
   "metadata": {},
   "outputs": [
    {
     "name": "stdout",
     "output_type": "stream",
     "text": [
      "env: INSTANCE=mysql-aileen\n"
     ]
    }
   ],
   "source": [
    "%env INSTANCE=mysql-aileen"
   ]
  },
  {
   "cell_type": "code",
   "execution_count": 6,
   "id": "792146e8-0319-471e-8d33-04a89cf56b41",
   "metadata": {},
   "outputs": [],
   "source": [
    "!mysql < /home/jupyter/sakila/sakila-database.sql"
   ]
  },
  {
   "cell_type": "code",
   "execution_count": 7,
   "id": "3845738e-50e3-448d-93a5-72ac248ad36f",
   "metadata": {},
   "outputs": [],
   "source": [
    "!mysql < /home/jupyter/sakila/sakila-data.sql"
   ]
  },
  {
   "cell_type": "code",
   "execution_count": 2,
   "id": "ee2a2be2-7f8e-4438-9987-a0bea669ebed",
   "metadata": {},
   "outputs": [
    {
     "name": "stdout",
     "output_type": "stream",
     "text": [
      "+----------------------------+\n",
      "| Tables_in_sakila           |\n",
      "+----------------------------+\n",
      "| actor                      |\n",
      "| actor_info                 |\n",
      "| address                    |\n",
      "| category                   |\n",
      "| city                       |\n",
      "| country                    |\n",
      "| customer                   |\n",
      "| customer_list              |\n",
      "| film                       |\n",
      "| film_actor                 |\n",
      "| film_category              |\n",
      "| film_list                  |\n",
      "| film_text                  |\n",
      "| inventory                  |\n",
      "| language                   |\n",
      "| nicer_but_slower_film_list |\n",
      "| payment                    |\n",
      "| rental                     |\n",
      "| sales_by_film_category     |\n",
      "| sales_by_store             |\n",
      "| staff                      |\n",
      "| staff_list                 |\n",
      "| store                      |\n",
      "+----------------------------+\n"
     ]
    }
   ],
   "source": [
    "!mysql sakila -e \"show tables\""
   ]
  },
  {
   "cell_type": "code",
   "execution_count": 35,
   "id": "a02e9161-0a36-4672-86e7-b112a5663b34",
   "metadata": {},
   "outputs": [
    {
     "name": "stdout",
     "output_type": "stream",
     "text": [
      "+----------+\n",
      "| count(*) |\n",
      "+----------+\n",
      "|      200 |\n",
      "+----------+\n"
     ]
    }
   ],
   "source": [
    "!mysql sakila -e \"select count(*) from actor\" "
   ]
  },
  {
   "cell_type": "code",
   "execution_count": 11,
   "id": "17df7de1-2ff9-45bb-b199-9ba352712cc7",
   "metadata": {},
   "outputs": [
    {
     "name": "stdout",
     "output_type": "stream",
     "text": [
      "+----------+\n",
      "| count(*) |\n",
      "+----------+\n",
      "|      200 |\n",
      "+----------+\n"
     ]
    }
   ],
   "source": [
    "!mysql sakila -e \"select count(*) from actor_info\""
   ]
  },
  {
   "cell_type": "code",
   "execution_count": 12,
   "id": "d43993df-14fe-4f65-bc29-5ad5cd5ca897",
   "metadata": {},
   "outputs": [
    {
     "name": "stdout",
     "output_type": "stream",
     "text": [
      "+----------+\n",
      "| count(*) |\n",
      "+----------+\n",
      "|      603 |\n",
      "+----------+\n"
     ]
    }
   ],
   "source": [
    "!mysql sakila -e \"select count(*) from address\""
   ]
  },
  {
   "cell_type": "code",
   "execution_count": 13,
   "id": "c362538d-b0f4-4a62-bf80-1b4d41f92abc",
   "metadata": {},
   "outputs": [
    {
     "name": "stdout",
     "output_type": "stream",
     "text": [
      "+----------+\n",
      "| count(*) |\n",
      "+----------+\n",
      "|       16 |\n",
      "+----------+\n"
     ]
    }
   ],
   "source": [
    "!mysql sakila -e \"select count(*) from category\""
   ]
  },
  {
   "cell_type": "code",
   "execution_count": 14,
   "id": "0bcd5df4-0005-4fd3-8c28-644c6f53c2e2",
   "metadata": {},
   "outputs": [
    {
     "name": "stdout",
     "output_type": "stream",
     "text": [
      "+----------+\n",
      "| count(*) |\n",
      "+----------+\n",
      "|      600 |\n",
      "+----------+\n"
     ]
    }
   ],
   "source": [
    "!mysql sakila -e \"select count(*) from city\""
   ]
  },
  {
   "cell_type": "code",
   "execution_count": 15,
   "id": "7b595e02-aa78-4191-951d-253d06ee5f50",
   "metadata": {},
   "outputs": [
    {
     "name": "stdout",
     "output_type": "stream",
     "text": [
      "+----------+\n",
      "| count(*) |\n",
      "+----------+\n",
      "|      109 |\n",
      "+----------+\n"
     ]
    }
   ],
   "source": [
    "!mysql sakila -e \"select count(*) from country\""
   ]
  },
  {
   "cell_type": "code",
   "execution_count": 16,
   "id": "b69182a9-644b-414b-9049-72c7bc63c3ee",
   "metadata": {},
   "outputs": [
    {
     "name": "stdout",
     "output_type": "stream",
     "text": [
      "+----------+\n",
      "| count(*) |\n",
      "+----------+\n",
      "|      599 |\n",
      "+----------+\n"
     ]
    }
   ],
   "source": [
    "!mysql sakila -e \"select count(*) from customer\""
   ]
  },
  {
   "cell_type": "code",
   "execution_count": 17,
   "id": "b2af362a-8e88-4c72-9b58-88125324b256",
   "metadata": {},
   "outputs": [
    {
     "name": "stdout",
     "output_type": "stream",
     "text": [
      "+----------+\n",
      "| count(*) |\n",
      "+----------+\n",
      "|      599 |\n",
      "+----------+\n"
     ]
    }
   ],
   "source": [
    "!mysql sakila -e \"select count(*) from customer_list\""
   ]
  },
  {
   "cell_type": "code",
   "execution_count": 18,
   "id": "13beb786-cbb2-4bf3-97d7-520c2ab1652f",
   "metadata": {},
   "outputs": [
    {
     "name": "stdout",
     "output_type": "stream",
     "text": [
      "+----------+\n",
      "| count(*) |\n",
      "+----------+\n",
      "|     1000 |\n",
      "+----------+\n"
     ]
    }
   ],
   "source": [
    "!mysql sakila -e \"select count(*) from film\""
   ]
  },
  {
   "cell_type": "code",
   "execution_count": 19,
   "id": "b04d8383-4f73-47e7-a68e-1accc20cfbdb",
   "metadata": {},
   "outputs": [
    {
     "name": "stdout",
     "output_type": "stream",
     "text": [
      "+----------+\n",
      "| count(*) |\n",
      "+----------+\n",
      "|     5462 |\n",
      "+----------+\n"
     ]
    }
   ],
   "source": [
    "!mysql sakila -e \"select count(*) from film_actor\""
   ]
  },
  {
   "cell_type": "code",
   "execution_count": 20,
   "id": "b08db5cd-178a-4cd1-8eb4-ecb49b2b22f3",
   "metadata": {},
   "outputs": [
    {
     "name": "stdout",
     "output_type": "stream",
     "text": [
      "+----------+\n",
      "| count(*) |\n",
      "+----------+\n",
      "|     1000 |\n",
      "+----------+\n"
     ]
    }
   ],
   "source": [
    "!mysql sakila -e \"select count(*) from film_category\""
   ]
  },
  {
   "cell_type": "code",
   "execution_count": 21,
   "id": "6eb03275-dcf2-46cc-85bf-683007fe8fcb",
   "metadata": {},
   "outputs": [
    {
     "name": "stdout",
     "output_type": "stream",
     "text": [
      "+----------+\n",
      "| count(*) |\n",
      "+----------+\n",
      "|      997 |\n",
      "+----------+\n"
     ]
    }
   ],
   "source": [
    "!mysql sakila -e \"select count(*) from film_list\""
   ]
  },
  {
   "cell_type": "code",
   "execution_count": 22,
   "id": "54b4a98c-3052-4be0-aaa5-cd62c3f2b833",
   "metadata": {},
   "outputs": [
    {
     "name": "stdout",
     "output_type": "stream",
     "text": [
      "+----------+\n",
      "| count(*) |\n",
      "+----------+\n",
      "|     1000 |\n",
      "+----------+\n"
     ]
    }
   ],
   "source": [
    "!mysql sakila -e \"select count(*) from film_text\""
   ]
  },
  {
   "cell_type": "code",
   "execution_count": 23,
   "id": "72dd951e-0126-4b44-9ca6-b5178a36622d",
   "metadata": {},
   "outputs": [
    {
     "name": "stdout",
     "output_type": "stream",
     "text": [
      "+----------+\n",
      "| count(*) |\n",
      "+----------+\n",
      "|     4581 |\n",
      "+----------+\n"
     ]
    }
   ],
   "source": [
    "!mysql sakila -e \"select count(*) from inventory\""
   ]
  },
  {
   "cell_type": "code",
   "execution_count": 24,
   "id": "862a323b-202c-48c3-b334-0c0b54e28350",
   "metadata": {},
   "outputs": [
    {
     "name": "stdout",
     "output_type": "stream",
     "text": [
      "+----------+\n",
      "| count(*) |\n",
      "+----------+\n",
      "|        6 |\n",
      "+----------+\n"
     ]
    }
   ],
   "source": [
    "!mysql sakila -e \"select count(*) from language\""
   ]
  },
  {
   "cell_type": "code",
   "execution_count": 25,
   "id": "8d57ebff-cf7c-4bf9-b434-ec586b916418",
   "metadata": {},
   "outputs": [
    {
     "name": "stdout",
     "output_type": "stream",
     "text": [
      "+----------+\n",
      "| count(*) |\n",
      "+----------+\n",
      "|      997 |\n",
      "+----------+\n"
     ]
    }
   ],
   "source": [
    "!mysql sakila -e \"select count(*) from nicer_but_slower_film_list\""
   ]
  },
  {
   "cell_type": "code",
   "execution_count": 26,
   "id": "5dcb1506-1610-46bf-a31d-f3f10767fc1a",
   "metadata": {},
   "outputs": [
    {
     "name": "stdout",
     "output_type": "stream",
     "text": [
      "+----------+\n",
      "| count(*) |\n",
      "+----------+\n",
      "|    16049 |\n",
      "+----------+\n"
     ]
    }
   ],
   "source": [
    "!mysql sakila -e \"select count(*) from payment\""
   ]
  },
  {
   "cell_type": "code",
   "execution_count": 27,
   "id": "5033bcbd-5e83-4f31-8277-87fba00170da",
   "metadata": {},
   "outputs": [
    {
     "name": "stdout",
     "output_type": "stream",
     "text": [
      "+----------+\n",
      "| count(*) |\n",
      "+----------+\n",
      "|    16044 |\n",
      "+----------+\n"
     ]
    }
   ],
   "source": [
    "!mysql sakila -e \"select count(*) from rental\""
   ]
  },
  {
   "cell_type": "code",
   "execution_count": 28,
   "id": "dfaa7f42-46e1-4ef0-8857-89e7291457bf",
   "metadata": {},
   "outputs": [
    {
     "name": "stdout",
     "output_type": "stream",
     "text": [
      "+----------+\n",
      "| count(*) |\n",
      "+----------+\n",
      "|       16 |\n",
      "+----------+\n"
     ]
    }
   ],
   "source": [
    "!mysql sakila -e \"select count(*) from sales_by_film_category\""
   ]
  },
  {
   "cell_type": "code",
   "execution_count": 29,
   "id": "aa6a324b-7f0c-4bbe-91d5-57257ba5da07",
   "metadata": {},
   "outputs": [
    {
     "name": "stdout",
     "output_type": "stream",
     "text": [
      "+----------+\n",
      "| count(*) |\n",
      "+----------+\n",
      "|        2 |\n",
      "+----------+\n"
     ]
    }
   ],
   "source": [
    "!mysql sakila -e \"select count(*) from sales_by_store\""
   ]
  },
  {
   "cell_type": "code",
   "execution_count": 30,
   "id": "cc42d193-743f-4a90-8c86-6a37ff6832e8",
   "metadata": {},
   "outputs": [
    {
     "name": "stdout",
     "output_type": "stream",
     "text": [
      "+----------+\n",
      "| count(*) |\n",
      "+----------+\n",
      "|        2 |\n",
      "+----------+\n"
     ]
    }
   ],
   "source": [
    "!mysql sakila -e \"select count(*) from staff\""
   ]
  },
  {
   "cell_type": "code",
   "execution_count": 31,
   "id": "623e40fd-5730-433e-a5df-2da8fe53e2c9",
   "metadata": {},
   "outputs": [
    {
     "name": "stdout",
     "output_type": "stream",
     "text": [
      "+----------+\n",
      "| count(*) |\n",
      "+----------+\n",
      "|        2 |\n",
      "+----------+\n"
     ]
    }
   ],
   "source": [
    "!mysql sakila -e \"select count(*) from staff_list\""
   ]
  },
  {
   "cell_type": "code",
   "execution_count": 32,
   "id": "3909e971-c2fc-418e-a57a-ceedb6c2ede7",
   "metadata": {},
   "outputs": [
    {
     "name": "stdout",
     "output_type": "stream",
     "text": [
      "+----------+\n",
      "| count(*) |\n",
      "+----------+\n",
      "|        2 |\n",
      "+----------+\n"
     ]
    }
   ],
   "source": [
    "!mysql sakila -e \"select count(*) from store\""
   ]
  },
  {
   "cell_type": "code",
   "execution_count": 39,
   "id": "df24b78a-0fed-45f1-8179-1573fc0fe92e",
   "metadata": {},
   "outputs": [
    {
     "name": "stdout",
     "output_type": "stream",
     "text": [
      "+----------+------------+-------------+---------------------+\n",
      "| actor_id | first_name | last_name   | last_update         |\n",
      "+----------+------------+-------------+---------------------+\n",
      "|      195 | JAYNE      | SILVERSTONE | 2006-02-15 04:34:33 |\n",
      "|       57 | JUDE       | CRUISE      | 2006-02-15 04:34:33 |\n",
      "|      117 | RENEE      | TRACY       | 2006-02-15 04:34:33 |\n",
      "|       15 | CUBA       | OLIVIER     | 2006-02-15 04:34:33 |\n",
      "|      135 | RITA       | REYNOLDS    | 2006-02-15 04:34:33 |\n",
      "|       30 | SANDRA     | PECK        | 2006-02-15 04:34:33 |\n",
      "|      133 | RICHARD    | PENN        | 2006-02-15 04:34:33 |\n",
      "|      146 | ALBERT     | JOHANSSON   | 2006-02-15 04:34:33 |\n",
      "|       13 | UMA        | WOOD        | 2006-02-15 04:34:33 |\n",
      "|       43 | KIRK       | JOVOVICH    | 2006-02-15 04:34:33 |\n",
      "+----------+------------+-------------+---------------------+\n"
     ]
    }
   ],
   "source": [
    "!mysql sakila -e \"select * from actor order by rand() limit 10\""
   ]
  },
  {
   "cell_type": "code",
   "execution_count": 40,
   "id": "8fc8ddca-afe1-4aad-937e-11ce3806ee56",
   "metadata": {},
   "outputs": [
    {
     "name": "stdout",
     "output_type": "stream",
     "text": [
      "+----------+------------+-----------+--------------------------------------------------------------------------------------------------------------------------------------------------------------------------------------------------------------------------------------------------------------------------------------------------------------------------------------------------------------------------------------------------------------------------------------------------------------------------------------------------------------------------------------------------------------------------------------------------------------------------------------------------------------------------------------------------------------------------------------------------------------------------------------------------------+\n",
      "| actor_id | first_name | last_name | film_info                                                                                                                                                                                                                                                                                                                                                                                                                                                                                                                                                                                                                                                                                                                                                                                              |\n",
      "+----------+------------+-----------+--------------------------------------------------------------------------------------------------------------------------------------------------------------------------------------------------------------------------------------------------------------------------------------------------------------------------------------------------------------------------------------------------------------------------------------------------------------------------------------------------------------------------------------------------------------------------------------------------------------------------------------------------------------------------------------------------------------------------------------------------------------------------------------------------------+\n",
      "|      169 | KENNETH    | HOFFMAN   | Animation: BLACKOUT PRIVATE, FLYING HOOK, GANGS PRIDE, MASSAGE IMAGE, STORM HAPPINESS; Children: LABYRINTH LEAGUE; Classics: PREJUDICE OLEANDER, SNATCHERS MONTEZUMA; Documentary: DOZEN LION, METAL ARMAGEDDON, WRATH MILE; Drama: TORQUE BOUND; Family: ODDS BOOGIE, RESURRECTION SILVERADO, SECRETS PARADISE; Foreign: AGENT TRUMAN, DOUBTFIRE LABYRINTH; Horror: FAMILY SWEET, ZHIVAGO CORE; Music: HANOVER GALAXY, PERSONAL LADYBUGS; New: BRANNIGAN SUNRISE, EVE RESURRECTION, STOCK GLASS, WAKE JAWS; Sports: GRACELAND DYNAMITE; Travel: HORROR REIGN, ORDER BETRAYED, TOMATOES HELLFIGHTERS                                                                                                                                                                                                   |\n",
      "|       39 | GOLDIE     | BRODY     | Animation: INCH JET, PRIDE ALAMO, PUNK DIVORCE; Children: COMANCHEROS ENEMY; Classics: HOLY TADPOLE, SNATCHERS MONTEZUMA; Documentary: MOD SECRETARY; Drama: PITY BOUND, SEA VIRGIN; Family: BILKO ANONYMOUS, JASON TRAP, PRIX UNDEFEATED, ROBBERY BRIGHT; Foreign: EVERYONE CRAFT, HOOSIERS BIRDCAGE, POLLOCK DELIVERANCE; Horror: DESERT POSEIDON, HIGH ENCINO; New: FLAMINGOS CONNECTICUT, UNBREAKABLE KARATE; Sci-Fi: BINGO TALENTED, DAISY MENAGERIE, MARRIED GO, SPIRITED CASUALTIES; Sports: EXORCIST STING, MOSQUITO ARMAGEDDON, MUMMY CREATURES; Travel: OUTLAW HANKY                                                                                                                                                                                                                         |\n",
      "|      198 | MARY       | KEITEL    | Action: FANTASY TROOPERS, FORREST SONS, HANDICAP BOONDOCK; Animation: INTENTIONS EMPIRE, LUKE MUMMY, THEORY MERMAID, TITANIC BOONDOCK; Children: IDOLS SNATCHERS, MODEL FISH; Classics: JEOPARDY ENCINO, LOVELY JINGLE, STEEL SANTA; Comedy: MALLRATS UNITED, MEMENTO ZOOLANDER, SUBMARINE BED, SWEDEN SHINING; Documentary: ACADEMY DINOSAUR, WAGON JAWS; Drama: CRAFT OUTFIELD, GREEDY ROOTS, SAINTS BRIDE; Family: DUMBO LUST, FEUD FROGMEN, KING EVOLUTION; Foreign: FICTION CHRISTMAS, MADNESS ATTACKS; Games: DWARFS ALTER, HAUNTING PIANIST, MOONWALKER FOOL; Music: YOUTH KICK; New: BUTTERFLY CHOCOLAT, SLEEPY JAPANESE; Sci-Fi: SOLDIERS EVOLUTION, UNFORGIVEN ZOOLANDER; Sports: MERMAID INSECTS, NORTHWEST POLISH, ROSES TREASURE, SIERRA DIVIDE; Travel: CASSIDY WYOMING, GAMES BOWFINGER |\n",
      "|       16 | FRED       | COSTNER   | Action: EASY GLADIATOR, ENTRAPMENT SATISFACTION, REAR TRADING; Animation: CAROL TEXAS, INCH JET, MIRACLE VIRTUAL, MISSION ZOOLANDER, THEORY MERMAID; Children: EMPIRE MALKOVICH; Classics: MAGNIFICENT CHITTY; Documentary: BROTHERHOOD BLANKET, DELIVERANCE MULHOLLAND; Drama: DECEIVER BETRAYED, SAINTS BRIDE; Family: BLANKET BEVERLY, EARRING INSTINCT, GABLES METROPOLIS; Foreign: IMPOSSIBLE PREJUDICE; Games: HUMAN GRAFFITI; New: CLEOPATRA DEVIL, EAGLES PANKY; Sci-Fi: CONNECTICUT TRAMP, WEEKEND PERSONAL; Sports: IMAGE PRINCESS, KRAMER CHOCOLATE, SENSE GREEK; Travel: BOONDOCK BALLROOM                                                                                                                                                                                                 |\n",
      "|      186 | JULIA      | ZELLWEGER | Action: MINDS TRUMAN; Animation: DARES PLUTO; Classics: DETECTIVE VISION, JEOPARDY ENCINO; Documentary: MAJESTIC FLOATS; Games: LAMBS CINCINATTI, PANKY SUBMARINE; Music: WON DARES; New: BREAKFAST GOLDFINGER, WYOMING STORM; Sci-Fi: HOLLOW JEOPARDY, OPEN AFRICAN; Sports: CRANES RESERVOIR, DIVORCE SHINING, RIDER CADDYSHACK; Travel: OUTLAW HANKY                                                                                                                                                                                                                                                                                                                                                                                                                                                |\n",
      "|       73 | GARY       | PENN      | Action: QUEST MUSSOLINI, RUGRATS SHAKESPEARE, SOUTH WAIT; Animation: ARGONAUTS TOWN, DOUBLE WRATH; Classics: MAGNIFICENT CHITTY, VOLUME HOUSE; Documentary: NORTH TEQUILA; Drama: GREEDY ROOTS, PAYCHECK WAIT, SEA VIRGIN; Family: VIRTUAL SPOILERS; Foreign: CHOCOLATE DUCK, INTRIGUE WORST, MATRIX SNOWMAN; Horror: EGYPT TENENBAUMS, ZHIVAGO CORE; Music: BALLOON HOMEWARD, MASKED BUBBLE, VANISHING ROCKY; New: ATTRACTION NEWTON, BIRDS PERDITION, MASK PEACH; Sci-Fi: GRAFFITI LOVE; Sports: FLATLINERS KILLER, PEACH INNOCENT                                                                                                                                                                                                                                                                   |\n",
      "|       32 | TIM        | HACKMAN   | Animation: PACKER MADIGAN; Children: UPTOWN YOUNG; Classics: LIGHTS DEER, SNATCHERS MONTEZUMA; Documentary: CUPBOARD SINNERS, DEEP CRUSADE, HOMEWARD CIDER; Drama: HAROLD FRENCH, MOB DUFFEL; Family: FEUD FROGMEN; Foreign: CALENDAR GUNFIGHT, HOOSIERS BIRDCAGE, MEET CHOCOLATE, PEARL DESTINY; Horror: BEHAVIOR RUNAWAY; Music: WIZARD COLDBLOODED; New: CHAPLIN LICENSE; Sci-Fi: FIDDLER LOST; Sports: CRUSADE HONEY, MUMMY CREATURES, PEACH INNOCENT; Travel: BOILED DARES, BUCKET BROTHERHOOD                                                                                                                                                                                                                                                                                                    |\n",
      "|      156 | FAY        | WOOD      | Animation: GANGS PRIDE; Classics: EXTRAORDINARY CONQUERER; Comedy: RUSHMORE MERMAID; Drama: GREEDY ROOTS, KWAI HOMEWARD, SEATTLE EXPECATIONS; Family: BANG KWAI, DUMBO LUST; Foreign: CRYSTAL BREAKING, INTRIGUE WORST, PURPLE MOVIE; Games: OUTBREAK DIVINE; Horror: FAMILY SWEET, MONTEREY LABYRINTH; Music: DORADO NOTTING, INSIDER ARIZONA; New: CLEOPATRA DEVIL, IDAHO LOVE; Sci-Fi: ENGLISH BULWORTH; Sports: DURHAM PANKY, STEERS ARMAGEDDON; Travel: LIAISONS SWEET                                                                                                                                                                                                                                                                                                                            |\n",
      "|      174 | MICHAEL    | BENING    | Action: PARK CITIZEN, WOMEN DORADO; Children: COMANCHEROS ENEMY, STRANGELOVE DESIRE, STRANGER STRANGERS; Documentary: NEWSIES STORY; Drama: BEAUTY GREASE, NECKLACE OUTBREAK, SPICE SORORITY; Family: HUNTING MUSKETEERS, MUSIC BOONDOCK, SENSIBILITY REAR; Foreign: ALAMO VIDEOTAPE, PURPLE MOVIE; Games: GATHERING CALENDAR; Horror: REEF SALUTE, SPIRIT FLINTSTONES; Music: SILENCE KANE, TELEGRAPH VOYAGE; New: PIANIST OUTFIELD; Sci-Fi: EYES DRIVING; Sports: SLIPPER FIDELITY; Travel: IGBY MAKER, KICK SAVANNAH                                                                                                                                                                                                                                                                                |\n",
      "|      188 | ROCK       | DUKAKIS   | Action: CADDYSHACK JEDI; Animation: DESIRE ALIEN, STORM HAPPINESS; Classics: ALICE FANTASIA, SNATCHERS MONTEZUMA; Comedy: LONELY ELEPHANT, SEARCHERS WAIT; Documentary: ACADEMY DINOSAUR, DANCING FEVER, HEAVYWEIGHTS BEAST, UNITED PILOT; Drama: CHITTY LOCK, HANGING DEEP, PATHS CONTROL; Foreign: FICTION CHRISTMAS, MAUDE MOD, SCISSORHANDS SLUMS; Horror: LADY STAGE, MONTEREY LABYRINTH; Music: BALLOON HOMEWARD; New: EVE RESURRECTION; Sci-Fi: FRISCO FORREST; Sports: ALADDIN CALENDAR, BUBBLE GROSSE, FLATLINERS KILLER, LESSON CLEOPATRA, MUMMY CREATURES, SEABISCUIT PUNK; Travel: WORKER TARZAN, WORKING MICROCOSMOS                                                                                                                                                                      |\n",
      "+----------+------------+-----------+--------------------------------------------------------------------------------------------------------------------------------------------------------------------------------------------------------------------------------------------------------------------------------------------------------------------------------------------------------------------------------------------------------------------------------------------------------------------------------------------------------------------------------------------------------------------------------------------------------------------------------------------------------------------------------------------------------------------------------------------------------------------------------------------------------+\n"
     ]
    }
   ],
   "source": [
    "!mysql sakila -e \"select * from actor_info order by rand() limit 10\""
   ]
  },
  {
   "cell_type": "code",
   "execution_count": 41,
   "id": "8bb6ded7-38c1-4172-9360-7e78ebdc54aa",
   "metadata": {},
   "outputs": [
    {
     "name": "stdout",
     "output_type": "stream",
     "text": [
      "+------------+------------------------+----------+--------------------+---------+-------------+--------------+---------------------------+---------------------+\n",
      "| address_id | address                | address2 | district           | city_id | postal_code | phone        | location                  | last_update         |\n",
      "+------------+------------------------+----------+--------------------+---------+-------------+--------------+---------------------------+---------------------+\n",
      "|        224 | 1842 Luzinia Boulevard |          | Zanzibar West      |     593 | 94420       | 706878974831 |     \u0001\u0001   E�i�U�C@�,_��\u0018�         | 2014-09-25 22:33:19 |\n",
      "|        459 | 251 Florencia Drive    |          | Michoacn de Ocampo |     556 | 16119       | 118011831565 |     \u0001\u0001                    | 2014-09-25 22:32:13 |\n",
      "|         32 | 1425 Shikarpur Manor   |          | Bihar              |     346 | 65599       | 678220867005 |     \u0001\u0001   �\u0016(N�U@�\u0001�\u000f%`9@     | 2014-09-25 22:31:20 |\n",
      "|        533 | 556 Asuncin Way        |          | Mogiljov           |     339 | 35364       | 338244023543 |     \u0001\u0001   km�MQX>@g5\u0013�Y�J@    | 2014-09-25 22:30:13 |\n",
      "|        573 | 1407 Surakarta Manor   |          | Moskova            |     466 | 33224       | 324346485054 |     \u0001\u0001                    | 2014-09-25 22:32:56 |\n",
      "|        535 | 635 Brest Manor        |          | Andhra Pradesh     |      75 | 40899       | 80593242951  |     \u0001\u0001   y�R�|aT@�ɭ�p�0@       | 2014-09-25 22:31:13 |\n",
      "|        307 | 1908 Gaziantep Place   |          | Liaoning           |     536 | 58979       | 108053751300 |     \u0001\u0001   M�l\u000e��^@��|0�4E@       | 2014-09-25 22:30:43 |\n",
      "|        156 | 1963 Moscow Place      |          | Assam              |     354 | 64863       | 761379480249 |     \u0001\u0001    ;��M,W@]YX&�Y:@    | 2014-09-25 22:31:21 |\n",
      "|         53 | 725 Isesaki Place      |          | Mekka              |     237 | 74428       | 876295323994 |     \u0001\u0001   !3aEW�C@a�ي5@     | 2014-09-25 22:33:00 |\n",
      "|        497 | 1013 Tabuk Boulevard   |          | West Bengali       |     261 | 96203       | 158399646978 |     \u0001\u0001   ]\u001b�l\u001bV@y;�i��6@     | 2014-09-25 22:31:19 |\n",
      "+------------+------------------------+----------+--------------------+---------+-------------+--------------+---------------------------+---------------------+\n"
     ]
    }
   ],
   "source": [
    "!mysql sakila -e \"select * from address order by rand() limit 10\""
   ]
  },
  {
   "cell_type": "code",
   "execution_count": 42,
   "id": "36a4097e-f77c-4dd8-ae97-91058ec3873f",
   "metadata": {},
   "outputs": [
    {
     "name": "stdout",
     "output_type": "stream",
     "text": [
      "+-------------+-------------+---------------------+\n",
      "| category_id | name        | last_update         |\n",
      "+-------------+-------------+---------------------+\n",
      "|          14 | Sci-Fi      | 2006-02-15 04:46:27 |\n",
      "|           5 | Comedy      | 2006-02-15 04:46:27 |\n",
      "|          13 | New         | 2006-02-15 04:46:27 |\n",
      "|          15 | Sports      | 2006-02-15 04:46:27 |\n",
      "|           2 | Animation   | 2006-02-15 04:46:27 |\n",
      "|          16 | Travel      | 2006-02-15 04:46:27 |\n",
      "|           1 | Action      | 2006-02-15 04:46:27 |\n",
      "|           6 | Documentary | 2006-02-15 04:46:27 |\n",
      "|          12 | Music       | 2006-02-15 04:46:27 |\n",
      "|          10 | Games       | 2006-02-15 04:46:27 |\n",
      "+-------------+-------------+---------------------+\n"
     ]
    }
   ],
   "source": [
    "!mysql sakila -e \"select * from category order by rand() limit 10\""
   ]
  },
  {
   "cell_type": "code",
   "execution_count": 43,
   "id": "7c4dc269-5bcd-4ef6-8650-4d626bf1f7f7",
   "metadata": {},
   "outputs": [
    {
     "name": "stdout",
     "output_type": "stream",
     "text": [
      "+---------+---------------+------------+---------------------+\n",
      "| city_id | city          | country_id | last_update         |\n",
      "+---------+---------------+------------+---------------------+\n",
      "|      85 | Boksburg      |         85 | 2006-02-15 04:45:25 |\n",
      "|      24 | Amroha        |         44 | 2006-02-15 04:45:25 |\n",
      "|     504 | Sultanbeyli   |         97 | 2006-02-15 04:45:25 |\n",
      "|     160 | Erlangen      |         38 | 2006-02-15 04:45:25 |\n",
      "|     430 | Richmond Hill |         20 | 2006-02-15 04:45:25 |\n",
      "|      80 | Binzhou       |         23 | 2006-02-15 04:45:25 |\n",
      "|     543 | Toulon        |         34 | 2006-02-15 04:45:25 |\n",
      "|      30 | Araatuba      |         15 | 2006-02-15 04:45:25 |\n",
      "|     223 | Ipoh          |         59 | 2006-02-15 04:45:25 |\n",
      "|     343 | Moscow        |         80 | 2006-02-15 04:45:25 |\n",
      "+---------+---------------+------------+---------------------+\n"
     ]
    }
   ],
   "source": [
    "!mysql sakila -e \"select * from city order by rand() limit 10\""
   ]
  },
  {
   "cell_type": "code",
   "execution_count": 44,
   "id": "fc598375-14fc-4b18-a3ac-89149c560f47",
   "metadata": {},
   "outputs": [
    {
     "name": "stdout",
     "output_type": "stream",
     "text": [
      "+------------+-------------------------------+---------------------+\n",
      "| country_id | country                       | last_update         |\n",
      "+------------+-------------------------------+---------------------+\n",
      "|         69 | Nigeria                       | 2006-02-15 04:44:00 |\n",
      "|        108 | Yugoslavia                    | 2006-02-15 04:44:00 |\n",
      "|         72 | Pakistan                      | 2006-02-15 04:44:00 |\n",
      "|         19 | Cameroon                      | 2006-02-15 04:44:00 |\n",
      "|         88 | Sri Lanka                     | 2006-02-15 04:44:00 |\n",
      "|         41 | Holy See (Vatican City State) | 2006-02-15 04:44:00 |\n",
      "|         24 | Colombia                      | 2006-02-15 04:44:00 |\n",
      "|         16 | Brunei                        | 2006-02-15 04:44:00 |\n",
      "|         60 | Mexico                        | 2006-02-15 04:44:00 |\n",
      "|         18 | Cambodia                      | 2006-02-15 04:44:00 |\n",
      "+------------+-------------------------------+---------------------+\n"
     ]
    }
   ],
   "source": [
    "!mysql sakila -e \"select * from country order by rand() limit 10\""
   ]
  },
  {
   "cell_type": "code",
   "execution_count": 45,
   "id": "db0ea6a0-1d8a-45df-a502-cf935abb8be2",
   "metadata": {},
   "outputs": [
    {
     "name": "stdout",
     "output_type": "stream",
     "text": [
      "+-------------+----------+------------+-----------+----------------------------------+------------+--------+---------------------+---------------------+\n",
      "| customer_id | store_id | first_name | last_name | email                            | address_id | active | create_date         | last_update         |\n",
      "+-------------+----------+------------+-----------+----------------------------------+------------+--------+---------------------+---------------------+\n",
      "|         216 |        1 | NATALIE    | MEYER     | NATALIE.MEYER@sakilacustomer.org |        220 |      1 | 2006-02-14 22:04:36 | 2006-02-15 04:57:20 |\n",
      "|         564 |        2 | BOB        | PFEIFFER  | BOB.PFEIFFER@sakilacustomer.org  |        570 |      1 | 2006-02-14 22:04:37 | 2006-02-15 04:57:20 |\n",
      "|          15 |        1 | HELEN      | HARRIS    | HELEN.HARRIS@sakilacustomer.org  |         19 |      1 | 2006-02-14 22:04:36 | 2006-02-15 04:57:20 |\n",
      "|         159 |        1 | JILL       | HAWKINS   | JILL.HAWKINS@sakilacustomer.org  |        163 |      1 | 2006-02-14 22:04:36 | 2006-02-15 04:57:20 |\n",
      "|         493 |        1 | BRENT      | HARKINS   | BRENT.HARKINS@sakilacustomer.org |        498 |      1 | 2006-02-14 22:04:37 | 2006-02-15 04:57:20 |\n",
      "|         261 |        1 | DEANNA     | BYRD      | DEANNA.BYRD@sakilacustomer.org   |        266 |      1 | 2006-02-14 22:04:36 | 2006-02-15 04:57:20 |\n",
      "|         355 |        2 | TERRY      | GRISSOM   | TERRY.GRISSOM@sakilacustomer.org |        360 |      1 | 2006-02-14 22:04:37 | 2006-02-15 04:57:20 |\n",
      "|          91 |        2 | LOIS       | BUTLER    | LOIS.BUTLER@sakilacustomer.org   |         95 |      1 | 2006-02-14 22:04:36 | 2006-02-15 04:57:20 |\n",
      "|         490 |        1 | SAM        | MCDUFFIE  | SAM.MCDUFFIE@sakilacustomer.org  |        495 |      1 | 2006-02-14 22:04:37 | 2006-02-15 04:57:20 |\n",
      "|         485 |        1 | CLYDE      | TOBIAS    | CLYDE.TOBIAS@sakilacustomer.org  |        490 |      1 | 2006-02-14 22:04:37 | 2006-02-15 04:57:20 |\n",
      "+-------------+----------+------------+-----------+----------------------------------+------------+--------+---------------------+---------------------+\n"
     ]
    }
   ],
   "source": [
    "!mysql sakila -e \"select * from customer order by rand() limit 10\""
   ]
  },
  {
   "cell_type": "code",
   "execution_count": 46,
   "id": "cb03da6f-b7f7-4bf0-b2c8-0a54fe42d4d2",
   "metadata": {},
   "outputs": [
    {
     "name": "stdout",
     "output_type": "stream",
     "text": [
      "+-----+-----------------+------------------------+----------+--------------+--------------------+---------------+--------+-----+\n",
      "| ID  | name            | address                | zip code | phone        | city               | country       | notes  | SID |\n",
      "+-----+-----------------+------------------------+----------+--------------+--------------------+---------------+--------+-----+\n",
      "| 444 | MARCUS HIDALGO  | 1289 Belm Boulevard    | 88306    | 237368926031 | Tartu              | Estonia       | active |   2 |\n",
      "|  86 | JACQUELINE LONG | 870 Ashqelon Loop      | 84931    | 135117278909 | Songkhla           | Thailand      | active |   2 |\n",
      "|  20 | SHARON ROBINSON | 1688 Okara Way         | 21954    | 144453869132 | Mardan             | Pakistan      | active |   2 |\n",
      "| 268 | NINA SOTO       | 1519 Ilorin Place      | 49298    | 357445645426 | Palghat (Palakkad) | India         | active |   1 |\n",
      "| 441 | MARIO CHEATHAM  | 1924 Shimonoseki Drive | 52625    | 406784385440 | Batna              | Algeria       | active |   1 |\n",
      "| 526 | KARL SEAL       | 1427 Tabuk Place       | 31342    | 214756839122 | Cape Coral         | United States | active |   2 |\n",
      "| 545 | JULIO NOLAND    | 182 Nukualofa Drive    | 15414    | 426346224043 | Konotop            | Ukraine       | active |   2 |\n",
      "| 230 | JOY GEORGE      | 1256 Bislig Boulevard  | 50598    | 479007229460 | Botosani           | Romania       | active |   2 |\n",
      "| 547 | KURT EMMONS     | 1421 Quilmes Lane      | 19151    | 135407755975 | Kanazawa           | Japan         | active |   1 |\n",
      "|  97 | ANNIE RUSSELL   | 1599 Plock Drive       | 71986    | 817248913162 | Tete               | Mozambique    | active |   2 |\n",
      "+-----+-----------------+------------------------+----------+--------------+--------------------+---------------+--------+-----+\n"
     ]
    }
   ],
   "source": [
    "!mysql sakila -e \"select * from customer_list order by rand() limit 10\""
   ]
  },
  {
   "cell_type": "code",
   "execution_count": 47,
   "id": "8beb341e-ace3-453f-b4ed-02da940b5248",
   "metadata": {},
   "outputs": [
    {
     "name": "stdout",
     "output_type": "stream",
     "text": [
      "+---------+------------------------+--------------------------------------------------------------------------------------------------------------------------+--------------+-------------+----------------------+-----------------+-------------+--------+------------------+--------+--------------------------------------------------------+---------------------+\n",
      "| film_id | title                  | description                                                                                                              | release_year | language_id | original_language_id | rental_duration | rental_rate | length | replacement_cost | rating | special_features                                       | last_update         |\n",
      "+---------+------------------------+--------------------------------------------------------------------------------------------------------------------------+--------------+-------------+----------------------+-----------------+-------------+--------+------------------+--------+--------------------------------------------------------+---------------------+\n",
      "|      12 | ALASKA PHANTOM         | A Fanciful Saga of a Hunter And a Pastry Chef who must Vanquish a Boy in Australia                                       |         2006 |           1 |                 NULL |               6 |        0.99 |    136 |            22.99 | PG     | Commentaries,Deleted Scenes                            | 2006-02-15 05:03:42 |\n",
      "|     758 | SAINTS BRIDE           | A Fateful Tale of a Technical Writer And a Composer who must Pursue a Explorer in The Gulf of Mexico                     |         2006 |           1 |                 NULL |               5 |        2.99 |    125 |            11.99 | G      | Deleted Scenes                                         | 2006-02-15 05:03:42 |\n",
      "|     337 | FRIDA SLIPPER          | A Fateful Story of a Lumberjack And a Car who must Escape a Boat in An Abandoned Mine Shaft                              |         2006 |           1 |                 NULL |               6 |        2.99 |     73 |            11.99 | R      | Trailers,Deleted Scenes                                | 2006-02-15 05:03:42 |\n",
      "|      34 | ARABIA DOGMA           | A Touching Epistle of a Madman And a Mad Cow who must Defeat a Student in Nigeria                                        |         2006 |           1 |                 NULL |               6 |        0.99 |     62 |            29.99 | NC-17  | Commentaries,Deleted Scenes                            | 2006-02-15 05:03:42 |\n",
      "|      83 | BLUES INSTINCT         | A Insightful Documentary of a Boat And a Composer who must Meet a Forensic Psychologist in An Abandoned Fun House        |         2006 |           1 |                 NULL |               5 |        2.99 |     50 |            18.99 | G      | Trailers,Deleted Scenes,Behind the Scenes              | 2006-02-15 05:03:42 |\n",
      "|     942 | VIETNAM SMOOCHY        | A Lacklusture Display of a Butler And a Man who must Sink a Explorer in Soviet Georgia                                   |         2006 |           1 |                 NULL |               7 |        0.99 |    174 |            27.99 | PG-13  | Deleted Scenes,Behind the Scenes                       | 2006-02-15 05:03:42 |\n",
      "|     231 | DINOSAUR SECRETARY     | A Action-Packed Drama of a Feminist And a Girl who must Reach a Robot in The Canadian Rockies                            |         2006 |           1 |                 NULL |               7 |        2.99 |     63 |            27.99 | R      | Trailers,Behind the Scenes                             | 2006-02-15 05:03:42 |\n",
      "|     880 | TELEMARK HEARTBREAKERS | A Action-Packed Panorama of a Technical Writer And a Man who must Build a Forensic Psychologist in A Manhattan Penthouse |         2006 |           1 |                 NULL |               6 |        2.99 |    152 |             9.99 | PG-13  | Trailers,Commentaries,Deleted Scenes,Behind the Scenes | 2006-02-15 05:03:42 |\n",
      "|     946 | VIRTUAL SPOILERS       | A Fateful Tale of a Database Administrator And a Squirrel who must Discover a Student in Soviet Georgia                  |         2006 |           1 |                 NULL |               3 |        4.99 |    144 |            14.99 | NC-17  | Commentaries,Deleted Scenes                            | 2006-02-15 05:03:42 |\n",
      "|     627 | NORTH TEQUILA          | A Beautiful Character Study of a Mad Cow And a Robot who must Reach a Womanizer in New Orleans                           |         2006 |           1 |                 NULL |               4 |        4.99 |     67 |             9.99 | NC-17  | Commentaries,Deleted Scenes,Behind the Scenes          | 2006-02-15 05:03:42 |\n",
      "+---------+------------------------+--------------------------------------------------------------------------------------------------------------------------+--------------+-------------+----------------------+-----------------+-------------+--------+------------------+--------+--------------------------------------------------------+---------------------+\n"
     ]
    }
   ],
   "source": [
    "!mysql sakila -e \"select * from film order by rand() limit 10\""
   ]
  },
  {
   "cell_type": "code",
   "execution_count": 48,
   "id": "26997cba-0b93-4e64-af94-21002574b4c2",
   "metadata": {},
   "outputs": [
    {
     "name": "stdout",
     "output_type": "stream",
     "text": [
      "+----------+---------+---------------------+\n",
      "| actor_id | film_id | last_update         |\n",
      "+----------+---------+---------------------+\n",
      "|      185 |     286 | 2006-02-15 05:05:03 |\n",
      "|       97 |     197 | 2006-02-15 05:05:03 |\n",
      "|      102 |     600 | 2006-02-15 05:05:03 |\n",
      "|      158 |     812 | 2006-02-15 05:05:03 |\n",
      "|      196 |     575 | 2006-02-15 05:05:03 |\n",
      "|      119 |     614 | 2006-02-15 05:05:03 |\n",
      "|      127 |     354 | 2006-02-15 05:05:03 |\n",
      "|      189 |     378 | 2006-02-15 05:05:03 |\n",
      "|       14 |     856 | 2006-02-15 05:05:03 |\n",
      "|       23 |     367 | 2006-02-15 05:05:03 |\n",
      "+----------+---------+---------------------+\n"
     ]
    }
   ],
   "source": [
    "!mysql sakila -e \"select * from film_actor order by rand() limit 10\""
   ]
  },
  {
   "cell_type": "code",
   "execution_count": 49,
   "id": "96f9047b-09fb-4e10-a639-8c1ac661fae3",
   "metadata": {},
   "outputs": [
    {
     "name": "stdout",
     "output_type": "stream",
     "text": [
      "+---------+-------------+---------------------+\n",
      "| film_id | category_id | last_update         |\n",
      "+---------+-------------+---------------------+\n",
      "|      78 |           2 | 2006-02-15 05:07:09 |\n",
      "|     772 |           7 | 2006-02-15 05:07:09 |\n",
      "|     882 |           7 | 2006-02-15 05:07:09 |\n",
      "|     439 |           7 | 2006-02-15 05:07:09 |\n",
      "|     663 |           4 | 2006-02-15 05:07:09 |\n",
      "|     593 |          11 | 2006-02-15 05:07:09 |\n",
      "|     986 |           2 | 2006-02-15 05:07:09 |\n",
      "|     785 |          16 | 2006-02-15 05:07:09 |\n",
      "|      61 |           7 | 2006-02-15 05:07:09 |\n",
      "|     658 |          11 | 2006-02-15 05:07:09 |\n",
      "+---------+-------------+---------------------+\n"
     ]
    }
   ],
   "source": [
    "!mysql sakila -e \"select * from film_category order by rand() limit 10\""
   ]
  },
  {
   "cell_type": "code",
   "execution_count": 50,
   "id": "23113075-c043-41a8-adc3-e7e0711cd91b",
   "metadata": {},
   "outputs": [
    {
     "name": "stdout",
     "output_type": "stream",
     "text": [
      "+------+----------------------+-----------------------------------------------------------------------------------------------------------------------------------+-------------+-------+--------+--------+--------------------------------------------------------------------------------------------------------------------------------------------------------------------+\n",
      "| FID  | title                | description                                                                                                                       | category    | price | length | rating | actors                                                                                                                                                             |\n",
      "+------+----------------------+-----------------------------------------------------------------------------------------------------------------------------------+-------------+-------+--------+--------+--------------------------------------------------------------------------------------------------------------------------------------------------------------------+\n",
      "|  274 | EGG IGBY             | A Beautiful Documentary of a Boat And a Sumo Wrestler who must Succumb a Database Administrator in The First Manned Space Station | Documentary |  2.99 |     67 | PG     | MERYL GIBSON, LUCILLE TRACY, TOM MCKELLEN, NATALIE HOPKINS, OPRAH KILMER                                                                                           |\n",
      "|  355 | GHOSTBUSTERS ELF     | A Thoughtful Epistle of a Dog And a Feminist who must Chase a Composer in Berlin                                                  | Animation   |  0.99 |    101 | R      | JENNIFER DAVIS                                                                                                                                                     |\n",
      "|  389 | GUNFIGHTER MUSSOLINI | A Touching Saga of a Robot And a Boy who must Kill a Man in Ancient Japan                                                         | Sports      |  2.99 |    127 | PG-13  | RUSSELL CLOSE, AUDREY OLIVIER, JUDY DEAN, SCARLETT DAMON                                                                                                           |\n",
      "|   33 | APOLLO TEEN          | A Action-Packed Reflection of a Crocodile And a Explorer who must Find a Sumo Wrestler in An Abandoned Mine Shaft                 | Drama       |  2.99 |    153 | PG-13  | ED MANSFIELD, ALBERT JOHANSSON, OPRAH KILMER, MENA HOPPER, JEFF SILVERSTONE, DEBBIE AKROYD, WOODY JOLIE, MAE HOFFMAN                                               |\n",
      "|  645 | OTHERS SOUP          | A Lacklusture Documentary of a Mad Cow And a Madman who must Sink a Moose in The Gulf of Mexico                                   | Travel      |  2.99 |    118 | PG     | BURT POSEY, FRANCES DAY-LEWIS, NATALIE HOPKINS, OLYMPIA PFEIFFER                                                                                                   |\n",
      "|  550 | MAGUIRE APACHE       | A Fast-Paced Reflection of a Waitress And a Hunter who must Defeat a Forensic Psychologist in A Baloon                            | Family      |  2.99 |     74 | NC-17  | NICK WAHLBERG, RENEE TRACY, ALAN DREYFUSS, SEAN WILLIAMS                                                                                                           |\n",
      "|  695 | PRESIDENT BANG       | A Fateful Panorama of a Technical Writer And a Moose who must Battle a Robot in Soviet Georgia                                    | Family      |  4.99 |    144 | PG     | AUDREY BAILEY, DEBBIE AKROYD, LUCILLE DEE, CUBA ALLEN, JULIA MCQUEEN                                                                                               |\n",
      "|  609 | MUSCLE BRIGHT        | A Stunning Panorama of a Sumo Wrestler And a Husband who must Redeem a Madman in Ancient India                                    | Travel      |  2.99 |    185 | G      | GROUCHO WILLIAMS, MATTHEW CARREY, JEFF SILVERSTONE, MATTHEW LEIGH, SEAN WILLIAMS                                                                                   |\n",
      "|  420 | HOLES BRANNIGAN      | A Fast-Paced Reflection of a Technical Writer And a Student who must Fight a Boy in The Canadian Rockies                          | Sports      |  4.99 |    128 | PG     | NATALIE HOPKINS, GREGORY GOODING, MATTHEW CARREY, ED MANSFIELD, DAN STREEP, MORGAN MCDORMAND, DARYL WAHLBERG, GARY PHOENIX, NICK STALLONE, KEVIN BLOOM, KARL BERRY |\n",
      "|  417 | HILLS NEIGHBORS      | A Epic Display of a Hunter And a Feminist who must Sink a Car in A U-Boat                                                         | Action      |  0.99 |     93 | G      | VIVIEN BERGEN, NATALIE HOPKINS, DAN HARRIS, CHRISTIAN AKROYD, JON CHASE, RENEE BALL                                                                                |\n",
      "+------+----------------------+-----------------------------------------------------------------------------------------------------------------------------------+-------------+-------+--------+--------+--------------------------------------------------------------------------------------------------------------------------------------------------------------------+\n"
     ]
    }
   ],
   "source": [
    "!mysql sakila -e \"select * from film_list order by rand() limit 10\""
   ]
  },
  {
   "cell_type": "code",
   "execution_count": 51,
   "id": "b18b8ffa-6c96-4c96-a505-85e7d44f25ed",
   "metadata": {},
   "outputs": [
    {
     "name": "stdout",
     "output_type": "stream",
     "text": [
      "+---------+------------------------+--------------------------------------------------------------------------------------------------------------+\n",
      "| film_id | title                  | description                                                                                                  |\n",
      "+---------+------------------------+--------------------------------------------------------------------------------------------------------------+\n",
      "|     335 | FREEDOM CLEOPATRA      | A Emotional Reflection of a Dentist And a Mad Cow who must Face a Squirrel in A Baloon                       |\n",
      "|     242 | DOOM DANCING           | A Astounding Panorama of a Car And a Mad Scientist who must Battle a Lumberjack in A MySQL Convention        |\n",
      "|     585 | MOB DUFFEL             | A Unbelieveable Documentary of a Frisbee And a Boat who must Meet a Boy in The Canadian Rockies              |\n",
      "|     961 | WASH HEAVENLY          | A Awe-Inspiring Reflection of a Cat And a Pioneer who must Escape a Hunter in Ancient China                  |\n",
      "|     948 | VOICE PEACH            | A Amazing Panorama of a Pioneer And a Student who must Overcome a Mad Scientist in A Manhattan Penthouse     |\n",
      "|     178 | CONNECTION MICROCOSMOS | A Fateful Documentary of a Crocodile And a Husband who must Face a Husband in The First Manned Space Station |\n",
      "|     492 | JUNGLE CLOSER          | A Boring Character Study of a Boy And a Woman who must Battle a Astronaut in Australia                       |\n",
      "|     685 | PLATOON INSTINCT       | A Thrilling Panorama of a Man And a Woman who must Reach a Woman in Australia                                |\n",
      "|     121 | CAROL TEXAS            | A Astounding Character Study of a Composer And a Student who must Overcome a Composer in A Monastery         |\n",
      "|     750 | RUN PACIFIC            | A Touching Tale of a Cat And a Pastry Chef who must Conquer a Pastry Chef in A MySQL Convention              |\n",
      "+---------+------------------------+--------------------------------------------------------------------------------------------------------------+\n"
     ]
    }
   ],
   "source": [
    "!mysql sakila -e \"select * from film_text order by rand() limit 10\""
   ]
  },
  {
   "cell_type": "code",
   "execution_count": 52,
   "id": "3f7f5e51-34ff-4f8d-9ca7-e23bc553f8fb",
   "metadata": {},
   "outputs": [
    {
     "name": "stdout",
     "output_type": "stream",
     "text": [
      "+--------------+---------+----------+---------------------+\n",
      "| inventory_id | film_id | store_id | last_update         |\n",
      "+--------------+---------+----------+---------------------+\n",
      "|         3724 |     814 |        2 | 2006-02-15 05:09:17 |\n",
      "|          931 |     206 |        2 | 2006-02-15 05:09:17 |\n",
      "|         3297 |     725 |        2 | 2006-02-15 05:09:17 |\n",
      "|          597 |     130 |        2 | 2006-02-15 05:09:17 |\n",
      "|         2018 |     439 |        1 | 2006-02-15 05:09:17 |\n",
      "|         2295 |     499 |        1 | 2006-02-15 05:09:17 |\n",
      "|         1832 |     397 |        2 | 2006-02-15 05:09:17 |\n",
      "|          420 |      92 |        1 | 2006-02-15 05:09:17 |\n",
      "|         1339 |     295 |        2 | 2006-02-15 05:09:17 |\n",
      "|            3 |       1 |        1 | 2006-02-15 05:09:17 |\n",
      "+--------------+---------+----------+---------------------+\n"
     ]
    }
   ],
   "source": [
    "!mysql sakila -e \"select * from inventory order by rand() limit 10\""
   ]
  },
  {
   "cell_type": "code",
   "execution_count": 53,
   "id": "a194ed35-ea60-4506-a5d6-96cbec693e80",
   "metadata": {},
   "outputs": [
    {
     "name": "stdout",
     "output_type": "stream",
     "text": [
      "+-------------+----------+---------------------+\n",
      "| language_id | name     | last_update         |\n",
      "+-------------+----------+---------------------+\n",
      "|           3 | Japanese | 2006-02-15 05:02:19 |\n",
      "|           1 | English  | 2006-02-15 05:02:19 |\n",
      "|           4 | Mandarin | 2006-02-15 05:02:19 |\n",
      "|           2 | Italian  | 2006-02-15 05:02:19 |\n",
      "|           6 | German   | 2006-02-15 05:02:19 |\n",
      "|           5 | French   | 2006-02-15 05:02:19 |\n",
      "+-------------+----------+---------------------+\n"
     ]
    }
   ],
   "source": [
    "!mysql sakila -e \"select * from language order by rand() limit 10\""
   ]
  },
  {
   "cell_type": "code",
   "execution_count": 54,
   "id": "f97a64c7-f181-405d-9823-dbdf23ef7153",
   "metadata": {},
   "outputs": [
    {
     "name": "stdout",
     "output_type": "stream",
     "text": [
      "+------+----------------------+--------------------------------------------------------------------------------------------------------------------------+----------+-------+--------+--------+------------------------------------------------------------------------------------------------------------------------------------------------------+\n",
      "| FID  | title                | description                                                                                                              | category | price | length | rating | actors                                                                                                                                               |\n",
      "+------+----------------------+--------------------------------------------------------------------------------------------------------------------------+----------+-------+--------+--------+------------------------------------------------------------------------------------------------------------------------------------------------------+\n",
      "|  580 | MINE TITANS          | A Amazing Yarn of a Robot And a Womanizer who must Discover a Forensic Psychologist in Berlin                            | New      |  4.99 |    166 | PG-13  | Nick Degeneres, Humphrey Garland                                                                                                                     |\n",
      "|  653 | PANIC CLUB           | A Fanciful Display of a Teacher And a Crocodile who must Succumb a Girl in A Baloon                                      | Horror   |  4.99 |    102 | G      | Cameron Streep, Dan Streep, Harvey Hope                                                                                                              |\n",
      "|  599 | MOTHER OLEANDER      | A Boring Tale of a Husband And a Boy who must Fight a Squirrel in Ancient China                                          | Sports   |  0.99 |    103 | R      | Frances Day-lewis, Groucho Sinatra, Spencer Peck, Whoopi Hurt, Angela Witherspoon                                                                    |\n",
      "|  553 | MAKER GABLES         | A Stunning Display of a Moose And a Database Administrator who must Pursue a Composer in A Jet Boat                      | Children |  0.99 |    136 | PG-13  | Val Bolger, Cuba Allen, Meg Hawke, Kirsten Akroyd, Ralph Cruz, Mary Tandy, Christian Akroyd, Kevin Garland, Cuba Olivier, Rita Reynolds, Lucille Dee |\n",
      "|  170 | COMMAND DARLING      | A Awe-Inspiring Tale of a Forensic Psychologist And a Woman who must Challenge a Database Administrator in Ancient Japan | Foreign  |  4.99 |    120 | PG-13  | Meryl Gibson, Geoffrey Heston, Ewan Gooding, Rita Reynolds, Liza Bergman, Kenneth Pesci, Burt Posey, Grace Mostel                                    |\n",
      "|  969 | WEST LION            | A Intrepid Drama of a Butler And a Lumberjack who must Challenge a Database Administrator in A Manhattan Penthouse       | Drama    |  4.99 |    159 | G      | Cary Mcconaughey, Sean Williams, Cameron Streep, Zero Cage, Morgan Hopkins, Cuba Allen, Albert Johansson, Humphrey Garland, Gregory Gooding          |\n",
      "|  437 | HOUSE DYNAMITE       | A Taut Story of a Pioneer And a Squirrel who must Battle a Student in Soviet Georgia                                     | Family   |  2.99 |    109 | R      | Debbie Akroyd, Matthew Carrey, Al Garland, Vivien Basinger, Matthew Leigh, Meg Hawke, Jude Cruise, Natalie Hopkins, Michael Bolger                   |\n",
      "|  573 | MICROCOSMOS PARADISE | A Touching Character Study of a Boat And a Student who must Sink a A Shark in Nigeria                                    | Children |  2.99 |    105 | PG-13  | Helen Voight, Mena Temple, Ellen Presley, Kevin Garland, Greta Malden, Jon Chase                                                                     |\n",
      "|  364 | GODFATHER DIARY      | A Stunning Saga of a Lumberjack And a Squirrel who must Chase a Car in The Outback                                       | New      |  2.99 |     73 | NC-17  | Ed Mansfield, Rita Reynolds, Greg Chaplin, Zero Cage, Laura Brody, Reese West                                                                        |\n",
      "|  468 | INVASION CYCLONE     | A Lacklusture Character Study of a Mad Scientist And a Womanizer who must Outrace a Explorer in A Monastery              | Children |  2.99 |     97 | PG     | Woody Jolie, Renee Tracy, Scarlett Bening, Frances Tomei, Emily Dee, Jayne Nolte, Ed Guiness                                                         |\n",
      "+------+----------------------+--------------------------------------------------------------------------------------------------------------------------+----------+-------+--------+--------+------------------------------------------------------------------------------------------------------------------------------------------------------+\n"
     ]
    }
   ],
   "source": [
    "!mysql sakila -e \"select * from nicer_but_slower_film_list order by rand() limit 10\""
   ]
  },
  {
   "cell_type": "code",
   "execution_count": 55,
   "id": "d904ea0b-90e8-4e67-8966-e546c8eb36a5",
   "metadata": {},
   "outputs": [
    {
     "name": "stdout",
     "output_type": "stream",
     "text": [
      "+------------+-------------+----------+-----------+--------+---------------------+---------------------+\n",
      "| payment_id | customer_id | staff_id | rental_id | amount | payment_date        | last_update         |\n",
      "+------------+-------------+----------+-----------+--------+---------------------+---------------------+\n",
      "|      12386 |         459 |        2 |      4519 |   2.99 | 2005-07-08 02:51:23 | 2006-02-15 22:19:17 |\n",
      "|      15987 |         597 |        1 |      2696 |   4.99 | 2005-06-19 13:28:42 | 2006-02-15 22:23:58 |\n",
      "|       3124 |         116 |        2 |      1762 |   4.99 | 2005-06-16 17:50:19 | 2006-02-15 22:13:08 |\n",
      "|       6257 |         232 |        2 |      8401 |   4.99 | 2005-07-29 06:25:08 | 2006-02-15 22:14:33 |\n",
      "|      11198 |         414 |        2 |      6462 |   7.99 | 2005-07-12 01:15:24 | 2006-02-15 22:18:12 |\n",
      "|       4842 |         178 |        1 |      8287 |   3.99 | 2005-07-29 02:03:58 | 2006-02-15 22:13:48 |\n",
      "|       4463 |         164 |        2 |      8135 |   3.99 | 2005-07-28 20:03:25 | 2006-02-15 22:13:38 |\n",
      "|       7973 |         294 |        2 |     11875 |   4.99 | 2005-08-17 14:16:48 | 2006-02-15 22:15:35 |\n",
      "|       1040 |          38 |        2 |      4228 |   1.99 | 2005-07-07 12:42:02 | 2006-02-15 22:12:37 |\n",
      "|      13594 |         504 |        2 |     10509 |   3.99 | 2005-08-01 11:25:28 | 2006-02-15 22:20:29 |\n",
      "+------------+-------------+----------+-----------+--------+---------------------+---------------------+\n"
     ]
    }
   ],
   "source": [
    "!mysql sakila -e \"select * from payment order by rand() limit 10\""
   ]
  },
  {
   "cell_type": "code",
   "execution_count": 56,
   "id": "fd4a66a0-69dd-40d9-90ac-20f4407102cd",
   "metadata": {},
   "outputs": [
    {
     "name": "stdout",
     "output_type": "stream",
     "text": [
      "+-----------+---------------------+--------------+-------------+---------------------+----------+---------------------+\n",
      "| rental_id | rental_date         | inventory_id | customer_id | return_date         | staff_id | last_update         |\n",
      "+-----------+---------------------+--------------+-------------+---------------------+----------+---------------------+\n",
      "|     11776 | 2005-08-17 10:27:19 |         2400 |         306 | 2005-08-20 14:02:19 |        2 | 2006-02-15 21:30:53 |\n",
      "|      5150 | 2005-07-09 08:28:40 |         1961 |         410 | 2005-07-16 04:47:40 |        1 | 2006-02-15 21:30:53 |\n",
      "|      7401 | 2005-07-27 16:17:55 |         2759 |         583 | 2005-08-04 15:48:55 |        1 | 2006-02-15 21:30:53 |\n",
      "|      2825 | 2005-06-19 20:32:19 |         2601 |         418 | 2005-06-22 22:32:19 |        1 | 2006-02-15 21:30:53 |\n",
      "|      3872 | 2005-07-06 18:00:19 |         1785 |         513 | 2005-07-07 17:26:19 |        1 | 2006-02-15 21:30:53 |\n",
      "|      9234 | 2005-07-30 13:45:54 |         1660 |         128 | 2005-08-02 15:33:54 |        1 | 2006-02-15 21:30:53 |\n",
      "|     10187 | 2005-08-01 00:15:49 |         1629 |         400 | 2005-08-05 01:00:49 |        2 | 2006-02-15 21:30:53 |\n",
      "|      3497 | 2005-07-06 00:00:03 |         1970 |         299 | 2005-07-09 01:27:03 |        1 | 2006-02-15 21:30:53 |\n",
      "|     14453 | 2005-08-21 12:33:34 |         3312 |         237 | 2005-08-27 11:10:34 |        1 | 2006-02-15 21:30:53 |\n",
      "|       717 | 2005-05-29 04:37:44 |         1383 |         412 | 2005-05-30 05:48:44 |        2 | 2006-02-15 21:30:53 |\n",
      "+-----------+---------------------+--------------+-------------+---------------------+----------+---------------------+\n"
     ]
    }
   ],
   "source": [
    "!mysql sakila -e \"select * from rental order by rand() limit 10\""
   ]
  },
  {
   "cell_type": "code",
   "execution_count": 57,
   "id": "a2aeb4e3-d5bb-4d47-82b4-33e18bde5910",
   "metadata": {},
   "outputs": [
    {
     "name": "stdout",
     "output_type": "stream",
     "text": [
      "+-----------+-------------+\n",
      "| category  | total_sales |\n",
      "+-----------+-------------+\n",
      "| Sci-Fi    |     4756.98 |\n",
      "| Classics  |     3639.59 |\n",
      "| Action    |     4375.85 |\n",
      "| Drama     |     4587.39 |\n",
      "| Horror    |     3722.54 |\n",
      "| Comedy    |     4383.58 |\n",
      "| Music     |     3417.72 |\n",
      "| Games     |     4281.33 |\n",
      "| Family    |     4226.07 |\n",
      "| Animation |     4656.30 |\n",
      "+-----------+-------------+\n"
     ]
    }
   ],
   "source": [
    "!mysql sakila -e \"select * from sales_by_film_category order by rand() limit 10\""
   ]
  },
  {
   "cell_type": "code",
   "execution_count": 58,
   "id": "1640c68b-4263-44a5-8b1b-af81b0b4d17d",
   "metadata": {},
   "outputs": [
    {
     "name": "stdout",
     "output_type": "stream",
     "text": [
      "+---------------------+--------------+-------------+\n",
      "| store               | manager      | total_sales |\n",
      "+---------------------+--------------+-------------+\n",
      "| Woodridge,Australia | Jon Stephens |    33726.77 |\n",
      "| Lethbridge,Canada   | Mike Hillyer |    33679.79 |\n",
      "+---------------------+--------------+-------------+\n"
     ]
    }
   ],
   "source": [
    "!mysql sakila -e \"select * from sales_by_store order by rand() limit 10\""
   ]
  },
  {
   "cell_type": "code",
   "execution_count": 61,
   "id": "6b8095e9-454e-4b91-93c9-a192c6ba7894",
   "metadata": {},
   "outputs": [
    {
     "name": "stdout",
     "output_type": "stream",
     "text": [
      "+----------+------------+-----------+------------+-------------------------------------------------------------------------------------------------------------------------------------------------------------------------------------------------------------------------------------------------------------------------------------------------------------------------------------------------------------------------------------------------------------------------------------------------------------------------------------------------------------------------------------------------------------------------------------------------------------------------------------------------------------------------------------------------------------------------------------------------------------------------------------------------------------------------------------------------------------------------------------------------------------------------------------------------------------------------------------------------------------------------------------------------------------------------------------------------------------------------------------------------------------------------------------------------------------------------------------------------------------------------------------------------------------------------------------------------------------------------------------------------------------------------------------------------------------------------------------------------------------------------------------------------------------------------------------------------------------------------------------------------------------------------------------------------------------------------------------------------------------------------------------------------------------------------------------------------------------------------------------------------------------------------------------------------------------------------------------------------------------------------------------------------------------------------------------------------------------------------------------------------------------------------------------------------------------------------------------------------------------------------------------------------------------------------------------------------------------------------------------------------------------------------------------------------------------------------------------------------------------------------------------------------------------------------------------------------------------------------------------------------------------------------------------------------------------------------------------------------------------------------------------------------------------------------------------------------------------------------------------------------------------------------------------------------------------------------------------------------------------------------------------------------------------------------------------------------------------------------------------------------------------------------------------------------------------------------------------------------------------------------------------------------------------------------------------------------------------------------------------------------------------------------------------------------------------------------------------------------------------------------------------------------------------------------------------------------------------------------------------------------------------------------------------------------------------------------------------------------------------------------------------------------------------------------------------------------------------------------------------------------------------------------------------------------------------------------------------------------------------------------------------------------------------------------------------------------------------------------------------------------------------------------------------------------------------------------------------------------------------------------------------------------------------------------------------------------------------------------------------------------------------------------------------------------------------------------------------------------------------------------------------------------------------------------------------------------------------------------------------------------------------------------------------------------------------------------------------------------------------------------------------------------------------------------------------------------------------------------------------------------------------------------------------------------------------------------------------------------------------------------------------------------------------------------------------------------------------------------------------------------------------------------------------------------------------------------------------------------------------------------------------------------------------------------------------------------------------------------------------------------------------------------------------------------------------------------------------------------------------------------------------------------------------------------------------------------------------------------------------------------------------------------------------------------------------------------------------------------------------------------------------------------------------------------------------------------------------------------------------------------------------------------------------------------------------------------------------------------------------------------------------------------------------------------------------------------------------------------------------------------------------------------------------------------------------------------------------------------------------------------------------------------------------------------------------------------------------------------------------------------------------------------------------------------------------------------------------------------------------------------------------------------------------------------------------------------------------------------------------------------------------------------------------------------------------------------------------------------------------------------------------------------------------------------------------------------------------------------------------------------------------------------------------------------------------------------------------------------------------------------------------------------------------------------------------------------------------------------------------------------------------------------------------------------------------------------------------------------------------------------------------------------------------------------------------------------------------------------------------------------------------------------------------------------------------------------------------------------------------------------------------------------------------------------------------------------------------------------------------------------------------------------------------------------------------------------------------------------------------------------------------------------------------------------------------------------------------------------------------------------------------------------------------------------------------------------------------------------------------------------------------------------------------------------------------------------------------------------------------------------------------------------------------------------------------------------------------------------------------------------------------------------------------------------------------------------------------------------------------------------------------------------------------------------------------------------------------------------------------------------------------------------------------------------------------------------------------------------------------------------------------------------------------------------------------------------------------------------------------------------------------------------------------------------------------------------------------------------------------------------------------------------------------------------------------------------------------------------------------------------------------------------------------------------------------------------------------------------------------------------------------------------------------------------------------------------------------------------------------------------------------------------------------------------------------------------------------------------------------------------------------------------------------------------------------------------------------------------------------------------------------------------------------------------------------------------------------------------------------------------------------------------------------------------------------------------------------------------------------------------------------------------------------------------------------------------------------------------------------------------------------------------------------------------------------------------------------------------------------------------------------------------------------------------------------------------------------------------------------------------------------------------------------------------------------------------------------------------------------------------------------------------------------------------------------------------------------------------------------------------------------------------------------------------------------------------------------------------------------------------------------------------------------------------------------------------------------------------------------------------------------------------------------------------------------------------------------------------------------------------------------------------------------------------------------------------------------------------------------------------------------------------------------------------------------------------------------------------------------------------------------------------------------------------------------------------------------------------------------------------------------------------------------------------------------------------------------------------------------------------------------------------------------------------------------------------------------------------------------------------------------------------------------------------------------------------------------------------------------------------------------------------------------------------------------------------------------------------------------------------------------------------------------------------------------------------------------------------------------------------------------------------------------------------------------------------------------------------------------------------------------------------------------------------------------------------------------------------------------------------------------------------------------------------------------------------------------------------------------------------------------------------------------------------------------------------------------------------------------------------------------------------------------------------------------------------------------------------------------------------------------------------------------------------------------------------------------------------------------------------------------------------------------------------------------------------------------------------------------------------------------------------------------------------------------------------------------------------------------------------------------------------------------------------------------------------------------------------------------------------------------------------------------------------------------------------------------------------------------------------------------------------------------------------------------------------------------------------------------------------------------------------------------------------------------------------------------------------------------------------------------------------------------------------------------------------------------------------------------------------------------------------------------------------------------------------------------------------------------------------------------------------------------------------------------------------------------------------------------------------------------------------------------------------------------------------------------------------------------------------------------------------------------------------------------------------------------------------------------------------------------------------------------------------------------------------------------------------------------------------------------------------------------------------------------------------------------------------------------------------------------------------------------------------------------------------------------------------------------------------------------------------------------------------------------------------------------------------------------------------------------------------------------------------------------------------------------------------------------------------------------------------------------------------------------------------------------------------------------------------------------------------------------------------------------------------------------------------------------------------------------------------------------------------------------------------------------------------------------------------------------------------------------------------------------------------------------------------------------------------------------------------------------------------------------------------------------------------------------------------------------------------------------------------------------------------------------------------------------------------------------------------------------------------------------------------------------------------------------------------------------------------------------------------------------------------------------------------------------------------------------------------------------------------------------------------------------------------------------------------------------------------------------------------------------------------------------------------------------------------------------------------------------------------------------------------------------------------------------------------------------------------------------------------------------------------------------------------------------------------------------------------------------------------------------------------------------------------------------------------------------------------------------------------------------------------------------------------------------------------------------------------------------------------------------------------------------------------------------------------------------------------------------------------------------------------------------------------------------------------------------------------------------------------------------------------------------------------------------------------------------------------------------------------------------------------------------------------------------------------------------------------------------------------------------------------------------------------------------------------------------------------------------------------------------------------------------------------------------------------------------------------------------------------------------------------------------------------------------------------------------------------------------------------------------------------------------------------------------------------------------------------------------------------------------------------------------------------------------------------------------------------------------------------------------------------------------------------------------------------------------------------------------------------------------------------------------------------------------------------------------------------------------------------------------------------------------------------------------------------------------------------------------------------------------------------------------------------------------------------------------------------------------------------------------------------------------------------------------------------------------------------------------------------------------------------------------------------------------------------------------------------------------------------------------------------------------------------------------------------------------------------------------------------------------------------------------------------------------------------------------------------------------------------------------------------------------------------------------------------------------------------------------------------------------------------------------------------------------------------------------------------------------------------------------------------------------------------------------------------------------------------------------------------------------------------------------------------------------------------------------------------------------------------------------------------------------------------------------------------------------------------------------------------------------------------------------------------------------------------------------------------------------------------------------------------------------------------------------------------------------------------------------------------------------------------------------------------------------------------------------------------------------------------------------------------------------------------------------------------------------------------------------------------------------------------------------------------------------------------------------------------------------------------------------------------------------------------------------------------------------------------------------------------------------------------------------------------------------------------------------------------------------------------------------------------------------------------------------------------------------------------------------------------------------------------------------------------------------------------------------------------------------------------------------------------------------------------------------------------------------------------------------------------------------------------------------------------------------------------------------------------------------------------------------------------------------------------------------------------------------------------------------------------------------------------------------------------------------------------------------------------------------------------------------------------------------------------------------------------------------------------------------------------------------------------------------------------------------------------------------------------------------------------------------------------------------------------------------------------------------------------------------------------------------------------------------------------------------------------------------------------------------------------------------------------------------------------------------------------------------------------------------------------------------------------------------------------------------------------------------------------------------------------------------------------------------------------------------------------------------------------------------------------------------------------------------------------------------------------------------------------------------------------------------------------------------------------------------------------------------------------------------------------------------------------------------------------------------------------------------------------------------------------------------------------------------------------------------------------------------------------------------------------------------------------------------------------------------------------------------------------------------------------------------------------------------------------------------------------------------------------------------------------------------------------------------------------------------------------------------------------------------------------------------------------------------------------------------------------------------------------------------------------------------------------------------------------------------------------------------------------------------------------------------------------------------------------------------------------------------------------------------------------------------------------------------------------------------------------------------------------------------------------------------------------------------------------------------------------------------------------------------------------------------------------------------------------------------------------------------------------------------------------------------------------------------------------------------------------------------------------------------------------------------------------------------------------------------------------------------------------------------------------------------------------------------------------------------------------------------------------------------------------------------------------------------------------------------------------------------------------------------------------------------------------------------------------------------------------------------------------------------------------------------------------------------------------------------------------------------------------------------------------------------------------------------------------------------------------------------------------------------------------------------------------------------------------------------------------------------------------------------------------------------------------------------------------------------------------------------------------------------------------------------------------------------------------------------------------------------------------------------------------------------------------------------------------------------------------------------------------------------------------------------------------------------------------------------------------------------------------------------------------------------------------------------------------------------------------------------------------------------------------------------------------------------------------------------------------------------------------------------------------------------------------------------------------------------------------------------------------------------------------------------------------------------------------------------------------------------------------------------------------------------------------------------------------------------------------------------------------------------------------------------------------------------------------------------------------------------------------------------------------------------------------------------------------------------------------------------------------------------------------------------------------------------------------------------------------------------------------------------------------------------------------------------------------------------------------------------------------------------------------------------------------------------------------------------------------------------------------------------------------------------------------------------------------------------------------------------------------------------------------------------------------------------------------------------------------------------------------------------------------------------------------------------------------------------------------------------------------------------------------------------------------------------------------------------------------------------------------------------------------------------------------------------------------------------------------------------------------------------------------------------------------------------------------------------------------------------------------------------------------------------------------------------------------------------------------------------------------------------------------------------------------------------------------------------------------------------------------------------------------------------------------------------------------------------------------------------------------------------------------------------------------------------------------------------------------------------------------------------------------------------------------------------------------------------------------------------------------------------------------------------------------------------------------------------------------------------------------------------------------------------------------------------------------------------------------------------------------------------------------------------------------------------------------------------------------------------------------------------------------------------------------------------------------------------------------------------------------------------------------------------------------------------------------------------------------------------------------------------------------------------------------------------------------------------------------------------------------------------------------------------------------------------------------------------------------------------------------------------------------------------------------------------------------------------------------------------------------------------------------------------------------------------------------------------------------------------------------------------------------------------------------------------------------------------------------------------------------------------------------------------------------------------------------------------------------------------------------------------------------------------------------------------------------------------------------------------------------------------------------------------------------------------------------------------------------------------------------------------------------------------------------------------------------------------------------------------------------------------------------------------------------------------------------------------------------------------------------------------------------------------------------------------------------------------------------------------------------------------------------------------------------------------------------------------------------------------------------------------------------------------------------------------------------------------------------------------------------------------------------------------------------------------------------------------------------------------------------------------------------------------------------------------------------------------------------------------------------------------------------------------------------------------------------------------------------------------------------------------------------------------------------------------------------------------------------------------------------------------------------------------------------------------------------------------------------------------------------------------------------------------------------------------------------------------------------------------------------------------------------------------------------------------------------------------------------------------------------------------------------------------------------------------------------------------------------------------------------------------------------------------------------------------------------------------------------------------------------------------------------------------------------------------------------------------------------------------------------------------------------------------------------------------------------------------------------------------------------------------------------------------------------------------------------------------------------------------------------------------------------------------------------------------------------------------------------------------------------------------------------------------------------------------------------------------------------------------------------------------------------------------------------------------------------------------------------------------------------------------------------------------------------------------------------------------------------------------------------------------------------------------------------------------------------------------------------------------------------------------------------------------------------------------------------------------------------------------------------------------------------------------------------------------------------------------------------------------------------------------------------------------------------------------------------------------------------------------------------------------------------------------------------------------------------------------------------------------------------------------------------------------------------------------------------------------------------------------------------------------------------------------------------------------------------------------------------------------------------------------------------------------------------------------------------------------------------------------------------------------------------------------------------------------------------------------------------------------------------------------------------------------------------------------------------------------------------------------------------------------------------------------------------------------------------------------------------------------------------------------------------------------------------------------------------------------------------------------------------------------------------------------------------------------------------------------------------------------------------------------------------------------------------------------------------------------------------------------------------------------------------------------------------------------------------------------------------------------------------------------------------------------------------------------------------------------------------------------------------------------------------------------------------------------------------------------------------------------------------------------------------------------------------------------------------------------------------------------------------------------------------------------------------------------------------------------------------------------------------------------------------------------------------------------------------------------------------------------------------------------------------------------------------------------------------------------------------------------------------------------------------------------------------------------------------------------------------------------------------------------------------------------------------------------------------------------------------------------------------------------------------------------------------------------------------------------------------------------------------------------------------------------------------------------------------------------------------------------------------------------------------------------------------------------------------------------------------------------------------------------------------------------------------------------------------------------------------------------------------------------------------------------------------------------------------------------------------------------------------------------------------------------------------------------------------------------------------------------------------------------------------------------------------------------------------------------------------------------------------------------------------------------------------------------------------------------------------------------------------------------------------------------------------------------------------------------------------------------------------------------------------------------------------------------------------------------------------------------------------------------------------------------------------------------------------------------------------------------------------------------------------------------------------------------------------------------------------------------------------------------------------------------------------------------------------------------------------------------------------------------------------------------------------------------------------------------------------------------------------------------------------------------------------------------------------------------------------------------------------------------------------------------------------------------------------------------------------------------------------------------------------------------------------------------------------------------------------------------------------------------------------------------------------------------------------------------------------------------------------------------------------------------------------------------------------------------------------------------------------------------------------------------------------------------------------------------------------------------------------------------------------------------------------------------------------------------------------------------------------------------------------------------------------------------------------------------------------------------------------------------------------------------------------------------------------------------------------------------------------------------------------------------------------------------------------------------------------------------------------------------------------------------------------------------------------------------------------------------------------------------------------------------------------------------------------------------------------------------------------------------------------------------------------------------------------------------------------------------------------------------------------------------------------------------------------------+------------------------------+----------+--------+----------+------------------------------------------+---------------------+\n",
      "| staff_id | first_name | last_name | address_id | picture                                                                                                                                                                                                                                                                                                                                                                                                                                                                                                                                                                                                                                                                                                                                                                                                                                                                                                                                                                                                                                                          | email                        | store_id | active | username | password                                 | last_update         |\n",
      "+----------+------------+-----------+------------+-------------------------------------------------------------------------------------------------------------------------------------------------------------------------------------------------------------------------------------------------------------------------------------------------------------------------------------------------------------------------------------------------------------------------------------------------------------------------------------------------------------------------------------------------------------------------------------------------------------------------------------------------------------------------------------------------------------------------------------------------------------------------------------------------------------------------------------------------------------------------------------------------------------------------------------------------------------------------------------------------------------------------------------------------------------------------------------------------------------------------------------------------------------------------------------------------------------------------------------------------------------------------------------------------------------------------------------------------------------------------------------------------------------------------------------------------------------------------------------------------------------------------------------------------------------------------------------------------------------------------------------------------------------------------------------------------------------------------------------------------------------------------------------------------------------------------------------------------------------------------------------------------------------------------------------------------------------------------------------------------------------------------------------------------------------------------------------------------------------------------------------------------------------------------------------------------------------------------------------------------------------------------------------------------------------------------------------------------------------------------------------------------------------------------------------------------------------------------------------------------------------------------------------------------------------------------------------------------------------------------------------------------------------------------------------------------------------------------------------------------------------------------------------------------------------------------------------------------------------------------------------------------------------------------------------------------------------------------------------------------------------------------------------------------------------------------------------------------------------------------------------------------------------------------------------------------------------------------------------------------------------------------------------------------------------------------------------------------------------------------------------------------------------------------------------------------------------------------------------------------------------------------------------------------------------------------------------------------------------------------------------------------------------------------------------------------------------------------------------------------------------------------------------------------------------------------------------------------------------------------------------------------------------------------------------------------------------------------------------------------------------------------------------------------------------------------------------------------------------------------------------------------------------------------------------------------------------------------------------------------------------------------------------------------------------------------------------------------------------------------------------------------------------------------------------------------------------------------------------------------------------------------------------------------------------------------------------------------------------------------------------------------------------------------------------------------------------------------------------------------------------------------------------------------------------------------------------------------------------------------------------------------------------------------------------------------------------------------------------------------------------------------------------------------------------------------------------------------------------------------------------------------------------------------------------------------------------------------------------------------------------------------------------------------------------------------------------------------------------------------------------------------------------------------------------------------------------------------------------------------------------------------------------------------------------------------------------------------------------------------------------------------------------------------------------------------------------------------------------------------------------------------------------------------------------------------------------------------------------------------------------------------------------------------------------------------------------------------------------------------------------------------------------------------------------------------------------------------------------------------------------------------------------------------------------------------------------------------------------------------------------------------------------------------------------------------------------------------------------------------------------------------------------------------------------------------------------------------------------------------------------------------------------------------------------------------------------------------------------------------------------------------------------------------------------------------------------------------------------------------------------------------------------------------------------------------------------------------------------------------------------------------------------------------------------------------------------------------------------------------------------------------------------------------------------------------------------------------------------------------------------------------------------------------------------------------------------------------------------------------------------------------------------------------------------------------------------------------------------------------------------------------------------------------------------------------------------------------------------------------------------------------------------------------------------------------------------------------------------------------------------------------------------------------------------------------------------------------------------------------------------------------------------------------------------------------------------------------------------------------------------------------------------------------------------------------------------------------------------------------------------------------------------------------------------------------------------------------------------------------------------------------------------------------------------------------------------------------------------------------------------------------------------------------------------------------------------------------------------------------------------------------------------------------------------------------------------------------------------------------------------------------------------------------------------------------------------------------------------------------------------------------------------------------------------------------------------------------------------------------------------------------------------------------------------------------------------------------------------------------------------------------------------------------------------------------------------------------------------------------------------------------------------------------------------------------------------------------------------------------------------------------------------------------------------------------------------------------------------------------------------------------------------------------------------------------------------------------------------------------------------------------------------------------------------------------------------------------------------------------------------------------------------------------------------------------------------------------------------------------------------------------------------------------------------------------------------------------------------------------------------------------------------------------------------------------------------------------------------------------------------------------------------------------------------------------------------------------------------------------------------------------------------------------------------------------------------------------------------------------------------------------------------------------------------------------------------------------------------------------------------------------------------------------------------------------------------------------------------------------------------------------------------------------------------------------------------------------------------------------------------------------------------------------------------------------------------------------------------------------------------------------------------------------------------------------------------------------------------------------------------------------------------------------------------------------------------------------------------------------------------------------------------------------------------------------------------------------------------------------------------------------------------------------------------------------------------------------------------------------------------------------------------------------------------------------------------------------------------------------------------------------------------------------------------------------------------------------------------------------------------------------------------------------------------------------------------------------------------------------------------------------------------------------------------------------------------------------------------------------------------------------------------------------------------------------------------------------------------------------------------------------------------------------------------------------------------------------------------------------------------------------------------------------------------------------------------------------------------------------------------------------------------------------------------------------------------------------------------------------------------------------------------------------------------------------------------------------------------------------------------------------------------------------------------------------------------------------------------------------------------------------------------------------------------------------------------------------------------------------------------------------------------------------------------------------------------------------------------------------------------------------------------------------------------------------------------------------------------------------------------------------------------------------------------------------------------------------------------------------------------------------------------------------------------------------------------------------------------------------------------------------------------------------------------------------------------------------------------------------------------------------------------------------------------------------------------------------------------------------------------------------------------------------------------------------------------------------------------------------------------------------------------------------------------------------------------------------------------------------------------------------------------------------------------------------------------------------------------------------------------------------------------------------------------------------------------------------------------------------------------------------------------------------------------------------------------------------------------------------------------------------------------------------------------------------------------------------------------------------------------------------------------------------------------------------------------------------------------------------------------------------------------------------------------------------------------------------------------------------------------------------------------------------------------------------------------------------------------------------------------------------------------------------------------------------------------------------------------------------------------------------------------------------------------------------------------------------------------------------------------------------------------------------------------------------------------------------------------------------------------------------------------------------------------------------------------------------------------------------------------------------------------------------------------------------------------------------------------------------------------------------------------------------------------------------------------------------------------------------------------------------------------------------------------------------------------------------------------------------------------------------------------------------------------------------------------------------------------------------------------------------------------------------------------------------------------------------------------------------------------------------------------------------------------------------------------------------------------------------------------------------------------------------------------------------------------------------------------------------------------------------------------------------------------------------------------------------------------------------------------------------------------------------------------------------------------------------------------------------------------------------------------------------------------------------------------------------------------------------------------------------------------------------------------------------------------------------------------------------------------------------------------------------------------------------------------------------------------------------------------------------------------------------------------------------------------------------------------------------------------------------------------------------------------------------------------------------------------------------------------------------------------------------------------------------------------------------------------------------------------------------------------------------------------------------------------------------------------------------------------------------------------------------------------------------------------------------------------------------------------------------------------------------------------------------------------------------------------------------------------------------------------------------------------------------------------------------------------------------------------------------------------------------------------------------------------------------------------------------------------------------------------------------------------------------------------------------------------------------------------------------------------------------------------------------------------------------------------------------------------------------------------------------------------------------------------------------------------------------------------------------------------------------------------------------------------------------------------------------------------------------------------------------------------------------------------------------------------------------------------------------------------------------------------------------------------------------------------------------------------------------------------------------------------------------------------------------------------------------------------------------------------------------------------------------------------------------------------------------------------------------------------------------------------------------------------------------------------------------------------------------------------------------------------------------------------------------------------------------------------------------------------------------------------------------------------------------------------------------------------------------------------------------------------------------------------------------------------------------------------------------------------------------------------------------------------------------------------------------------------------------------------------------------------------------------------------------------------------------------------------------------------------------------------------------------------------------------------------------------------------------------------------------------------------------------------------------------------------------------------------------------------------------------------------------------------------------------------------------------------------------------------------------------------------------------------------------------------------------------------------------------------------------------------------------------------------------------------------------------------------------------------------------------------------------------------------------------------------------------------------------------------------------------------------------------------------------------------------------------------------------------------------------------------------------------------------------------------------------------------------------------------------------------------------------------------------------------------------------------------------------------------------------------------------------------------------------------------------------------------------------------------------------------------------------------------------------------------------------------------------------------------------------------------------------------------------------------------------------------------------------------------------------------------------------------------------------------------------------------------------------------------------------------------------------------------------------------------------------------------------------------------------------------------------------------------------------------------------------------------------------------------------------------------------------------------------------------------------------------------------------------------------------------------------------------------------------------------------------------------------------------------------------------------------------------------------------------------------------------------------------------------------------------------------------------------------------------------------------------------------------------------------------------------------------------------------------------------------------------------------------------------------------------------------------------------------------------------------------------------------------------------------------------------------------------------------------------------------------------------------------------------------------------------------------------------------------------------------------------------------------------------------------------------------------------------------------------------------------------------------------------------------------------------------------------------------------------------------------------------------------------------------------------------------------------------------------------------------------------------------------------------------------------------------------------------------------------------------------------------------------------------------------------------------------------------------------------------------------------------------------------------------------------------------------------------------------------------------------------------------------------------------------------------------------------------------------------------------------------------------------------------------------------------------------------------------------------------------------------------------------------------------------------------------------------------------------------------------------------------------------------------------------------------------------------------------------------------------------------------------------------------------------------------------------------------------------------------------------------------------------------------------------------------------------------------------------------------------------------------------------------------------------------------------------------------------------------------------------------------------------------------------------------------------------------------------------------------------------------------------------------------------------------------------------------------------------------------------------------------------------------------------------------------------------------------------------------------------------------------------------------------------------------------------------------------------------------------------------------------------------------------------------------------------------------------------------------------------------------------------------------------------------------------------------------------------------------------------------------------------------------------------------------------------------------------------------------------------------------------------------------------------------------------------------------------------------------------------------------------------------------------------------------------------------------------------------------------------------------------------------------------------------------------------------------------------------------------------------------------------------------------------------------------------------------------------------------------------------------------------------------------------------------------------------------------------------------------------------------------------------------------------------------------------------------------------------------------------------------------------------------------------------------------------------------------------------------------------------------------------------------------------------------------------------------------------------------------------------------------------------------------------------------------------------------------------------------------------------------------------------------------------------------------------------------------------------------------------------------------------------------------------------------------------------------------------------------------------------------------------------------------------------------------------------------------------------------------------------------------------------------------------------------------------------------------------------------------------------------------------------------------------------------------------------------------------------------------------------------------------------------------------------------------------------------------------------------------------------------------------------------------------------------------------------------------------------------------------------------------------------------------------------------------------------------------------------------------------------------------------------------------------------------------------------------------------------------------------------------------------------------------------------------------------------------------------------------------------------------------------------------------------------------------------------------------------------------------------------------------------------------------------------------------------------------------------------------------------------------------------------------------------------------------------------------------------------------------------------------------------------------------------------------------------------------------------------------------------------------------------------------------------------------------------------------------------------------------------------------------------------------------------------------------------------------------------------------------------------------------------------------------------------------------------------------------------------------------------------------------------------------------------------------------------------------------------------------------------------------------------------------------------------------------------------------------------------------------------------------------------------------------------------------------------------------------------------------------------------------------------------------------------------------------------------------------------------------------------------------------------------------------------------------------------------------------------------------------------------------------------------------------------------------------------------------------------------------------------------------------------------------------------------------------------------------------------------------------------------------------------------------------------------------------------------------------------------------------------------------------------------------------------------------------------------------------------------------------------------------------------------------------------------------------------------------------------------------------------------------------------------------------------------------------------------------------------------------------------------------------------------------------------------------------------------------------------------------------------------------------------------------------------------------------------------------------------------------------------------------------------------------------------------------------------------------------------------------------------------------------------------------------------------------------------------------------------------------------------------------------------------------------------------------------------------------------------------------------------------------------------------------------------------------------------------------------------------------------------------------------------------------------------------------------------------------------------------------------------------------------------------------------------------------------------------------------------------------------------------------------------------------------------------------------------------------------------------------------------------------------------------------------------------------------------------------------------------------------------------------------------------------------------------------------------------------------------------------------------------------------------------------------------------------------------------------------------------------------------------------------------------------------------------------------------------------------------------------------------------------------------------------------------------------------------------------------------------------------------------------------------------------------------------------------------------------------------------------------------------------------------------------------------------------------------------------------------------------------------------------------------------------------------------------------------------------------------------------------------------------------------------------------------------------------------------------------------------------------------------------------------------------------------------------------------------------------------------------------------------------------------------------------------------------------------------------------------------------------------------------------------------------------------------------------------------------------------------------------------------------------------------------------------------------------------------------------------------------------------------------------------------------------------------------------------------------------------------------------------------------------------------------------------------------------------------------------------------------------------------------------------------------------------------------------------------------------------------------------------------------------------------------------------------------------------------------------------------------------------------------------------------------------------------------------------------------------------------------------------------------------------------------------------------------------------------------------------------------------------------------------------------------------------------------------------------------------------------------------------------------------------------------------------------------------------------------------------------------------------------------------------------------------------------------------------------------------------------------------------------------------------------------------------------------------------------------------------------------------------------------------------------------------------------------------------------------------------------------------------------------------------------------------------------------------------------------------------------------------------------------------------------------------------------------------------------------------------------------------------------------------------------------------------------------------------------------------------------------------------------------------------------------------------------------------------------------------------------------------------------------------------------------------------------------------------------------------------------------------------------------------------------------------------------------------------------------------------------------------------------------------------------------------------------------------------------------------------------------------------------------------------------------------------------------------------------------------------------------------------------------------------------------------------------------------------------------------------------------------------------------------------------------------------------------------------------------------------------------------------------------------------------------------------------------------------------------------------------------------------------------------------------------------------------------------------------------------------------------------------------------------------------------------------------------------------------------------------------------------------------------------------------------------------------------------------------------------------------------------------------------------------------------------------------------------------------------------------------------------------------------------------------------------------------------------------------------------------------------------------------------------------------------------------------------------------------------------------------------------------------------------------------------------------------------------------------------------------------------------------------------------------------------------------------------------------------------------------------------------------------------------------------------------------------------------------------------------------------------------------------------------------------------------------------------------------------------------------------------------------------------------------------------------------------------------------------------------------------------------------------------------------------------------------------------------------------------------------------------------------------------------------------------------------------------------------------------------------------------------------------------------------------------------------------------------------------------------------------------------------------------------------------------------------------------------------------------------------------------------------------------------------------------------------------------------------------------------------------------------------------------------------------------------------------------------------------------------------------------------------------------------------------------------------------------------------------------------------------------------------------------------------------------------------------------------------------------------------------------------------------------------------------------------------------------------------------------------------------------------------------------------------------------------------------------------------------------------------------------------------------------------------------------------------------------------------------------------------------------------------------------------------------------------------------------------------------------------------------------------------------------------------------------------------------------------------------------------------------------------------------------------------------------------------------------------------------------------------------------------------------------------------------------------------------------------------------------------------------------------------------------+------------------------------+----------+--------+----------+------------------------------------------+---------------------+\n",
      "|        1 | Mike       | Hillyer   |          3 | �PNG\n",
      "\u001a\n",
      "b4 3%�-��L��f�l�ΥʁͲ\u001d",
      "���D����\\\\�'�rR.ĘD�^)\u0018@V�E�RB-%�L��\u0004�\\�I��t�OD�lR/d�dD.��rF,%�l�)$���\u0012���\u0001 ��\u0016Sd>QI\u0004�B�.f�rI��\u0002��E�.�\"�\u0012e��H\u0012���\u001fu���<���V\u001d",
      "�|魗/����o�t磷_~��{�r�7_���gn���\u000f�={�0:���`�R.� 0\u0006\"\u0018�Q A\u00028VD�\u0012N�\t\u0012 H���\u0018S��\"\tg`\u0012�i���8Y���0\u0003�d\u0019!�\u0018\n",
      "�\u0002&�\u0018�\u0013\u0002� X\u0010g+\u0014\n",
      "\\��*\f",
      "\u0003R,D�E\u0004��Ȓ~�����}讇\u001e",
      "���\u0003�<�ȱ�.���_���\u001e",
      "�|�[��q���\u000f��x�ޙ�t�E�\u0002PDK\u0005\u0010\u0001`\u0014 �K(\t�x\t�K\u0018QƉ2�\u0017P\u0012 �2F\u0002\u0004^@�\u0012N\u0002č�\u0014��e�,�l\u0005c\u0011�G\u0011\u0012(\u0013�\"���\f",
      "�N�\u0003ۀl�񐘍��D\u0015̵p��C5�$\u00172B)Mg�B>$�CB>�%6ḗHmө\u001d",
      ":��f�t�ǥ�l<��\u0003\\,@��t2�d#h�G��T6�dcL\"ȧ#r6ƥ�|:�ebB)�e#��&��±\u0010��P�\u0002S.�0�V0\n",
      "�\u0004�a\u0011��1\u0002@( g@�\u0006H�B�\u0015��H\n",
      "�t\u0019g \u001c",
      "/�t\u0019eW��bI�A����q$\u0013�����6\u001a\u000f\u0010ɀRJ�P�C\u0001\u001d",
      "��Ci\u0015���\u0014Vb~ 䣲i&�\u0014r\t&\u0015b\u0012A4�M��t2He�H|xA�\u001a��*\u0013D\u0019��$��`E�\u0004p\u0012�1 '�8\n",
      "��K\u001b\u001e",
      "x{\u001d",
      "�������\u0006\u0018�)�6s\u0001o%\u0019���h�Oƃl:|#�l�̄�\\�\u0007�Z%#��\"�b\n",
      "\t���J\u0019���\n",
      "\u000b",
      "lE�!��)\u0014�*%���;\u001fP��ȩ\u0018�c VJ��\"\f",
      "\u00170��a ��\u0010���\u0005\u0018/�\u001c",
      "L\u0013%�\u0002p\u001a��2�\u0016\u00104\u00073 �U0�\\�W�`�\f",
      "���\u0003�h4P��Q��\u0001d[p�\u0005���h\u0015�����Ɉ��p�\u0004\u001e",
      "��|;!����[Y����.�ݠŉ��\u001d",
      "���n�mG�z��\u0005_����p�ΝS'��N��\u000eL\u0005��+\u0013s;�Űk%��D\\�!�+�Z\f",
      "�\\���m��3;癝�;\u0016�Υ\u001d",
      "�m{޺�`ݲZ]��~��;7�m[�9\u0016\"nGz�]�{��54����T:��T&�\u0016�t)I\u0015\u0013d6&��\u001c",
      "P�!�-CT\ta �\u0005I\u0006\"y�� ��PL��@��XE�b�\u00033L9E\u0014\u0012D>ÔK<T�@��Th\u0010aA�.�\u001c",
      "DS NC$��\u0014B�0N\u00028\n",
      "$yT�@���4D�0C�$Ua��\u0006�Q0\u0007�(eh���\u0004T�� vc\u0004s \u0005�T��VD�\\\u0005/�L�\u0015\u000e��bE A2���\t����ֈt��F�rb��.jt\u000b",
      "+\u001a������ \u0019���I\"��m�o���������']>�q����C�Y7\u00032>��ڊۿ��9��Ԫs}bʹ�\u0016)�����v0ILM.��\u0018��uN9���r$�\u0014�\u0012X��~8\u001c",
      "@C\u00018\u001c",
      "���b�_�\u0004�� \u0015��镵�w3�Y\u000b",
      "ڝ�EWȱ�[�mZ��V�ւm�j߶�B.G���l�s[�@p\u000b",
      "�\u0007�D�J��L����D�/f�B�.\u0014y�\"@\u0018_!9�` \u0012/�\u001c",
      "�R M\u0001,\u000b",
      "3L��@�\u001e",
      "�h�da�\u0001�c�t\u0019- T��r0Q@�\u0012N\u0002D�\u0004WJ0�\u0007+%�R��%�,�h��\u0015\u0011��3\u0010*a\u0004�Ɋ �\u0017�H�W�\t\u001f�ܡ��&]�\u0015\u001d",
      "J��8�\n",
      "�٨THI�$\u0016��\u001c",
      "v����������{&o�.���F\\ɩS���\u001e",
      "d\u000b",
      "������~����hh�g����K�������N\u000eZ,˽��T���c��K�K�}�'-s���}\u0003�O�-�}\u000b",
      "NF�l�˥�B\n",
      "1,D�\u0015JDX�B�\u0004{�(��,�\u00160��cE�F\u0016&�\u0018^��\u0012�\u0016\u0010��\u0012%�ʊT��e�`4�gS��\u000e\u0014���P�A\u000fD��\u0016�r�J\u0007Ȕ�J�*ѭ�ڒgftuf�39�9?�\u0019�ܜ�����s�荜���y��\u0007n{�\u000f����\\����w��^��� \u000b",
      "����-����掟\u001a_tl�.,��On��.��!��}\u0017�2\u0015\u001e",
      "��\u0006'���u~yf���760<�s��2g�\u001c",
      "\u001d",
      "��\u0018IG6e\u0012�����x(+V����/~���|�\u001fLl\u0004�o��?=�sbxz��W7�v/�`)��3\u000f��ŉ\u0019G�~�b]�\u0007�}\u000b",
      "����w�����p�p��j�:�`,�\u0017�|1�C�J*��Bp*Hg�T:�'�d*M�Sx<�&3T2�E\u0013x\"U\tG�p\f",
      "�&�k�鵭��;�ش.;Ff��\u000b",
      "[Vkhq)�]�o�C�\u001d",
      "<\u0019F�a,\u001e",
      "���\u001b��R��`7Z\u0014\u001a��\"N\u0002\u0014\n",
      "t.�\u0016rl��\u0015�T6+V <���Y6��\u0005&��3Y�Pf��J$��\u0007\"���e�ڼuqdjyf�96�i���]�57\u0012\u000f�a\u001f�� �\f",
      "a�(�˒%��q�B�e�\u0006\t��Q0E��9!��\u001b��\u0002�'�e\f",
      "\u00030c B^\u0004�@���\"�xfg�\u0012\t�рTHu��\u0005���4�\n",
      " \t\u001f\u0014}������Ďm�5>�:5�:5\u0019v.���J�\u001bD(NG\n",
      "j\u001a;CU�~��t�BJ���\u0017(\f",
      "��3��޿��E�1r��(�X\u0012�r�=�%(\n",
      "\u0017R�#�l�-���ƫ:'_h�}ߓO�\u0018W#�\u000f=�Tj;=5b�\u001b�=94�74wbp�l�d���P��6\u0013�q\u000b",
      "Xɠa\u001a���\u0014Q*H8�CA\f",
      "\u0004�\u0010(B\u0015�Tf�%�TbK%2�!�\u0019&�%3\u0019\"��S) \u0012\u0005\"Ѹw3��٘�-NL�Yl�\u000b",
      "�m�-����씃;�d ��*Y�R�\"S\u0002a*0\u0001T�\n",
      "N�1\u001e",
      "a8�8��1��cy�(bx\u0011�J\u0015\u0004��r�\u0004@,��KE2�\u0002#;Pԗ�X�ґ]\u000e?#����X�ߐ\f",
      "��zb˽�h��ͬNMz&��\u0013�A�bv݋\u0004�R6��\\<Ƨ�L����o�3�ۛ�.v��k�4_{�K���\u0003�n\u000f���\u0003�+N��+�X��A���_�?|�}>ώF\n",
      "\u0016)����d!K\u0015�x&��3L��FS�����噵�G��-�M�Җc)��-G���\u000e\u001c",
      "\u000f � �Kѹ\u0014\u000b",
      "\u0014%\u0002�+0\u0003�< ��1*�r\u0010�d@3 ���$PƋY��A��r`���\u0010��:\u000e�SX\u0015�C����\u0003K\u0005\n",
      "�\u0013pBc\u0005��e�WHV�h�\"e�\u0012p��qФߧ1T���\t:�e2i6�I{��dv_�=~�#\u001f�G>��g?�޿18��r͏�-Y�\u0017��;��l\u0011�\u001c",
      "��\u001b�����\u000f��\u0006`�m�b��LO�\u0002\u0005�C:��<��ٙ������#�c��v�j>\u000e�\n",
      "��8N��,P�\u0011�\u0006 �P sy.W�Ry*Q�\"��z0�޲���&\u0017�fm����;��\u000e\u0005}@p�\u001c",
      "ف�1$��\n",
      "e�B�\u0015�\u0018V�I� �\u0018V �r��@��E\u0012�즛H�4 wgU�T�[,��\\.�7+I_|cqmabirdir�59靛\u000b",
      "�V�\u001b�`0@e\u0012D*�&\"T6Me�l��\u0015Jx2-��;�{����\u000f?��g>��W��\u001f�|�\u001d",
      "�h�����^\u001f85���Z��e���۟y���m�gŶ����E��\u001d",
      "\u0019��\u001c",
      "�x\u001c",
      "�S���5ۜ��Do�HO�Љ\u0013C\u0003\u0003S�c3�\u0006Ʀ�\u001d",
      "�\u0013�k���5�}�u��Xω���c'O\u000f��N� XN'�r�Ƴg�u��E��IQ\u0017t�\u0016T��9^ex�fy��IZ$H\u000e�E\u0012�0�CP�\u0002Se�\u0007*< 2�\u0012�+\u0010�\u0012�(@�|�\u001b\\�w�Gg\u001c",
      "c��ٹ��Q�m\u0017C;���\u0014\u000f��\u0018](Re�\u0018RB�l\t�\u0017D�B�Sp< \u00067�t���\u001e",
      "گ^PH�\u0010��|��Fj�\u001b_u�,Z�&������\u0013��U\t��h\u0004�F�t��'�l\f",
      "�'�L�*\u00168\u0010$�%<[��{��ُ��\n",
      "O<v�\u0007�~�\u000b",
      "��g\u001e",
      "�\u001b���'�y�Rsom�U\n",
      "\u0006��H%���Z[�[����̩\"#I��\t��I2+�cSSSSS\u0013��ӳ��#}\u0013�O��\u001c",
      "\u001f�;12�7=?n����\u001e",
      "\u001c",
      "\u001d",
      "\u0018\u001c",
      "�\u0019���][�ީ����\u00133#��\t�`����\u001b\n",
      "@<Rip�/���wv[�����U�e������}zzf���e\u0018���?\u000b",
      "�C:\u0004�i\u0006�\u0016��\u000e۴�6i�Oا\u0006&��\u000b",
      "cs󣳮��������Ѿ�����\u0013�#=�C�GO�4p���[o�9y���[�n����d���h����Ӄ'N��\f",
      "N����|jp`trrv��\u0006\u0003�|2M!�*k��Ɋ�Ȇ*h\u0012���*��$�\"�H����D�����0�>?�<>�4:�Z#���\u000e\u0014\t��0��a�8�MQ�,Y���<\u0005�\u0019�LC \n",
      "_nskqb:��Y��.YV\u0016F\u0017<Ӯ�k{}a�9i]\u0018�,�[�Gf�\u0007��{�&zG\u0007{\u0006{N���������\u0006oyS�Mo��M=��4p�̓'O\f",
      "�>9�s����@��ѡ����������ޡ���\u0011�͑M�x��՚�\u0018��)rU\u0016tY�M?��c�\\���`���jƛw�\u0017u�.\u0002\u001b�\u001e",
      "KߔovI���\n",
      "����ȩ\u0012�(��1�ƨ2�H��S�@�2)�8/\u0013�@q\u001c",
      "�\u00100NT0\n",
      "@�d\u0016/��|\u0019N\u0016�t�\u001c",
      "Φ}����%���3g;��o���ݝ�\u0019��S��ז\n",
      "�%�<�E��̂{��X�N[�.\u000f\u0018\u000e#�T9\u001a�d\u0012p>\u0005�SX!C�rL���\u0001�\f",
      "�0��b*�\u0018\f",
      "���\u0003�@��&Iw\t�Y��{��+\u0013#�ÃC����?h���O|��o�SS#��5��m-��.\u0005\n",
      "�/����چ�m��66??:;3:;�7:|jl�gt��p�`�����Ǐ\u000f��\u0018=~��-����[�z�����'�z�\u000f��u���\u00137�\u001e",
      "�i�����ѡ��ᡩ�q�܄=\u0016L��&�VWdC�k�\\�Ժ��\u0005Q�\u0005��\u0014�UDF�D]\u0014eA�x^\u0014y��\u0004�\u0016\u0005R\u0010\tV�8\u0006��\n",
      "�g���ZV6\u0016V�\u0015c�lh��Zڴ/:�f�&�\u001bVwxe\u0013��ˁH9\u0018�D�@4P�\u0005�X�He�2Df�T�ĕ\u0001\u0011�4\f",
      "7(���\u0012�q\u0015��\t*FN�K\u001a�\u001d",
      "��\u0013��{W��؅�z�]�x*�X�S\u0012�}�;��\u0003mc�M�h��\u0004�r��D������T�m_|�?�?x���\u0015��/\u001e",
      "~�������g?y�\u0013\u000f\u0012\u0007�\u0018�x��J�;��:��<�vMy\\S�U˺׺�t'2�Di#W�\u0001�8�\u001b\u0016�c�=p|��֑����o���\u0019��\u001d",
      "?�7522㲯l,yW�n���Z��;�v���ʺcm}q�9cw�\u0016��K������U��5i_�[\\�[�,�l97ם[>wpcy���\u0016�˖���MǤ�>�h�Y�8�K�++���%��Ƿ�u��r�W=��\t��g��tx�]����f`i5��\u001e",
      "ZY�z�Q�7��\u001e",
      "Z�n-���[>�7����r�ݫ\u001e",
      "��sֺ�����]s��;�n�}ݺX܉=u��O�{�����O�s��}-龪���\u001fi�e\u0003)���\u001e",
      "�Տ^�?6�|O��O���W�����i^3�CӼf��\u001f�?����?�����O���?���}�\u000b",
      "�z�c\u001f�}\f",
      "[)�\u001c",
      "��#\u0016��\u0003�p�\u0015I�&�\u001b9�\u0007 �*�����Rb9�<�:?d\u001f95w����[�O�\u0018�9=qk�����Đ%��\u000f.\u0006�kɤ7\u001b_MG=��N!���nfK�Rn'���d|�b�\f",
      "�@0\\.E��h\u0011NU�Q�P\u0014\u0004�P)R$�\u0004���\f",
      "��14�`Y\u0014� �8��Na1�N\"Io��}tb��uz�3��\u001e",
      "�z���\u0019���kYY�]ܶ�n�<�\u0019�}uen�m]v[�m�6��Һ}�=��4m_�]Z��,�[�-+n˲sҶ2��we�\u0002����.�v�B~��OՑ��\u001a��]��u\u0001;�u�X�1���|���\u0010��?��拦��y���u����y�����׿��\u0017?��_}�c��Ļ���G��\u000f�����\u0003ｌt�\"�\u000e\u0014�@i\u0013 ���\u001f�� <P!�0\u0019�\u0010?\n",
      "�i��\"|�\"\u0013 ���D\u000b",
      "�?�\u0014�b���\u0004�=!�|fýp��\u0007.���3wl\u001d",
      "�y����?��u�/���yd�W�������\u000f����|�K\u000f>v�o���S��������\u0019V��|�C�(\u00190A\u000516BJqJ��B��\"<�'�m0�I����ᕱ���~K�����zgn훜�q Y���\u0002&ʸ�\u0010�@�\u001c",
      "�K� \u0011\u0002�0\u0002±\u0010+a���\u0012&H���\u0002Ks\f",
      "Ns\u0004#���q,Br(E\u0003\u0013\f",
      "��%�)!t\u0019�P�\u0010M\u0007�|�v�k~�:a9\u0016rz\\#�+�\u000b",
      "�a�ʸmy¾n���t%�-�cY_\u0010Nf�x\u0006˔�d��#|�� �)�t\u001e",
      "a�Rx\u0001`A�\u0016�%�P\u0011��\n",
      "M\\��u�ݍ}6���\u0019����I(��[��V܋ã+�S\u000f�����nZ���|t�<2M�<4��\u001bg�ѡ��/�_��G���_y�-�~��\u0007\u001e",
      "����\u000f�z���q�MRh��&)sqZJ�J�S�B#W��51��!\u0012�)G�I�{��6ֿ�j���d���SÖ�\u0003�8Jq8����*\u0012-)��P��J\u0012��\u0004w�R�x�\u0014%B��8�d9�QhAfE��x�f`�C1\u0011'�\n",
      "��5��t�,o\u001d",
      "\u000b",
      "/���-�#���    IDAT�s�\u000b",
      "��\u0005���5����\u0004W7�0\u0007TX �K%2_\"�%�\u0004\u0011�2^(�%�\u0006 \u0016F�\n",
      "ZN�M���FJUN3$M�5��TZ68]&%��eF�\u0005C\u0016t�S5^W$��x�\u0016UN\u0015\u0019A�e��\u0015�Qi� �6��e�\u0018Hlؖ\u0017�l�s�I�߽\u0003�A\u0011�����K�����Ԫ��\u0013Kxw6l�\u0015��:>�8=\u001fr�\u0015�a\u001e",
      "\u00029\u0018��e\u0016Bi �*�B0\u0002��(�!���\n",
      ")�\u0018'\u0013�L0\n",
      "A�hn_�\u001f�t��\u001fzHH&:�\n",
      "��\u001aB�\u0010�U��Ju��\u001arM�tM�)�!\u000b",
      "��+<+�\"��A����#��\u0006�\u0017o���^����}���#������'��\u0007e�I����\u0004Yˋj�\u0017���f�\f",
      "��\u0004>�*Y��\u0013ky�V\u0012��,�D2B\u00101z�\u0016��,�\u000fX\u0006�&O�����\f",
      "\f",
      "[����;�N�[�\n",
      "%_�;��2�h\u001b�,�8\u0013����M�*�,�/\u001f�9WmCS����\n",
      "En�C,���b����y���5����Z\n",
      "�VU��Е�&7T��+M]�krM��U�VUj�V�\u0019uC��U}��l�*��n8V�\u0017�K\u0013\u000eې5�\u0018�a�#�d��9��\u0010\u0016A\u0019\u00189�_ٰ�L/O.\u0014v�7\f",
      "~4��39:]`�>x��ޮu�r�n�k\u0014\u0018%�\u0019\u0019FK�Z��3����,���fQl\u0014�f����fE5 ��7�8\u0013^N;���#���������a����ֺ�#\u0005U�kz��5\n",
      "p!���E\u001d",
      "���)�k�\u0011^Y\u0007\"q� ��Д%�aU��\u0018Eg5�VdZ�(�.�v���z��v��f��w\\\n",
      "�ը��Z�к��2�����Z���\u001bjӐ4MPj��g4j�T���6�������u�Ȑ\u0012 ���V\u0019M&8\u001e",
      "#y��)��\u0010\u001aE�EV���ƖF��`\f",
      "���X�H�t�L�\u001c",
      "@d 2[�3��v�5�t�..�:֝�P&�\u0015\u000b",
      "\u0017w�U^�XIgU��dVW��.\u0018g�\u0006\u001c",
      "\u000eip陇�}��bk^����Ԍ��n�{\u001f��+?������W^6�����_ʡi\u001e",
      "�����k��W�~��??��g>�\u001fo�\u001f.=t?m���N�W�c�$�$I9M�IBJ�B�\u0012�\u0014� �\u0014%��Z���^\u0010k��E\u001b5��$��R�9�\u0018�\u001d",
      "\u001e",
      "�\u001e",
      "\u001f���,/̮�\u0010WW�U�m��j�[����V�hkJ���n���Vս��iʍ;�/ܱwV'X8�]��Z�痦\u0016�F�\n",
      ";�}q�+t����u$B�\u0018�#Y��y��\t�#�c��������BaǏ�\u0013x\"�'�d*��Jl\t�A�\u0006 ���\u0004�$!�J�5�Z\u0018�Xg,�6{p}��Q��4��\u0004E�k��k�~`�K;�J(��\u0017?���4���\u000e���؃\"�_�̋����y�|�\u0015Ӽzt��yxtd�9_����7�+������?���\u0017���\u000f?��\u0007\u001e",
      "R�?ȳ����\u0005!�*I�OP|�\u0012\u00134\u001b��8��p6I�QDK�F���\u0017���B�g�.\u001b#�ތk�=�?{�gtr�>;�<04��:�{�\u0014�U3�ڍ��Z�^�4�{U�]S:5e�Pvuu�f\u001c",
      "��\u000e���BP�@�:aY�[��]�Z��%%@��_�H]��tA����2#�$�\u0011���,Nr\f",
      ",�ݱ�.��T\"1\"�DRq�T�3\u0019\u0016 h �@��\u0011\u0011'8\u0018gAR%e\u0016`J����㘴�&,�9;�ʴeuW���͆Tk�ƹ�^!\u0018�\f",
      "�%V�*��w�s��F�gq��,�l�k�y����/?���>�S�>:::::2�\u000e��^5��\u0007�����S���'?���ɋ\u000f^�1\u0007\u0005�\\E�+)\u001d",
      "@Q2,\u001b#�\u0018��I:N`�J�IJɰFA��\u0014��U�j�Ro��&T�o�<���a�Pߌݺ6=��\u001d",
      "�\"`J�\u001bz�ۨ\u001d",
      "4�gk�~�v�Zݫ���F�e�֤fW�=W?u(��:V�&�\u0017���qGn;Ӥ��j�5�N�oʌrc�A�u��$Z�\u0018A�8\u0001gd�g0�Xr�o\u001d",
      "\u001c",
      "_\u0018\u0018��\u0019$�\"\u000b",
      "Y(�Ɗy\n",
      "\u0004X\u0004�Q�\u0016�y�\u00140N@�*��\n",
      "��k�K/�/��\u000f_��\u001f�����_���31�\u0013���D����A5KK)RL�T\f",
      "�b8���\u0004�\u0007\u00101Ũ9^�r\u0006��*�:\\o��\u001aX=ϟ\u0003C����ܨsd`~ɹ9:e�\u001b�,�K�j�0vk�3U��a��\u0019g���Z�ݪ��k��uΝ��e\u0003�M�k��r�'��@�ɴ.�nk+���T���h\u001a���\\\u0013��P�XEd�T�\u0011Z&E\u001e",
      "e9�=\u0016���\u0007�-�\u0013p2ǔ�t��\u0017\n",
      "�\u0015�B0\u001a'x�\u0012(�#(\u0011�\u0015N�)^��:g\\h]�I\u0003�#�V��cyֹa[�섈\\�@�uH9��S�\u000e��Pv�\u001bs؟�p�s�z�v�����������K�ѵ�Ẉ7̣�GG�o�>:|�O�_}�����O����o��S���\u0007�}���_{��\u001e",
      "f\u001a\u000f\u000b",
      "�z�RR��\"�\u001c",
      "�� |���(\u0013&�,��\u0005\u0003P�\u0015��5\u001aH��\u0018\u001d",
      "�u^<\u000fE�mWd��2�<2b�\u001d",
      "�������X�~��\u000f\f",
      "����3�\u0003M�hz����6v��Z�\u0017W�\\�I�u�j\u001fs \t�q�b���慚\\�DC���X3��!�u����\u001b�;\u0002��!�\u0012\u0012!\n",
      "�x,�\u0019��p��g}Q\"W&�%�Tb+\u0018��,Br8�\u0013�H�,N!S�B\u000b",
      "*#j�.Ӛ����n�oA\u0011�����\u001c",
      "�)�}��w��1�Jf�T.du��\u0012��K���\u001fz�Q\u0011��O}��/~l^}�<�j\u001e",
      "]�Q\u000f�\u001f\u001d",
      "\u001e",
      "\u001e",
      "^3�ëo��ƕẈk�믚��r�{������O���|ǳ\u0017.�C߿\u0013�:9FKQB�\u0014S��a�,�,(j��c��匂h\u0014�\u001a��`� 5\u0015�UP>'��\u0012dr��0��,\u000f\u000f��|z��wZd[���zP��֪�k�3�j{����l�\u0017uM�\u0017ǜ�c��y�\u0015SA�b�3��jJG�Z�hԕ�!Vo��XWDC\u0012uQ�xN�Ī�j\u0002-\t��\u0013�D��R[!����\u0010I �\"�+`�<U�� �#�7ī\"#��(���*2�\n",
      "��\u0011\n",
      "O�\n",
      "Mn�b�!��R���w��\u0001��F���k�W�k���׿��[�i7�����^4���Y�\\?2��G����o��\u000b",
      "�y�\u000b",
      "���G����ν[�\u001e",
      "�S�2�Zx�l�����Ʀ�\u0013\u00126��HN\u000f��A5+ZZ\u000fG����o��/���-�-ˋ�˫�M�eC��h���,���U\t�Έ��v�8�����\u000b",
      "n���u¶8��i�5��]�B�~A�v\u0015�[m\u001c",
      "T�N]k4�VS�Ԕ�\u001bK[`����JM]ikrC\u0013jU���*�Ҕ��$�y��h���cY_�28a\u001f�A�e<\u0003�y�,cT��\u0010��9��8Z�\u0019]�\f",
      "�UT�P\u0005]�u�ӫ�Q\u0013�5�nH����+u�7�Zw�u��\u001d",
      "��\u0007u��\\\u000feW6\u0012󞻉:�\u001c",
      "U������\u001f=��_|ףW�\u0003���yx����\u0006���\u001b��\u0015��\u0015��%�����~u��o����|�\u000f��!�\u0010��E�\"Du�h;��1L��Z�ғ��@�8$%*r\u001c",
      "�\u001d",
      "\u0005�P\u0001\u000e�˾ln;\u0015�\u0006\u0003+~4����΀��ܺ}�3;�\\��v䃆��[;{�}����e�^�u¶0j�ڶ2��Y��[��To��nU�k݆֩)�U�[��*_��]C�܀��U�3\f",
      "�u��+\\M�k\u0002�s��2�(\u0018ǒ\u001ba���s�R�$h\u0010�� \u0005�,D�(��\f",
      "��\"�,Ӛ�k<���Z�7�b�આX�Y͐\u001a�P���$4\n",
      "\t�\f",
      "�K�\u001b��g;�X�����.\f",
      "N[�fmc\u0016��=�Y�o���\u001c",
      "XkR�Ќ8zz�����\u001a[� �8nwN8\u001c",
      "�ֵ���R���w�u���u$�)kmUm\u001bz�j��F���\u001bZ��v5�SSv5�S���T���ҕ��4T��JMEhI|M�t�VDZ=\u0016�ر��8�犡$��) �@��/7\u0012-I�\"r���$�\u0010XE�5]0n$�\u001beW㪚h�R�\u0006��j)�]��W��h��W{��\u001f��/�W^1_{���\u001f=}�c���y���\u001b�ލ�����w\u000f����\u000f?����\u001a��@#觽�Y�|�n\u0005���\u0015/�ٮ��Z �\u0005RF��\u0004\n",
      "�/-\u0005s�7X^�J9�vf\u00167��ӎ����٥-�{��3�l��V��e��a��N�)�rl�U��ZO/��Z�[�\u001a�=[��q�����\u0007�֖�����jG�Z�Ҩjݺ�n��\f",
      "��)]C٫�{�ҭ껺�U��*�t���-]i+b��u%��'܌~,���Gg�h�( D\u0019�\u0010��)�`e��\u0019Y�4����'tU�\u001aRC\u0013j�ج)��ҹa�ԔNC鶔vKi�)�3(��'�j��7�\u000b",
      "{��}㍟�ؼ����K_y���~�c���#�i\u001e",
      "\u001e",
      "^�b\u001e",
      "����~`^������_��g\u001fy�����\u0010�E�t^\u000b",
      "��hčh�Z����\u001c",
      "H�,�����f�܌��Pѽ\u0013��%��Q�fi3^X�\u0002���f<��H�@'\u0011:�ԙ�������\u0007�K���\u001fZ�2Tr-u�~����3�;;���v �MYkkڮ��iZG5ڪ�Դ��u[�}Cm5�g\u0014�]�\u000e�ճUu���t���mU��\u0010��QĆ&�t�-\n",
      "E4d�P����4�i����5�VMi\u0019j��u�j��u[z�L�Sˁ�s?2?��'sq����\u001b߼��s�}�\u001b��ǿ�W^y�����>o\u001e",
      "^7ͫ�?��_4����w���o{�j�!��P�:i�\u001e",
      "+��e#Q��\u0010��8�����M�B3TjD!֛B�Q|=V^�I9�\n",
      "]k�J�ƛe�����V��Zk�hu\u001d",
      "[����9\u0016$�\u0012�\"$��,�*���B�:khBC�[�\\W���54��k^������u��^�����j�[��\u001bZ�Qݭ\u001bݺ�gh{�ڹN�\\M��Վa�jZG�vuu�Pv\n",
      "��)]C�7���q�n쵫\u0007��~M߭\u0019{��^��[��[���ޭ黚���]��״]U�j�$4\u0015��KuYnJBS�\u0002�\u001d",
      "\u000b",
      "�\u0007���gGơl�(A4H��\u001c",
      "C�F��vZz{��> q��/>w��+��7������K�\u001b/\u001f�����`�WM���k/�/��o~��N�\u001f|����W^3_�f����y𩋀����Hrћpz�K^l+\u0006.��ٸ�o��1�4�͕V�\u0015���S��ƌ�;��X�=���R0��Ȯ�T\u0005ռ7NF��N�ɱ�ڏ<v�{��Y>�yN/��:\n",
      "�,�q��R*��\"[\u0017�����n㺳���\u0001ث�mْ-�j�:{G!@� X@�\u0004{\u0003;�1�Wt��-��)��u�)\u001b�8q6՛�_����ŉ\u0013w[�%���\u0007h�.�=���s ^�w��0�\u0005V<�����Rxe%��\u0012�6�5����Aʷ�\u00076����X��A\u001a��\u001fSB��FX}��;?xQ}�͗����#_Y��7.�W߻u����:G�\u0007����P_��o>��3��֤�S\u0001��hTvo�]��g\u00079��+/��^U�k�\u001b�x��o���p`���1��6�-tM�w�\f",
      "�9]mC�&�p��X��ib�8>k�Y�]\t\u000e�\u0002���\u0014\u001a�ţ�\u0014�a�����<�\u0017\u000b",
      "��P��\u0004)8�\u0005�t8Ȇ�4\u0012`�^<짃~\n",
      "��}I��篾����\u001f��n�To\\�u��K?~��9l��_[�����վ����Q��h�k�{n��=�>>e���_�]�:��Q8<��\f",
      "�.%�鎣m��E$���H8��!\u0012���0\u001b\u0004|x(@��L�G�\u0011\u0016�94��aZ�YffY}�W��u��w������ַ�]��z�=�ƕ[7?���x��\u0007�w/��͟��ů���Ǟg҉aOrd\n",
      "�A?\u0011\n",
      "�� \u0006G(\u0004�\u0011�\u000b",
      "�4J��0��LG\"T$D�a\u0006\u000e�� ��C�\u0011:\u0018!\u0011�\n",
      "\u0004�@\u0010���A\u001f��#��\u001e",
      "��ZL��<xd�=�}n�����3���,-ϭ/ί�.\u00057V#�5��ż\u001b\u0011�\u001a\u001c",
      "��� ��b� \u0011\n",
      "Q� ���� \u000eG(8Ba(�#,\t�2̱s���w���%��������C�����^yG��z��z���\u001bW?��T���[��;���ߟ���\u001f~�)\u001f��e<62���=�^|[}�-U����?x�-���_~��O,��u�@ײ�wq�8L��Θ�S&׸qd�8���[g��\u0017\u0016�5Ǫ�\u0019\f",
      "���\t\u0014�'��T̟:��$�N!�b<I�\u0011\"�\u0011�\u0003(\u001e",
      "��\u0010�\u0004a8\u0010�qB`ؘ\u0018�1�Bi��X�$\"\u0018��p \"ҼH�q6&R\u0012G\n",
      "\f",
      ")\u00100��Q\n",
      "Z�\u001c",
      "F��d��tt��\u0006̽�6��Fsm�����DM��3-g\u001a\u001bN��=~����ā�ͧ�\u001a�O�N�tV�n�����ԋ��.����T���^z]���z��z�z�z�z��+�7���.�\u001f�{�W?�������|&��\u001f_�\u000fOJ����uS����/��/~'{��\u0017\u001e",
      "}��S�\\��֧\"m�İ��Xt��L��̇�٫��l\u001e",
      "���ŵ����缽3�ӡ�Ex|���|�\u001a-\u0006�1������=��=\\S����=G�\u000e֝��ԉ;O��[�й���O\u001f:[��枚�Cuu���\u001e",
      "�;~���\u0007k��9S{��x��~��t�Tw���HS��c-�3�����u��\u001aZN����Vw���h��ڠ9������>{�ԡ�\u000eܷ��=��W\u001f8q������\u001d",
      "����\u0007�����;\u000e�;R[{�����g���9t�����'�N\u001f�i=kj?k>w��\\��|���갵��6�\u0006�:g���GO|��M���7�_��3o��G��o]��޸�޸��x_���z�-���k�������\u0017���rOG���\u001519\u0016�\u001a\u001bJ�>�\u0011굷��^�F:�^��޼v�׿{`�\u0013n����ݳ�3\u0013r̬[�=���\u001e",
      "<2�ؼh�.w�}=#A����Z�\u000f��sĬ��\u001e",
      "8�đ\u0005T��D����\"Q{�ܽ{\u000f�>v�ܱ���\u001d",
      "=y�ĩC�g��:{��ɣ�\u000f���ĩ��\u001e",
      "���؉\u0003Ǐ�?R}o����\u000e�s䮽��߱����W}�����\u0007�<t��\u0003�����\u0007��ؑ{��c��s���ǎ�u�޽�5��uG��ul��}-��VSgM�����f�m3\n",
      "�,��\u001a�xY6$)h\"�$�\u0015BB�\\H�7X�+d����Y\u001f����\n",
      "�\u00078!Ĳ^R\t\n",
      "��C��`x#\u001c",
      "X�V}�zpu�\u0013Z\t�V\u0002��\u0010�\u0016��C�7\u0018Y-{5��5���Վ��9�\u0017�-k�^_���\u001d",
      "�\u000f�z�ـ\u0010�\u0018\u001fI�)8\u001c",
      "�0��D�0B\u0006\u00102��\u0001\u0014���\u0010BGp�\u001baㅩ@��@���d(�\u0007�T8B�`\"� ~\u0004�#\u000f{������D\u0010A}a< #�Adݏm\u0004p�\u001fY�kBK+�7�:5�0�^��Z��Y��\u000f�y��˾�%�gͷ�\u0016X\\����\u0015hu#�\u001e",
      "@���z\u0018^�f�\u000e!�/�\u0007`2��\u0011�\f",
      " t\u0010�\u0002\u00116\u0010�B!ni�cp@�����o�޼�^{O�����������oo��gW���\u0017��5\u0016#:Mk���m\u001d",
      "���њ������\u001aF��#���\u001a�@u���;G\u000f\u001c",
      "��f�k4;q��J[�J{�lG�P�a��>m�l��Ե��8k<p���1wc�Ts����������\u0013�Q\u000f<�7(�Ob>\u0014\u000e#H(\f",
      "��,Bb�H�\u001b�}0\u0016B`\"d B\u0007P.�Q~��q_�\f",
      "�1�\u0005�`8�\n",
      "�]ߘ���L�\u0016g��S�����B���_\\\n",
      "�n\u0004W�\u0003�k��U�g\u0005�m�W�\"�>t-���\"�\u0001�\u000b",
      "��pp�\u000f�`�\u0007�~�\n",
      "\u0003�e�k�>�sL{�#������Z�s������lhu�6:jjg�]\u000b",
      "�=����N�g`l}b�\u0010��$\u001a\u0015Y\\�1��Y\u000e\u0013e\"�`�4\u0019�\"$yyU��z�z�M���_���\u001f����_zh�]}j��c��8���m\u001c",
      "8]?T��n���z欮��\u0019�s���0�`v�\u001b\u0006f����\u000b",
      "�g#�\u0012@փ�z\u0010�\u0007#�\u0010�G\u0010?��Qd\u0003\u000e�\u0006�0F\u0005Q&L�aZ\t�ʆ_�,��=��K��wo]|S}�����뇯����>�\u0004o�^��Yh�_hi��k�\u001f;5p��Q���l�m�\u000e6��[����3���s\u001d",
      "�ڶ\u0005C�\\�e��2��=��;a\u0018�4\u000e�[]3\u001d",
      "���nWs��\\�@]��Hu�ٚ�v���{���\u001b�\\w��&7�5�ƣ,.� \u0011�D�<�̑<��<.q8/`��q\u001c",
      "��\u0010�c\u001c",
      "�ˤ\"`�@�<!p8Oc,��\u0012!�(�\u0003��\".Ϣ\u0002��4B�E\u0018!�J���O\n",
      "0Q>��(��IE$\u0015��9Z\u0011XEbb\u0012\u0015%J�\n",
      "��\u000e���\u0004&<��56�\u000b",
      "LJ�22\u0011SȸH*\u0002�H�\"��*<)Ǹd���ēQ�Nrt�g�\u0002��hE�\u0014�Rd:&�R\u000e\u0012!��$R\u0012O�<!ȸ( �D�\u0002��\u0004\u0017�e��\u0014B�DV�#k+�o=��F�a8��>\u0018��T��#\u0018�\u00128J\u0010\u0018M\"\u0014��<̲0���7�v�o�������[����\u001f[i��\u001alk&�T]���y��0��a?��{�e���7�\u001b-\u0013\n",
      "M��\u001bF�\f",
      "�'�N�v�P��\u0003\u0015{�'��L=�>�d�u��\u0018k�k����0\u001e",
      "�\u001b���w�w\u000e�\u001b��I�oȽG[�WWvj�!��ZWK�HGפž��\\�\u001e",
      "Z�q���\u0002#\u000b",
      "�\u0019��䈘H'7c\u0017�|Fa�2���8��\"\u0017\u0015XE`c\u0002\u001b\u0013���b\\Ra�Q6!�Q���\\L`c2\u001d",
      "�1J�V$Z\u0016(E��<\u0019Y d���lL&%��\u0004Z\u0012HQ&%�\u00125��\u001a�]ǃ>4\u0018D�a4��a`T� `��\u0019\u0012�H��q- ���<\"1��`\u0002M�,%��Ȑ\u0012CJ\u001c",
      "\u001d",
      "c�(G+<#�L���\n",
      "/X�����]���P�N�L�g�\f",
      "�H|J���W��ү����~�WO}�k������lL�\u001b]5Fǩ��Z���e�~��;\u0006�lܘ/`v�f�����0�\u001b��ǖ\u001f�RO��d��X�����;\u000f\u001f���y������#5C��qK�m`�6�\n",
      "�\u0012�@D%*.1\t���lR�R2\u001b����%\u0014&.11QH�lB`\u00132�P��BE\u0005B�� QQ�T\u0014*\u001a�e��c�\"R���2#ˤ(2���\u0006�@�\f",
      "��p\u0018\u000f�x\u0018%\"\u0018\u0015\"�\u0010��\"X�`)��`��0<̳\u0011A@e��YT�q%7�XF�\u0010\u0012��,#qLR�S1!��2)!�\u0015R\u000f���.<�^����ʭ������˿��?_|��>!������\u001f��SM���.ۉ�)�мe����ɒꝚ�������l�YN5Jk�lq�gdcxn�2x���G�<|{�m�K�\u001e",
      "hr�YǺNw\u0018�\u001b\u0007Z:�-}�]�s]NO��j��c|eh\u001e",
      "]�y<�3q��\n",
      "|\\\u0012�Q%#\ti�M(LZ\"Sq~S�22��\t�(���I���p\t�K�|J�S\n",
      "�R��D%\u0005*�ӵ�ģ�\"�J�V���`b\u0012-I�,��B\u000b",
      "\u0012+k�@�\u000e��P\u0018\u000f�x\u0004#`��q:L2\u0011�Dh\u0002�I�!0:�T�p�'\u0004\u001e",
      "�DRɍ,\u001e",
      "�p�&d��86��2�(\u0002\u001f\u0017�\u0004��E..\u000b",
      "q�Wbb\"���\\�A�Q�]T�����x�z�W?��w���3O>\u0011���cO|\u0002�<F�hK�`S�H�}��5�4��YU�P��\u000f\u0011��bc���S�'�\u001a\u000e���i�>�a?c�:��q��xO�`�}�6��3�l��ζ�5��:\u001d",
      "������y�k�:�40�:扬�\"���8O'\t�g٨(�d)!rQ��D:��\u0019���\\<*�e!.rQYHn��%E>%�i�dR�\u0012\u0002�\u0010ؘ��e:\u0016c�\n",
      "�Y�k�1�q/\u0005W1��JB�����\u0011�8/�xA\u0011�(KɊ�����E%>&\u000b",
      "q��IL�g\u0013������$�|Z�\u0002�\u0012��\u001aO�tL d��E�D�L��T�N�tL�\u00122\u0017����E5\u0014B�0N�4\u0001�8B\u0013(Cc,�q\f",
      "Mb,�s$Ʋ��`\u0002���\f",
      "��t��\u0006�#��L�~�s��7�k7�˪����|�;?L<�\u0005$�P�=Sg\u001f��\u000f��\u000e��,�'�Z�V,S\u001b������Ρ�:�p�m��1cs�Z\u0007�\n",
      "K��%>��II�JR�\u0013c�\u0018���,fd)%K)I��BB�\u0013\"��8�%\u0004!%\ti���\\R\u00113\"��ٔ�g\u0015.\u0015��1.\u0019�SQ6\u0011eS\u0007�[k�_��/>�px����t��:���8Ҩ�sY�vE}��+y���}����$��\u000b",
      "⃔}z��o��w��1^k�j\u0018X�\t\n",
      "��F�\u0011����\u000f��%�������˟���o|��6�쉦��NOS�l�}��k�8�M\u0011�^bb}�19m\u001d",
      "\u0019�\u0018\u0018lu8[쳶��V�P�m��?iu�\u000fL�<���E�If�-�M\u0017�1.�������굋�;�P����_�����׶R��;��H��rsK�\n",
      "\\Z\u0010R����\f",
      "�'E1-�iQLJRJ��\u0002�����gX>-I���ᙸħ$!�s����p�\\��qi�K)\\J�2���p\t�R\u00046&rq��jI\"4�0D��`��9�`I��I��D�\u0014\u0018R�p�De\n",
      "��T���,\u0019�\u0004O'\u0019*��1��rt���\"�\u0011��H�d&�0i��(bF\u0014\u0012��U�ͤ|R�\u0012B�㱨z�]��wԋ���\u0017>�������j����:i����޾�O\t�7^��z�m����W_��՟|�\u000f�<����̉����U�Тyh�0�`t��F\u0003=3\u001b�i�sn��0\u000f�[�\u0003-}#\u001d",
      "����\u0011K����muN��L�O�^��Nc�\u001e",
      "�DL�H¦�e�-E�r\\J��JAH\tBF\u00126E>+\n",
      "���)\t�2�\u0015ٴ�g$!�����%��4\u0012����(�V�D\\L�l\\�\u0014��jr��P��i\u0006e\u0018�#P��h\u0012�h�a\t��E\u0006S\u0018\"F\u00132C*\f",
      "�pT�'�,\u0015eh��\u0005���d�c�<��ل\"f8\"\u0016e�d~Sd�\u0002�\u0012�l�_���\u0003�M~ݫ^zS��z�?}����u8':��m���#F۸�{��u��\u0011���\u0017���\u0013�����|�[/?��C�a�yx�a��{����:��;��?o\u001c",
      "^�\u001a��\u001e",
      "���Nt��\u0018�3=\u0013\u0003-=�\u001d",
      "}�\u001d",
      "v��1n\u001b��\u001f�\u001f^���\u0007Nk��8\u001b}���e%ɳ\t�M��y�?/��\u0002�\u0014��$&e)%\tiAȈ¦�er��L���<����\"fd1��Y�S2����D%\u0015&-ө(��\t\u0019�KILB��\u001a\u0002�\u0019��1&W\u0018i�%1\u0016�8\u0002eh��\t�&d�L0D�ƣ$.Q�L�1��QD�&\u0015��\u0018Z�(K�x6A��&8*��[\"��ٴ�g%.����o&�x�����7�V?x�[\u000f=�d2��8��\u0003#&ǀ�������w��{��{�ְb�/\u001b,�������gI�!/I��M�9�NYF\u001a\u0007�-�S�����i�{������Z\\.�P��i��o��3ڝ&ǘep�۵84�n\u0010;\n",
      "*5`������\u000fe�[\\,)��rlZ�6%iS�2��U��,f\u00141#�Y�L�dB`�2��r�\u0012�a�XTޔ��($$)%I)QL+�y�ߔ��H�$:-1�(�\u0015�\u0014O'E:��P��Y\n",
      "�q�\"P\u0006�\u0019\n",
      "�\u001bG�L#�\u001d",
      "�\u0011�s�<2i�pY�C�>{s����i�\u001d",
      "5��[\u0007'��U���Є&O��ة��76�m�6\u001f��H4�e9��\u0014�OpB��Ӝ���ͨ�\u0015\u00136e:%qY�I�tRf�w\u001a��v���c7�ښ�\u0006�����Ş�U���5��X�\u0018�ݫ�U�1<��>\u0016�1���\n",
      "���[\n",
      " i �bϞ�3�6s���(�<�~��?��\u0007\u001f�?�M�\u0013�\u0010\u0015��,gy>)pI�M���̟\u0017�M��\u0014��p^�9��ܖ�n��bq�v�6u�\u0018{ƌ}���I�\u0010<�v��1�\u0016*�y\u0007Ty�F������\u0003Ïd�o�ߢ�\"-�h)I�O\tBF�Qn3�mI\\F�\u0002��٤�eD:��)�?/\t�<���-AHq\\��2\u0002�\u0015����e~Sa�\u0012���M�M�tR�#4��4�\u0013��瀰\f",
      "&����\"J�\u0004\u0015��8EDy2NaQ��1T�&\u0015�T\u0018*Β\t�N�lZ��\u001c",
      "�\u0014���o�\u0013���|6�)eq3\u001a�RĄϳ�p�ԙ���k�z���\u001b�g�mp�ٜ#��\u0001S���������ci�\u001a�\f",
      "�:G\u0006�\u0006���1��02n\u001c",
      "\u0019m\u001f\\�O��\u001c",
      "�\u0006�h���c��1<jp�t\u000e\u000fw8G����1[K��\\����2��7�]��S����ѩ�1�FWQ�����;��=\u001a�N\u0003h�\u001f?\u001a\u0015�g�y&s���\u000b",
      "��7/Ќ�r2��\u00149��iY�HBVd3\u0002��8O'E>#�\"�\u0011��$l�¦�gs���D�%.�\u0012���\u001c",
      "�h\u0010��\u0011\u0016�9\u001c",
      "�\tL$0��\u0005\u0012f)\\�q\u0011�d��\u0012T\u001c",
      "#�\u0014\u0011��(�Ei2�҉��\u0019*A�q�I�l�#|T\f",
      "E6#�i�ϊ|F\u00113\u000fd\u001f44w\u001e",
      "�{t�8��P՛7�\u000f����\u000b",
      "]Cӎ�q��y�����f��t[[��M�ö�A���5��\u001c",
      "1�\\��1��T��Bה�cx�:6�9:a\u0018rw8G�\u0003n눳s�����lcO������hv\u001a��ۭNc���<��\u001aД\u0014\u0015�VV|WiѾ�����2\n",
      "\\F�3\"����8��\t\u0019\n",
      "���k4z�F�\u0001J\u000b",
      "\u000f\u001c",
      ":��\u001fd\u0003�'2[\u001f��,*�����s�,�eq�gS,���-�����gEnK�ϋ|V\u00167e>\u001b�1.+�Y\t�M%[����\u0003��\u0019��z��-����\u001f�\u0002�X��.�;\u0007ƺ\\�\u001d",
      "��-����f����0���\u0006\u001c",
      "\u001d",
      "}}m�\u0003�}��\u0001�a`��w�cp����j�jwL�;��zG�}æ>{{������dkj�o��k6;Z;\u0007Z-.K���<Ma����`O~��\u0005E���w�����;�E;5�B\n",
      "\u000b",
      "\u0004\"ѨL \u0012��\u0014)�\u0004G\u0013<�q\u0004!��H�\n",
      "�D\tZ��\u0018K&\u0018\"ΐ)\n",
      "�햖N[�����h�7u9[��:z��-�m]#\u001d",
      "]�ͦ�f�h���ns4�{���sM�&KS������m����j���w5\u0018�`�V[�\u0003�Z;\n",
      "\u000b",
      "w�\n",
      "w�\u000b",
      "��\n",
      "�\u001d",
      "���NGSgo�����o\u001f�\f",
      "4ut��\u000f4���7;�[\u001d",
      "�\u001d",
      "��f��Fsm��l�����������lr�Z\u0007�lw�~w�\u0006*���H�\u001c",
      "E�9?��=(J�(�d�$\u0019����Y:��I�Iql�ab<����m�TF`��\u0019�3Y�ے�MI�F�͘��w���\u001c",
      "\u0015P��\\f��ɛ����?�3�^�\u0018��8��V�u�����j��t�\u001b\n",
      "�=p��ɡa�`�\u000b",
      "�\u0007��?�}�\u000b",
      "�|��'.<�`\"���dL:\u001f�$>\u0015��Q)�HYE�\u0012Ŭ$m�|F�!<�\n",
      "͖�FsM��Թ�\u0013gj\u000e\u001d",
      "i?u�t��p�t{��γu�3�ֺ����3uƺ&K}�����d�8g\u001e",
      "�L4�ٴ;J�u;\u000b",
      "t\u0015���\u0005��E�]������\u0005��b]y\u0011T��+�4\u0005�ڒ|m�\u000e,ӂ�Z�\u0014�� ��P_��W����Pa�\u0006�4 ���4�\u001aM�FS��{�=��\u001e",
      "1D=\u0011?���\u001f���G\u001fxp+�\u0019�SQ)�3Q���lB��<��$)㸈a9�\u0005\u0002�\u0012xt{�BDi2�r��R\f",
      "�⨴�lJt�cR\u001c",
      "���\u0014�fY&%p\u0019�N�\\F��h>�piIܒ��d�\u0002\u001e",
      "�G\u0016,m���\u001f�i\n",
      "�F���X{����f�\u001d",
      "�[/�u\u0014��*�V\u0016��\u0005��\u0002��*\u0004���d�jl174\u0019�ՙj\u001a�皌g�;N5�N5��Z�j��5M�g\u001b��\u001a;�4�\u001a\n",
      "��\u0002��\u0010,ՃE\u0005�\u0012=X�\u000f\u0014@�\u0002\u0010,\u0005te��\u0004\u0004��\u000b",
      "v\u0016��%�\u0002�� �ҁe�PyY��]����+�Kvj\u000b",
      "�5z�F�C�ۡ)��~�>ss�h�@d��H����lvK�%Y�i`TD0\t%%\u0018f1��1\u000e�8�\u0010\tB�&c\f",
      "\u0015��\u0018M$i*E\u0013i��b�,Om\n",
      "��_/~��\u0017�\u0014\u001e",
      "�\u0006��\u001c",
      "�u�O���ں\u001c",
      "햮������\u0016smCgM��\\��l��\\kg]kW}����|��t���hj:��Xk޷���Q��\u0018�2��}ܤ�۩\u0005+t`E>X�\u0007*�򫊠�\u0002��P[Q����(�A%:\u0002\u000b",
      " �\u0018Ԗh��Zm1 �@@)\u0004\u0016��2=P�\u0007*���\u0002�*\u001f�ԁ\u0015������\n",
      "Ae X��\u0016\u0003y�:my�q=X����C�z�<_W����e'��\u0003��\u0007\u0012�5(,��\u0018�\u0019\u001c",
      "\u0017qT P\u0001�E\u0014�\tB!q�&c,\u0019g�8K')<��\u0019�N�D��3\u0002���,K&xn��S8�`�\u0014��\u0005>�q1��sB��Ӓ���D�������\u0013�\t2���?����Q��\u0007�mo-P�׮���o>�yj\u0013�r�t��\u001b�\u001c",
      "r\u001a���Fs}����\\�f:�\u001b��5��Z����|��p���TG�\u0019Ӊ��#�m\u001d",
      "\u001d",
      "���c��Cu�S\u001a�\u001d",
      "\u001a`�\u000e��q] �,�W\u0016�Ku@q����\u0003\u0015��\u0004\u0002�!�\u0010�\u0016\u0002@\t l�\n",
      "\u001e",
      "f����\u0002\u001c",
      "\u00110D�Q\t�\u0005��\u0011L��+4\u0019�\u0005j�L�x�$b$\u0011c�\u0004M�h:J�1Z��J*�=/��w�71>��h��Y�\u0005(�\u000f�X\u000fo,\u0005�\u001d",
      "�ӇO}b��ǔ\u000b",
      "����9)n{/���]ӷT����\u001f�{*�̃�#�1��ix���i2vִ\u0018O6��W�q��p���dG�)s�s�zN\u001d",
      "q\u0018[��g�(�\u001b�\u0017�C��H�i�Հ{w�U��z�D\u000f�AP\u0005\u0004U�u�:�@\u0007\u0015A�\"\u001d",
      "P�#w�8�\u0018\u0002�A`\u0001 \u0014\u0001P\u0005 �\u0001y�z�B�-/���@E��L\u0007\u0014\u0017��t@iN���\n",
      "\u001a�qT�Q\thX�\u0010\u0011!D�P\u0010L(�F\t<��Q\f",
      "�I\"F�I\u0002�\u0013x�\"�\f",
      "��(���x,�s�gqmxt���|�d������%����\u0011�둕��҂o�o���@oP\u0017�\u000b",
      "����\u00079���}>߇�o\u000f�T�����\u001c",
      "�zW'M\u0013ֳ��ZS�}�u��m�n:s��\\u��ꮦ���~��y؏!\"~c*�/�է��>����8֥��\u0016�w\u0015A\u0015�`�\u000e(,Е�C�:��#lk9�\u0018Ԗ@@9 ��`i^^A^^\u0015�P! \u0016�`1\u0004�\u0002y�\u0010P��v\u0001@�\u000e,�A%� �u@i>T��_\n",
      "��|��0�\n",
      "ЖC�N\u001d",
      "�\u000b",
      "Ж�\n",
      "wk0�%0\u0011Ey\f",
      "�0DDa\u0001�\u0005\u0014�\t<�c\n",
      "��p$J`\n",
      "\u0004*@�\u0002Ԗ僕���|mi��\u001c",
      "�+\u0003�e9~�P�V�� X�\u0005��Bm^\u0001�W�\u0003�B���养5��\u0010�`�ɟ�d�5\u001bq��j�_�<OXF2\u0016'�)�O���7oݺ���>V��{�\u0005��fWݡ\u0016c�������S\u0007�՟2���\"�YJ�2.}����c��\u0010�>�����'-#��>\\SxL��\t\u0002\u0015���z�L\u0007\u0014���|�4'^\u001d",
      "P\f",
      "�\u0015\u0002yۦ�\u0003�t`\u0014�@\u0011\u0004\u0016�@�\u000e*��JA�\u0018Ԗl�F�B�)\u0007�J���v��\u001c",
      " �\f",
      " ���e�PyN�z�\"��:��H�{�6¨HP1\u0014\u00151L�Q\tE$\u001c",
      "L&09��\u0019*J\u00112�)Q)+K��U�����il�2�\u001d",
      "������\u001a;k�-=V����Ҭ/�wue%���/̮�.x����f�W�|~չ\u0011����r'z���t����\u001d",
      "i�~�~��'���ۿb�^��=�2x��i͎�{O\u00187\u001f�Vd�k����\u0013��/�\u0012_ql<�������f��Zh7�-\u0007s�\u001e",
      "ܞ�\u0010P\u000ej� �\u0018 �>��\" (��\u0012��\u0018��y�`^�\u001e",
      ",ɕʜ�(�2 �6w (�AU P\u0001h�!�R\u000b",
      "���J@W�וB`q��� �*���\u0001;u`e�~�\u0006�\u0015\u0004�ð\u0010AD\u0014�\u0010X��(F�\u0010L�0\tEy��I�gH)�|P���+�>�p{����������fl���}��=Ǫ��&�kyb�37���\u0004�.�W��+��5O��\u0014tt\n",
      "�����\u001b\u0002�u�R\u0010�Fn*@@9��\u0002�*A�\n",
      "\u0004* �B\u000b",
      "�kueP~Ň\u0013�R\u0007��A{�`�\u0016��\u0004�B\u0004\u0011�a6\f",
      "\u000b",
      "(� a)\u0002G#���\n",
      "}\u0016�@�a`vl��7=��/�kˡ5Ohyο0�\u000b",
      "��5O����T��������=����\u000b",
      "9\u001b�~��6÷�S��\u0017���/����{��g��\u000eo�q�&ߙ��3��C��o?|z�a��TSr�/\u0011��4%}s\u0018����/\u0018�\u001f��R5\u001d",
      "���� x[\u0001�3\u001f�\u0005\u0001\u0015��\f",
      "�� �\u0004�+��r(�,\u0017�A�\u001c",
      " ʴ�b\u0010,�\u0002�;�tyZ=�-̕͜�A�H\u000f�\u0015�+sr��R\u0010,\u0005��\u001d",
      "@�\u0016,\u0007�\n",
      "\b���\n",
      "�:�VӠ�:l�tZ;\u0007���f��`���t\u0019�{���.W�uxdhzz³��.ϭϏ/O���V`\f",
      "斦W{\f",
      "��\u0015���l��3�\u0007C��\u001e",
      "�W���q�������?�������o�y�m����G\u001bn��L���{�W\u001c",
      "�'�m�\u0007vhn׀\u0007�<ޫ<��,�;�/�,��}�\u0011�S��\u001d",
      "Ѐw蠪|�\\�-\u0007�e@��R\u0010\u0004K��(�j�s�C�W h�y��\u001d",
      "�\u001d",
      "y:-�\u000f Ey;�?*� P\u0002 �\u0017�o(ǵ\u000e*҃%\u0005������C�\u0005����5P\u0002\u0001�:�\u0002\u0004s�.�j\u000b",
      "\u0001�H\u000b",
      "��i�yZ�\u0016�\u0007��:�\u0004\u0004�>���\u000fM����=\u0007,�C��x\u000e��y@�\u0016� ��\u0002�.��B\u000fUi�*@�.\u0010إ��4A�\u000b",
      "D�@�\n",
      "\u0010(�A% X\n",
      " eZ�\n",
      "\u0004v�C���*��R\u000b",
      "V �N\u0010���\n",
      ":/�H��\u0004��<��$#��4;�d5��5u\u0019Z���\u0011{���6�m\u001e",
      "��\u001c",
      "v�PWg���hm1w��M�A{���k��:��=�v��M/�-��'<3c�K�\u0001���Ì�1|�S�+����~��'^@��_ps��T��m\u0013����/�}����7~\u001f�f�4{��ն�y������>r�����{\u000e��uG��|�^\u0010<^}��Y��\u0002��E�����\u0013O\u000e�\u001f�{dD��. �\u001e",
      "��\u00052P[�\u0003�\n",
      "��\u0014 Jr�C���i 0/\u001f�\n",
      "��\n",
      "rz�M\u0002\u0010,�r�\u001a(�j���`W\u0004��z�*��E�\u0002�A�\\�W\u0006h+�J@[\u000ejˠ�\n",
      ":&�z�\u001c",
      "�nG���2d�t�;���>���l����;�͝��!����`��hu�X]�#����\u0013�n���'\u0018$q�_]�i(�u[���>���}��G�_��l�,$��̋��\u000f�����\u0017������+/����Rp�=5��N��s������}\u0007���/޿��@q���G�;,�ݝ>P�\u001fC�dY��i�Sc�\u000fi\n",
      "Nh4��=\u0005�]\u0005�J��\u0002Ԗ�L9\u000f�-\u0005ˀ��<�\u0004\u0004K\u0001m>�C\u000f������ۑ�\u0010(��R(�\f",
      "�+\u0003�e��D\u0007��ڒ��*�y�\u000e(փez�\f",
      "Җ��bΚt�\n",
      "\u0010����Ё\u0015���zp\u0017��\u0002��\u001a8�\u000f�,E),�\\Z\n",
      "Y;\u0007{{F{{F\u0007�&�z���#9������ڬ�fS���e4Ym]������s�[[mfc��bft޻��\u000f�v\u000f���Q�#q���\u0002��ڹ�\u001e",
      "0�P���=���?�R<���\\rq�W�oW�?���O<��O|����}{��ңM�jj�<~�#Gv�{�����}w\u0016ޝ\u000f�?~b��@\u0019{3��Ǐ�ӭ#[��g��\u001f7���\u001d",
      "wi�� P\u0001A\u0015z�2����b\u001d",
      "T\u0004�\u0005:���P\u000b",
      "��`q�h`�\u001e",
      "��:|ŀ�\u0010\u0004� `�\u0001�\u000b",
      "���\u0015�`�\u001e",
      "*��R=P��-ׁ�:�\u0012\u0002* �\"ws!X^ U�u;sY\u0010\u0002*@m9����U:m�\u0006�8\u0004�p\\��Y�w��8gG\u0007f\u0007���{G\u0007\u001c",
      "#����\u001e",
      "Ww���s�juZ�\u0003Vk_N�]6GO��k���x�����j1\u000f\f",
      "9F}K��х�\u0016����Ғ/\u001c",
      " �\u001d",
      "nM���=�J+�i�U\u0013���<�m,��>�(_�F>A�\u001f�\u0019�\u0013\u001f��C��������i����3��\u0015ǎ�\u001f�_q�\u001d",
      "e��(�k��. ���Nc�d��d��3��_l\u001c",
      "�<�\u0004wNl�z\u001e",
      "� \u00075���P�\u000e,��*��*\u001d",
      "X\t\u0001�:�\u0004\u0002\u000b",
      "!�\u0010\u0002s��RP[�\u000b",
      "$`^1�h\u000b",
      "�yzH[�\u0003�s*\u0006�\"\u0010*�j�\u0001�\f",
      "\u0002*t`e��s��\\���\n",
      "�\u000e:&�����#����>W���6`1�������\u0016s��l�X\u001c",
      "6��64�?�i\u001d",
      "j7��>��e\u0019\u0018\u001c",
      "�\u0018\u001d",
      "�;{�ujlyq~uy~5\u0012$��;�_��d羒�;u\u0005w8\f",
      "�����x���G���\u0011�3��G��R����O��&��I��L�ܳ�s�%o�Wu74��@�\u00104�VUVn�����Z[7��,\u00120�\u0010\u001a��`�H\u0002!k$��t�%�`�%941\u000e<X\n",
      "\u0011�CeEFe�{�����<������������^��3��s��\u001f8�\\֗r�BJ�\u000b",
      "�\u0005 �\u000b",
      "{��ۛ��\u0016&�����L���o�R��s��� �C<�zJ\u0010�\u0011\u0007cG�tJ\u001d",
      "��C�A�!���Q�H�E��\u000e��gY\u0007�\u0016c>E!�>A��\u001b�Z���Z\u0004Y\u00049X�\u0010p\tr)t96(u(�\u0018���зP 4\u000b",
      "D�+�δٞ�k���ת�;�i��oV�f����֪�r�]�i�v:�\u0017+ۛ�����f��ӪW{�z\\��\u001a�����'����G\n",
      "ŭ�tpu:8�2�^�i\u0005�B�Z��\u0005�] �{������������<���W�~��[O<���~�������w>��7��\u001f���vO{���ǆ���eky��s\"��yG_\u0001pq���\u000b",
      "��]��ݚ����G���t����\u001b�/T_\u00044�D�\u0012\u001f#�b�\u0010\u001b\u0011�\u0010\u0017!\u001b!\u0013!\u001b!\u001bA\u0007j.F.�\u000eŮ\u001260�\t4\t4�f\u0010da��\u001f���NLH\f",
      "H\f",
      "��P�2�P�L4�cO�\u0017�\u001d",
      "�|�\u0002�$\f",
      "\u0014��\u0001Ӄ���a�5i5���~�5�4�Q}ܪ��;��v�R��l�+;Q�b�^�\u0015��ۛ�b�]�nԫ�j�]��\u0014���n?j�\n",
      "\u0010Ų\u0015����`l0f+����������\u0018;�:�ٔ���\u0018�\u0004{\u0018�X�(����ãw�oܚ<~k�ş��w��k������}go\u0014+/4w��Y���\u00139=���E���\u000b",
      "�X\u0001�",
      "�\u000fW�x,����Aa�\u0017k��\\\u0019�s���j�\u0003�e � �T}1v v5�']�WI�\u0018��LΠ�\"؀�@P��\u001c",
      "�\u0010\u001a��s�BL�l�\f",
      "�,H\f",
      "H,z��D�)v������Op@Q HȐ�\u0013\u001fLF�'�����\u001fM��d4�o7G��S\u001d",
      "֊��Nkg�^-�j������f�X�v�r!���\u001a��n��hvw��R�9�\u000e\u001a��ŋ�r�ՏFW�W�<����\u0018��n椑�A\u001e",
      " �֏��_�˫���ɧ�\u001d",
      ">qs��������_��k�/�|�\u000f�|.�6^H{�@���\f",
      "O�(\\1V�b��k ,}��\u0017�?ښ��p������.|}��/�W_\u0006t���p�\u0010\u0013\u0012K#\u000ec>�\u0001�\u0001F>�\u000eV\u0007X\u0018X\u0018:\u0018ڄ��\u0019s�@2\n",
      "��1�a�?\u0019\u001e",
      "��Ѡ?��gQ4�Z�ncҪ��R�RnU��j�U��,o�7/�\u000b",
      "[��V�\\lWJ�b�S���v�\u001e",
      "\u0017�\u001b����+�k�ޤ\\��J���^\\^�K�i�Xv�5ʲ\\ϸ�\u0012�η^���G���\u000f?y������\u001a\\�=��_\u001d",
      "|�w_}�_���w��9�vQ�$[��L�gW�Қ���\u0017m�\u0004����n�޾0�y���_\u0018����ʵ\u0017>Ȝ�\u0003���'Ą�D��p^\u0005�?�k�\u001c",
      "�\\��\u0003[��JA�H�H����TU�����D\u0012,\u0011� I�\u001e",
      "J���Up��\u0007�C���\"E\u0001�\u0002�g)\n",
      "��\u0001�f�#X��)�\u0002}ZkJ|\f",
      "\u001d",
      "��\u0014:\u001c",
      "Z:�\t�\u0018\t�1�1�t�\u001d",
      "�\u0017����hЉ�ە�?���%�<��?>�p~�s���������כּ暥/\u0019z�r\u0016\u0001r��\u001b7o~��ۿ{�\u000f�O��\u001e",
      "�[9�5{哗����/W6J�q\"i�g����fyv�XY��y��\u0015 V������s��ի�=����\u000f��\n",
      "�\u0018[�k��\t#\u001e",
      "#\u000e��RB\\H,��M\u0012J\u0002u�ډ^\u0005x\u0015��d��&%:E\u0006�\u0016�\u0006A֧\u001f��~w0kwǝf�Uﶚ�j�])��;��v�V�ʃNu0l��J�Vh�+�8\u001an]�<��G�����J�ؘ�{g\u001e",
      "|�K�\f",
      ";�89�Ș2�˖��<mZK z�\u001e",
      "�^�������}��\u000f���������������*��Cv\"�ݕ�����$���\n",
      "��{4hN��{ã�p/\u001e",
      "�z�Q�=hԣr�U�t\n",
      "�b���HT�\u0003A\u000e#>A.#\u001e",
      "�.��\\�B�g�*�,0��Žٰ?\u001d",
      "�{��t<����Qk\u0018Շ�ưQ\u001bTJ�j9*\u0015��r�Rlw\u001b�z):��\u000e��\u0010�N\\[��\u001e",
      "�\"�Eh�)��H�\u0014<��$�.S���L\u00192%yIbf HN&�\\{��\u0013/~��7��s����g?���~��� �֪ǒ�L�\"�7\u0016W��Ec%'�)��Hb D\u00102\u0004%\u0004:Bs��\u001aW\u0014P92��L���P�`�p\u001e",
      "(f�x\u001e",
      "#��>c.��rs83�M\u0003�D���\u0002���h�?\u001d",
      "\u001d",
      "MG\u0007��,\u001e",
      "L{�i�=l6����X����J�ۨ��J���kV��n���礟2ܤc'\u0013N�2\u0013����|\u0010,XVJ�I*C)Ҝ%u������M=eȄ�!0R�/����|�x�����W?����F�>ػ���\u0007 �r��ɴ���Ȧdv��X1��,�\"i��\u0011^\u0001h�|����\u000f���X����w����EB�\u0004\u001c",
      ":j���\u000e  \n",
      "�\u0005`��v�v���\n",
      "\u0010�1M\u0013��C(��@�j*��l3�=��;#�\u0011Oy4���ء��4`(��S�f��Hg�a�\u0003�����p2<�\u000e\u000e��t:8�f���ߚ4+�V�_�t:�a��ۭtk�A���T�����S\u000f���<�4a���B)C�\u001d",
      "�|�<]OP\u001e",
      "0�\u0010z�ˤ�`�\u0010>�I�\u0013waЙ�U���2����������_ ���b���0�����mث��bNX*�\t\u001b'\u0004[\u0004h�{���K\u001f���^��\u0018h�L, �jĢ�WEQ�\n",
      "�6\u0006\u0016#\u001e",
      "����\u0018�8�tbc�\u0010d\u001a�@� \n",
      "� �\u0011V�8\f",
      "�C \u0018�\u0010;�ڄ،�@3\u0011�!�0s8WO��\u0004\u0010��!���P��D>\u0018�G���A\u0016\u000f���E�a�ߎ;�~�ыZ��J��ۯ׺�Z�Q�6\u000b",
      "�V���XŒi��9\t\u0005Kp�K��\"��U�\u0015�CC�t=��\t)\u0003)\u0003\u0015\u0010�2\u0005@�Οۻq��}k����{GO�N-���J�G�$N�X&/�����������\u0006,e�@�Y�-���{����\u000e�\u0004�n 60I�\u0015�\u0010[�4%rb䪗�D�b���`P`H � 2MJE��\u0003f:�:ĎZ�9�\u0019\n",
      "(\n",
      "c}�\\ˉŜȧX�%��}��\u0001�Ϟ�����\u000e�� ��/i��G��r \u0014\u0019\u0004�\u0002�*_�4Kٯ\u0004\u001b\u0004�T\u0007�R�Vl�\\���ѹ�7%�\u0019�\u0005\t\u0004�W�b��@��S_�@�#%��y��\u001a� �ܟ�Q�y�����_=v�i �,��P��aN�׌��l�J�`�e�E��[AP\u0012(�ƩƐF�\u0018��\u0010�\u0018�\t�X\u0018��%ٜ�;��\u0014�J�R\u0019b���\n",
      "\u0015iA�Za�Vr�lp�\u0011�V��R\u0007\u0015�zP��q��!�U}-�'�˩\u000f&���`�`vm��hp�o�\u0006��^s�k\u000e��,\u001e",
      "���{Q������Nuج��;��v�R�ݼ���|��C�\u0006�&\u0004KP�\u0013�\t\u00160�\t�3�r\u001e",
      "0� ,`\"�F��CC\u0004\u001aN\u0002�mǯ�Z�_���v�{��\u001d",
      " ri}���\u0014I-[+�쓧̍%����9�OӴ�\u0013\u000e\tM�\u0002 ��K\u001f�z�\u0001�\n",
      "+.A\\J=B\\�\u001c",
      "Bl�eK�)§�@ݍ���\u0018U�;I��\u000fb���Ö��    IEND�B`� | Mike.Hillyer@sakilastaff.com |        1 |      1 | Mike     | 8cb2237d0679ca88db6464eac60da96345513964 | 2006-02-15 03:57:16 |��\u001c",
      "'\u0004\t)�\u0018N�\u0015�R\u0007 ��gDu�҃�C �f`$4��C\u001e",
      "�5:B:�\u0012#����&PP$�].�a�a�a�3\u0013aA���N��R��|�\u000e��g��\u0001\u0011��`D-�.8�=1����{��^4�v���A��\u0019����`2>\u0018�\u000e�����?\u001c",
      "\\i7���n�P߼�s��ι�.]8���#�WWN2�b�#j\u0013�*HQ�.AB�}F<J=D<J\u0012�x�\u0007��\u0001�4��TJ��{O�A�I��$ټ\\X5W������E������R��\\���o!WG���N|��a\u0018�C��U�\u0011;B$\u0014\u001ap�#jbl�a�H���\u0011�P\u0013��5B�\u001d",
      "و\u0012�ѹ�B���D큊r��\u0019�\u0015�S�V3S]\u000fF:��3{\u001e",
      "P�S��W��י\u000e�{��~��W�qpx-\u001e",
      "ΆÃQ|��L\u001b�^�֫UZ�K��\u000f�?���sg�>t��\u000f?����J\u0019 4w�\u0019�$M0��4ɱψOI\u0002�\u0004�\u001e",
      "\".\u0013)�%O�Z.=a8��|1 �4M��+\u001b�چ��\"W��Ҳ��\u0013�\f",
      "˺(���#G ��\u001e",
      "��q�Owb%�)7\u0004�\u0004\u0007j�!dB(���\u0004R�t�8F\u0002C�8d3���?���r����{\u0007�9�0�7������S��ǣ%�M��Dp5�\u0011�A?��\u0006���\u0012�z�q7\u001a��q�\u0019\n",
      "|        2 | Jon        | Stephens  |          4 | NULL                                                                                                                                                                                                                                                                                                                                                                                                                                                                                                                                                                                                                                                                                                                                                                                                                                                                                                                                                                                                                                                             | Jon.Stephens@sakilastaff.com |        2 |      1 | Jon      | NULL                                     | 2006-02-15 03:57:16 |\n",
      "+----------+------------+-----------+------------+-------------------------------------------------------------------------------------------------------------------------------------------------------------------------------------------------------------------------------------------------------------------------------------------------------------------------------------------------------------------------------------------------------------------------------------------------------------------------------------------------------------------------------------------------------------------------------------------------------------------------------------------------------------------------------------------------------------------------------------------------------------------------------------------------------------------------------------------------------------------------------------------------------------------------------------------------------------------------------------------------------------------------------------------------------------------------------------------------------------------------------------------------------------------------------------------------------------------------------------------------------------------------------------------------------------------------------------------------------------------------------------------------------------------------------------------------------------------------------------------------------------------------------------------------------------------------------------------------------------------------------------------------------------------------------------------------------------------------------------------------------------------------------------------------------------------------------------------------------------------------------------------------------------------------------------------------------------------------------------------------------------------------------------------------------------------------------------------------------------------------------------------------------------------------------------------------------------------------------------------------------------------------------------------------------------------------------------------------------------------------------------------------------------------------------------------------------------------------------------------------------------------------------------------------------------------------------------------------------------------------------------------------------------------------------------------------------------------------------------------------------------------------------------------------------------------------------------------------------------------------------------------------------------------------------------------------------------------------------------------------------------------------------------------------------------------------------------------------------------------------------------------------------------------------------------------------------------------------------------------------------------------------------------------------------------------------------------------------------------------------------------------------------------------------------------------------------------------------------------------------------------------------------------------------------------------------------------------------------------------------------------------------------------------------------------------------------------------------------------------------------------------------------------------------------------------------------------------------------------------------------------------------------------------------------------------------------------------------------------------------------------------------------------------------------------------------------------------------------------------------------------------------------------------------------------------------------------------------------------------------------------------------------------------------------------------------------------------------------------------------------------------------------------------------------------------------------------------------------------------------------------------------------------------------------------------------------------------------------------------------------------------------------------------------------------------------------------------------------------------------------------------------------------------------------------------------------------------------------------------------------------------------------------------------------------------------------------------------------------------------------------------------------------------------------------------------------------------------------------------------------------------------------------------------------------------------------------------------------------------------------------------------------------------------------------------------------------------------------------------------------------------------------------------------------------------------------------------------------------------------------------------------------------------------------------------------------------------------------------------------------------------------------------------------------------------------------------------------------------------------------------------------------------------------------------------------------------------------------------------------------------------------------------------------------------------------------------------------------------------------------------------------------------------------------------------------------------------------------------------------------------------------------------------------------------------------------------------------------------------------------------------------------------------------------------------------------------------------------------------------------------------------------------------------------------------------------------------------------------------------------------------------------------------------------------------------------------------------------------------------------------------------------------------------------------------------------------------------------------------------------------------------------------------------------------------------------------------------------------------------------------------------------------------------------------------------------------------------------------------------------------------------------------------------------------------------------------------------------------------------------------------------------------------------------------------------------------------------------------------------------------------------------------------------------------------------------------------------------------------------------------------------------------------------------------------------------------------------------------------------------------------------------------------------------------------------------------------------------------------------------------------------------------------------------------------------------------------------------------------------------------------------------------------------------------------------------------------------------------------------------------------------------------------------------------------------------------------------------------------------------------------------------------------------------------------------------------------------------------------------------------------------------------------------------------------------------------------------------------------------------------------------------------------------------------------------------------------------------------------------------------------------------------------------------------------------------------------------------------------------------------------------------------------------------------------------------------------------------------------------------------------------------------------------------------------------------------------------------------------------------------------------------------------------------------------------------------------------------------------------------------------------------------------------------------------------------------------------------------------------------------------------------------------------------------------------------------------------------------------------------------------------------------------------------------------------------------------------------------------------------------------------------------------------------------------------------------------------------------------------------------------------------------------------------------------------------------------------------------------------------------------------------------------------------------------------------------------------------------------------------------------------------------------------------------------------------------------------------------------------------------------------------------------------------------------------------------------------------------------------------------------------------------------------------------------------------------------------------------------------------------------------------------------------------------------------------------------------------------------------------------------------------------------------------------------------------------------------------------------------------------------------------------------------------------------------------------------------------------------------------------------------------------------------------------------------------------------------------------------------------------------------------------------------------------------------------------------------------------------------------------------------------------------------------------------------------------------------------------------------------------------------------------------------------------------------------------------------------------------------------------------------------------------------------------------------------------------------------------------------------------------------------------------------------------------------------------------------------------------------------------------------------------------------------------------------------------------------------------------------------------------------------------------------------------------------------------------------------------------------------------------------------------------------------------------------------------------------------------------------------------------------------------------------------------------------------------------------------------------------------------------------------------------------------------------------------------------------------------------------------------------------------------------------------------------------------------------------------------------------------------------------------------------------------------------------------------------------------------------------------------------------------------------------------------------------------------------------------------------------------------------------------------------------------------------------------------------------------------------------------------------------------------------------------------------------------------------------------------------------------------------------------------------------------------------------------------------------------------------------------------------------------------------------------------------------------------------------------------------------------------------------------------------------------------------------------------------------------------------------------------------------------------------------------------------------------------------------------------------------------------------------------------------------------------------------------------------------------------------------------------------------------------------------------------------------------------------------------------------------------------------------------------------------------------------------------------------------------------------------------------------------------------------------------------------------------------------------------------------------------------------------------------------------------------------------------------------------------------------------------------------------------------------------------------------------------------------------------------------------------------------------------------------------------------------------------------------------------------------------------------------------------------------------------------------------------------------------------------------------------------------------------------------------------------------------------------------------------------------------------------------------------------------------------------------------------------------------------------------------------------------------------------------------------------------------------------------------------------------------------------------------------------------------------------------------------------------------------------------------------------------------------------------------------------------------------------------------------------------------------------------------------------------------------------------------------------------------------------------------------------------------------------------------------------------------------------------------------------------------------------------------------------------------------------------------------------------------------------------------------------------------------------------------------------------------------------------------------------------------------------------------------------------------------------------------------------------------------------------------------------------------------------------------------------------------------------------------------------------------------------------------------------------------------------------------------------------------------------------------------------------------------------------------------------------------------------------------------------------------------------------------------------------------------------------------------------------------------------------------------------------------------------------------------------------------------------------------------------------------------------------------------------------------------------------------------------------------------------------------------------------------------------------------------------------------------------------------------------------------------------------------------------------------------------------------------------------------------------------------------------------------------------------------------------------------------------------------------------------------------------------------------------------------------------------------------------------------------------------------------------------------------------------------------------------------------------------------------------------------------------------------------------------------------------------------------------------------------------------------------------------------------------------------------------------------------------------------------------------------------------------------------------------------------------------------------------------------------------------------------------------------------------------------------------------------------------------------------------------------------------------------------------------------------------------------------------------------------------------------------------------------------------------------------------------------------------------------------------------------------------------------------------------------------------------------------------------------------------------------------------------------------------------------------------------------------------------------------------------------------------------------------------------------------------------------------------------------------------------------------------------------------------------------------------------------------------------------------------------------------------------------------------------------------------------------------------------------------------------------------------------------------------------------------------------------------------------------------------------------------------------------------------------------------------------------------------------------------------------------------------------------------------------------------------------------------------------------------------------------------------------------------------------------------------------------------------------------------------------------------------------------------------------------------------------------------------------------------------------------------------------------------------------------------------------------------------------------------------------------------------------------------------------------------------------------------------------------------------------------------------------------------------------------------------------------------------------------------------------------------------------------------------------------------------------------------------------------------------------------------------------------------------------------------------------------------------------------------------------------------------------------------------------------------------------------------------------------------------------------------------------------------------------------------------------------------------------------------------------------------------------------------------------------------------------------------------------------------------------------------------------------------------------------------------------------------------------------------------------------------------------------------------------------------------------------------------------------------------------------------------------------------------------------------------------------------------------------------------------------------------------------------------------------------------------------------------------------------------------------------------------------------------------------------------------------------------------------------------------------------------------------------------------------------------------------------------------------------------------------------------------------------------------------------------------------------------------------------------------------------------------------------------------------------------------------------------------------------------------------------------------------------------------------------------------------------------------------------------------------------------------------------------------------------------------------------------------------------------------------------------------------------------------------------------------------------------------------------------------------------------------------------------------------------------------------------------------------------------------------------------------------------------------------------------------------------------------------------------------------------------------------------------------------------------------------------------------------------------------------------------------------------------------------------------------------------------------------------------------------------------------------------------------------------------------------------------------------------------------------------------------------------------------------------------------------------------------------------------------------------------------------------------------------------------------------------------------------------------------------------------------------------------------------------------------------------------------------------------------------------------------------------------------------------------------------------------------------------------------------------------------------------------------------------------------------------------------------------------------------------------------------------------------------------------------------------------------------------------------------------------------------------------------------------------------------------------------------------------------------------------------------------------------------------------------------------------------------------------------------------------------------------------------------------------------------------------------------------------------------------------------------------------------------------------------------------------------------------------------------------------------------------------------------------------------------------------------------------------------------------------------------------------------------------------------------------------------------------------------------------------------------------------------------------------------------------------------------------------------------------------------------------------------------------------------------------------------------------------------------------------------------------------------------------------------------------------------------------------------------------------------------------------------------------------------------------------------------------------------------------------------------------------------------------------------------------------------------------------------------------------------------------------------------------------------------------------------------------------------------------------------------------------------------------------------------------------------------------------------------------------------------------------------------------------------------------------------------------------------------------------------------------------------------------------------------------------------------------------------------------------------------------------------------------------------------------------------------------------------------------------------------------------------------------------------------------------------------------------------------------------------------------------------------------------------------------------------------------------------------------------------------------------------------------------------------------------------------------------------------------------------------------------------------------------------------------------------------------------------------------------------------------------------------------------------------------------------------------------------------------------------------------------------------------------------------------------------------------------------------------------------------------------------------------------------------------------------------------------------------------------------------------------------------------------------------------------------------------------------------------------------------------------------------------------------------------------------------------------------------------------------------------------------------------------------------------------------------------------------------------------------------------------------------------------------------------------------------------------------------------------------------------------------------------------------------------------------------------------------------------------------------------------------------------------------------------------------------------------------------------------------------------------------------------------------------------------------------------------------------------------------------------------------------------------------------------------------------------------------------------------------------------------------------------------------------------------------------------------------------------------------------------------------------------------------------------------------------------------------------------------------------------------------------------------------------------------------------------------------------------------------------------------------------------------------------------------------------------------------------------------------------------------------------------------------------------------------------------------------------------------------------------------------------------------------------------------------------------------------------------------------------------------------------------------------------------------------------------------------------------------------------------------------------------------------------------------------------------------------------------------------------------------------------------------------------------------------------------------------------------------------------------------------------------------------------------------------------------------------------------------------------------------------------------------------------------------------------------------------------------------------------------------------------------------------------------------------------------------------------------------------------------------------------------------------------------------------------------------------------------------------------------------------------------------------------------------------------------------------------------------------------------------------------------------------------------------------------------------------------------------------------------------------------------------------------------------------------------------------------------------------------------------------------------------------------------------------------------------------------------------------------------------------------------------------------------------------------------------------------------------------------------------------------------------------------------------------------------------------------------------------------------------------------------------------------------------------------------------------------------------------------------------------------------------------------------------------------------------------------------------------------------------------------------------------------------------------------------------------------------------------------------------------------------------------------------------------------------------------------------------------------------------------------------------------------------------------------------------------------------------------------------------------------------------------------------------------------------------------------------------------------------------------------------------------------------------------------------------------------------------------------------------------------------------------------------------------------------------------------------------------------------------------------------------------------------------------------------------------------------------------------------------------------------------------------------------------------------------------------------------------------------------------------------------------------------------------------------------------------------------------------------------------------------------------------------------------------------------------------------------------------------------------------------------------------------------------------------------------------------------------------------------------------------------------------------------------------------------------------------------------------------------------------------------------------------------------------------------------------------------------------------------------------------------------------------------------------------------------------------------------------------------------------------------------------------------------------------------------------------------------------------------------------------------------------------------------------------------------------------------------------------------------------------------------------------------------------------------------------------------------------------------------------------------------------------------------------------------------------------------------------------------------------------------------------------------------------------------------------------------------------------------------------------------------------------------------------------------------------------------------------------------------------------------------------------------------------------------------------------------------------------------------------------------------------------------------------------------------------------------------------------------------------------------------------------------------------------------------------------------------------------------------------------------------------------------------------------------------------------------------------------------------------------------------------------------------------------------------------------------------------------------------------------------------------------------------------------------------------------------------------------------------------------------------------------------------------------------------------------------------------------------------------------------------------------------------------------------------------------------------------------------------------------------------------------------------------------------------------------------------------------------------------------------------------------------------------------------------------------------------------------------------------------------------------------------------------------------------------------------------------------------------------------------------------------------------------------------------------------------------------------------------------------------------------------------------------------------------------------------------------------------------------------------------------------------------------------------------------------------------------------------------------------------------------------------------------------------------------------------------------------------------------------------------------------------------------------------------------------------------------------------------------------------------------------------------------------------------------------------------------------------------------------------------------------------------------------------------------------------------------------------------------------------------------------------------------------------------------------------------------------------------------------------------------------------------------------------------------------------------------------------------------------------------------------------------------------------------------------------------------------------------------------------------------------------------------------------------------------------------------------------------------------------------------------------------------------------------------------------------------------------------------------------------------------------------------------------------------------------------------------------------------------------------------------------------------------------------------------------------------------------------------------------------------------------------------------------------------------------------------------------------------------------------------------------------------------------------------------------------------------------------------------------------------------------------------------------------------------------------------------------------------------------------------------------------------------------------------------------------------------------------------------------------------------------------------------------------------------------------------------------------------------------------------------------------------------------------------------------------------------------------------------------------------------------------------------------------------------------------------------------------------------------------------------------------------------------------------------------------------------------------------------------------------------------------------------------------------------------------------------------------------------------------------------------------------------------------------------------------------------------------------------------------------------------------------------------------------------------------------------------------------------------------------------------------------------------------------------------------------------------------------------------------------------------------------------------------------------------------------------------------------------------------------------------------------------------------------------------------------------------------------------------------------------------------------------------------------------------------------------------------------------------------------------------------------------------------------------------------------------------------------------------------------------------------------------------------------------------------------------------------------------------------------------------------------------------------------------------------------------------------------------------------------------------------------------------------------------------------------------------------------------------------------------------------------------------------------------------------------------------------------------------------------------------------------------------------------------------------------------------------------------------------------------------------------------------------------------------------------------------------------------------------------------------------------------------------------------------------------------------------------------------------------------------------------------------------------------------------------------------------------------------------------------------------------------------------------------------------------------------------------------------------------------------------------------------------------------------------------------------------------------------------------------------------------------------------------------------------------------------------------------------------------------------------------------------------------------+------------------------------+----------+--------+----------+------------------------------------------+---------------------+\n"
     ]
    }
   ],
   "source": [
    "!mysql sakila -e \"select * from staff order by rand() limit 2\""
   ]
  },
  {
   "cell_type": "code",
   "execution_count": 60,
   "id": "a840d484-6e93-4e4b-892b-76d0b2c58fb6",
   "metadata": {},
   "outputs": [
    {
     "name": "stdout",
     "output_type": "stream",
     "text": [
      "+----+--------------+----------------------+----------+-------------+------------+-----------+-----+\n",
      "| ID | name         | address              | zip code | phone       | city       | country   | SID |\n",
      "+----+--------------+----------------------+----------+-------------+------------+-----------+-----+\n",
      "|  1 | Mike Hillyer | 23 Workhaven Lane    |          | 14033335568 | Lethbridge | Canada    |   1 |\n",
      "|  2 | Jon Stephens | 1411 Lillydale Drive |          | 6172235589  | Woodridge  | Australia |   2 |\n",
      "+----+--------------+----------------------+----------+-------------+------------+-----------+-----+\n"
     ]
    }
   ],
   "source": [
    "!mysql sakila -e \"select * from staff_list order by rand() limit 10\""
   ]
  },
  {
   "cell_type": "code",
   "execution_count": 62,
   "id": "0fe2d252-26e4-45e7-9d9e-729bae547641",
   "metadata": {},
   "outputs": [
    {
     "name": "stdout",
     "output_type": "stream",
     "text": [
      "+----------+------------------+------------+---------------------+\n",
      "| store_id | manager_staff_id | address_id | last_update         |\n",
      "+----------+------------------+------------+---------------------+\n",
      "|        2 |                2 |          2 | 2006-02-15 04:57:12 |\n",
      "|        1 |                1 |          1 | 2006-02-15 04:57:12 |\n",
      "+----------+------------------+------------+---------------------+\n"
     ]
    }
   ],
   "source": [
    "!mysql sakila -e \"select * from store order by rand() limit 10\""
   ]
  },
  {
   "cell_type": "code",
   "execution_count": 66,
   "id": "a3991586-3a72-46e7-b443-892cf0e0a873",
   "metadata": {},
   "outputs": [
    {
     "name": "stdout",
     "output_type": "stream",
     "text": [
      "+------+--------------------+-------------------------------------------------------------------------------------------------------------------------+-------------+-------+--------+--------+-------------------------------------------------------------------------------------------------------------------------------------------------+\n",
      "| FID  | title              | description                                                                                                             | category    | price | length | rating | actors                                                                                                                                          |\n",
      "+------+--------------------+-------------------------------------------------------------------------------------------------------------------------+-------------+-------+--------+--------+-------------------------------------------------------------------------------------------------------------------------------------------------+\n",
      "|   24 | ANALYZE HOOSIERS   | A Thoughtful Display of a Explorer And a Pastry Chef who must Overcome a Feminist in The Sahara Desert                  | Horror      |  2.99 |    181 | R      | TOM MCKELLEN, TOM MIRANDA, JESSICA BAILEY, GRETA MALDEN, ED GUINESS                                                                             |\n",
      "|  974 | WILD APOLLO        | A Beautiful Story of a Monkey And a Sumo Wrestler who must Conquer a A Shark in A MySQL Convention                      | New         |  0.99 |    181 | R      | GARY PHOENIX, LISA MONROE, REESE WEST, JOE SWANK                                                                                                |\n",
      "|  841 | STAR OPERATION     | A Insightful Character Study of a Girl And a Car who must Pursue a Mad Cow in A Shark Tank                              | Sports      |  2.99 |    181 | PG     | JOHNNY LOLLOBRIGIDA, SUSAN DAVIS, MORGAN MCDORMAND, MORGAN WILLIAMS, WILL WILSON                                                                |\n",
      "|  751 | RUNAWAY TENENBAUMS | A Thoughtful Documentary of a Boat And a Man who must Meet a Boat in An Abandoned Fun House                             | New         |  0.99 |    181 | NC-17  | GENE MCKELLEN, WARREN JACKMAN, NICK STALLONE                                                                                                    |\n",
      "|  406 | HAUNTING PIANIST   | A Fast-Paced Story of a Database Administrator And a Composer who must Defeat a Squirrel in An Abandoned Amusement Park | Games       |  0.99 |    181 | R      | MARY KEITEL, GRETA MALDEN, SEAN GUINESS, CHARLIZE DENCH, JAYNE NEESON                                                                           |\n",
      "|  535 | LOVE SUICIDES      | A Brilliant Panorama of a Hunter And a Explorer who must Pursue a Dentist in An Abandoned Fun House                     | Horror      |  0.99 |    181 | R      | JOHNNY LOLLOBRIGIDA, TOM MIRANDA, CHRISTIAN NEESON, GRETA MALDEN                                                                                |\n",
      "|  435 | HOTEL HAPPINESS    | A Thrilling Yarn of a Pastry Chef And a A Shark who must Challenge a Mad Scientist in The Outback                       | Foreign     |  4.99 |    181 | PG-13  | SUSAN DAVIS, SANDRA KILMER, RIP WINSLET, RENEE BALL                                                                                             |\n",
      "|  467 | INTRIGUE WORST     | A Fanciful Character Study of a Explorer And a Mad Scientist who must Vanquish a Squirrel in A Jet Boat                 | Foreign     |  0.99 |    181 | G      | GINA DEGENERES, GARY PENN, REESE KILMER, CATE HARRIS, MERYL GIBSON, FAY WOOD, VAL BOLGER                                                        |\n",
      "|  473 | JACKET FRISCO      | A Insightful Reflection of a Womanizer And a Husband who must Conquer a Pastry Chef in A Baloon                         | Drama       |  2.99 |    181 | PG-13  | BOB FAWCETT, MILLA PECK, MAE HOFFMAN, CHARLIZE DENCH, ELLEN PRESLEY, KENNETH TORN, ANGELA WITHERSPOON, VIVIEN BASINGER, AL GARLAND, BELA WALKEN |\n",
      "|  510 | LAWLESS VISION     | A Insightful Yarn of a Boy And a Sumo Wrestler who must Outgun a Car in The Outback                                     | Animation   |  4.99 |    181 | G      | MICHAEL BOLGER, PENELOPE PINKETT, BOB FAWCETT, JOE SWANK                                                                                        |\n",
      "|   50 | BAKED CLEOPATRA    | A Stunning Drama of a Forensic Psychologist And a Husband who must Overcome a Waitress in A Monastery                   | Family      |  2.99 |    182 | G      | MICHELLE MCCONAUGHEY                                                                                                                            |\n",
      "|  774 | SEARCHERS WAIT     | A Fast-Paced Tale of a Car And a Mad Scientist who must Kill a Womanizer in Ancient Japan                               | Comedy      |  2.99 |    182 | NC-17  | ROCK DUKAKIS, CATE MCQUEEN, GINA DEGENERES, SUSAN DAVIS                                                                                         |\n",
      "|  765 | SATURN NAME        | A Fateful Epistle of a Butler And a Boy who must Redeem a Teacher in Berlin                                             | Comedy      |  4.99 |    182 | R      | ANGELINA ASTAIRE, CHRIS BRIDGES                                                                                                                 |\n",
      "|  721 | REDS POCUS         | A Lacklusture Yarn of a Sumo Wrestler And a Squirrel who must Redeem a Monkey in Soviet Georgia                         | Music       |  4.99 |    182 | PG-13  | WARREN NOLTE, CHRIS BRIDGES, SPENCER PECK, JODIE DEGENERES, JENNIFER DAVIS                                                                      |\n",
      "|  719 | RECORDS ZORRO      | A Amazing Drama of a Mad Scientist And a Composer who must Build a Husband in The Outback                               | Sports      |  4.99 |    182 | PG     | MERYL ALLEN, WILLIAM HACKMAN, CHRISTOPHER WEST, EWAN GOODING, RITA REYNOLDS, MORGAN HOPKINS, BEN WILLIS, JAYNE NEESON                           |\n",
      "|  591 | MONSOON CAUSE      | A Astounding Tale of a Crocodile And a Car who must Outrace a Squirrel in A U-Boat                                      | Games       |  4.99 |    182 | PG     | NICK STALLONE, NATALIE HOPKINS, MINNIE ZELLWEGER, ALBERT JOHANSSON, WILLIAM HACKMAN                                                             |\n",
      "|  996 | YOUNG LANGUAGE     | A Unbelieveable Yarn of a Boat And a Database Administrator who must Meet a Boy in The First Manned Space Station       | Documentary |  0.99 |    183 | G      | ED CHASE, JULIA MCQUEEN, JAMES PITT, CHRISTOPHER WEST, MENA HOPPER                                                                              |\n",
      "|  340 | FRONTIER CABIN     | A Emotional Story of a Madman And a Waitress who must Battle a Teacher in An Abandoned Fun House                        | New         |  4.99 |    183 | PG-13  | JOHNNY LOLLOBRIGIDA, RIP CRAWFORD, FAY KILMER, JUDE CRUISE, BEN WILLIS, HARVEY HOPE                                                             |\n",
      "|  767 | SCALAWAG DUCK      | A Fateful Reflection of a Car And a Teacher who must Confront a Waitress in A Monastery                                 | Music       |  4.99 |    183 | NC-17  | REESE KILMER, CHRIS DEPP, GROUCHO SINATRA, CHRISTIAN NEESON, JUDE CRUISE                                                                        |\n",
      "|  973 | WIFE TURN          | A Awe-Inspiring Epistle of a Teacher And a Feminist who must Confront a Pioneer in Ancient Japan                        | Documentary |  4.99 |    183 | NC-17  | WOODY HOFFMAN, MICHAEL BOLGER, GRETA MALDEN, CAMERON ZELLWEGER, GINA DEGENERES, JULIA BARRYMORE                                                 |\n",
      "|  128 | CATCH AMISTAD      | A Boring Reflection of a Lumberjack And a Feminist who must Discover a Woman in Nigeria                                 | Foreign     |  0.99 |    183 | G      | JOHNNY CAGE, CHRISTIAN AKROYD, KENNETH PESCI, DAN STREEP, IAN TANDY                                                                             |\n",
      "|  499 | KING EVOLUTION     | A Action-Packed Tale of a Boy And a Lumberjack who must Chase a Madman in A Baloon                                      | Family      |  4.99 |    184 | NC-17  | PENELOPE GUINESS, LUCILLE TRACY, BURT DUKAKIS, CUBA ALLEN, RENEE BALL, MARY KEITEL                                                              |\n",
      "|  198 | CRYSTAL BREAKING   | A Fast-Paced Character Study of a Feminist And a Explorer who must Face a Pastry Chef in Ancient Japan                  | Foreign     |  2.99 |    184 | NC-17  | LIZA BERGMAN, PENELOPE CRONYN, JAYNE NEESON, REESE KILMER, FAY WOOD                                                                             |\n",
      "|  180 | CONSPIRACY SPIRIT  | A Awe-Inspiring Story of a Student And a Frisbee who must Conquer a Crocodile in An Abandoned Mine Shaft                | Classics    |  2.99 |    184 | PG-13  | MINNIE KILMER, CHRISTOPHER WEST, MENA HOPPER, KIRK JOVOVICH                                                                                     |\n",
      "|  813 | SMOOCHY CONTROL    | A Thrilling Documentary of a Husband And a Feminist who must Face a Mad Scientist in Ancient China                      | Sports      |  0.99 |    184 | R      | DARYL WAHLBERG, JAYNE SILVERSTONE                                                                                                               |\n",
      "|  820 | SONS INTERVIEW     | A Taut Character Study of a Explorer And a Mad Cow who must Battle a Hunter in Ancient China                            | Animation   |  2.99 |    184 | NC-17  | CUBA BIRCH, SANDRA KILMER, PARKER GOLDBERG, WHOOPI HURT, HUMPHREY WILLIS, JEFF SILVERSTONE                                                      |\n",
      "|  821 | SORORITY QUEEN     | A Fast-Paced Display of a Squirrel And a Composer who must Fight a Forensic Psychologist in A Jet Boat                  | Foreign     |  0.99 |    184 | NC-17  | RIVER DEAN, RIP CRAWFORD, BEN HARRIS, CATE HARRIS                                                                                               |\n",
      "|  886 | THEORY MERMAID     | A Fateful Yarn of a Composer And a Monkey who must Vanquish a Womanizer in The First Manned Space Station               | Animation   |  0.99 |    184 | PG-13  | JULIA FAWCETT, MARY KEITEL, MENA HOPPER, WILL WILSON, FRED COSTNER, CUBA OLIVIER                                                                |\n",
      "|  597 | MOONWALKER FOOL    | A Epic Drama of a Feminist And a Pioneer who must Sink a Composer in New Orleans                                        | Games       |  4.99 |    184 | G      | DARYL CRAWFORD, ZERO CAGE, UMA WOOD, WOODY HOFFMAN, RAY JOHANSSON, HUMPHREY GARLAND, MARY KEITEL                                                |\n",
      "|  426 | HOME PITY          | A Touching Panorama of a Man And a Secret Agent who must Challenge a Teacher in A MySQL Convention                      | Music       |  4.99 |    185 | R      | JOHN SUVARI, AUDREY BAILEY, NICK DEGENERES, CHRISTIAN AKROYD, BURT DUKAKIS, KIRSTEN PALTROW                                                     |\n",
      "|  349 | GANGS PRIDE        | A Taut Character Study of a Woman And a A Shark who must Confront a Frisbee in Berlin                                   | Animation   |  2.99 |    185 | PG-13  | ELVIS MARX, FRANCES DAY-LEWIS, FAY WOOD, KENNETH HOFFMAN                                                                                        |\n",
      "|  609 | MUSCLE BRIGHT      | A Stunning Panorama of a Sumo Wrestler And a Husband who must Redeem a Madman in Ancient India                          | Travel      |  2.99 |    185 | G      | GROUCHO WILLIAMS, MATTHEW CARREY, JEFF SILVERSTONE, MATTHEW LEIGH, SEAN WILLIAMS                                                                |\n",
      "|  690 | POND SEATTLE       | A Stunning Drama of a Teacher And a Boat who must Battle a Feminist in Ancient China                                    | Animation   |  2.99 |    185 | PG-13  | GENE HOPKINS, DARYL WAHLBERG, RIVER DEAN                                                                                                        |\n",
      "|  212 | DARN FORRESTER     | A Fateful Story of a A Shark And a Explorer who must Succumb a Technical Writer in A Jet Boat                           | Action      |  4.99 |    185 | G      | BOB FAWCETT, SANDRA KILMER, MENA HOPPER, CATE MCQUEEN, CHRIS BRIDGES, SEAN GUINESS, CHARLIZE DENCH, RALPH CRUZ, JODIE DEGENERES                 |\n",
      "|  182 | CONTROL ANTHEM     | A Fateful Documentary of a Robot And a Student who must Battle a Cat in A Monastery                                     | Comedy      |  4.99 |    185 | G      | BOB FAWCETT, AUDREY OLIVIER, CHARLIZE DENCH                                                                                                     |\n",
      "|  817 | SOLDIERS EVOLUTION | A Lacklusture Panorama of a A Shark And a Pioneer who must Confront a Student in The First Manned Space Station         | Sci-Fi      |  4.99 |    185 | R      | UMA WOOD, JOHNNY LOLLOBRIGIDA, CUBA OLIVIER, JUDY DEAN, SEAN GUINESS, RUSSELL BACALL, MINNIE KILMER, ED GUINESS, MARY KEITEL                    |\n",
      "|  141 | CHICAGO NORTH      | A Fateful Yarn of a Mad Cow And a Waitress who must Battle a Student in California                                      | Games       |  4.99 |    185 | PG-13  | JAYNE SILVERSTONE, BURT TEMPLE, MERYL GIBSON, RIVER DEAN, KEVIN GARLAND, LIZA BERGMAN, CUBA ALLEN, MAE HOFFMAN                                  |\n",
      "|  872 | SWEET BROTHERHOOD  | A Unbelieveable Epistle of a Sumo Wrestler And a Hunter who must Chase a Forensic Psychologist in A Baloon              | Travel      |  2.99 |    185 | R      | OLYMPIA PFEIFFER, MERYL ALLEN, JON CHASE, SPENCER DEPP, MILLA KEITEL, RIVER DEAN                                                                |\n",
      "|  991 | WORST BANGER       | A Thrilling Drama of a Madman And a Dentist who must Conquer a Boy in The Outback                                       | Action      |  2.99 |    185 | PG     | MATTHEW CARREY, SPENCER DEPP, KIRSTEN AKROYD, PARKER GOLDBERG                                                                                   |\n",
      "+------+--------------------+-------------------------------------------------------------------------------------------------------------------------+-------------+-------+--------+--------+-------------------------------------------------------------------------------------------------------------------------------------------------+\n"
     ]
    }
   ],
   "source": [
    "#finds all the films that are longer than 3 hours in ascending order from the film_list table\n",
    "!mysql sakila -e \"select * from film_list where length > 180 order by length asc\" "
   ]
  },
  {
   "cell_type": "code",
   "execution_count": 70,
   "id": "62b39f69-73bb-4d2f-a04b-179d9484bd77",
   "metadata": {},
   "outputs": [],
   "source": [
    "#adds record into actor table with name of Tony Wang and id 201.\n",
    "!mysql sakila -e \"insert into actor (actor_id, first_name, last_name) values (201, 'Tony', 'Wang')\""
   ]
  },
  {
   "cell_type": "code",
   "execution_count": 5,
   "id": "062c5731-b826-4fbb-9cb4-9d04618c9cec",
   "metadata": {},
   "outputs": [
    {
     "name": "stdout",
     "output_type": "stream",
     "text": [
      "+----------+------------+-----------+---------------------+\n",
      "| actor_id | first_name | last_name | last_update         |\n",
      "+----------+------------+-----------+---------------------+\n",
      "|      201 | Tony       | Wang      | 2023-09-05 22:15:58 |\n",
      "+----------+------------+-----------+---------------------+\n"
     ]
    }
   ],
   "source": [
    "!mysql sakila -e \"select * from actor where actor_id = 201\""
   ]
  },
  {
   "cell_type": "code",
   "execution_count": 7,
   "id": "39258bd0-8f74-4222-b4ef-530bcbc34c7b",
   "metadata": {},
   "outputs": [],
   "source": [
    "#updates all the postal codes in the address table to be 0\n",
    "!mysql sakila -e \"update address set postal_code = 00000\""
   ]
  },
  {
   "cell_type": "code",
   "execution_count": 8,
   "id": "6079c1d6-b8a4-4fd4-ac3b-3bc76352a903",
   "metadata": {},
   "outputs": [
    {
     "name": "stdout",
     "output_type": "stream",
     "text": [
      "+------------+------------------------+----------+----------------+---------+-------------+--------------+---------------------------+---------------------+\n",
      "| address_id | address                | address2 | district       | city_id | postal_code | phone        | location                  | last_update         |\n",
      "+------------+------------------------+----------+----------------+---------+-------------+--------------+---------------------------+---------------------+\n",
      "|        264 | 1027 Banjul Place      |          | West Bengali   |     197 | 0           | 538241037443 |     \u0001\u0001   �\u0014\";�\u001aV@�o`r��6@      | 2023-09-05 22:41:57 |\n",
      "|        252 | 1309 Weifang Street    |          | Florida        |     520 | 0           | 435785045362 |     \u0001\u0001   �\f",
      "���\u0011U��Z d2p>@       | 2023-09-05 22:41:57 |\n",
      "|        272 | 1762 Paarl Parkway     |          | Hunan          |     298 | 0           | 192459639410 |     \u0001\u0001   g3=\u0017|�[@ۨ��$�;@      | 2023-09-05 22:41:57 |\n",
      "|        120 | 544 Malm Parkway       |          | Central Java   |     403 | 0           | 386759646229 |     \u0001\u0001   :�Z�wW[@&�\u0003�\u0006�\u001b�       | 2023-09-05 22:41:57 |\n",
      "|        192 | 1166 Changhwa Street   |          | Caraga         |      62 | 0           | 650752094490 |     \u0001\u0001   ��V \u001fq_@�>�\u0012!�!@      | 2023-09-05 22:41:57 |\n",
      "|        603 | 1103 Quilmes Boulevard |          | Piura          |     503 | 0           | 644021380889 |     \u0001\u0001   �����+T��\u0001.Ȗ�\u0013�           | 2023-09-05 22:41:57 |\n",
      "|        414 | 1936 Lapu-Lapu Parkway |          | Bauchi & Gombe |     141 | 0           | 653436985797 |     \u0001\u0001                    | 2023-09-05 22:41:57 |\n",
      "|        129 | 569 Baicheng Lane      |          | Gauteng        |      85 | 0           | 490211944645 |     \u0001\u0001   �\u001e",
      "Q�sB<@H�Q�C6:�      | 2023-09-05 22:41:57 |\n",
      "|          5 | 1913 Hanoi Way         |          | Nagasaki       |     463 | 0           | 28303384290  |     \u0001\u0001   (�7\u000e!7`@����_�@@       | 2023-09-05 22:41:57 |\n",
      "|        522 | 1768 Udine Loop        |          | Battambang     |      60 | 0           | 448876499197 |     \u0001\u0001   p�\u0002ǯ�Y@*�\u0015Ӗ4*@      | 2023-09-05 22:41:57 |\n",
      "+------------+------------------------+----------+----------------+---------+-------------+--------------+---------------------------+---------------------+\n"
     ]
    }
   ],
   "source": [
    "!mysql sakila -e \"select * from address order by rand() limit 10\""
   ]
  },
  {
   "cell_type": "code",
   "execution_count": 11,
   "id": "0e5407aa-f907-4b00-88df-9ddee7de30c4",
   "metadata": {},
   "outputs": [
    {
     "name": "stdout",
     "output_type": "stream",
     "text": [
      "ERROR 1451 (23000) at line 1: Cannot delete or update a parent row: a foreign key constraint fails (`sakila`.`customer`, CONSTRAINT `fk_customer_address` FOREIGN KEY (`address_id`) REFERENCES `address` (`address_id`) ON DELETE RESTRICT ON UPDATE CASCADE)\n"
     ]
    }
   ],
   "source": [
    "!mysql sakila -e \"delete from address where address = '1842 Luzinia Boulevard'\""
   ]
  },
  {
   "cell_type": "code",
   "execution_count": 12,
   "id": "93ae8a20-240d-495c-b570-117d65251f15",
   "metadata": {},
   "outputs": [],
   "source": [
    "#deleted japanese (language_id = 3) from the language \n",
    "!mysql sakila -e \"delete from language where language_id = 3\""
   ]
  },
  {
   "cell_type": "code",
   "execution_count": 13,
   "id": "8f04260a-5272-48fb-9b6a-5d5553108d0e",
   "metadata": {},
   "outputs": [
    {
     "name": "stdout",
     "output_type": "stream",
     "text": [
      "+-------------+----------+---------------------+\n",
      "| language_id | name     | last_update         |\n",
      "+-------------+----------+---------------------+\n",
      "|           1 | English  | 2006-02-15 05:02:19 |\n",
      "|           2 | Italian  | 2006-02-15 05:02:19 |\n",
      "|           4 | Mandarin | 2006-02-15 05:02:19 |\n",
      "|           5 | French   | 2006-02-15 05:02:19 |\n",
      "|           6 | German   | 2006-02-15 05:02:19 |\n",
      "+-------------+----------+---------------------+\n"
     ]
    }
   ],
   "source": [
    "!mysql sakila -e \"select * from language\""
   ]
  }
 ],
 "metadata": {
  "environment": {
   "kernel": "python3",
   "name": "common-cpu.m110",
   "type": "gcloud",
   "uri": "gcr.io/deeplearning-platform-release/base-cpu:m110"
  },
  "kernelspec": {
   "display_name": "Python 3",
   "language": "python",
   "name": "python3"
  },
  "language_info": {
   "codemirror_mode": {
    "name": "ipython",
    "version": 3
   },
   "file_extension": ".py",
   "mimetype": "text/x-python",
   "name": "python",
   "nbconvert_exporter": "python",
   "pygments_lexer": "ipython3",
   "version": "3.10.12"
  }
 },
 "nbformat": 4,
 "nbformat_minor": 5
}
