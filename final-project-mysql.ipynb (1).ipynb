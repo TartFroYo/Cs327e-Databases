{
 "cells": [
  {
   "cell_type": "code",
   "execution_count": 2,
   "id": "6d539783-c6bb-4074-bb76-a5a2f3c953c5",
   "metadata": {},
   "outputs": [],
   "source": [
    "HOST = \"10.13.128.5\"\n",
    "USER = \"root\"\n",
    "PW=\"+syNZ&-e<]^|eX60\"\n",
    "DB=\"final_project\""
   ]
  },
  {
   "cell_type": "code",
   "execution_count": 3,
   "id": "8182ea1b-260b-4a6e-be66-52166d6bd9e1",
   "metadata": {},
   "outputs": [],
   "source": [
    "import mysql.connector\n",
    "\n",
    "def connect():\n",
    "    connection = mysql.connector.connect(\n",
    "    host=HOST,\n",
    "    user=USER,\n",
    "    password=PW,\n",
    "    database=DB,\n",
    "    autocommit=False)\n",
    "    \n",
    "    return connection"
   ]
  },
  {
   "cell_type": "code",
   "execution_count": 4,
   "id": "9f7d93fb-d640-4f5d-b5eb-8f0c4dbebc56",
   "metadata": {},
   "outputs": [
    {
     "name": "stdout",
     "output_type": "stream",
     "text": [
      "<mysql.connector.connection_cext.CMySQLConnection object at 0x7f95d6edcd60>\n"
     ]
    }
   ],
   "source": [
    "import mysql.connector\n",
    "\n",
    "connection = connect()\n",
    "\n",
    "print(connection)"
   ]
  },
  {
   "cell_type": "code",
   "execution_count": 61,
   "id": "7d66bbe7-8c1f-46fb-a81b-e4ee9fc5f7c2",
   "metadata": {
    "tags": []
   },
   "outputs": [
    {
     "name": "stdout",
     "output_type": "stream",
     "text": [
      "<mysql.connector.connection_cext.CMySQLConnection object at 0x7f95d4f39990>\n",
      "DROP TABLE IF EXISTS shopper\n",
      "CREATE TABLE shopper(\n",
      "    cust_id MEDIUMINT NOT NULL AUTO_INCREMENT,\n",
      "    first_name VARCHAR(20) NOT NULL,\n",
      "    last_name VARCHAR(23) NOT NULL,\n",
      "    company VARCHAR(40) NOT NULL, \n",
      "    street_1 VARCHAR(41) NOT NULL, \n",
      "    street_2 VARCHAR(41) NOT NULL,\n",
      "    city VARCHAR(29) NOT NULL,\n",
      "    county VARCHAR(30) NOT NULL, \n",
      "    state CHAR(2)NOT NULL, \n",
      "    zip CHAR(5) NOT NULL,\n",
      "    phone_1 CHAR(13) NOT NULL,\n",
      "    phone_2 CHAR(13)NOT NULL,\n",
      "    email VARCHAR(44) NOT NULL,\n",
      "    PRIMARY KEY  (cust_id)\n",
      ") \n",
      "Dropped shopper table\n",
      "Created shopper table\n"
     ]
    }
   ],
   "source": [
    "import mysql.connector\n",
    "\n",
    "connection = connect()\n",
    "print(connection)\n",
    "\n",
    "drop = 'DROP TABLE IF EXISTS shopper'\n",
    "\n",
    "create = '''CREATE TABLE shopper(\n",
    "    cust_id MEDIUMINT NOT NULL AUTO_INCREMENT,\n",
    "    first_name VARCHAR(20) NOT NULL,\n",
    "    last_name VARCHAR(23) NOT NULL,\n",
    "    company VARCHAR(40) NOT NULL, \n",
    "    street_1 VARCHAR(41) NOT NULL, \n",
    "    street_2 VARCHAR(41) NOT NULL,\n",
    "    city VARCHAR(29) NOT NULL,\n",
    "    county VARCHAR(30) NOT NULL, \n",
    "    state CHAR(2)NOT NULL, \n",
    "    zip CHAR(5) NOT NULL,\n",
    "    phone_1 CHAR(13) NOT NULL,\n",
    "    phone_2 CHAR(13)NOT NULL,\n",
    "    email VARCHAR(44) NOT NULL,\n",
    "    PRIMARY KEY  (cust_id)\n",
    ") '''\n",
    "\n",
    "print(drop)\n",
    "print(create)\n",
    "\n",
    "try:\n",
    "    cursor = connection.cursor()\n",
    "    cursor.execute(drop)\n",
    "    print('Dropped shopper table')\n",
    "    \n",
    "    cursor = connection.cursor()\n",
    "    cursor.execute(create)\n",
    "    print('Created shopper table')\n",
    "    \n",
    "except Exception as e:\n",
    "    print(\"Error occurred while creating shopper table:\", e)"
   ]
  },
  {
   "cell_type": "code",
   "execution_count": 62,
   "id": "419bd17f-5643-4981-b992-5375c151d0b8",
   "metadata": {},
   "outputs": [
    {
     "name": "stdout",
     "output_type": "stream",
     "text": [
      "50 records written into shopper table\n"
     ]
    }
   ],
   "source": [
    "from faker import Faker\n",
    "import mysql.connector\n",
    "from random import randint\n",
    "\n",
    "Faker.seed(1234)\n",
    "fake = Faker()\n",
    "\n",
    "\n",
    "connection = connect()\n",
    "# print(connection)\n",
    "\n",
    "sql = \"INSERT INTO shopper (first_name, last_name, company, street_1, street_2, city, county, state, zip, phone_1, phone_2, email)\\\n",
    " \t  VALUES (%s, %s, %s, %s, %s, %s, %s, %s, %s, %s, %s, %s)\"\n",
    "\n",
    "recs=[]\n",
    "\n",
    "for i in range(50):\n",
    "    fname = fake.first_name()\n",
    "    lname = fake.last_name()\n",
    "    add = fake.address()\n",
    "    email = f\"{fname}.{lname}@{fake.domain_name()}\"\n",
    "    \n",
    "    rec = (fname,\n",
    "           lname,\n",
    "           fake.company(),\n",
    "           fake.street_address(),\n",
    "           fake.building_number(),\n",
    "           fake.city(),\n",
    "           fake.city(),\n",
    "           fake.country_code(),\n",
    "           str(randint(10000,99999)),\n",
    "           fake.msisdn(),\n",
    "           fake.msisdn(),\n",
    "           email)\n",
    "    recs.append(rec)\n",
    "           \n",
    "try:\n",
    "    cursor = connection.cursor()\n",
    "    cursor.executemany(sql, recs)\n",
    "    connection.commit()\n",
    "    print('50 records written into shopper table')\n",
    "    cursor.close()\n",
    "except Exception as e:\n",
    "    print(\"Error occurred while writing records:\", e)     \n"
   ]
  },
  {
   "cell_type": "code",
   "execution_count": 58,
   "id": "606a747e-4dac-44e6-8698-9245dd9a42e3",
   "metadata": {
    "collapsed": true,
    "jupyter": {
     "outputs_hidden": true
    },
    "tags": []
   },
   "outputs": [
    {
     "name": "stdout",
     "output_type": "stream",
     "text": [
      "+---------+------------+-----------+---------------------------------+-----------------------------------+----------+---------------------+--------------------+-------+-------+---------------+---------------+-------------------------------------+\n",
      "| cust_id | first_name | last_name | company                         | street_1                          | street_2 | city                | county             | state | zip   | phone_1       | phone_2       | email                               |\n",
      "+---------+------------+-----------+---------------------------------+-----------------------------------+----------+---------------------+--------------------+-------+-------+---------------+---------------+-------------------------------------+\n",
      "|       1 | Tammy      | Alexander | Gordon and Sons                 | 871 Zachary Cape                  | 8147     | Josephborough       | Mcdowelltown       | SE    | 42117 | 0527620197218 | 2051824706402 | Tammy.Alexander@davis.com           |\n",
      "|       2 | Joseph     | Evans     | Calderon Group                  | 435 Jacqueline Valleys Apt. 942   | 571      | South Jasonport     | East Williamland   | ME    | 87715 | 4719416316378 | 5386293405827 | Joseph.Evans@graham-wilson.net      |\n",
      "|       3 | Rebecca    | Tapia     | Bonilla Ltd                     | 8465 Mary Course Suite 466        | 481      | Hillport            | Williamsmouth      | HT    | 13051 | 2640176467267 | 4959532897707 | Rebecca.Tapia@williams.com          |\n",
      "|       4 | Donna      | Garcia    | Adams-Malone                    | 45206 Elizabeth Cape              | 25856    | Port Katherineport  | Helenshire         | GN    | 60449 | 8109593277289 | 2832886528989 | Donna.Garcia@steele.com             |\n",
      "|       5 | Carol      | Griffin   | Fischer, Allen and Joyce        | 595 Thompson Route                | 33998    | New Tara            | Deniseton          | US    | 18573 | 5954665340594 | 8903899582545 | Carol.Griffin@simmons-peterson.info |\n",
      "|       6 | Mary       | Nelson    | Wallace, Cross and Fitzgerald   | 869 Daniel Mountains              | 1882     | Johnland            | Philipport         | LC    | 85156 | 6839775781871 | 3295264340259 | Mary.Nelson@tucker.info             |\n",
      "|       7 | Cory       | Brown     | Lawson-Butler                   | 466 Jennings Park Suite 342       | 62039    | Courtneyborough     | Hardintown         | SY    | 49621 | 1113676348588 | 1408222662824 | Cory.Brown@moore.org                |\n",
      "|       8 | Clayton    | Fernandez | Werner and Sons                 | 823 Ramsey River                  | 0853     | Port Angela         | West Lisabury      | KZ    | 14440 | 6676598399974 | 9004917936630 | Clayton.Fernandez@cabrera.com       |\n",
      "|       9 | Ryan       | Rodriguez | Holmes, Mcintyre and Jenkins    | 42397 Patricia Gardens Suite 724  | 64804    | Stephanieborough    | Lake Antonio       | KP    | 89046 | 0626594119695 | 6782618859883 | Ryan.Rodriguez@reed.com             |\n",
      "|      10 | Diana      | Garcia    | Rodriguez Ltd                   | 829 Joseph Village Suite 499      | 95853    | New Kayleeville     | Andreland          | AT    | 49454 | 8959690671315 | 5651022752104 | Diana.Garcia@gomez.org              |\n",
      "|      11 | Ashley     | Johnson   | Johnston, Torres and Hill       | 2494 Kenneth Drives               | 970      | Robertton           | Danatown           | SD    | 52665 | 3943764586647 | 9954351695564 | Ashley.Johnson@porter.info          |\n",
      "|      12 | Paul       | David     | Walker-Peters                   | 128 Thompson Mission Suite 471    | 87700    | Karenfurt           | South Sharon       | TT    | 50663 | 3245429867039 | 6129011221751 | Paul.David@schaefer-jenkins.org     |\n",
      "|      13 | Natalie    | Smith     | Fox, Oconnor and Scott          | 59005 Carr Motorway               | 61468    | Lake Mariofurt      | Timothyton         | MT    | 67129 | 6038981918557 | 0009839164883 | Natalie.Smith@mccoy-morales.com     |\n",
      "|      14 | Jonathan   | Evans     | Lam, Schmidt and Davidson       | 46090 Henderson Corners Suite 390 | 14039    | Blankenshipside     | East Deborahville  | LU    | 87670 | 8111703663595 | 0686737978589 | Jonathan.Evans@swanson.com          |\n",
      "|      15 | Elizabeth  | Barker    | Wyatt-Kerr                      | 994 Davis Prairie Apt. 757        | 180      | North Jason         | South Lisastad     | VC    | 56061 | 1439825548708 | 0603142486924 | Elizabeth.Barker@lopez.com          |\n",
      "|      16 | Travis     | Jones     | Jones-Yu                        | 884 Tyler Parks                   | 853      | South Tonya         | South Marialand    | KN    | 84553 | 0964362332310 | 4832099465732 | Travis.Jones@myers-weeks.com        |\n",
      "|      17 | Kathleen   | Gardner   | Krause PLC                      | 56663 Mary Knolls Suite 229       | 64874    | Wrightfurt          | North Leonardton   | BD    | 49482 | 0174342191159 | 5427791671727 | Kathleen.Gardner@ward.com           |\n",
      "|      18 | Joanne     | Graves    | Fitzgerald-Wall                 | 44562 Anthony Village Apt. 809    | 16785    | Maryfurt            | South Theresamouth | LA    | 26489 | 1859714867983 | 8367944146514 | Joanne.Graves@glover.com            |\n",
      "|      19 | Patricia   | Watson    | Hardy, Fields and Foley         | 0071 Martinez Forest              | 5863     | Lake Amberview      | Alexamouth         | LB    | 31150 | 2604748499584 | 8624982120155 | Patricia.Watson@kelly.com           |\n",
      "|      20 | Brittany   | Moreno    | Smith LLC                       | 89714 Stephanie Harbors Apt. 066  | 005      | Brianstad           | North Raymond      | SC    | 76310 | 9636974077920 | 1721436936508 | Brittany.Moreno@weiss.biz           |\n",
      "|      21 | Jason      | Anderson  | Russell Ltd                     | 5272 King Plain Suite 741         | 4037     | Bakerton            | Angelabury         | RO    | 23241 | 4488098290115 | 6954743896807 | Jason.Anderson@reed.com             |\n",
      "|      22 | Michael    | Douglas   | Smith LLC                       | 22818 Tyler Meadows               | 324      | Gutierrezhaven      | West Emily         | LV    | 88566 | 8256048818082 | 3462917937161 | Michael.Douglas@reed-potter.net     |\n",
      "|      23 | Joshua     | Farmer    | Thompson-Carter                 | 839 Garcia Ports                  | 7564     | Deleonmouth         | Jessicaview        | CY    | 99622 | 0090045724551 | 0975469993902 | Joshua.Farmer@hill-melendez.org     |\n",
      "|      24 | Dillon     | Roy       | Le, Herrera and Delgado         | 2580 Brown Brooks                 | 8840     | North Katherinestad | East Sheila        | KW    | 59834 | 0071831442400 | 1231707765392 | Dillon.Roy@hansen.info              |\n",
      "|      25 | James      | Murphy    | Gamble-Clark                    | 3254 Wesley Haven Apt. 997        | 13609    | Michaelberg         | Villarrealside     | TR    | 11257 | 4150294523357 | 5630698911720 | James.Murphy@perkins.com            |\n",
      "|      26 | Alexandra  | Palmer    | Hall-Rodriguez                  | 148 Tonya Pines                   | 8962     | North Micheal       | Stephanieville     | SY    | 80412 | 2369031307928 | 9449993459016 | Alexandra.Palmer@smith.org          |\n",
      "|      27 | Cynthia    | Delacruz  | Gallagher Group                 | 697 White Road Apt. 683           | 25716    | South Amanda        | East Robert        | EG    | 42905 | 5076427312853 | 2517348529090 | Cynthia.Delacruz@harris-vazquez.com |\n",
      "|      28 | Kimberly   | Martinez  | Nelson LLC                      | 720 Brittney Crescent             | 436      | Annville            | North David        | NZ    | 68821 | 4083621120666 | 3687922344100 | Kimberly.Martinez@petersen.biz      |\n",
      "|      29 | Brandon    | Andrews   | Wheeler Inc                     | 923 Shannon Ridges Apt. 163       | 0029     | South Tracy         | Brownhaven         | MN    | 15337 | 4174816362458 | 6931655846164 | Brandon.Andrews@dunlap.com          |\n",
      "|      30 | Billy      | Rivera    | Garcia-Turner                   | 65847 Warren Dale Suite 871       | 78052    | Port Christineport  | Snowmouth          | HU    | 96020 | 8869964579035 | 0520228923069 | Billy.Rivera@ray.com                |\n",
      "|      31 | Sean       | Ruiz      | Patrick LLC                     | 64335 Brooks Track                | 8812     | Lake Briana         | Stephentown        | TJ    | 75813 | 3987959399472 | 3271952518602 | Sean.Ruiz@montgomery.biz            |\n",
      "|      32 | Kevin      | Ryan      | Nguyen, Jacobs and Salazar      | 5707 Christopher Radial Suite 116 | 868      | Murphystad          | Huntshire          | TJ    | 51397 | 7627111048395 | 7494253171429 | Kevin.Ryan@hudson-davis.biz         |\n",
      "|      33 | Chelsea    | Guerra    | Barton, Rhodes and Peterson     | 454 Sandoval Junction Suite 764   | 628      | Beasleyport         | Kramerhaven        | MU    | 50074 | 7363838500597 | 9948577312372 | Chelsea.Guerra@contreras.info       |\n",
      "|      34 | Derrick    | Johnson   | Williams, Stanton and Patterson | 9400 Wu Court                     | 280      | South Jessicashire  | Melissamouth       | BO    | 62509 | 1422261182410 | 7725910429654 | Derrick.Johnson@payne.info          |\n",
      "|      35 | Kristy     | Ho        | Chapman PLC                     | 59869 Brianna Divide              | 9142     | Vanessamouth        | Kaylamouth         | VC    | 97211 | 5758904183793 | 2154043953087 | Kristy.Ho@king.com                  |\n",
      "|      36 | Jessica    | Elliott   | Best, Jefferson and Jacobs      | 969 Wendy Lodge                   | 285      | Nicoleport          | Smithfurt          | HU    | 96034 | 0278303577843 | 0326539595662 | Jessica.Elliott@nguyen-meyer.biz    |\n",
      "|      37 | Emily      | Zimmerman | Goodwin-Sullivan                | 976 Jeremy Center Suite 256       | 4831     | Michaelfurt         | Parkerfort         | AG    | 64970 | 0394691371130 | 9907998744910 | Emily.Zimmerman@andrews.com         |\n",
      "|      38 | Daniel     | Lin       | Lewis and Sons                  | 63475 Compton Knolls Apt. 868     | 6827     | Fuentesville        | Taylorland         | BN    | 29536 | 6242930222869 | 6729801544271 | Daniel.Lin@lopez.com                |\n",
      "|      39 | Elizabeth  | Chavez    | Gutierrez-Mcgee                 | 6264 Powell Summit Suite 044      | 2746     | Nicolebury          | West Ann           | TV    | 96890 | 2132600297159 | 3956905398580 | Elizabeth.Chavez@jensen.com         |\n",
      "|      40 | Stephen    | Frazier   | Solis-Kelly                     | 42565 Alex Circle Apt. 918        | 4093     | East Amanda         | Wigginsshire       | IE    | 63155 | 0890398255270 | 8553142789947 | Stephen.Frazier@conley-krueger.com  |\n",
      "|      41 | Erik       | Cole      | Kennedy, Burton and Hickman     | 44055 Hannah Vista                | 25585    | Singletonville      | Kevinville         | CA    | 14788 | 9409051117106 | 5726071115794 | Erik.Cole@barnes.com                |\n",
      "|      42 | Eric       | Moore     | Atkinson Inc                    | 72549 Kemp Islands                | 855      | Paulmouth           | West Michelle      | PW    | 13292 | 9158420610977 | 8477647830512 | Eric.Moore@martinez.com             |\n",
      "|      43 | Andrew     | Garcia    | Hughes and Sons                 | 513 Calderon Circle               | 1958     | Julieton            | Chanburgh          | BH    | 76374 | 5357802342809 | 8947721315514 | Andrew.Garcia@joseph.com            |\n",
      "|      44 | David      | Mercado   | Manning-Grant                   | 04997 Sue Parkways Apt. 735       | 2831     | Madisontown         | New Erik           | KP    | 64895 | 9641613952596 | 3080626176897 | David.Mercado@mays.com              |\n",
      "|      45 | Brittany   | Jarvis    | Lyons-Martinez                  | 7102 Mackenzie Park               | 62931    | East William        | Adamsburgh         | MT    | 14884 | 2222844338640 | 2119135279620 | Brittany.Jarvis@clarke.com          |\n",
      "|      46 | Anna       | Russell   | Leblanc, Bailey and White       | 575 Benitez Mission Apt. 855      | 88822    | Lake Michael        | Saraborough        | NR    | 77971 | 6090262019122 | 5030912872340 | Anna.Russell@thomas.net             |\n",
      "|      47 | Joseph     | Ramirez   | Moran-Brennan                   | 448 Harris Plaza Apt. 767         | 1375     | East Mark           | Kevinfurt          | RU    | 28869 | 2044860124992 | 2518043877956 | Joseph.Ramirez@daniel.com           |\n",
      "|      48 | Joshua     | Cole      | Barker, Davis and Lopez         | 398 Davies Union                  | 4352     | Port Alicia         | East John          | NO    | 90836 | 0812712781557 | 1178389721828 | Joshua.Cole@scott.com               |\n",
      "|      49 | Christine  | Ford      | Lee-Yang                        | 321 Smith Court                   | 355      | East Baileyland     | Jaredville         | CL    | 64071 | 3609107289772 | 4291503907415 | Christine.Ford@johnson.com          |\n",
      "|      50 | Melissa    | Reynolds  | White Ltd                       | 9963 Mitchell Villages Suite 643  | 1884     | Lindsayview         | Joebury            | DK    | 97986 | 1074186719366 | 7163947082120 | Melissa.Reynolds@walker.com         |\n",
      "+---------+------------+-----------+---------------------------------+-----------------------------------+----------+---------------------+--------------------+-------+-------+---------------+---------------+-------------------------------------+\n"
     ]
    }
   ],
   "source": [
    "!mysql final_project -e \"select * from shopper\""
   ]
  }
 ],
 "metadata": {
  "environment": {
   "kernel": "python3",
   "name": "common-cpu.m111",
   "type": "gcloud",
   "uri": "gcr.io/deeplearning-platform-release/base-cpu:m111"
  },
  "kernelspec": {
   "display_name": "Python 3",
   "language": "python",
   "name": "python3"
  },
  "language_info": {
   "codemirror_mode": {
    "name": "ipython",
    "version": 3
   },
   "file_extension": ".py",
   "mimetype": "text/x-python",
   "name": "python",
   "nbconvert_exporter": "python",
   "pygments_lexer": "ipython3",
   "version": "3.10.12"
  }
 },
 "nbformat": 4,
 "nbformat_minor": 5
}
