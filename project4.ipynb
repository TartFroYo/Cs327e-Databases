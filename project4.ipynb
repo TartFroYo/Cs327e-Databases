{
 "cells": [
  {
   "cell_type": "markdown",
   "metadata": {},
   "source": [
    "### Starter code for Project 4. \n",
    "#### Run these cells before starting the assignment. "
   ]
  },
  {
   "cell_type": "markdown",
   "metadata": {},
   "source": [
    "#### 1. create BQ dataset:"
   ]
  },
  {
   "cell_type": "code",
   "execution_count": 1,
   "metadata": {},
   "outputs": [
    {
     "name": "stdout",
     "output_type": "stream",
     "text": [
      "env: dataset_id=school_enrollments\n"
     ]
    }
   ],
   "source": [
    "%env dataset_id=school_enrollments"
   ]
  },
  {
   "cell_type": "code",
   "execution_count": 4,
   "metadata": {},
   "outputs": [
    {
     "name": "stdout",
     "output_type": "stream",
     "text": [
      "Dataset 'firm-champion-397418:school_enrollments' successfully created.\n"
     ]
    }
   ],
   "source": [
    "!bq --location=US mk --dataset $dataset_id"
   ]
  },
  {
   "cell_type": "markdown",
   "metadata": {},
   "source": [
    "#### 2. create and populate BQ tables:\n",
    "##### Note: the load commands will run for a few minutes. Please be patient and wait for them to finish before moving onto step 3."
   ]
  },
  {
   "cell_type": "code",
   "execution_count": 5,
   "metadata": {},
   "outputs": [],
   "source": [
    "import os"
   ]
  },
  {
   "cell_type": "code",
   "execution_count": 6,
   "metadata": {
    "collapsed": true,
    "jupyter": {
     "outputs_hidden": true
    },
    "tags": []
   },
   "outputs": [
    {
     "name": "stdout",
     "output_type": "stream",
     "text": [
      "bq --location=US load --autodetect --skip_leading_rows=1 --source_format=CSV school_enrollments.ak gs://cs327e-open-access/stanford-school-enrollment/zf406jp4427_ak.csv\n",
      "\n"
     ]
    },
    {
     "name": "stderr",
     "output_type": "stream",
     "text": [
      "Waiting on bqjob_r2d51ec3c166f57f_0000018acdd9baf7_1 ... (2s) Current status: DONE   \n"
     ]
    },
    {
     "name": "stdout",
     "output_type": "stream",
     "text": [
      "bq --location=US load --autodetect --skip_leading_rows=1 --source_format=CSV school_enrollments.ar gs://cs327e-open-access/stanford-school-enrollment/zf406jp4427_ar.csv\n",
      "\n"
     ]
    },
    {
     "name": "stderr",
     "output_type": "stream",
     "text": [
      "Waiting on bqjob_r6d20cb29efbcd796_0000018acdd9cfe1_1 ... (4s) Current status: DONE   \n"
     ]
    },
    {
     "name": "stdout",
     "output_type": "stream",
     "text": [
      "bq --location=US load --autodetect --skip_leading_rows=1 --source_format=CSV school_enrollments.az gs://cs327e-open-access/stanford-school-enrollment/zf406jp4427_az.csv\n",
      "\n"
     ]
    },
    {
     "name": "stderr",
     "output_type": "stream",
     "text": [
      "Waiting on bqjob_r60cc468d551c2df3_0000018acdd9edd9_1 ... (5s) Current status: DONE   \n"
     ]
    },
    {
     "name": "stdout",
     "output_type": "stream",
     "text": [
      "bq --location=US load --autodetect --skip_leading_rows=1 --source_format=CSV school_enrollments.ca gs://cs327e-open-access/stanford-school-enrollment/zf406jp4427_ca.csv\n",
      "\n"
     ]
    },
    {
     "name": "stderr",
     "output_type": "stream",
     "text": [
      "Waiting on bqjob_r57b43227da06c8f4_0000018acdda101a_1 ... (48s) Current status: DONE   \n"
     ]
    },
    {
     "name": "stdout",
     "output_type": "stream",
     "text": [
      "skipping co\n",
      "bq --location=US load --autodetect --skip_leading_rows=1 --source_format=CSV school_enrollments.ct gs://cs327e-open-access/stanford-school-enrollment/zf406jp4427_ct.csv\n",
      "\n"
     ]
    },
    {
     "name": "stderr",
     "output_type": "stream",
     "text": [
      "Waiting on bqjob_r6a99ab54667a9f1c_0000018acddad90a_1 ... (2s) Current status: DONE   \n"
     ]
    },
    {
     "name": "stdout",
     "output_type": "stream",
     "text": [
      "skipping district\n",
      "skipping fl\n",
      "skipping ga\n",
      "bq --location=US load --autodetect --skip_leading_rows=1 --source_format=CSV school_enrollments.hi gs://cs327e-open-access/stanford-school-enrollment/zf406jp4427_hi.csv\n",
      "\n"
     ]
    },
    {
     "name": "stderr",
     "output_type": "stream",
     "text": [
      "Waiting on bqjob_r7053b222fe2e9c2b_0000018acddaeda7_1 ... (2s) Current status: DONE   \n"
     ]
    },
    {
     "name": "stdout",
     "output_type": "stream",
     "text": [
      "skipping id\n",
      "bq --location=US load --autodetect --skip_leading_rows=1 --source_format=CSV school_enrollments.in gs://cs327e-open-access/stanford-school-enrollment/zf406jp4427_in.csv\n",
      "\n"
     ]
    },
    {
     "name": "stderr",
     "output_type": "stream",
     "text": [
      "Waiting on bqjob_rfcdf259c88d4b7b_0000018acddb021b_1 ... (3s) Current status: DONE   \n"
     ]
    },
    {
     "name": "stdout",
     "output_type": "stream",
     "text": [
      "bq --location=US load --autodetect --skip_leading_rows=1 --source_format=CSV school_enrollments.la gs://cs327e-open-access/stanford-school-enrollment/zf406jp4427_la.csv\n",
      "\n"
     ]
    },
    {
     "name": "stderr",
     "output_type": "stream",
     "text": [
      "Waiting on bqjob_r156be06ac394633_0000018acddb1ad9_1 ... (4s) Current status: DONE   \n"
     ]
    },
    {
     "name": "stdout",
     "output_type": "stream",
     "text": [
      "skipping ma\n",
      "bq --location=US load --autodetect --skip_leading_rows=1 --source_format=CSV school_enrollments.md gs://cs327e-open-access/stanford-school-enrollment/zf406jp4427_md.csv\n",
      "\n"
     ]
    },
    {
     "name": "stderr",
     "output_type": "stream",
     "text": [
      "Waiting on bqjob_r64572c9760d67b7a_0000018acddb37d1_1 ... (1s) Current status: DONE   \n"
     ]
    },
    {
     "name": "stdout",
     "output_type": "stream",
     "text": [
      "bq --location=US load --autodetect --skip_leading_rows=1 --source_format=CSV school_enrollments.mn gs://cs327e-open-access/stanford-school-enrollment/zf406jp4427_mn.csv\n",
      "\n"
     ]
    },
    {
     "name": "stderr",
     "output_type": "stream",
     "text": [
      "Waiting on bqjob_r18dd40c8eb618c59_0000018acddb47b0_1 ... (23s) Current status: DONE   \n"
     ]
    },
    {
     "name": "stdout",
     "output_type": "stream",
     "text": [
      "skipping mo\n",
      "bq --location=US load --autodetect --skip_leading_rows=1 --source_format=CSV school_enrollments.ms gs://cs327e-open-access/stanford-school-enrollment/zf406jp4427_ms.csv\n",
      "\n"
     ]
    },
    {
     "name": "stderr",
     "output_type": "stream",
     "text": [
      "Waiting on bqjob_r3c9af993c48c908f_0000018acddbad77_1 ... (2s) Current status: DONE   \n"
     ]
    },
    {
     "name": "stdout",
     "output_type": "stream",
     "text": [
      "skipping ne\n",
      "bq --location=US load --autodetect --skip_leading_rows=1 --source_format=CSV school_enrollments.nh gs://cs327e-open-access/stanford-school-enrollment/zf406jp4427_nh.csv\n",
      "\n"
     ]
    },
    {
     "name": "stderr",
     "output_type": "stream",
     "text": [
      "Waiting on bqjob_r42dc1e82c9238cc1_0000018acddbc211_1 ... (2s) Current status: DONE   \n"
     ]
    },
    {
     "name": "stdout",
     "output_type": "stream",
     "text": [
      "bq --location=US load --autodetect --skip_leading_rows=1 --source_format=CSV school_enrollments.nj gs://cs327e-open-access/stanford-school-enrollment/zf406jp4427_nj.csv\n",
      "\n"
     ]
    },
    {
     "name": "stderr",
     "output_type": "stream",
     "text": [
      "Waiting on bqjob_r4c7f3fef5243ee9_0000018acddbd700_1 ... (1s) Current status: DONE   \n"
     ]
    },
    {
     "name": "stdout",
     "output_type": "stream",
     "text": [
      "BigQuery error in load operation: Error processing job 'firm-\n",
      "champion-397418:bqjob_r4c7f3fef5243ee9_0000018acddbd700_1': Error while reading\n",
      "data, error message: Could not parse 'N' as INT64 for field\n",
      "ccd_district_high_grade (position 12) starting at location 2800632  with message\n",
      "'Unable to parse' File: gs://cs327e-open-access/stanford-school-\n",
      "enrollment/zf406jp4427_nj.csv\n",
      "Failure details:\n",
      "- Error while reading data, error message: CSV processing encountered\n",
      "too many errors, giving up. Rows: 12208; errors: 1; max bad: 0;\n",
      "error percent: 0\n",
      "bq --location=US load --autodetect --skip_leading_rows=1 --source_format=CSV school_enrollments.nm gs://cs327e-open-access/stanford-school-enrollment/zf406jp4427_nm.csv\n",
      "\n"
     ]
    },
    {
     "name": "stderr",
     "output_type": "stream",
     "text": [
      "Waiting on bqjob_r72b13d253438716e_0000018acddbe702_1 ... (2s) Current status: DONE   \n"
     ]
    },
    {
     "name": "stdout",
     "output_type": "stream",
     "text": [
      "bq --location=US load --autodetect --skip_leading_rows=1 --source_format=CSV school_enrollments.nv gs://cs327e-open-access/stanford-school-enrollment/zf406jp4427_nv.csv\n",
      "\n"
     ]
    },
    {
     "name": "stderr",
     "output_type": "stream",
     "text": [
      "Waiting on bqjob_r7d717b550f5bd176_0000018acddbfb88_1 ... (1s) Current status: DONE   \n"
     ]
    },
    {
     "name": "stdout",
     "output_type": "stream",
     "text": [
      "skipping ny\n",
      "bq --location=US load --autodetect --skip_leading_rows=1 --source_format=CSV school_enrollments.ok gs://cs327e-open-access/stanford-school-enrollment/zf406jp4427_ok.csv\n",
      "\n"
     ]
    },
    {
     "name": "stderr",
     "output_type": "stream",
     "text": [
      "Waiting on bqjob_r140ec28236e9ccff_0000018acddc0b8c_1 ... (3s) Current status: DONE   \n"
     ]
    },
    {
     "name": "stdout",
     "output_type": "stream",
     "text": [
      "skipping or\n",
      "bq --location=US load --autodetect --skip_leading_rows=1 --source_format=CSV school_enrollments.pa gs://cs327e-open-access/stanford-school-enrollment/zf406jp4427_pa.csv\n",
      "\n"
     ]
    },
    {
     "name": "stderr",
     "output_type": "stream",
     "text": [
      "Waiting on bqjob_r5b2875613b0845a2_0000018acddc2470_1 ... (3s) Current status: DONE   \n"
     ]
    },
    {
     "name": "stdout",
     "output_type": "stream",
     "text": [
      "bq --location=US load --autodetect --skip_leading_rows=1 --source_format=CSV school_enrollments.sc gs://cs327e-open-access/stanford-school-enrollment/zf406jp4427_sc.csv\n",
      "\n"
     ]
    },
    {
     "name": "stderr",
     "output_type": "stream",
     "text": [
      "Waiting on bqjob_r3b45802143b6e620_0000018acddc3d50_1 ... (2s) Current status: DONE   \n"
     ]
    },
    {
     "name": "stdout",
     "output_type": "stream",
     "text": [
      "skipping school\n",
      "skipping sd\n",
      "bq --location=US load --autodetect --skip_leading_rows=1 --source_format=CSV school_enrollments.tx gs://cs327e-open-access/stanford-school-enrollment/zf406jp4427_tx.csv\n",
      "\n"
     ]
    },
    {
     "name": "stderr",
     "output_type": "stream",
     "text": [
      "Waiting on bqjob_r4cf36182b2178504_0000018acddc518a_1 ... (6s) Current status: DONE   \n"
     ]
    },
    {
     "name": "stdout",
     "output_type": "stream",
     "text": [
      "bq --location=US load --autodetect --skip_leading_rows=1 --source_format=CSV school_enrollments.ut gs://cs327e-open-access/stanford-school-enrollment/zf406jp4427_ut.csv\n",
      "\n"
     ]
    },
    {
     "name": "stderr",
     "output_type": "stream",
     "text": [
      "Waiting on bqjob_r4e552f5338072e96_0000018acddc76eb_1 ... (2s) Current status: DONE   \n"
     ]
    },
    {
     "name": "stdout",
     "output_type": "stream",
     "text": [
      "bq --location=US load --autodetect --skip_leading_rows=1 --source_format=CSV school_enrollments.wa gs://cs327e-open-access/stanford-school-enrollment/zf406jp4427_wa.csv\n",
      "\n"
     ]
    },
    {
     "name": "stderr",
     "output_type": "stream",
     "text": [
      "Waiting on bqjob_r69fe32d927167b86_0000018acddc8af6_1 ... (4s) Current status: DONE   \n"
     ]
    },
    {
     "name": "stdout",
     "output_type": "stream",
     "text": [
      "skipping wi\n",
      "bq --location=US load --autodetect --skip_leading_rows=1 --source_format=CSV school_enrollments.wy gs://cs327e-open-access/stanford-school-enrollment/zf406jp4427_wy.csv\n",
      "\n"
     ]
    },
    {
     "name": "stderr",
     "output_type": "stream",
     "text": [
      "Waiting on bqjob_r4b1a1d4d3135452c_0000018acddca77d_1 ... (1s) Current status: DONE   \n"
     ]
    }
   ],
   "source": [
    "gsutil_cmd = \"gsutil ls gs://cs327e-open-access/stanford-school-enrollment/*\"\n",
    "file_listings = os.popen(gsutil_cmd)\n",
    "dataset=\"school_enrollments\"\n",
    "\n",
    "for file in file_listings:\n",
    "\n",
    "    start_index = file.rindex(\"_\") + 1\n",
    "    end_index = file.rindex(\".\")\n",
    "    table = file[start_index:end_index]\n",
    "    \n",
    "    if table in (\"co\", \"district\", \"fl\", \"ga\", \"id\", \"ma\", \"mo\", \"ne\", \"ny\", \"or\", \"school\", \"sd\", \"wi\"):\n",
    "        print(\"skipping \" + table)\n",
    "        continue\n",
    "\n",
    "    bq_cmd = \"bq --location=US load --autodetect --skip_leading_rows=1 \"\\\n",
    "             \"--source_format=CSV \" + dataset + \".\" + table + ' ' + file\n",
    "    print(bq_cmd)\n",
    "    \n",
    "    os.system(bq_cmd)"
   ]
  },
  {
   "cell_type": "markdown",
   "metadata": {
    "tags": []
   },
   "source": [
    "#### 3. Open the BQ UI and explore the schemas for the tables in the `school_enrollments` dataset. Also, preview the tables in the UI to see some sample data. "
   ]
  },
  {
   "cell_type": "markdown",
   "metadata": {},
   "source": [
    "#### 4. Find school enrollments by school name, grade level, and year for Texas:"
   ]
  },
  {
   "cell_type": "code",
   "execution_count": 10,
   "metadata": {},
   "outputs": [
    {
     "data": {
      "application/vnd.jupyter.widget-view+json": {
       "model_id": "07467e8688b2493d870e35cdd720585f",
       "version_major": 2,
       "version_minor": 0
      },
      "text/plain": [
       "Query is running:   0%|          |"
      ]
     },
     "metadata": {},
     "output_type": "display_data"
    },
    {
     "data": {
      "application/vnd.jupyter.widget-view+json": {
       "model_id": "d1113435d21648ccb053b10d32b14abd",
       "version_major": 2,
       "version_minor": 0
      },
      "text/plain": [
       "Downloading:   0%|          |"
      ]
     },
     "metadata": {},
     "output_type": "display_data"
    },
    {
     "data": {
      "text/html": [
       "<div>\n",
       "<style scoped>\n",
       "    .dataframe tbody tr th:only-of-type {\n",
       "        vertical-align: middle;\n",
       "    }\n",
       "\n",
       "    .dataframe tbody tr th {\n",
       "        vertical-align: top;\n",
       "    }\n",
       "\n",
       "    .dataframe thead th {\n",
       "        text-align: right;\n",
       "    }\n",
       "</style>\n",
       "<table border=\"1\" class=\"dataframe\">\n",
       "  <thead>\n",
       "    <tr style=\"text-align: right;\">\n",
       "      <th></th>\n",
       "      <th>school</th>\n",
       "      <th>grade</th>\n",
       "      <th>year</th>\n",
       "      <th>total</th>\n",
       "    </tr>\n",
       "  </thead>\n",
       "  <tbody>\n",
       "    <tr>\n",
       "      <th>0</th>\n",
       "      <td>21ST CENTURY EARLY LEARNING FOUNDA</td>\n",
       "      <td>pre_kindergarten</td>\n",
       "      <td>2020</td>\n",
       "      <td>522</td>\n",
       "    </tr>\n",
       "    <tr>\n",
       "      <th>1</th>\n",
       "      <td>21ST CENTURY EARLY LEARNING FOUNDA</td>\n",
       "      <td>pre_kindergarten</td>\n",
       "      <td>2021</td>\n",
       "      <td>424</td>\n",
       "    </tr>\n",
       "    <tr>\n",
       "      <th>2</th>\n",
       "      <td>3D ACADEMY</td>\n",
       "      <td>grade_10</td>\n",
       "      <td>2020</td>\n",
       "      <td>28</td>\n",
       "    </tr>\n",
       "    <tr>\n",
       "      <th>3</th>\n",
       "      <td>3D ACADEMY</td>\n",
       "      <td>grade_10</td>\n",
       "      <td>2021</td>\n",
       "      <td>30</td>\n",
       "    </tr>\n",
       "    <tr>\n",
       "      <th>4</th>\n",
       "      <td>3D ACADEMY</td>\n",
       "      <td>grade_11</td>\n",
       "      <td>2020</td>\n",
       "      <td>45</td>\n",
       "    </tr>\n",
       "    <tr>\n",
       "      <th>...</th>\n",
       "      <td>...</td>\n",
       "      <td>...</td>\n",
       "      <td>...</td>\n",
       "      <td>...</td>\n",
       "    </tr>\n",
       "    <tr>\n",
       "      <th>90335</th>\n",
       "      <td>ZWINK EL</td>\n",
       "      <td>grade_5</td>\n",
       "      <td>2021</td>\n",
       "      <td>135</td>\n",
       "    </tr>\n",
       "    <tr>\n",
       "      <th>90336</th>\n",
       "      <td>ZWINK EL</td>\n",
       "      <td>kindergarten</td>\n",
       "      <td>2020</td>\n",
       "      <td>156</td>\n",
       "    </tr>\n",
       "    <tr>\n",
       "      <th>90337</th>\n",
       "      <td>ZWINK EL</td>\n",
       "      <td>kindergarten</td>\n",
       "      <td>2021</td>\n",
       "      <td>119</td>\n",
       "    </tr>\n",
       "    <tr>\n",
       "      <th>90338</th>\n",
       "      <td>ZWINK EL</td>\n",
       "      <td>pre_kindergarten</td>\n",
       "      <td>2020</td>\n",
       "      <td>34</td>\n",
       "    </tr>\n",
       "    <tr>\n",
       "      <th>90339</th>\n",
       "      <td>ZWINK EL</td>\n",
       "      <td>pre_kindergarten</td>\n",
       "      <td>2021</td>\n",
       "      <td>40</td>\n",
       "    </tr>\n",
       "  </tbody>\n",
       "</table>\n",
       "<p>90340 rows × 4 columns</p>\n",
       "</div>"
      ],
      "text/plain": [
       "                                   school             grade  year  total\n",
       "0      21ST CENTURY EARLY LEARNING FOUNDA  pre_kindergarten  2020    522\n",
       "1      21ST CENTURY EARLY LEARNING FOUNDA  pre_kindergarten  2021    424\n",
       "2                              3D ACADEMY          grade_10  2020     28\n",
       "3                              3D ACADEMY          grade_10  2021     30\n",
       "4                              3D ACADEMY          grade_11  2020     45\n",
       "...                                   ...               ...   ...    ...\n",
       "90335                            ZWINK EL           grade_5  2021    135\n",
       "90336                            ZWINK EL      kindergarten  2020    156\n",
       "90337                            ZWINK EL      kindergarten  2021    119\n",
       "90338                            ZWINK EL  pre_kindergarten  2020     34\n",
       "90339                            ZWINK EL  pre_kindergarten  2021     40\n",
       "\n",
       "[90340 rows x 4 columns]"
      ]
     },
     "execution_count": 10,
     "metadata": {},
     "output_type": "execute_result"
    }
   ],
   "source": [
    "%%bigquery\n",
    "select school, grade, year, sum(cast(replace(replace(total, \",\", \"\"), \"<\", \"\") as int64)) as total\n",
    "from school_enrollments.tx\n",
    "where total != \"\" and school != \"\"\n",
    "group by school, grade, year\n",
    "order by school, grade, year"
   ]
  },
  {
   "cell_type": "markdown",
   "metadata": {},
   "source": [
    "##### Note: Since the `total` column in the table is of type STRING, we needed to cast it to an INTEGER type before we can apply the `sum` function. Please see documentation on BQ's string functions, which include `cast()` and `replace()`: https://cloud.google.com/bigquery/docs/reference/standard-sql/string_functions"
   ]
  },
  {
   "cell_type": "markdown",
   "metadata": {},
   "source": [
    "#### 5. Find school enrollments by school name, grade level, and year for Austin:"
   ]
  },
  {
   "cell_type": "markdown",
   "metadata": {},
   "source": [
    "%%bigquery\n",
    "select school, grade, year, sum(cast(replace(replace(total, \",\", \"\"), \"<\", \"\") as int64)) as total\n",
    "from school_enrollments.tx\n",
    "where total != \"\" and school != \"\" and district like '%AUSTIN%'\n",
    "group by school, grade, year\n",
    "order by school, grade, year"
   ]
  },
  {
   "cell_type": "markdown",
   "metadata": {},
   "source": [
    "#### Project 4 marker. Add your work for Project 4 below this cell. "
   ]
  },
  {
   "cell_type": "markdown",
   "metadata": {},
   "source": [
    "searches for all schools in california that has non 0 student enrollment but 0 white student enrollment by grade (the school can still have white students but the query will find the grades within the school that do not have any white student enrollment)and returns the total number of students enrolled in that grade ordered by ordered by school, grade, and year."
   ]
  },
  {
   "cell_type": "code",
   "execution_count": 34,
   "metadata": {
    "collapsed": true,
    "jupyter": {
     "outputs_hidden": true
    },
    "tags": []
   },
   "outputs": [
    {
     "data": {
      "application/vnd.jupyter.widget-view+json": {
       "model_id": "7784c4f2b6f84846beb834e769837f0d",
       "version_major": 2,
       "version_minor": 0
      },
      "text/plain": [
       "Query is running:   0%|          |"
      ]
     },
     "metadata": {},
     "output_type": "display_data"
    },
    {
     "data": {
      "application/vnd.jupyter.widget-view+json": {
       "model_id": "72999dbbf33e471dba31d11832fe548b",
       "version_major": 2,
       "version_minor": 0
      },
      "text/plain": [
       "Downloading:   0%|          |"
      ]
     },
     "metadata": {},
     "output_type": "display_data"
    },
    {
     "data": {
      "text/html": [
       "<div>\n",
       "<style scoped>\n",
       "    .dataframe tbody tr th:only-of-type {\n",
       "        vertical-align: middle;\n",
       "    }\n",
       "\n",
       "    .dataframe tbody tr th {\n",
       "        vertical-align: top;\n",
       "    }\n",
       "\n",
       "    .dataframe thead th {\n",
       "        text-align: right;\n",
       "    }\n",
       "</style>\n",
       "<table border=\"1\" class=\"dataframe\">\n",
       "  <thead>\n",
       "    <tr style=\"text-align: right;\">\n",
       "      <th></th>\n",
       "      <th>school</th>\n",
       "      <th>grade</th>\n",
       "      <th>year</th>\n",
       "      <th>total</th>\n",
       "    </tr>\n",
       "  </thead>\n",
       "  <tbody>\n",
       "    <tr>\n",
       "      <th>0</th>\n",
       "      <td>21st Century Learning Institute</td>\n",
       "      <td>combined_K</td>\n",
       "      <td>2020</td>\n",
       "      <td>2.0</td>\n",
       "    </tr>\n",
       "    <tr>\n",
       "      <th>1</th>\n",
       "      <td>21st Century Learning Institute</td>\n",
       "      <td>grade_1</td>\n",
       "      <td>2020</td>\n",
       "      <td>1.0</td>\n",
       "    </tr>\n",
       "    <tr>\n",
       "      <th>2</th>\n",
       "      <td>21st Century Learning Institute</td>\n",
       "      <td>grade_3</td>\n",
       "      <td>2020</td>\n",
       "      <td>2.0</td>\n",
       "    </tr>\n",
       "    <tr>\n",
       "      <th>3</th>\n",
       "      <td>A. G. Cook Elementary</td>\n",
       "      <td>grade_1</td>\n",
       "      <td>2020</td>\n",
       "      <td>58.0</td>\n",
       "    </tr>\n",
       "    <tr>\n",
       "      <th>4</th>\n",
       "      <td>A. G. Cook Elementary</td>\n",
       "      <td>grade_1</td>\n",
       "      <td>2021</td>\n",
       "      <td>43.0</td>\n",
       "    </tr>\n",
       "    <tr>\n",
       "      <th>...</th>\n",
       "      <td>...</td>\n",
       "      <td>...</td>\n",
       "      <td>...</td>\n",
       "      <td>...</td>\n",
       "    </tr>\n",
       "    <tr>\n",
       "      <th>13425</th>\n",
       "      <td>one.Charter</td>\n",
       "      <td>grade_4</td>\n",
       "      <td>2020</td>\n",
       "      <td>7.0</td>\n",
       "    </tr>\n",
       "    <tr>\n",
       "      <th>13426</th>\n",
       "      <td>one.Charter</td>\n",
       "      <td>grade_4</td>\n",
       "      <td>2021</td>\n",
       "      <td>7.0</td>\n",
       "    </tr>\n",
       "    <tr>\n",
       "      <th>13427</th>\n",
       "      <td>one.Charter</td>\n",
       "      <td>grade_5</td>\n",
       "      <td>2021</td>\n",
       "      <td>5.0</td>\n",
       "    </tr>\n",
       "    <tr>\n",
       "      <th>13428</th>\n",
       "      <td>one.Charter</td>\n",
       "      <td>grade_7</td>\n",
       "      <td>2021</td>\n",
       "      <td>1.0</td>\n",
       "    </tr>\n",
       "    <tr>\n",
       "      <th>13429</th>\n",
       "      <td>one.Charter</td>\n",
       "      <td>grade_8</td>\n",
       "      <td>2020</td>\n",
       "      <td>5.0</td>\n",
       "    </tr>\n",
       "  </tbody>\n",
       "</table>\n",
       "<p>13430 rows × 4 columns</p>\n",
       "</div>"
      ],
      "text/plain": [
       "                                school       grade  year  total\n",
       "0      21st Century Learning Institute  combined_K  2020    2.0\n",
       "1      21st Century Learning Institute     grade_1  2020    1.0\n",
       "2      21st Century Learning Institute     grade_3  2020    2.0\n",
       "3                A. G. Cook Elementary     grade_1  2020   58.0\n",
       "4                A. G. Cook Elementary     grade_1  2021   43.0\n",
       "...                                ...         ...   ...    ...\n",
       "13425                      one.Charter     grade_4  2020    7.0\n",
       "13426                      one.Charter     grade_4  2021    7.0\n",
       "13427                      one.Charter     grade_5  2021    5.0\n",
       "13428                      one.Charter     grade_7  2021    1.0\n",
       "13429                      one.Charter     grade_8  2020    5.0\n",
       "\n",
       "[13430 rows x 4 columns]"
      ]
     },
     "execution_count": 34,
     "metadata": {},
     "output_type": "execute_result"
    }
   ],
   "source": [
    "%%bigquery\n",
    "select school, grade, year, sum(total) as total\n",
    "from school_enrollments.ca\n",
    "where total != 0.0 and school != \"\" and white = 0.0\n",
    "group by school, grade, year\n",
    "order by school, grade, year"
   ]
  },
  {
   "cell_type": "markdown",
   "metadata": {},
   "source": [
    "searches for all school grades in arizona that has at least 5 native american or alaskan natives enrolled and the total number of native american and alaskan natives enrolled in those school grades ordered by ordered by school, grade, and year."
   ]
  },
  {
   "cell_type": "code",
   "execution_count": 37,
   "metadata": {
    "collapsed": true,
    "jupyter": {
     "outputs_hidden": true
    },
    "tags": []
   },
   "outputs": [
    {
     "data": {
      "application/vnd.jupyter.widget-view+json": {
       "model_id": "dc00b19ec99749afad5bf4036e313765",
       "version_major": 2,
       "version_minor": 0
      },
      "text/plain": [
       "Query is running:   0%|          |"
      ]
     },
     "metadata": {},
     "output_type": "display_data"
    },
    {
     "data": {
      "application/vnd.jupyter.widget-view+json": {
       "model_id": "60f2e04e6f7e4cd5a002a3ae94943b8f",
       "version_major": 2,
       "version_minor": 0
      },
      "text/plain": [
       "Downloading:   0%|          |"
      ]
     },
     "metadata": {},
     "output_type": "display_data"
    },
    {
     "data": {
      "text/html": [
       "<div>\n",
       "<style scoped>\n",
       "    .dataframe tbody tr th:only-of-type {\n",
       "        vertical-align: middle;\n",
       "    }\n",
       "\n",
       "    .dataframe tbody tr th {\n",
       "        vertical-align: top;\n",
       "    }\n",
       "\n",
       "    .dataframe thead th {\n",
       "        text-align: right;\n",
       "    }\n",
       "</style>\n",
       "<table border=\"1\" class=\"dataframe\">\n",
       "  <thead>\n",
       "    <tr style=\"text-align: right;\">\n",
       "      <th></th>\n",
       "      <th>school</th>\n",
       "      <th>grade</th>\n",
       "      <th>year</th>\n",
       "      <th>num_natives</th>\n",
       "    </tr>\n",
       "  </thead>\n",
       "  <tbody>\n",
       "    <tr>\n",
       "      <th>0</th>\n",
       "      <td>ACORN ELEMENTARY SCHOOL</td>\n",
       "      <td>grade_1</td>\n",
       "      <td>2017</td>\n",
       "      <td>5.0</td>\n",
       "    </tr>\n",
       "    <tr>\n",
       "      <th>1</th>\n",
       "      <td>ACORN ELEMENTARY SCHOOL</td>\n",
       "      <td>grade_2</td>\n",
       "      <td>2018</td>\n",
       "      <td>5.0</td>\n",
       "    </tr>\n",
       "    <tr>\n",
       "      <th>2</th>\n",
       "      <td>ACORN ELEMENTARY SCHOOL</td>\n",
       "      <td>grade_3</td>\n",
       "      <td>2019</td>\n",
       "      <td>5.0</td>\n",
       "    </tr>\n",
       "    <tr>\n",
       "      <th>3</th>\n",
       "      <td>ACORN ELEMENTARY SCHOOL</td>\n",
       "      <td>k_12_total</td>\n",
       "      <td>2016</td>\n",
       "      <td>9.0</td>\n",
       "    </tr>\n",
       "    <tr>\n",
       "      <th>4</th>\n",
       "      <td>ACORN ELEMENTARY SCHOOL</td>\n",
       "      <td>k_12_total</td>\n",
       "      <td>2017</td>\n",
       "      <td>8.0</td>\n",
       "    </tr>\n",
       "    <tr>\n",
       "      <th>...</th>\n",
       "      <td>...</td>\n",
       "      <td>...</td>\n",
       "      <td>...</td>\n",
       "      <td>...</td>\n",
       "    </tr>\n",
       "    <tr>\n",
       "      <th>2099</th>\n",
       "      <td>YELLVILLE-SUMMIT ELEM. SCHOOL</td>\n",
       "      <td>k_12_total</td>\n",
       "      <td>2016</td>\n",
       "      <td>9.0</td>\n",
       "    </tr>\n",
       "    <tr>\n",
       "      <th>2100</th>\n",
       "      <td>YELLVILLE-SUMMIT ELEM. SCHOOL</td>\n",
       "      <td>k_12_total</td>\n",
       "      <td>2017</td>\n",
       "      <td>10.0</td>\n",
       "    </tr>\n",
       "    <tr>\n",
       "      <th>2101</th>\n",
       "      <td>YELLVILLE-SUMMIT ELEM. SCHOOL</td>\n",
       "      <td>k_12_total</td>\n",
       "      <td>2019</td>\n",
       "      <td>6.0</td>\n",
       "    </tr>\n",
       "    <tr>\n",
       "      <th>2102</th>\n",
       "      <td>YELLVILLE-SUMMIT ELEM. SCHOOL</td>\n",
       "      <td>k_12_total</td>\n",
       "      <td>2020</td>\n",
       "      <td>7.0</td>\n",
       "    </tr>\n",
       "    <tr>\n",
       "      <th>2103</th>\n",
       "      <td>YELLVILLE-SUMMIT ELEM. SCHOOL</td>\n",
       "      <td>k_12_total</td>\n",
       "      <td>2021</td>\n",
       "      <td>7.0</td>\n",
       "    </tr>\n",
       "  </tbody>\n",
       "</table>\n",
       "<p>2104 rows × 4 columns</p>\n",
       "</div>"
      ],
      "text/plain": [
       "                             school       grade  year  num_natives\n",
       "0           ACORN ELEMENTARY SCHOOL     grade_1  2017          5.0\n",
       "1           ACORN ELEMENTARY SCHOOL     grade_2  2018          5.0\n",
       "2           ACORN ELEMENTARY SCHOOL     grade_3  2019          5.0\n",
       "3           ACORN ELEMENTARY SCHOOL  k_12_total  2016          9.0\n",
       "4           ACORN ELEMENTARY SCHOOL  k_12_total  2017          8.0\n",
       "...                             ...         ...   ...          ...\n",
       "2099  YELLVILLE-SUMMIT ELEM. SCHOOL  k_12_total  2016          9.0\n",
       "2100  YELLVILLE-SUMMIT ELEM. SCHOOL  k_12_total  2017         10.0\n",
       "2101  YELLVILLE-SUMMIT ELEM. SCHOOL  k_12_total  2019          6.0\n",
       "2102  YELLVILLE-SUMMIT ELEM. SCHOOL  k_12_total  2020          7.0\n",
       "2103  YELLVILLE-SUMMIT ELEM. SCHOOL  k_12_total  2021          7.0\n",
       "\n",
       "[2104 rows x 4 columns]"
      ]
     },
     "execution_count": 37,
     "metadata": {},
     "output_type": "execute_result"
    }
   ],
   "source": [
    "%%bigquery\n",
    "select school, grade, year, sum(native_american_alaskan_native) as num_natives\n",
    "from school_enrollments.ar\n",
    "where school != \"\"\n",
    "group by school, grade, year\n",
    "having sum(native_american_alaskan_native) >= 5.0\n",
    "order by school, grade, year"
   ]
  },
  {
   "cell_type": "markdown",
   "metadata": {},
   "source": [
    "searches for all school grades in louisiana that is a charter school and returns the school name, grade, year, type of school and total enrollment by school grade ordered by school, grade, year, and school type."
   ]
  },
  {
   "cell_type": "code",
   "execution_count": 40,
   "metadata": {
    "collapsed": true,
    "jupyter": {
     "outputs_hidden": true
    },
    "tags": []
   },
   "outputs": [
    {
     "data": {
      "application/vnd.jupyter.widget-view+json": {
       "model_id": "4407bb3af46c4074a09c3c2922cf2d84",
       "version_major": 2,
       "version_minor": 0
      },
      "text/plain": [
       "Query is running:   0%|          |"
      ]
     },
     "metadata": {},
     "output_type": "display_data"
    },
    {
     "data": {
      "application/vnd.jupyter.widget-view+json": {
       "model_id": "9560c29e887445d5b581d4c9ed726ede",
       "version_major": 2,
       "version_minor": 0
      },
      "text/plain": [
       "Downloading:   0%|          |"
      ]
     },
     "metadata": {},
     "output_type": "display_data"
    },
    {
     "data": {
      "text/html": [
       "<div>\n",
       "<style scoped>\n",
       "    .dataframe tbody tr th:only-of-type {\n",
       "        vertical-align: middle;\n",
       "    }\n",
       "\n",
       "    .dataframe tbody tr th {\n",
       "        vertical-align: top;\n",
       "    }\n",
       "\n",
       "    .dataframe thead th {\n",
       "        text-align: right;\n",
       "    }\n",
       "</style>\n",
       "<table border=\"1\" class=\"dataframe\">\n",
       "  <thead>\n",
       "    <tr style=\"text-align: right;\">\n",
       "      <th></th>\n",
       "      <th>school</th>\n",
       "      <th>grade</th>\n",
       "      <th>year</th>\n",
       "      <th>ccd_school_type</th>\n",
       "      <th>total</th>\n",
       "    </tr>\n",
       "  </thead>\n",
       "  <tbody>\n",
       "    <tr>\n",
       "      <th>0</th>\n",
       "      <td>AmiKiDs Caddo</td>\n",
       "      <td>extension_academy</td>\n",
       "      <td>2021</td>\n",
       "      <td>Regular School</td>\n",
       "      <td>0</td>\n",
       "    </tr>\n",
       "    <tr>\n",
       "      <th>1</th>\n",
       "      <td>AmiKiDs Caddo</td>\n",
       "      <td>grade_1</td>\n",
       "      <td>2019</td>\n",
       "      <td>Regular School</td>\n",
       "      <td>0</td>\n",
       "    </tr>\n",
       "    <tr>\n",
       "      <th>2</th>\n",
       "      <td>AmiKiDs Caddo</td>\n",
       "      <td>grade_1</td>\n",
       "      <td>2020</td>\n",
       "      <td>Regular School</td>\n",
       "      <td>0</td>\n",
       "    </tr>\n",
       "    <tr>\n",
       "      <th>3</th>\n",
       "      <td>AmiKiDs Caddo</td>\n",
       "      <td>grade_1</td>\n",
       "      <td>2021</td>\n",
       "      <td>Regular School</td>\n",
       "      <td>0</td>\n",
       "    </tr>\n",
       "    <tr>\n",
       "      <th>4</th>\n",
       "      <td>AmiKiDs Caddo</td>\n",
       "      <td>grade_10</td>\n",
       "      <td>2019</td>\n",
       "      <td>Regular School</td>\n",
       "      <td>0</td>\n",
       "    </tr>\n",
       "    <tr>\n",
       "      <th>...</th>\n",
       "      <td>...</td>\n",
       "      <td>...</td>\n",
       "      <td>...</td>\n",
       "      <td>...</td>\n",
       "      <td>...</td>\n",
       "    </tr>\n",
       "    <tr>\n",
       "      <th>1625</th>\n",
       "      <td>Young Audiences Charter School</td>\n",
       "      <td>pk_12_total</td>\n",
       "      <td>2020</td>\n",
       "      <td>Regular School</td>\n",
       "      <td>2186</td>\n",
       "    </tr>\n",
       "    <tr>\n",
       "      <th>1626</th>\n",
       "      <td>Young Audiences Charter School</td>\n",
       "      <td>pk_12_total</td>\n",
       "      <td>2021</td>\n",
       "      <td>Regular School</td>\n",
       "      <td>2424</td>\n",
       "    </tr>\n",
       "    <tr>\n",
       "      <th>1627</th>\n",
       "      <td>Young Audiences Charter School</td>\n",
       "      <td>pre_kindergarten</td>\n",
       "      <td>2019</td>\n",
       "      <td>Regular School</td>\n",
       "      <td>0</td>\n",
       "    </tr>\n",
       "    <tr>\n",
       "      <th>1628</th>\n",
       "      <td>Young Audiences Charter School</td>\n",
       "      <td>pre_kindergarten</td>\n",
       "      <td>2020</td>\n",
       "      <td>Regular School</td>\n",
       "      <td>0</td>\n",
       "    </tr>\n",
       "    <tr>\n",
       "      <th>1629</th>\n",
       "      <td>Young Audiences Charter School</td>\n",
       "      <td>pre_kindergarten</td>\n",
       "      <td>2021</td>\n",
       "      <td>Regular School</td>\n",
       "      <td>35</td>\n",
       "    </tr>\n",
       "  </tbody>\n",
       "</table>\n",
       "<p>1630 rows × 5 columns</p>\n",
       "</div>"
      ],
      "text/plain": [
       "                              school              grade  year ccd_school_type  \\\n",
       "0                      AmiKiDs Caddo  extension_academy  2021  Regular School   \n",
       "1                      AmiKiDs Caddo            grade_1  2019  Regular School   \n",
       "2                      AmiKiDs Caddo            grade_1  2020  Regular School   \n",
       "3                      AmiKiDs Caddo            grade_1  2021  Regular School   \n",
       "4                      AmiKiDs Caddo           grade_10  2019  Regular School   \n",
       "...                              ...                ...   ...             ...   \n",
       "1625  Young Audiences Charter School        pk_12_total  2020  Regular School   \n",
       "1626  Young Audiences Charter School        pk_12_total  2021  Regular School   \n",
       "1627  Young Audiences Charter School   pre_kindergarten  2019  Regular School   \n",
       "1628  Young Audiences Charter School   pre_kindergarten  2020  Regular School   \n",
       "1629  Young Audiences Charter School   pre_kindergarten  2021  Regular School   \n",
       "\n",
       "      total  \n",
       "0         0  \n",
       "1         0  \n",
       "2         0  \n",
       "3         0  \n",
       "4         0  \n",
       "...     ...  \n",
       "1625   2186  \n",
       "1626   2424  \n",
       "1627      0  \n",
       "1628      0  \n",
       "1629     35  \n",
       "\n",
       "[1630 rows x 5 columns]"
      ]
     },
     "execution_count": 40,
     "metadata": {},
     "output_type": "execute_result"
    }
   ],
   "source": [
    "%%bigquery\n",
    "select school, grade, year, ccd_school_type, sum(total) as total\n",
    "from school_enrollments.la\n",
    "where ccd_charter_school = TRUE\n",
    "group by school, grade, year, ccd_school_type\n",
    "order by school, grade, year, ccd_school_type"
   ]
  },
  {
   "cell_type": "markdown",
   "execution_count": null,
   "metadata": {},
   "outputs": [],
   "source": [
    "searches all schools in hawaii that has less than 100 people enrolled and returns the total number of disabled students for that school ordered by schnool, grade, and year."
   ]
  },
  {
   "cell_type": "code",
   "execution_count": null,
   "metadata": {},
   "outputs": [],
   "source": [
    "%%bigquery\n",
    "select school, grade, year, sum(disability) as disability\n",
    "from school_enrollments.hi\n",
    "where total != 0.0 and school != \"\" and disability is not NULL and grade = 'pk_12_total'\n",
    "group by school, grade, year\n",
    "having sum(total) < 100\n",
    "order by school, grade, year"
   ]
  },
  {
   "cell_type": "markdown",
   "metadata": {},
   "source": [
    "searches for all k-12 schools in alaska that has nonzero students enrolled and returns school name, year, and number of hispanic students greater than or equal to 10, grouped by and ordered by school and year."
   ]
  },
  {
   "cell_type": "code",
   "execution_count": 61,
   "metadata": {
    "collapsed": true,
    "jupyter": {
     "outputs_hidden": true
    },
    "tags": []
   },
   "outputs": [
    {
     "data": {
      "application/vnd.jupyter.widget-view+json": {
       "model_id": "a8dd803357ae42ea92ef87c8bda1b4a0",
       "version_major": 2,
       "version_minor": 0
      },
      "text/plain": [
       "Query is running:   0%|          |"
      ]
     },
     "metadata": {},
     "output_type": "display_data"
    },
    {
     "data": {
      "application/vnd.jupyter.widget-view+json": {
       "model_id": "73b890cc9c464ca8bfee90db7985b6da",
       "version_major": 2,
       "version_minor": 0
      },
      "text/plain": [
       "Downloading:   0%|          |"
      ]
     },
     "metadata": {},
     "output_type": "display_data"
    },
    {
     "data": {
      "text/html": [
       "<div>\n",
       "<style scoped>\n",
       "    .dataframe tbody tr th:only-of-type {\n",
       "        vertical-align: middle;\n",
       "    }\n",
       "\n",
       "    .dataframe tbody tr th {\n",
       "        vertical-align: top;\n",
       "    }\n",
       "\n",
       "    .dataframe thead th {\n",
       "        text-align: right;\n",
       "    }\n",
       "</style>\n",
       "<table border=\"1\" class=\"dataframe\">\n",
       "  <thead>\n",
       "    <tr style=\"text-align: right;\">\n",
       "      <th></th>\n",
       "      <th>school</th>\n",
       "      <th>year</th>\n",
       "      <th>num_hispanic</th>\n",
       "    </tr>\n",
       "  </thead>\n",
       "  <tbody>\n",
       "    <tr>\n",
       "      <th>0</th>\n",
       "      <td>AKTEACH</td>\n",
       "      <td>2021</td>\n",
       "      <td>10.0</td>\n",
       "    </tr>\n",
       "    <tr>\n",
       "      <th>1</th>\n",
       "      <td>Abbott Loop Elementary</td>\n",
       "      <td>2020</td>\n",
       "      <td>29.0</td>\n",
       "    </tr>\n",
       "    <tr>\n",
       "      <th>2</th>\n",
       "      <td>Abbott Loop Elementary</td>\n",
       "      <td>2021</td>\n",
       "      <td>14.0</td>\n",
       "    </tr>\n",
       "    <tr>\n",
       "      <th>3</th>\n",
       "      <td>Academy Charter School</td>\n",
       "      <td>2020</td>\n",
       "      <td>17.0</td>\n",
       "    </tr>\n",
       "    <tr>\n",
       "      <th>4</th>\n",
       "      <td>Academy Charter School</td>\n",
       "      <td>2021</td>\n",
       "      <td>16.0</td>\n",
       "    </tr>\n",
       "    <tr>\n",
       "      <th>...</th>\n",
       "      <td>...</td>\n",
       "      <td>...</td>\n",
       "      <td>...</td>\n",
       "    </tr>\n",
       "    <tr>\n",
       "      <th>407</th>\n",
       "      <td>Winterberry School</td>\n",
       "      <td>2021</td>\n",
       "      <td>20.0</td>\n",
       "    </tr>\n",
       "    <tr>\n",
       "      <th>408</th>\n",
       "      <td>Wonder Park Elementary</td>\n",
       "      <td>2020</td>\n",
       "      <td>35.0</td>\n",
       "    </tr>\n",
       "    <tr>\n",
       "      <th>409</th>\n",
       "      <td>Wonder Park Elementary</td>\n",
       "      <td>2021</td>\n",
       "      <td>29.0</td>\n",
       "    </tr>\n",
       "    <tr>\n",
       "      <th>410</th>\n",
       "      <td>Woodriver Elementary</td>\n",
       "      <td>2020</td>\n",
       "      <td>37.0</td>\n",
       "    </tr>\n",
       "    <tr>\n",
       "      <th>411</th>\n",
       "      <td>Woodriver Elementary</td>\n",
       "      <td>2021</td>\n",
       "      <td>24.0</td>\n",
       "    </tr>\n",
       "  </tbody>\n",
       "</table>\n",
       "<p>412 rows × 3 columns</p>\n",
       "</div>"
      ],
      "text/plain": [
       "                     school  year  num_hispanic\n",
       "0                   AKTEACH  2021          10.0\n",
       "1    Abbott Loop Elementary  2020          29.0\n",
       "2    Abbott Loop Elementary  2021          14.0\n",
       "3    Academy Charter School  2020          17.0\n",
       "4    Academy Charter School  2021          16.0\n",
       "..                      ...   ...           ...\n",
       "407      Winterberry School  2021          20.0\n",
       "408  Wonder Park Elementary  2020          35.0\n",
       "409  Wonder Park Elementary  2021          29.0\n",
       "410    Woodriver Elementary  2020          37.0\n",
       "411    Woodriver Elementary  2021          24.0\n",
       "\n",
       "[412 rows x 3 columns]"
      ]
     },
     "execution_count": 61,
     "metadata": {},
     "output_type": "execute_result"
    }
   ],
   "source": [
    "%%bigquery\n",
    "select school, year, sum(hispanic) as num_hispanic\n",
    "from school_enrollments.ak\n",
    "where total != 0.0 and school != \"\" and grade=\"k_12_total\"\n",
    "group by school, year\n",
    "having sum(hispanic)>=10\n",
    "order by school, year"
   ]
  },
  {
   "cell_type": "markdown",
   "metadata": {
    "tags": []
   },
   "source": [
    "searches for all non-empty districts with a total greater than 20 students and a ccd_district_low_grades that is PK  and returns district, year, and number of asian students greater than or equal to 10, grouped by district and year but ordered by year."
   ]
  },
  {
   "cell_type": "code",
   "execution_count": 65,
   "metadata": {
    "collapsed": true,
    "jupyter": {
     "outputs_hidden": true
    },
    "tags": []
   },
   "outputs": [
    {
     "data": {
      "application/vnd.jupyter.widget-view+json": {
       "model_id": "bbb492980487421990ce6c3ba9a6ee39",
       "version_major": 2,
       "version_minor": 0
      },
      "text/plain": [
       "Query is running:   0%|          |"
      ]
     },
     "metadata": {},
     "output_type": "display_data"
    },
    {
     "data": {
      "application/vnd.jupyter.widget-view+json": {
       "model_id": "b6bc3ae14d014902b8732a60d2d34c37",
       "version_major": 2,
       "version_minor": 0
      },
      "text/plain": [
       "Downloading:   0%|          |"
      ]
     },
     "metadata": {},
     "output_type": "display_data"
    },
    {
     "data": {
      "text/html": [
       "<div>\n",
       "<style scoped>\n",
       "    .dataframe tbody tr th:only-of-type {\n",
       "        vertical-align: middle;\n",
       "    }\n",
       "\n",
       "    .dataframe tbody tr th {\n",
       "        vertical-align: top;\n",
       "    }\n",
       "\n",
       "    .dataframe thead th {\n",
       "        text-align: right;\n",
       "    }\n",
       "</style>\n",
       "<table border=\"1\" class=\"dataframe\">\n",
       "  <thead>\n",
       "    <tr style=\"text-align: right;\">\n",
       "      <th></th>\n",
       "      <th>district</th>\n",
       "      <th>year</th>\n",
       "      <th>num_asian</th>\n",
       "    </tr>\n",
       "  </thead>\n",
       "  <tbody>\n",
       "    <tr>\n",
       "      <th>0</th>\n",
       "      <td>North Adams Community Schools</td>\n",
       "      <td>2015</td>\n",
       "      <td>10.0</td>\n",
       "    </tr>\n",
       "    <tr>\n",
       "      <th>1</th>\n",
       "      <td>South Adams Schools</td>\n",
       "      <td>2015</td>\n",
       "      <td>14.0</td>\n",
       "    </tr>\n",
       "    <tr>\n",
       "      <th>2</th>\n",
       "      <td>M S D Southwest Allen County Schls</td>\n",
       "      <td>2015</td>\n",
       "      <td>311.0</td>\n",
       "    </tr>\n",
       "    <tr>\n",
       "      <th>3</th>\n",
       "      <td>Northwest Allen County Schools</td>\n",
       "      <td>2015</td>\n",
       "      <td>204.0</td>\n",
       "    </tr>\n",
       "    <tr>\n",
       "      <th>4</th>\n",
       "      <td>Fort Wayne Community Schools</td>\n",
       "      <td>2015</td>\n",
       "      <td>1519.0</td>\n",
       "    </tr>\n",
       "    <tr>\n",
       "      <th>...</th>\n",
       "      <td>...</td>\n",
       "      <td>...</td>\n",
       "      <td>...</td>\n",
       "    </tr>\n",
       "    <tr>\n",
       "      <th>795</th>\n",
       "      <td>Centerville-Abington Com Schs</td>\n",
       "      <td>2021</td>\n",
       "      <td>15.0</td>\n",
       "    </tr>\n",
       "    <tr>\n",
       "      <th>796</th>\n",
       "      <td>Richmond Community Schools</td>\n",
       "      <td>2021</td>\n",
       "      <td>67.0</td>\n",
       "    </tr>\n",
       "    <tr>\n",
       "      <th>797</th>\n",
       "      <td>Northern Wells Community Schools</td>\n",
       "      <td>2021</td>\n",
       "      <td>27.0</td>\n",
       "    </tr>\n",
       "    <tr>\n",
       "      <th>798</th>\n",
       "      <td>Whitley County Con Schools</td>\n",
       "      <td>2021</td>\n",
       "      <td>19.0</td>\n",
       "    </tr>\n",
       "    <tr>\n",
       "      <th>799</th>\n",
       "      <td>Indiana School For The Deaf</td>\n",
       "      <td>2021</td>\n",
       "      <td>14.0</td>\n",
       "    </tr>\n",
       "  </tbody>\n",
       "</table>\n",
       "<p>800 rows × 3 columns</p>\n",
       "</div>"
      ],
      "text/plain": [
       "                               district  year  num_asian\n",
       "0         North Adams Community Schools  2015       10.0\n",
       "1                   South Adams Schools  2015       14.0\n",
       "2    M S D Southwest Allen County Schls  2015      311.0\n",
       "3        Northwest Allen County Schools  2015      204.0\n",
       "4          Fort Wayne Community Schools  2015     1519.0\n",
       "..                                  ...   ...        ...\n",
       "795       Centerville-Abington Com Schs  2021       15.0\n",
       "796          Richmond Community Schools  2021       67.0\n",
       "797    Northern Wells Community Schools  2021       27.0\n",
       "798          Whitley County Con Schools  2021       19.0\n",
       "799         Indiana School For The Deaf  2021       14.0\n",
       "\n",
       "[800 rows x 3 columns]"
      ]
     },
     "execution_count": 65,
     "metadata": {},
     "output_type": "execute_result"
    }
   ],
   "source": [
    "%%bigquery\n",
    "select district, year, sum(asian) as num_asian\n",
    "from school_enrollments.in\n",
    "where total>20 and district != \"\" and ccd_district_low_grade=\"PK\"\n",
    "group by district, year\n",
    "having sum(asian)>=10\n",
    "order by year"
   ]
  },
  {
   "cell_type": "markdown",
   "metadata": {},
   "source": [
    "searches for schools with nonzero unknown race and multiracial students and returns the outer join of school states (CA or TX), year, grade, and sum of students with unknown race or multiracial from california by equivalent district state ids. they are then grouped by state, year, school and grade and then ordered by grade."
   ]
  },
  {
   "cell_type": "code",
   "execution_count": 67,
   "metadata": {
    "collapsed": true,
    "jupyter": {
     "outputs_hidden": true
    },
    "tags": []
   },
   "outputs": [
    {
     "data": {
      "application/vnd.jupyter.widget-view+json": {
       "model_id": "a54e7507fa5f48f1bef33eb7c0d84063",
       "version_major": 2,
       "version_minor": 0
      },
      "text/plain": [
       "Query is running:   0%|          |"
      ]
     },
     "metadata": {},
     "output_type": "display_data"
    },
    {
     "data": {
      "application/vnd.jupyter.widget-view+json": {
       "model_id": "b9ac470e24734ef7814d86b7c08e0426",
       "version_major": 2,
       "version_minor": 0
      },
      "text/plain": [
       "Downloading:   0%|          |"
      ]
     },
     "metadata": {},
     "output_type": "display_data"
    },
    {
     "data": {
      "text/html": [
       "<div>\n",
       "<style scoped>\n",
       "    .dataframe tbody tr th:only-of-type {\n",
       "        vertical-align: middle;\n",
       "    }\n",
       "\n",
       "    .dataframe tbody tr th {\n",
       "        vertical-align: top;\n",
       "    }\n",
       "\n",
       "    .dataframe thead th {\n",
       "        text-align: right;\n",
       "    }\n",
       "</style>\n",
       "<table border=\"1\" class=\"dataframe\">\n",
       "  <thead>\n",
       "    <tr style=\"text-align: right;\">\n",
       "      <th></th>\n",
       "      <th>CA</th>\n",
       "      <th>TX</th>\n",
       "      <th>year</th>\n",
       "      <th>school_tx</th>\n",
       "      <th>school_ca</th>\n",
       "      <th>grade</th>\n",
       "      <th>unk_and_multi</th>\n",
       "    </tr>\n",
       "  </thead>\n",
       "  <tbody>\n",
       "    <tr>\n",
       "      <th>0</th>\n",
       "      <td>CA</td>\n",
       "      <td>None</td>\n",
       "      <td>2020</td>\n",
       "      <td>None</td>\n",
       "      <td></td>\n",
       "      <td>combined_K</td>\n",
       "      <td>28029.0</td>\n",
       "    </tr>\n",
       "    <tr>\n",
       "      <th>1</th>\n",
       "      <td>CA</td>\n",
       "      <td>None</td>\n",
       "      <td>2021</td>\n",
       "      <td>None</td>\n",
       "      <td></td>\n",
       "      <td>combined_K</td>\n",
       "      <td>25223.0</td>\n",
       "    </tr>\n",
       "    <tr>\n",
       "      <th>2</th>\n",
       "      <td>CA</td>\n",
       "      <td>None</td>\n",
       "      <td>2020</td>\n",
       "      <td>None</td>\n",
       "      <td>Buford Elementary</td>\n",
       "      <td>combined_K</td>\n",
       "      <td>21.0</td>\n",
       "    </tr>\n",
       "    <tr>\n",
       "      <th>3</th>\n",
       "      <td>CA</td>\n",
       "      <td>None</td>\n",
       "      <td>2021</td>\n",
       "      <td>None</td>\n",
       "      <td>Buford Elementary</td>\n",
       "      <td>combined_K</td>\n",
       "      <td>28.0</td>\n",
       "    </tr>\n",
       "    <tr>\n",
       "      <th>4</th>\n",
       "      <td>CA</td>\n",
       "      <td>None</td>\n",
       "      <td>2020</td>\n",
       "      <td>None</td>\n",
       "      <td>Chet F. Harritt Elementary</td>\n",
       "      <td>combined_K</td>\n",
       "      <td>10.0</td>\n",
       "    </tr>\n",
       "    <tr>\n",
       "      <th>...</th>\n",
       "      <td>...</td>\n",
       "      <td>...</td>\n",
       "      <td>...</td>\n",
       "      <td>...</td>\n",
       "      <td>...</td>\n",
       "      <td>...</td>\n",
       "      <td>...</td>\n",
       "    </tr>\n",
       "    <tr>\n",
       "      <th>34118</th>\n",
       "      <td>CA</td>\n",
       "      <td>None</td>\n",
       "      <td>2020</td>\n",
       "      <td>None</td>\n",
       "      <td>Olive Grove Charter - Orcutt/Santa Maria</td>\n",
       "      <td>k_12_total</td>\n",
       "      <td>13.0</td>\n",
       "    </tr>\n",
       "    <tr>\n",
       "      <th>34119</th>\n",
       "      <td>CA</td>\n",
       "      <td>None</td>\n",
       "      <td>2021</td>\n",
       "      <td>None</td>\n",
       "      <td>Olive Grove Charter - Orcutt/Santa Maria</td>\n",
       "      <td>k_12_total</td>\n",
       "      <td>11.0</td>\n",
       "    </tr>\n",
       "    <tr>\n",
       "      <th>34120</th>\n",
       "      <td>CA</td>\n",
       "      <td>None</td>\n",
       "      <td>2020</td>\n",
       "      <td>None</td>\n",
       "      <td>California School for the Blind</td>\n",
       "      <td>k_12_total</td>\n",
       "      <td>2.0</td>\n",
       "    </tr>\n",
       "    <tr>\n",
       "      <th>34121</th>\n",
       "      <td>CA</td>\n",
       "      <td>None</td>\n",
       "      <td>2020</td>\n",
       "      <td>None</td>\n",
       "      <td>California School for the Deaf-Fremont</td>\n",
       "      <td>k_12_total</td>\n",
       "      <td>22.0</td>\n",
       "    </tr>\n",
       "    <tr>\n",
       "      <th>34122</th>\n",
       "      <td>CA</td>\n",
       "      <td>None</td>\n",
       "      <td>2021</td>\n",
       "      <td>None</td>\n",
       "      <td>California School for the Deaf-Riverside</td>\n",
       "      <td>k_12_total</td>\n",
       "      <td>10.0</td>\n",
       "    </tr>\n",
       "  </tbody>\n",
       "</table>\n",
       "<p>34123 rows × 7 columns</p>\n",
       "</div>"
      ],
      "text/plain": [
       "       CA    TX  year school_tx                                 school_ca  \\\n",
       "0      CA  None  2020      None                                             \n",
       "1      CA  None  2021      None                                             \n",
       "2      CA  None  2020      None                         Buford Elementary   \n",
       "3      CA  None  2021      None                         Buford Elementary   \n",
       "4      CA  None  2020      None                Chet F. Harritt Elementary   \n",
       "...    ..   ...   ...       ...                                       ...   \n",
       "34118  CA  None  2020      None  Olive Grove Charter - Orcutt/Santa Maria   \n",
       "34119  CA  None  2021      None  Olive Grove Charter - Orcutt/Santa Maria   \n",
       "34120  CA  None  2020      None           California School for the Blind   \n",
       "34121  CA  None  2020      None    California School for the Deaf-Fremont   \n",
       "34122  CA  None  2021      None  California School for the Deaf-Riverside   \n",
       "\n",
       "            grade  unk_and_multi  \n",
       "0      combined_K        28029.0  \n",
       "1      combined_K        25223.0  \n",
       "2      combined_K           21.0  \n",
       "3      combined_K           28.0  \n",
       "4      combined_K           10.0  \n",
       "...           ...            ...  \n",
       "34118  k_12_total           13.0  \n",
       "34119  k_12_total           11.0  \n",
       "34120  k_12_total            2.0  \n",
       "34121  k_12_total           22.0  \n",
       "34122  k_12_total           10.0  \n",
       "\n",
       "[34123 rows x 7 columns]"
      ]
     },
     "execution_count": 67,
     "metadata": {},
     "output_type": "execute_result"
    }
   ],
   "source": [
    "%%bigquery\n",
    "SELECT  `school_enrollments.ca`.state as CA,`school_enrollments.tx`.state as TX,`school_enrollments.ca`.year,`school_enrollments.tx`.school as school_tx, `school_enrollments.ca`.school as school_ca,`school_enrollments.ca`.grade, sum(`school_enrollments.ca`.multiracial+`school_enrollments.ca`.unknown_race) as unk_and_multi\n",
    "FROM `school_enrollments.ca`\n",
    "FULL OUTER JOIN `school_enrollments.tx`\n",
    "ON `school_enrollments.ca`.district_state_id = `school_enrollments.tx`.district_state_id\n",
    "WHERE `school_enrollments.ca`.multiracial!=0 and `school_enrollments.ca`.unknown_race!=0\n",
    "GROUP BY `school_enrollments.ca`.state,`school_enrollments.tx`.state,`school_enrollments.ca`.year,`school_enrollments.ca`.school, `school_enrollments.tx`.school,`school_enrollments.ca`.grade\n",
    "ORDER BY `school_enrollments.ca`.grade"
   ]
  },
  {
   "cell_type": "markdown",
   "metadata": {},
   "source": [
    "returns the outer join of school state (MN or MD), year , school, grade, and count of minnesota schools per county that are grouped by state, year,school, and grade and ordered by grade."
   ]
  },
  {
   "cell_type": "code",
   "execution_count": 68,
   "metadata": {
    "collapsed": true,
    "jupyter": {
     "outputs_hidden": true
    },
    "tags": []
   },
   "outputs": [
    {
     "data": {
      "application/vnd.jupyter.widget-view+json": {
       "model_id": "5c0874d632df4816b5722d5caa046c3b",
       "version_major": 2,
       "version_minor": 0
      },
      "text/plain": [
       "Query is running:   0%|          |"
      ]
     },
     "metadata": {},
     "output_type": "display_data"
    },
    {
     "data": {
      "application/vnd.jupyter.widget-view+json": {
       "model_id": "fa5dbbd2723a48508257eaa643eeb16f",
       "version_major": 2,
       "version_minor": 0
      },
      "text/plain": [
       "Downloading:   0%|          |"
      ]
     },
     "metadata": {},
     "output_type": "display_data"
    },
    {
     "data": {
      "text/html": [
       "<div>\n",
       "<style scoped>\n",
       "    .dataframe tbody tr th:only-of-type {\n",
       "        vertical-align: middle;\n",
       "    }\n",
       "\n",
       "    .dataframe tbody tr th {\n",
       "        vertical-align: top;\n",
       "    }\n",
       "\n",
       "    .dataframe thead th {\n",
       "        text-align: right;\n",
       "    }\n",
       "</style>\n",
       "<table border=\"1\" class=\"dataframe\">\n",
       "  <thead>\n",
       "    <tr style=\"text-align: right;\">\n",
       "      <th></th>\n",
       "      <th>MN</th>\n",
       "      <th>MD</th>\n",
       "      <th>year</th>\n",
       "      <th>school_md</th>\n",
       "      <th>school_mn</th>\n",
       "      <th>grade</th>\n",
       "      <th>school_per_county_mn</th>\n",
       "    </tr>\n",
       "  </thead>\n",
       "  <tbody>\n",
       "    <tr>\n",
       "      <th>0</th>\n",
       "      <td>None</td>\n",
       "      <td>MD</td>\n",
       "      <td>&lt;NA&gt;</td>\n",
       "      <td></td>\n",
       "      <td>None</td>\n",
       "      <td>None</td>\n",
       "      <td>0</td>\n",
       "    </tr>\n",
       "    <tr>\n",
       "      <th>1</th>\n",
       "      <td>None</td>\n",
       "      <td>MD</td>\n",
       "      <td>&lt;NA&gt;</td>\n",
       "      <td>Easton Middle</td>\n",
       "      <td>None</td>\n",
       "      <td>None</td>\n",
       "      <td>0</td>\n",
       "    </tr>\n",
       "    <tr>\n",
       "      <th>2</th>\n",
       "      <td>None</td>\n",
       "      <td>MD</td>\n",
       "      <td>&lt;NA&gt;</td>\n",
       "      <td>St. Michaels Middle/High School</td>\n",
       "      <td>None</td>\n",
       "      <td>None</td>\n",
       "      <td>0</td>\n",
       "    </tr>\n",
       "    <tr>\n",
       "      <th>3</th>\n",
       "      <td>None</td>\n",
       "      <td>MD</td>\n",
       "      <td>&lt;NA&gt;</td>\n",
       "      <td>Easton High</td>\n",
       "      <td>None</td>\n",
       "      <td>None</td>\n",
       "      <td>0</td>\n",
       "    </tr>\n",
       "    <tr>\n",
       "      <th>4</th>\n",
       "      <td>None</td>\n",
       "      <td>MD</td>\n",
       "      <td>&lt;NA&gt;</td>\n",
       "      <td>Easton Elementary</td>\n",
       "      <td>None</td>\n",
       "      <td>None</td>\n",
       "      <td>0</td>\n",
       "    </tr>\n",
       "    <tr>\n",
       "      <th>...</th>\n",
       "      <td>...</td>\n",
       "      <td>...</td>\n",
       "      <td>...</td>\n",
       "      <td>...</td>\n",
       "      <td>...</td>\n",
       "      <td>...</td>\n",
       "      <td>...</td>\n",
       "    </tr>\n",
       "    <tr>\n",
       "      <th>537899</th>\n",
       "      <td>MN</td>\n",
       "      <td>MD</td>\n",
       "      <td>2019</td>\n",
       "      <td>Parkside Elementary</td>\n",
       "      <td>SULLIVAN ELEMENTARY</td>\n",
       "      <td>pre_kindergarten</td>\n",
       "      <td>16</td>\n",
       "    </tr>\n",
       "    <tr>\n",
       "      <th>537900</th>\n",
       "      <td>MN</td>\n",
       "      <td>None</td>\n",
       "      <td>2021</td>\n",
       "      <td>None</td>\n",
       "      <td>Urban Academy Charter School</td>\n",
       "      <td>pre_kindergarten</td>\n",
       "      <td>1</td>\n",
       "    </tr>\n",
       "    <tr>\n",
       "      <th>537901</th>\n",
       "      <td>MN</td>\n",
       "      <td>None</td>\n",
       "      <td>2020</td>\n",
       "      <td>None</td>\n",
       "      <td>Urban Academy Charter School</td>\n",
       "      <td>pre_kindergarten</td>\n",
       "      <td>1</td>\n",
       "    </tr>\n",
       "    <tr>\n",
       "      <th>537902</th>\n",
       "      <td>MN</td>\n",
       "      <td>None</td>\n",
       "      <td>2018</td>\n",
       "      <td>None</td>\n",
       "      <td>Urban Academy Charter School</td>\n",
       "      <td>pre_kindergarten</td>\n",
       "      <td>1</td>\n",
       "    </tr>\n",
       "    <tr>\n",
       "      <th>537903</th>\n",
       "      <td>MN</td>\n",
       "      <td>None</td>\n",
       "      <td>2019</td>\n",
       "      <td>None</td>\n",
       "      <td>URBAN ACADEMY CHARTER SCHOOL</td>\n",
       "      <td>pre_kindergarten</td>\n",
       "      <td>1</td>\n",
       "    </tr>\n",
       "  </tbody>\n",
       "</table>\n",
       "<p>537904 rows × 7 columns</p>\n",
       "</div>"
      ],
      "text/plain": [
       "          MN    MD  year                        school_md  \\\n",
       "0       None    MD  <NA>                                    \n",
       "1       None    MD  <NA>                    Easton Middle   \n",
       "2       None    MD  <NA>  St. Michaels Middle/High School   \n",
       "3       None    MD  <NA>                      Easton High   \n",
       "4       None    MD  <NA>                Easton Elementary   \n",
       "...      ...   ...   ...                              ...   \n",
       "537899    MN    MD  2019              Parkside Elementary   \n",
       "537900    MN  None  2021                             None   \n",
       "537901    MN  None  2020                             None   \n",
       "537902    MN  None  2018                             None   \n",
       "537903    MN  None  2019                             None   \n",
       "\n",
       "                           school_mn             grade  school_per_county_mn  \n",
       "0                               None              None                     0  \n",
       "1                               None              None                     0  \n",
       "2                               None              None                     0  \n",
       "3                               None              None                     0  \n",
       "4                               None              None                     0  \n",
       "...                              ...               ...                   ...  \n",
       "537899           SULLIVAN ELEMENTARY  pre_kindergarten                    16  \n",
       "537900  Urban Academy Charter School  pre_kindergarten                     1  \n",
       "537901  Urban Academy Charter School  pre_kindergarten                     1  \n",
       "537902  Urban Academy Charter School  pre_kindergarten                     1  \n",
       "537903  URBAN ACADEMY CHARTER SCHOOL  pre_kindergarten                     1  \n",
       "\n",
       "[537904 rows x 7 columns]"
      ]
     },
     "execution_count": 68,
     "metadata": {},
     "output_type": "execute_result"
    }
   ],
   "source": [
    "%%bigquery\n",
    "SELECT  `school_enrollments.mn`.state as MN,`school_enrollments.md`.state as MD,`school_enrollments.mn`.year,`school_enrollments.md`.school as school_md, `school_enrollments.mn`.school as school_mn,`school_enrollments.mn`.grade, count(`school_enrollments.mn`.county) as school_per_county_mn\n",
    "FROM `school_enrollments.mn`\n",
    "FULL OUTER JOIN `school_enrollments.md`\n",
    "ON `school_enrollments.mn`.district_state_id = `school_enrollments.md`.district_state_id\n",
    "GROUP BY `school_enrollments.mn`.state,`school_enrollments.md`.state,`school_enrollments.mn`.year,`school_enrollments.mn`.school, `school_enrollments.md`.school,`school_enrollments.mn`.grade\n",
    "ORDER BY `school_enrollments.mn`.grade"
   ]
  }
 ],
 "metadata": {
  "environment": {
   "kernel": "python3",
   "name": "common-cpu.m111",
   "type": "gcloud",
   "uri": "gcr.io/deeplearning-platform-release/base-cpu:m111"
  },
  "kernelspec": {
   "display_name": "Python 3",
   "language": "python",
   "name": "python3"
  },
  "language_info": {
   "codemirror_mode": {
    "name": "ipython",
    "version": 3
   },
   "file_extension": ".py",
   "mimetype": "text/x-python",
   "name": "python",
   "nbconvert_exporter": "python",
   "pygments_lexer": "ipython3",
   "version": "3.10.12"
  }
 },
 "nbformat": 4,
 "nbformat_minor": 4
}
